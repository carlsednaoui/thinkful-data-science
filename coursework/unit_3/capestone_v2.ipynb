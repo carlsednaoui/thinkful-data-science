{
 "cells": [
  {
   "cell_type": "code",
   "execution_count": 83,
   "metadata": {
    "collapsed": false
   },
   "outputs": [],
   "source": [
    "# Import libraries and dependencies\n",
    "\n",
    "from datetime import date, datetime\n",
    "import pandas as pd\n",
    "import numpy as np\n",
    "import re\n",
    "import scipy\n",
    "import seaborn as sns\n",
    "import timeit\n",
    "\n",
    "import matplotlib.pyplot as plt\n",
    "%matplotlib inline\n",
    "\n",
    "from sklearn import ensemble\n",
    "from sklearn import datasets\n",
    "from sklearn.utils import shuffle\n",
    "from sklearn.metrics import mean_squared_error\n",
    "from sklearn.linear_model import LogisticRegression"
   ]
  },
  {
   "cell_type": "code",
   "execution_count": 84,
   "metadata": {
    "collapsed": false
   },
   "outputs": [
    {
     "data": {
      "text/plain": [
       "(4666, 9)"
      ]
     },
     "execution_count": 84,
     "metadata": {},
     "output_type": "execute_result"
    }
   ],
   "source": [
    "# Import the data\n",
    "# http://share.mailcharts.com/3K3e1d2W1h27\n",
    "\n",
    "df = pd.read_csv('./data/mailcharts_cart_abandon_classification - for ds_project.csv')\n",
    "df.shape"
   ]
  },
  {
   "cell_type": "code",
   "execution_count": 85,
   "metadata": {
    "collapsed": true
   },
   "outputs": [],
   "source": [
    "# Clean the data\n",
    "df[\"subject\"] = df[\"subject\"].str.lower()\n",
    "df[\"full_text\"] = df[\"full_text\"].str.lower()\n",
    "\n",
    "df[\"subject\"] = df[\"subject\"].replace(\"\\,|\\.|\\?|\\-|\\|\", \"\", regex=True)\n",
    "df[\"full_text\"] = df[\"full_text\"].replace(\"\\,|\\.|\\?|\\-|\\|\", \"\", regex=True)"
   ]
  },
  {
   "cell_type": "code",
   "execution_count": 86,
   "metadata": {
    "collapsed": false
   },
   "outputs": [],
   "source": [
    "# Ensure our cart_abandon column is a number\n",
    "df[\"cart_abandon\"] = pd.to_numeric(df[\"cart_abandon\"], errors=\"coerce\")\n",
    "\n",
    "# Drop rows with missing data\n",
    "df = df.dropna(axis=0, how=\"any\")"
   ]
  },
  {
   "cell_type": "code",
   "execution_count": 87,
   "metadata": {
    "collapsed": false
   },
   "outputs": [
    {
     "name": "stdout",
     "output_type": "stream",
     "text": [
      "We have this many rows:  1208\n",
      "With this many identified cart abandon emails:  200.0\n"
     ]
    },
    {
     "data": {
      "text/html": [
       "<div>\n",
       "<table border=\"1\" class=\"dataframe\">\n",
       "  <thead>\n",
       "    <tr style=\"text-align: right;\">\n",
       "      <th></th>\n",
       "      <th>reg_id</th>\n",
       "      <th>add_id</th>\n",
       "      <th>email_guid</th>\n",
       "      <th>sent_at</th>\n",
       "      <th>subject</th>\n",
       "      <th>full_text</th>\n",
       "      <th>r</th>\n",
       "      <th>email_url</th>\n",
       "      <th>cart_abandon</th>\n",
       "    </tr>\n",
       "  </thead>\n",
       "  <tbody>\n",
       "    <tr>\n",
       "      <th>0</th>\n",
       "      <td>2582</td>\n",
       "      <td>3742</td>\n",
       "      <td>f3870de1-3ab6-3fed-3fe2-778a74f3197e</td>\n",
       "      <td>42376.62986</td>\n",
       "      <td>welcome to sephora beauty insider</td>\n",
       "      <td>lorem you're a beauty insider web version seph...</td>\n",
       "      <td>1</td>\n",
       "      <td>https://www.mailcharts.com/emails/f3870de1-3ab...</td>\n",
       "      <td>0.0</td>\n",
       "    </tr>\n",
       "    <tr>\n",
       "      <th>1</th>\n",
       "      <td>2582</td>\n",
       "      <td>3742</td>\n",
       "      <td>0880fd5c-fbc5-eeb2-5bd3-8e352eae2b70</td>\n",
       "      <td>42377.72778</td>\n",
       "      <td>new year new rewards</td>\n",
       "      <td>lorem the january rewards are here** web versi...</td>\n",
       "      <td>2</td>\n",
       "      <td>https://www.mailcharts.com/emails/0880fd5c-fbc...</td>\n",
       "      <td>0.0</td>\n",
       "    </tr>\n",
       "    <tr>\n",
       "      <th>2</th>\n",
       "      <td>2582</td>\n",
       "      <td>3742</td>\n",
       "      <td>db726d24-2477-ccd6-a0aa-902dcf07f4b9</td>\n",
       "      <td>42377.78750</td>\n",
       "      <td>a friendly reminder</td>\n",
       "      <td>lorem your product picks are waiting at checko...</td>\n",
       "      <td>3</td>\n",
       "      <td>https://www.mailcharts.com/emails/db726d24-247...</td>\n",
       "      <td>1.0</td>\n",
       "    </tr>\n",
       "  </tbody>\n",
       "</table>\n",
       "</div>"
      ],
      "text/plain": [
       "   reg_id  add_id                            email_guid      sent_at  \\\n",
       "0    2582    3742  f3870de1-3ab6-3fed-3fe2-778a74f3197e  42376.62986   \n",
       "1    2582    3742  0880fd5c-fbc5-eeb2-5bd3-8e352eae2b70  42377.72778   \n",
       "2    2582    3742  db726d24-2477-ccd6-a0aa-902dcf07f4b9  42377.78750   \n",
       "\n",
       "                             subject  \\\n",
       "0  welcome to sephora beauty insider   \n",
       "1               new year new rewards   \n",
       "2                a friendly reminder   \n",
       "\n",
       "                                           full_text  r  \\\n",
       "0  lorem you're a beauty insider web version seph...  1   \n",
       "1  lorem the january rewards are here** web versi...  2   \n",
       "2  lorem your product picks are waiting at checko...  3   \n",
       "\n",
       "                                           email_url  cart_abandon  \n",
       "0  https://www.mailcharts.com/emails/f3870de1-3ab...           0.0  \n",
       "1  https://www.mailcharts.com/emails/0880fd5c-fbc...           0.0  \n",
       "2  https://www.mailcharts.com/emails/db726d24-247...           1.0  "
      ]
     },
     "execution_count": 87,
     "metadata": {},
     "output_type": "execute_result"
    }
   ],
   "source": [
    "print(\"We have this many rows: \", df.shape[0])\n",
    "print(\"With this many identified cart abandon emails: \", df[\"cart_abandon\"].sum())\n",
    "df.head(3)"
   ]
  },
  {
   "cell_type": "code",
   "execution_count": 88,
   "metadata": {
    "collapsed": true
   },
   "outputs": [],
   "source": [
    "# Create a new DF with all our cart abandon emails\n",
    "ca = df[df[\"cart_abandon\"] == 1]"
   ]
  },
  {
   "cell_type": "code",
   "execution_count": 89,
   "metadata": {
    "collapsed": false
   },
   "outputs": [
    {
     "data": {
      "text/html": [
       "<div>\n",
       "<table border=\"1\" class=\"dataframe\">\n",
       "  <thead>\n",
       "    <tr style=\"text-align: right;\">\n",
       "      <th></th>\n",
       "      <th>reg_id</th>\n",
       "      <th>add_id</th>\n",
       "      <th>email_guid</th>\n",
       "      <th>sent_at</th>\n",
       "      <th>subject</th>\n",
       "      <th>full_text</th>\n",
       "      <th>r</th>\n",
       "      <th>email_url</th>\n",
       "      <th>cart_abandon</th>\n",
       "    </tr>\n",
       "  </thead>\n",
       "  <tbody>\n",
       "    <tr>\n",
       "      <th>2</th>\n",
       "      <td>2582</td>\n",
       "      <td>3742</td>\n",
       "      <td>db726d24-2477-ccd6-a0aa-902dcf07f4b9</td>\n",
       "      <td>42377.78750</td>\n",
       "      <td>a friendly reminder</td>\n",
       "      <td>lorem your product picks are waiting at checko...</td>\n",
       "      <td>3</td>\n",
       "      <td>https://www.mailcharts.com/emails/db726d24-247...</td>\n",
       "      <td>1.0</td>\n",
       "    </tr>\n",
       "    <tr>\n",
       "      <th>7</th>\n",
       "      <td>3008</td>\n",
       "      <td>4168</td>\n",
       "      <td>b8184f12-d54f-9513-ca3a-ea0257ec5a9d</td>\n",
       "      <td>42469.14097</td>\n",
       "      <td>complete your purchase</td>\n",
       "      <td>get back here! order summary 1 sport - s / bla...</td>\n",
       "      <td>3</td>\n",
       "      <td>https://www.mailcharts.com/emails/b8184f12-d54...</td>\n",
       "      <td>1.0</td>\n",
       "    </tr>\n",
       "    <tr>\n",
       "      <th>14</th>\n",
       "      <td>3010</td>\n",
       "      <td>4170</td>\n",
       "      <td>eefd41a6-e0de-89aa-9134-885778a2b344</td>\n",
       "      <td>42470.03750</td>\n",
       "      <td>take $5 off you purchase!</td>\n",
       "      <td>hey looks like you forgot some things in your ...</td>\n",
       "      <td>5</td>\n",
       "      <td>https://www.mailcharts.com/emails/eefd41a6-e0d...</td>\n",
       "      <td>1.0</td>\n",
       "    </tr>\n",
       "  </tbody>\n",
       "</table>\n",
       "</div>"
      ],
      "text/plain": [
       "    reg_id  add_id                            email_guid      sent_at  \\\n",
       "2     2582    3742  db726d24-2477-ccd6-a0aa-902dcf07f4b9  42377.78750   \n",
       "7     3008    4168  b8184f12-d54f-9513-ca3a-ea0257ec5a9d  42469.14097   \n",
       "14    3010    4170  eefd41a6-e0de-89aa-9134-885778a2b344  42470.03750   \n",
       "\n",
       "                      subject  \\\n",
       "2         a friendly reminder   \n",
       "7      complete your purchase   \n",
       "14  take $5 off you purchase!   \n",
       "\n",
       "                                            full_text  r  \\\n",
       "2   lorem your product picks are waiting at checko...  3   \n",
       "7   get back here! order summary 1 sport - s / bla...  3   \n",
       "14  hey looks like you forgot some things in your ...  5   \n",
       "\n",
       "                                            email_url  cart_abandon  \n",
       "2   https://www.mailcharts.com/emails/db726d24-247...           1.0  \n",
       "7   https://www.mailcharts.com/emails/b8184f12-d54...           1.0  \n",
       "14  https://www.mailcharts.com/emails/eefd41a6-e0d...           1.0  "
      ]
     },
     "execution_count": 89,
     "metadata": {},
     "output_type": "execute_result"
    }
   ],
   "source": [
    "ca.head(3)"
   ]
  },
  {
   "cell_type": "code",
   "execution_count": 90,
   "metadata": {
    "collapsed": false
   },
   "outputs": [
    {
     "data": {
      "text/plain": [
       "your         102\n",
       "you           71\n",
       "order         31\n",
       "complete      28\n",
       "something     26\n",
       "in            24\n",
       "forget        22\n",
       "did           22\n",
       "for           22\n",
       "cart          21\n",
       "left          19\n",
       "items         17\n",
       "we            17\n",
       "purchase      17\n",
       "off           17\n",
       "still         15\n",
       "a             13\n",
       "at            12\n",
       "-             12\n",
       "is            12\n",
       "to            12\n",
       "shopping      11\n",
       "free          10\n",
       "have           9\n",
       "saved          9\n",
       "&              9\n",
       "don't          9\n",
       "lorem          8\n",
       "us             8\n",
       "from           8\n",
       "dtype: int64"
      ]
     },
     "execution_count": 90,
     "metadata": {},
     "output_type": "execute_result"
    }
   ],
   "source": [
    "pd.Series(\" \".join(ca[\"subject\"]).lower().split()).value_counts()[:30]"
   ]
  },
  {
   "cell_type": "code",
   "execution_count": 91,
   "metadata": {
    "collapsed": false
   },
   "outputs": [
    {
     "data": {
      "text/plain": [
       "to          959\n",
       "your        926\n",
       "you         810\n",
       "the         494\n",
       "-           420\n",
       "and         396\n",
       "for         337\n",
       "in          328\n",
       "we          321\n",
       "email       319\n",
       "us          304\n",
       "our         273\n",
       "on          273\n",
       "a           273\n",
       "this        264\n",
       "or          264\n",
       "order       256\n",
       "if          222\n",
       "have        218\n",
       "of          208\n",
       "complete    183\n",
       "|           180\n",
       "with        180\n",
       "here        178\n",
       "cart        172\n",
       "from        172\n",
       "please      165\n",
       "at          164\n",
       "click       163\n",
       "any         159\n",
       "dtype: int64"
      ]
     },
     "execution_count": 91,
     "metadata": {},
     "output_type": "execute_result"
    }
   ],
   "source": [
    "pd.Series(\" \".join(ca[\"full_text\"]).lower().split()).value_counts()[:30]"
   ]
  },
  {
   "cell_type": "code",
   "execution_count": 94,
   "metadata": {
    "collapsed": true
   },
   "outputs": [],
   "source": [
    "hand_picked_words_positive = [\"complete\", \"forget\", \"forgot\", \"left\", \"cart\", \"items\", \"still\", \"something\", \"saved\", \"order\"]\n",
    "hand_picked_words_negative = [\"welcome\", \"account\", \"new\", \"shop\"]"
   ]
  },
  {
   "cell_type": "code",
   "execution_count": 95,
   "metadata": {
    "collapsed": false
   },
   "outputs": [],
   "source": [
    "for w in hand_picked_words_positive:\n",
    "    df[w] = df[\"subject\"].str.contains(w) | df[\"full_text\"].str.contains(w)"
   ]
  },
  {
   "cell_type": "code",
   "execution_count": 96,
   "metadata": {
    "collapsed": false
   },
   "outputs": [
    {
     "data": {
      "text/html": [
       "<div>\n",
       "<table border=\"1\" class=\"dataframe\">\n",
       "  <thead>\n",
       "    <tr style=\"text-align: right;\">\n",
       "      <th></th>\n",
       "      <th>reg_id</th>\n",
       "      <th>add_id</th>\n",
       "      <th>email_guid</th>\n",
       "      <th>sent_at</th>\n",
       "      <th>subject</th>\n",
       "      <th>full_text</th>\n",
       "      <th>r</th>\n",
       "      <th>email_url</th>\n",
       "      <th>cart_abandon</th>\n",
       "      <th>complete</th>\n",
       "      <th>forget</th>\n",
       "      <th>forgot</th>\n",
       "      <th>left</th>\n",
       "      <th>cart</th>\n",
       "      <th>items</th>\n",
       "      <th>still</th>\n",
       "      <th>something</th>\n",
       "      <th>saved</th>\n",
       "      <th>order</th>\n",
       "    </tr>\n",
       "  </thead>\n",
       "  <tbody>\n",
       "    <tr>\n",
       "      <th>0</th>\n",
       "      <td>2582</td>\n",
       "      <td>3742</td>\n",
       "      <td>f3870de1-3ab6-3fed-3fe2-778a74f3197e</td>\n",
       "      <td>42376.62986</td>\n",
       "      <td>welcome to sephora beauty insider</td>\n",
       "      <td>lorem you're a beauty insider web version seph...</td>\n",
       "      <td>1</td>\n",
       "      <td>https://www.mailcharts.com/emails/f3870de1-3ab...</td>\n",
       "      <td>0.0</td>\n",
       "      <td>False</td>\n",
       "      <td>False</td>\n",
       "      <td>False</td>\n",
       "      <td>False</td>\n",
       "      <td>False</td>\n",
       "      <td>False</td>\n",
       "      <td>False</td>\n",
       "      <td>False</td>\n",
       "      <td>False</td>\n",
       "      <td>False</td>\n",
       "    </tr>\n",
       "    <tr>\n",
       "      <th>1</th>\n",
       "      <td>2582</td>\n",
       "      <td>3742</td>\n",
       "      <td>0880fd5c-fbc5-eeb2-5bd3-8e352eae2b70</td>\n",
       "      <td>42377.72778</td>\n",
       "      <td>new year new rewards</td>\n",
       "      <td>lorem the january rewards are here** web versi...</td>\n",
       "      <td>2</td>\n",
       "      <td>https://www.mailcharts.com/emails/0880fd5c-fbc...</td>\n",
       "      <td>0.0</td>\n",
       "      <td>False</td>\n",
       "      <td>False</td>\n",
       "      <td>False</td>\n",
       "      <td>False</td>\n",
       "      <td>False</td>\n",
       "      <td>False</td>\n",
       "      <td>False</td>\n",
       "      <td>False</td>\n",
       "      <td>False</td>\n",
       "      <td>True</td>\n",
       "    </tr>\n",
       "    <tr>\n",
       "      <th>2</th>\n",
       "      <td>2582</td>\n",
       "      <td>3742</td>\n",
       "      <td>db726d24-2477-ccd6-a0aa-902dcf07f4b9</td>\n",
       "      <td>42377.78750</td>\n",
       "      <td>a friendly reminder</td>\n",
       "      <td>lorem your product picks are waiting at checko...</td>\n",
       "      <td>3</td>\n",
       "      <td>https://www.mailcharts.com/emails/db726d24-247...</td>\n",
       "      <td>1.0</td>\n",
       "      <td>False</td>\n",
       "      <td>False</td>\n",
       "      <td>False</td>\n",
       "      <td>False</td>\n",
       "      <td>False</td>\n",
       "      <td>True</td>\n",
       "      <td>False</td>\n",
       "      <td>False</td>\n",
       "      <td>False</td>\n",
       "      <td>True</td>\n",
       "    </tr>\n",
       "  </tbody>\n",
       "</table>\n",
       "</div>"
      ],
      "text/plain": [
       "   reg_id  add_id                            email_guid      sent_at  \\\n",
       "0    2582    3742  f3870de1-3ab6-3fed-3fe2-778a74f3197e  42376.62986   \n",
       "1    2582    3742  0880fd5c-fbc5-eeb2-5bd3-8e352eae2b70  42377.72778   \n",
       "2    2582    3742  db726d24-2477-ccd6-a0aa-902dcf07f4b9  42377.78750   \n",
       "\n",
       "                             subject  \\\n",
       "0  welcome to sephora beauty insider   \n",
       "1               new year new rewards   \n",
       "2                a friendly reminder   \n",
       "\n",
       "                                           full_text  r  \\\n",
       "0  lorem you're a beauty insider web version seph...  1   \n",
       "1  lorem the january rewards are here** web versi...  2   \n",
       "2  lorem your product picks are waiting at checko...  3   \n",
       "\n",
       "                                           email_url  cart_abandon complete  \\\n",
       "0  https://www.mailcharts.com/emails/f3870de1-3ab...           0.0    False   \n",
       "1  https://www.mailcharts.com/emails/0880fd5c-fbc...           0.0    False   \n",
       "2  https://www.mailcharts.com/emails/db726d24-247...           1.0    False   \n",
       "\n",
       "  forget forgot   left   cart  items  still something  saved  order  \n",
       "0  False  False  False  False  False  False     False  False  False  \n",
       "1  False  False  False  False  False  False     False  False   True  \n",
       "2  False  False  False  False   True  False     False  False   True  "
      ]
     },
     "execution_count": 96,
     "metadata": {},
     "output_type": "execute_result"
    }
   ],
   "source": [
    "df.head(3)"
   ]
  },
  {
   "cell_type": "code",
   "execution_count": 107,
   "metadata": {
    "collapsed": false
   },
   "outputs": [],
   "source": [
    "X = df[hand_picked_words_positive]\n",
    "y = df.cart_abandon"
   ]
  },
  {
   "cell_type": "code",
   "execution_count": 120,
   "metadata": {
    "collapsed": true
   },
   "outputs": [],
   "source": [
    "X_train, X_test, y_train, y_test = train_test_split(X, y, random_state=100)"
   ]
  },
  {
   "cell_type": "code",
   "execution_count": 125,
   "metadata": {
    "collapsed": false
   },
   "outputs": [
    {
     "data": {
      "text/plain": [
       "0.92715231788079466"
      ]
     },
     "execution_count": 125,
     "metadata": {},
     "output_type": "execute_result"
    }
   ],
   "source": [
    "lr = LogisticRegression()\n",
    "lr.fit(X_train, y_train)\n",
    "lr.score(X_test, y_test)"
   ]
  },
  {
   "cell_type": "code",
   "execution_count": 134,
   "metadata": {
    "collapsed": false
   },
   "outputs": [
    {
     "data": {
      "text/plain": [
       "array([[246,   9],\n",
       "       [ 13,  34]])"
      ]
     },
     "execution_count": 134,
     "metadata": {},
     "output_type": "execute_result"
    }
   ],
   "source": [
    "# 246 = it is class 0, we predicted class 0\n",
    "# 9 = it is class 0, we predicted 1\n",
    "# 13 = it is class 1, we predicted class 0\n",
    "# 34 = it is class 1, we predicted class 1\n",
    "\n",
    "from  sklearn.metrics import confusion_matrix\n",
    "confusion_matrix(y_test, lr.predict(X_test))"
   ]
  },
  {
   "cell_type": "code",
   "execution_count": 144,
   "metadata": {
    "collapsed": false
   },
   "outputs": [],
   "source": [
    "# We vectorize each word in our subjects. This helps us understand how important a word is.\n",
    "\n",
    "from sklearn.feature_extraction.text import TfidfVectorizer\n",
    "v = TfidfVectorizer()\n",
    "subject_vector = v.fit_transform(df['subject'])"
   ]
  },
  {
   "cell_type": "code",
   "execution_count": 145,
   "metadata": {
    "collapsed": false
   },
   "outputs": [
    {
     "data": {
      "text/plain": [
       "(1208, 1883)"
      ]
     },
     "execution_count": 145,
     "metadata": {},
     "output_type": "execute_result"
    }
   ],
   "source": [
    "subject_vector.shape"
   ]
  },
  {
   "cell_type": "code",
   "execution_count": 146,
   "metadata": {
    "collapsed": false
   },
   "outputs": [
    {
     "data": {
      "text/plain": [
       "0.92549668874172186"
      ]
     },
     "execution_count": 146,
     "metadata": {},
     "output_type": "execute_result"
    }
   ],
   "source": [
    "lr.fit(subject_vector, y)\n",
    "lr.score(subject_vector, y)"
   ]
  },
  {
   "cell_type": "code",
   "execution_count": 147,
   "metadata": {
    "collapsed": false
   },
   "outputs": [
    {
     "data": {
      "text/plain": [
       "array([[1007,    1],\n",
       "       [  89,  111]])"
      ]
     },
     "execution_count": 147,
     "metadata": {},
     "output_type": "execute_result"
    }
   ],
   "source": [
    "confusion_matrix(y, lr.predict(subject_vector))"
   ]
  },
  {
   "cell_type": "code",
   "execution_count": 148,
   "metadata": {
    "collapsed": true
   },
   "outputs": [],
   "source": [
    "from sklearn.feature_extraction.text import CountVectorizer\n",
    "v = CountVectorizer()\n",
    "subject_vector_2 = v.fit_transform(df['subject'])"
   ]
  },
  {
   "cell_type": "code",
   "execution_count": 149,
   "metadata": {
    "collapsed": false
   },
   "outputs": [
    {
     "data": {
      "text/plain": [
       "(1208, 1883)"
      ]
     },
     "execution_count": 149,
     "metadata": {},
     "output_type": "execute_result"
    }
   ],
   "source": [
    "subject_vector_2.shape"
   ]
  },
  {
   "cell_type": "code",
   "execution_count": 151,
   "metadata": {
    "collapsed": false
   },
   "outputs": [
    {
     "data": {
      "text/plain": [
       "0.9677152317880795"
      ]
     },
     "execution_count": 151,
     "metadata": {},
     "output_type": "execute_result"
    }
   ],
   "source": [
    "lr.fit(subject_vector_2, y)\n",
    "lr.score(subject_vector_2, y)"
   ]
  },
  {
   "cell_type": "code",
   "execution_count": 152,
   "metadata": {
    "collapsed": false
   },
   "outputs": [
    {
     "data": {
      "text/plain": [
       "array([[1004,    4],\n",
       "       [  35,  165]])"
      ]
     },
     "execution_count": 152,
     "metadata": {},
     "output_type": "execute_result"
    }
   ],
   "source": [
    "confusion_matrix(y, lr.predict(subject_vector_2))"
   ]
  },
  {
   "cell_type": "code",
   "execution_count": 163,
   "metadata": {
    "collapsed": true
   },
   "outputs": [],
   "source": [
    "X_train, X_test, y_train, y_test = train_test_split(subject_vector_2, y, random_state=100)"
   ]
  },
  {
   "cell_type": "code",
   "execution_count": 164,
   "metadata": {
    "collapsed": false
   },
   "outputs": [
    {
     "data": {
      "text/plain": [
       "0.9370860927152318"
      ]
     },
     "execution_count": 164,
     "metadata": {},
     "output_type": "execute_result"
    }
   ],
   "source": [
    "lr = LogisticRegression()\n",
    "lr.fit(X_train, y_train)\n",
    "lr.score(X_test, y_test)"
   ]
  },
  {
   "cell_type": "code",
   "execution_count": 175,
   "metadata": {
    "collapsed": false
   },
   "outputs": [
    {
     "data": {
      "text/plain": [
       "0.86754966887417218"
      ]
     },
     "execution_count": 175,
     "metadata": {},
     "output_type": "execute_result"
    }
   ],
   "source": [
    "from sklearn.naive_bayes import GaussianNB\n",
    "nb = GaussianNB()\n",
    "\n",
    "X = subject_vector_2.toarray()\n",
    "X_train, X_test, y_train, y_test = train_test_split(X, y, random_state=100)\n",
    "\n",
    "nb.fit(X_train, y_train)\n",
    "nb.score(X_test, y_test)"
   ]
  },
  {
   "cell_type": "code",
   "execution_count": 211,
   "metadata": {
    "collapsed": false
   },
   "outputs": [],
   "source": [
    "# let's use bigrams\n",
    "\n",
    "from nltk import ngrams\n",
    "n = 2\n",
    "subject_grams = set()\n",
    "\n",
    "for i, r in df.iterrows():\n",
    "    grams = ngrams(r[\"subject\"].split(), n)\n",
    "    for g in grams:\n",
    "        subject_grams.add(g)"
   ]
  },
  {
   "cell_type": "code",
   "execution_count": null,
   "metadata": {
    "collapsed": false
   },
   "outputs": [],
   "source": [
    "# Homework: Finish up getting bigrams and re-run models\n",
    "# We may want to convert this to similarity ratio"
   ]
  },
  {
   "cell_type": "code",
   "execution_count": null,
   "metadata": {
    "collapsed": false
   },
   "outputs": [],
   "source": []
  },
  {
   "cell_type": "code",
   "execution_count": null,
   "metadata": {
    "collapsed": true
   },
   "outputs": [],
   "source": []
  }
 ],
 "metadata": {
  "anaconda-cloud": {},
  "kernelspec": {
   "display_name": "Python [conda root]",
   "language": "python",
   "name": "conda-root-py"
  },
  "language_info": {
   "codemirror_mode": {
    "name": "ipython",
    "version": 3
   },
   "file_extension": ".py",
   "mimetype": "text/x-python",
   "name": "python",
   "nbconvert_exporter": "python",
   "pygments_lexer": "ipython3",
   "version": "3.5.2"
  }
 },
 "nbformat": 4,
 "nbformat_minor": 1
}
