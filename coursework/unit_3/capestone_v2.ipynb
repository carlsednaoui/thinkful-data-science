{
 "cells": [
  {
   "cell_type": "code",
   "execution_count": 27,
   "metadata": {
    "collapsed": false
   },
   "outputs": [
    {
     "ename": "ImportError",
     "evalue": "No module named 'Counter'",
     "output_type": "error",
     "traceback": [
      "\u001b[0;31m---------------------------------------------------------------------------\u001b[0m",
      "\u001b[0;31mImportError\u001b[0m                               Traceback (most recent call last)",
      "\u001b[0;32m<ipython-input-27-fe17edcb4e7c>\u001b[0m in \u001b[0;36m<module>\u001b[0;34m()\u001b[0m\n\u001b[1;32m      2\u001b[0m \u001b[0;34m\u001b[0m\u001b[0m\n\u001b[1;32m      3\u001b[0m \u001b[0;32mfrom\u001b[0m \u001b[0mdatetime\u001b[0m \u001b[0;32mimport\u001b[0m \u001b[0mdate\u001b[0m\u001b[0;34m,\u001b[0m \u001b[0mdatetime\u001b[0m\u001b[0;34m\u001b[0m\u001b[0m\n\u001b[0;32m----> 4\u001b[0;31m \u001b[0;32mimport\u001b[0m \u001b[0mCounter\u001b[0m\u001b[0;34m\u001b[0m\u001b[0m\n\u001b[0m\u001b[1;32m      5\u001b[0m \u001b[0;32mimport\u001b[0m \u001b[0mpandas\u001b[0m \u001b[0;32mas\u001b[0m \u001b[0mpd\u001b[0m\u001b[0;34m\u001b[0m\u001b[0m\n\u001b[1;32m      6\u001b[0m \u001b[0;32mimport\u001b[0m \u001b[0mnumpy\u001b[0m \u001b[0;32mas\u001b[0m \u001b[0mnp\u001b[0m\u001b[0;34m\u001b[0m\u001b[0m\n",
      "\u001b[0;31mImportError\u001b[0m: No module named 'Counter'"
     ]
    }
   ],
   "source": [
    "# Import libraries and dependencies\n",
    "\n",
    "from datetime import date, datetime\n",
    "import pandas as pd\n",
    "import numpy as np\n",
    "import re\n",
    "import scipy\n",
    "import seaborn as sns\n",
    "import timeit\n",
    "\n",
    "import matplotlib.pyplot as plt\n",
    "%matplotlib inline\n",
    "\n",
    "from sklearn import ensemble\n",
    "from sklearn import datasets\n",
    "from sklearn.utils import shuffle\n",
    "from sklearn.metrics import mean_squared_error\n",
    "from sklearn.linear_model import LinearRegression\n",
    "from sklearn.ensemble import RandomForestRegressor, AdaBoostRegressor, GradientBoostingRegressor\n",
    "from sklearn.model_selection import train_test_split \n",
    "from xgboost import XGBRegressor, plot_tree\n",
    "\n",
    "from sklearn.grid_search import GridSearchCV"
   ]
  },
  {
   "cell_type": "code",
   "execution_count": 4,
   "metadata": {
    "collapsed": false
   },
   "outputs": [
    {
     "data": {
      "text/plain": [
       "(4666, 9)"
      ]
     },
     "execution_count": 4,
     "metadata": {},
     "output_type": "execute_result"
    }
   ],
   "source": [
    "# Import the data\n",
    "# http://share.mailcharts.com/3K3e1d2W1h27\n",
    "\n",
    "df = pd.read_csv('./data/mailcharts_cart_abandon_classification - for ds_project.csv')\n",
    "df.shape"
   ]
  },
  {
   "cell_type": "code",
   "execution_count": 19,
   "metadata": {
    "collapsed": false
   },
   "outputs": [
    {
     "data": {
      "text/plain": [
       "numpy.float64"
      ]
     },
     "execution_count": 19,
     "metadata": {},
     "output_type": "execute_result"
    }
   ],
   "source": [
    "# Drop rows with missing data\n",
    "df = df.dropna(axis=0, how=\"any\")\n",
    "\n",
    "# Ensure our cart_abandon column is a number\n",
    "print(type(df[\"cart_abandon\"][0]))\n",
    "df[\"cart_abandon\"] = pd.to_numeric(df[\"cart_abandon\"], errors=\"coerce\")\n",
    "type(df[\"cart_abandon\"][0])"
   ]
  },
  {
   "cell_type": "code",
   "execution_count": 21,
   "metadata": {
    "collapsed": false
   },
   "outputs": [
    {
     "name": "stdout",
     "output_type": "stream",
     "text": [
      "We have this many rows:  1214\n",
      "With this many identified cart abandon emails:  200.0\n"
     ]
    },
    {
     "data": {
      "text/html": [
       "<div>\n",
       "<style>\n",
       "    .dataframe thead tr:only-child th {\n",
       "        text-align: right;\n",
       "    }\n",
       "\n",
       "    .dataframe thead th {\n",
       "        text-align: left;\n",
       "    }\n",
       "\n",
       "    .dataframe tbody tr th {\n",
       "        vertical-align: top;\n",
       "    }\n",
       "</style>\n",
       "<table border=\"1\" class=\"dataframe\">\n",
       "  <thead>\n",
       "    <tr style=\"text-align: right;\">\n",
       "      <th></th>\n",
       "      <th>reg_id</th>\n",
       "      <th>add_id</th>\n",
       "      <th>email_guid</th>\n",
       "      <th>sent_at</th>\n",
       "      <th>subject</th>\n",
       "      <th>full_text</th>\n",
       "      <th>r</th>\n",
       "      <th>email_url</th>\n",
       "      <th>cart_abandon</th>\n",
       "    </tr>\n",
       "  </thead>\n",
       "  <tbody>\n",
       "    <tr>\n",
       "      <th>0</th>\n",
       "      <td>2582</td>\n",
       "      <td>3742</td>\n",
       "      <td>f3870de1-3ab6-3fed-3fe2-778a74f3197e</td>\n",
       "      <td>42376.62986</td>\n",
       "      <td>Welcome to Sephora Beauty Insider</td>\n",
       "      <td>Lorem, you're a Beauty Insider. Web Version SE...</td>\n",
       "      <td>1</td>\n",
       "      <td>https://www.mailcharts.com/emails/f3870de1-3ab...</td>\n",
       "      <td>0.0</td>\n",
       "    </tr>\n",
       "    <tr>\n",
       "      <th>1</th>\n",
       "      <td>2582</td>\n",
       "      <td>3742</td>\n",
       "      <td>0880fd5c-fbc5-eeb2-5bd3-8e352eae2b70</td>\n",
       "      <td>42377.72778</td>\n",
       "      <td>New year, new rewards</td>\n",
       "      <td>Lorem, the January rewards are here.** Web Ver...</td>\n",
       "      <td>2</td>\n",
       "      <td>https://www.mailcharts.com/emails/0880fd5c-fbc...</td>\n",
       "      <td>0.0</td>\n",
       "    </tr>\n",
       "    <tr>\n",
       "      <th>2</th>\n",
       "      <td>2582</td>\n",
       "      <td>3742</td>\n",
       "      <td>db726d24-2477-ccd6-a0aa-902dcf07f4b9</td>\n",
       "      <td>42377.78750</td>\n",
       "      <td>A friendly reminder...</td>\n",
       "      <td>Lorem, your product picks are waiting at check...</td>\n",
       "      <td>3</td>\n",
       "      <td>https://www.mailcharts.com/emails/db726d24-247...</td>\n",
       "      <td>1.0</td>\n",
       "    </tr>\n",
       "  </tbody>\n",
       "</table>\n",
       "</div>"
      ],
      "text/plain": [
       "   reg_id  add_id                            email_guid      sent_at  \\\n",
       "0    2582    3742  f3870de1-3ab6-3fed-3fe2-778a74f3197e  42376.62986   \n",
       "1    2582    3742  0880fd5c-fbc5-eeb2-5bd3-8e352eae2b70  42377.72778   \n",
       "2    2582    3742  db726d24-2477-ccd6-a0aa-902dcf07f4b9  42377.78750   \n",
       "\n",
       "                             subject  \\\n",
       "0  Welcome to Sephora Beauty Insider   \n",
       "1              New year, new rewards   \n",
       "2             A friendly reminder...   \n",
       "\n",
       "                                           full_text  r  \\\n",
       "0  Lorem, you're a Beauty Insider. Web Version SE...  1   \n",
       "1  Lorem, the January rewards are here.** Web Ver...  2   \n",
       "2  Lorem, your product picks are waiting at check...  3   \n",
       "\n",
       "                                           email_url  cart_abandon  \n",
       "0  https://www.mailcharts.com/emails/f3870de1-3ab...           0.0  \n",
       "1  https://www.mailcharts.com/emails/0880fd5c-fbc...           0.0  \n",
       "2  https://www.mailcharts.com/emails/db726d24-247...           1.0  "
      ]
     },
     "execution_count": 21,
     "metadata": {},
     "output_type": "execute_result"
    }
   ],
   "source": [
    "print(\"We have this many rows: \", df.shape[0])\n",
    "print(\"With this many identified cart abandon emails: \", df[\"cart_abandon\"].sum())\n",
    "df.head(3)"
   ]
  },
  {
   "cell_type": "code",
   "execution_count": 23,
   "metadata": {
    "collapsed": true
   },
   "outputs": [],
   "source": [
    "# Create a new DF with all our cart abandon emails\n",
    "ca = df[df[\"cart_abandon\"] == 1]"
   ]
  },
  {
   "cell_type": "code",
   "execution_count": 25,
   "metadata": {
    "collapsed": false
   },
   "outputs": [
    {
     "data": {
      "text/html": [
       "<div>\n",
       "<style>\n",
       "    .dataframe thead tr:only-child th {\n",
       "        text-align: right;\n",
       "    }\n",
       "\n",
       "    .dataframe thead th {\n",
       "        text-align: left;\n",
       "    }\n",
       "\n",
       "    .dataframe tbody tr th {\n",
       "        vertical-align: top;\n",
       "    }\n",
       "</style>\n",
       "<table border=\"1\" class=\"dataframe\">\n",
       "  <thead>\n",
       "    <tr style=\"text-align: right;\">\n",
       "      <th></th>\n",
       "      <th>reg_id</th>\n",
       "      <th>add_id</th>\n",
       "      <th>email_guid</th>\n",
       "      <th>sent_at</th>\n",
       "      <th>subject</th>\n",
       "      <th>full_text</th>\n",
       "      <th>r</th>\n",
       "      <th>email_url</th>\n",
       "      <th>cart_abandon</th>\n",
       "    </tr>\n",
       "  </thead>\n",
       "  <tbody>\n",
       "    <tr>\n",
       "      <th>2</th>\n",
       "      <td>2582</td>\n",
       "      <td>3742</td>\n",
       "      <td>db726d24-2477-ccd6-a0aa-902dcf07f4b9</td>\n",
       "      <td>42377.78750</td>\n",
       "      <td>A friendly reminder...</td>\n",
       "      <td>Lorem, your product picks are waiting at check...</td>\n",
       "      <td>3</td>\n",
       "      <td>https://www.mailcharts.com/emails/db726d24-247...</td>\n",
       "      <td>1.0</td>\n",
       "    </tr>\n",
       "    <tr>\n",
       "      <th>7</th>\n",
       "      <td>3008</td>\n",
       "      <td>4168</td>\n",
       "      <td>b8184f12-d54f-9513-ca3a-ea0257ec5a9d</td>\n",
       "      <td>42469.14097</td>\n",
       "      <td>Complete your Purchase</td>\n",
       "      <td>Get back here! Order Summary 1 Sport - S / Bla...</td>\n",
       "      <td>3</td>\n",
       "      <td>https://www.mailcharts.com/emails/b8184f12-d54...</td>\n",
       "      <td>1.0</td>\n",
       "    </tr>\n",
       "    <tr>\n",
       "      <th>14</th>\n",
       "      <td>3010</td>\n",
       "      <td>4170</td>\n",
       "      <td>eefd41a6-e0de-89aa-9134-885778a2b344</td>\n",
       "      <td>42470.03750</td>\n",
       "      <td>Take $5 Off You Purchase!</td>\n",
       "      <td>Hey, Looks like you forgot some things in your...</td>\n",
       "      <td>5</td>\n",
       "      <td>https://www.mailcharts.com/emails/eefd41a6-e0d...</td>\n",
       "      <td>1.0</td>\n",
       "    </tr>\n",
       "  </tbody>\n",
       "</table>\n",
       "</div>"
      ],
      "text/plain": [
       "    reg_id  add_id                            email_guid      sent_at  \\\n",
       "2     2582    3742  db726d24-2477-ccd6-a0aa-902dcf07f4b9  42377.78750   \n",
       "7     3008    4168  b8184f12-d54f-9513-ca3a-ea0257ec5a9d  42469.14097   \n",
       "14    3010    4170  eefd41a6-e0de-89aa-9134-885778a2b344  42470.03750   \n",
       "\n",
       "                      subject  \\\n",
       "2      A friendly reminder...   \n",
       "7      Complete your Purchase   \n",
       "14  Take $5 Off You Purchase!   \n",
       "\n",
       "                                            full_text  r  \\\n",
       "2   Lorem, your product picks are waiting at check...  3   \n",
       "7   Get back here! Order Summary 1 Sport - S / Bla...  3   \n",
       "14  Hey, Looks like you forgot some things in your...  5   \n",
       "\n",
       "                                            email_url  cart_abandon  \n",
       "2   https://www.mailcharts.com/emails/db726d24-247...           1.0  \n",
       "7   https://www.mailcharts.com/emails/b8184f12-d54...           1.0  \n",
       "14  https://www.mailcharts.com/emails/eefd41a6-e0d...           1.0  "
      ]
     },
     "execution_count": 25,
     "metadata": {},
     "output_type": "execute_result"
    }
   ],
   "source": [
    "ca.head(3)"
   ]
  },
  {
   "cell_type": "code",
   "execution_count": 28,
   "metadata": {
    "collapsed": false
   },
   "outputs": [
    {
     "data": {
      "text/plain": [
       "your          102\n",
       "you            67\n",
       "complete       28\n",
       "order          25\n",
       "in             24\n",
       "for            22\n",
       "did            22\n",
       "forget         22\n",
       "left           19\n",
       "cart           19\n",
       "items          17\n",
       "we             17\n",
       "off            15\n",
       "still          15\n",
       "something      15\n",
       "a              13\n",
       "to             12\n",
       "is             12\n",
       "at             12\n",
       "-              12\n",
       "purchase       12\n",
       "something?     11\n",
       "shopping       11\n",
       "free           10\n",
       "&               9\n",
       "have            9\n",
       "don't           9\n",
       "saved           9\n",
       "us              8\n",
       "from            8\n",
       "             ... \n",
       "packard         3\n",
       "c4844a          3\n",
       "before          3\n",
       "hewlett         3\n",
       "purchase!       3\n",
       "lorem,          3\n",
       "and             3\n",
       "cart!           3\n",
       "oops,           3\n",
       "behind          3\n",
       "store...        3\n",
       "there           3\n",
       "$10             3\n",
       "offer           3\n",
       "got             3\n",
       "today           3\n",
       "gigabyte        3\n",
       "high            3\n",
       "yield           3\n",
       "today!          3\n",
       "valued          3\n",
       "black)          3\n",
       "ink             3\n",
       "take            3\n",
       "tees            2\n",
       "visit           2\n",
       "cart.           2\n",
       "calling         2\n",
       "noticed         2\n",
       "sweat           2\n",
       "Length: 100, dtype: int64"
      ]
     },
     "execution_count": 28,
     "metadata": {},
     "output_type": "execute_result"
    }
   ],
   "source": [
    "pd.Series(\" \".join(ca[\"subject\"]).lower().split()).value_counts()[:100]"
   ]
  },
  {
   "cell_type": "code",
   "execution_count": null,
   "metadata": {
    "collapsed": false
   },
   "outputs": [],
   "source": []
  },
  {
   "cell_type": "code",
   "execution_count": null,
   "metadata": {
    "collapsed": false
   },
   "outputs": [],
   "source": []
  },
  {
   "cell_type": "code",
   "execution_count": null,
   "metadata": {
    "collapsed": true
   },
   "outputs": [],
   "source": []
  }
 ],
 "metadata": {
  "anaconda-cloud": {},
  "kernelspec": {
   "display_name": "Python [conda root]",
   "language": "python",
   "name": "conda-root-py"
  },
  "language_info": {
   "codemirror_mode": {
    "name": "ipython",
    "version": 3
   },
   "file_extension": ".py",
   "mimetype": "text/x-python",
   "name": "python",
   "nbconvert_exporter": "python",
   "pygments_lexer": "ipython3",
   "version": "3.5.2"
  }
 },
 "nbformat": 4,
 "nbformat_minor": 1
}
