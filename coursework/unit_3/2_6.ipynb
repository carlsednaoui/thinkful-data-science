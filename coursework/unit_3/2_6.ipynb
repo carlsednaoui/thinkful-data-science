{
 "cells": [
  {
   "cell_type": "code",
   "execution_count": 65,
   "metadata": {
    "collapsed": true
   },
   "outputs": [],
   "source": [
    "import pandas as pd\n",
    "import numpy as np\n",
    "import matplotlib.pyplot as plt\n",
    "%matplotlib inline\n",
    "\n",
    "from sklearn import tree\n",
    "from IPython.display import Image\n",
    "import pydotplus\n",
    "import graphviz\n",
    "import gender_guesser.detector as gender\n",
    "from sklearn.model_selection import cross_val_score\n",
    "from sklearn import ensemble\n",
    "\n",
    "import time"
   ]
  },
  {
   "cell_type": "code",
   "execution_count": 55,
   "metadata": {
    "collapsed": false
   },
   "outputs": [
    {
     "data": {
      "text/html": [
       "<div>\n",
       "<table border=\"1\" class=\"dataframe\">\n",
       "  <thead>\n",
       "    <tr style=\"text-align: right;\">\n",
       "      <th></th>\n",
       "      <th>Employee Name</th>\n",
       "      <th>Employee Status</th>\n",
       "      <th>Salary</th>\n",
       "      <th>Pay Basis</th>\n",
       "      <th>Position Title</th>\n",
       "    </tr>\n",
       "  </thead>\n",
       "  <tbody>\n",
       "    <tr>\n",
       "      <th>0</th>\n",
       "      <td>Abrams, Adam W.</td>\n",
       "      <td>Employee</td>\n",
       "      <td>$66300.00</td>\n",
       "      <td>Per Annum</td>\n",
       "      <td>WESTERN REGIONAL COMMUNICATIONS DIRECTOR</td>\n",
       "    </tr>\n",
       "    <tr>\n",
       "      <th>1</th>\n",
       "      <td>Adams, Ian H.</td>\n",
       "      <td>Employee</td>\n",
       "      <td>$45000.00</td>\n",
       "      <td>Per Annum</td>\n",
       "      <td>EXECUTIVE ASSISTANT TO THE DIRECTOR OF SCHEDUL...</td>\n",
       "    </tr>\n",
       "  </tbody>\n",
       "</table>\n",
       "</div>"
      ],
      "text/plain": [
       "     Employee Name Employee Status     Salary  Pay Basis  \\\n",
       "0  Abrams, Adam W.        Employee  $66300.00  Per Annum   \n",
       "1    Adams, Ian H.        Employee  $45000.00  Per Annum   \n",
       "\n",
       "                                      Position Title  \n",
       "0           WESTERN REGIONAL COMMUNICATIONS DIRECTOR  \n",
       "1  EXECUTIVE ASSISTANT TO THE DIRECTOR OF SCHEDUL...  "
      ]
     },
     "execution_count": 55,
     "metadata": {},
     "output_type": "execute_result"
    }
   ],
   "source": [
    "# https://opendata.socrata.com/Government/2010-Report-to-Congress-on-White-House-Staff/vedg-c5sb\n",
    "df = pd.read_csv(\"./data/2010_Report_to_Congress_on_White_House_Staff.csv\")\n",
    "df.head(2)\n",
    "\n",
    "# Question: Is this a good dataset for this exercise? Should I add any other features?\n",
    "# If not, what would a good dataset look like?"
   ]
  },
  {
   "cell_type": "code",
   "execution_count": 56,
   "metadata": {
    "collapsed": false
   },
   "outputs": [],
   "source": [
    "# Data cleaning and new columns\n",
    "\n",
    "# Remove the '$' from the salary\n",
    "df[\"Salary\"] = df[\"Salary\"].replace(\"[\\$]\", \"\", regex=True).astype(float)\n",
    "\n",
    "# Add a column for higher paid employees\n",
    "df[\"Top salary\"] = df[\"Salary\"] > np.median(df[\"Salary\"])\n",
    "\n",
    "# Add guessed gender\n",
    "detector = gender.Detector()\n",
    "name_indentifier = lambda x: 1 if detector.get_gender(x) == 'female' else 0\n",
    "df[\"gender\"] = df[\"Employee Name\"].apply(lambda x: x.split(\",\")[1].split(\" \")[1])\n",
    "df[\"gender\"] = df[\"gender\"].apply(name_indentifier)\n",
    "\n",
    "# Add bi-grams\n",
    "# https://gist.github.com/jheard-tw/ebe8d75afef3c8967df609a3f51fbfde\n",
    "\n",
    "# Add title lenght\n",
    "\n",
    "# Get dummies for position\n",
    "# dummies = df['Position Title'].replace(\"\\,\", \"\", regex=True).str.get_dummies(sep=' ')\n",
    "dummies = df['Position Title'].str.split(r'\\s+')\n",
    "dummies = dummies.apply(lambda x: [x[i]+' '+x[i+1] for i in range(len(x)-1)] if len(x) > 1 else x)\n",
    "dummies = dummies.str.join(sep=\"|\").str.get_dummies(sep='|')\n",
    "df = pd.concat([df, dummies], axis=1)"
   ]
  },
  {
   "cell_type": "code",
   "execution_count": 69,
   "metadata": {
    "collapsed": false
   },
   "outputs": [
    {
     "name": "stdout",
     "output_type": "stream",
     "text": [
      "[ 0.72916667  0.72916667  0.78723404  0.85106383  0.74468085  0.74468085\n",
      "  0.70212766  0.69565217  0.73913043  0.69565217]\n",
      "Average:  0.741855534998\n",
      "--- 0.7518548965454102 seconds ---\n"
     ]
    }
   ],
   "source": [
    "start_time = time.time()\n",
    "\n",
    "decision_tree = tree.DecisionTreeClassifier(\n",
    "    criterion='entropy',\n",
    "    max_features=1,\n",
    "    max_depth=4,\n",
    "    random_state = 1330\n",
    ")\n",
    "X = df.drop([\"Top salary\", \"Employee Name\", \"Employee Status\", \"Pay Basis\", \"Position Title\", \"Salary\"], 1)\n",
    "Y = df[\"Top salary\"]\n",
    "decision_tree.fit(X, Y)\n",
    "print(cross_val_score(decision_tree, X, Y, cv=10))\n",
    "print(\"Average: \", np.mean(cross_val_score(decision_tree, X, Y, cv=10)))\n",
    "\n",
    "\n",
    "dot_data = tree.export_graphviz(\n",
    "    decision_tree, out_file=None,\n",
    "    feature_names=df.drop([\"Top salary\", \"Employee Name\", \"Employee Status\", \"Pay Basis\", \"Position Title\", \"Salary\"], 1).columns,\n",
    "    class_names=['Not top salary', 'Top salary'],\n",
    "    filled=True\n",
    ")\n",
    "graph = pydotplus.graph_from_dot_data(dot_data)\n",
    "Image(graph.create_png())\n",
    "print(\"--- %s seconds ---\" % (time.time() - start_time))"
   ]
  },
  {
   "cell_type": "code",
   "execution_count": 68,
   "metadata": {
    "collapsed": false
   },
   "outputs": [
    {
     "name": "stdout",
     "output_type": "stream",
     "text": [
      "[ 0.8125      0.83333333  0.85106383  0.91489362  0.87234043  0.85106383\n",
      "  0.74468085  0.84782609  0.84782609  0.80434783]\n",
      "Average:  0.842377813753\n",
      "--- 0.915848970413208 seconds ---\n"
     ]
    }
   ],
   "source": [
    "start_time = time.time()\n",
    "rfc = ensemble.RandomForestClassifier()\n",
    "X = df.drop([\"Top salary\", \"Employee Name\", \"Employee Status\", \"Pay Basis\", \"Position Title\", \"Salary\"], 1)\n",
    "Y = df[\"Top salary\"]\n",
    "\n",
    "print(cross_val_score(rfc, X, Y, cv=10))\n",
    "print(\"Average: \", np.mean(cross_val_score(rfc, X, Y, cv=10)))\n",
    "print(\"--- %s seconds ---\" % (time.time() - start_time))"
   ]
  },
  {
   "cell_type": "code",
   "execution_count": null,
   "metadata": {
    "collapsed": true
   },
   "outputs": [],
   "source": []
  }
 ],
 "metadata": {
  "kernelspec": {
   "display_name": "Python [conda root]",
   "language": "python",
   "name": "conda-root-py"
  },
  "language_info": {
   "codemirror_mode": {
    "name": "ipython",
    "version": 3
   },
   "file_extension": ".py",
   "mimetype": "text/x-python",
   "name": "python",
   "nbconvert_exporter": "python",
   "pygments_lexer": "ipython3",
   "version": "3.5.2"
  }
 },
 "nbformat": 4,
 "nbformat_minor": 2
}
