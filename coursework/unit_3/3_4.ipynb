{
 "cells": [
  {
   "cell_type": "code",
   "execution_count": 28,
   "metadata": {
    "collapsed": true
   },
   "outputs": [],
   "source": [
    "import pandas as pd\n",
    "from matplotlib import pyplot as plt\n",
    "import numpy as np\n",
    "import math\n",
    "import seaborn as sns\n",
    "import sklearn\n",
    "from sklearn import linear_model\n",
    "from sklearn import preprocessing\n",
    "%matplotlib inline\n",
    "sns.set_style('white')"
   ]
  },
  {
   "cell_type": "code",
   "execution_count": 147,
   "metadata": {
    "collapsed": false
   },
   "outputs": [
    {
     "data": {
      "text/html": [
       "<div>\n",
       "<table border=\"1\" class=\"dataframe\">\n",
       "  <thead>\n",
       "    <tr style=\"text-align: right;\">\n",
       "      <th></th>\n",
       "      <th>satisfaction_level</th>\n",
       "      <th>last_evaluation</th>\n",
       "      <th>number_project</th>\n",
       "      <th>average_montly_hours</th>\n",
       "      <th>time_spend_company</th>\n",
       "      <th>Work_accident</th>\n",
       "      <th>left</th>\n",
       "      <th>promotion_last_5years</th>\n",
       "      <th>sales</th>\n",
       "      <th>salary</th>\n",
       "    </tr>\n",
       "  </thead>\n",
       "  <tbody>\n",
       "    <tr>\n",
       "      <th>0</th>\n",
       "      <td>0.38</td>\n",
       "      <td>0.53</td>\n",
       "      <td>2</td>\n",
       "      <td>157</td>\n",
       "      <td>3</td>\n",
       "      <td>0</td>\n",
       "      <td>1</td>\n",
       "      <td>0</td>\n",
       "      <td>sales</td>\n",
       "      <td>low</td>\n",
       "    </tr>\n",
       "    <tr>\n",
       "      <th>1</th>\n",
       "      <td>0.80</td>\n",
       "      <td>0.86</td>\n",
       "      <td>5</td>\n",
       "      <td>262</td>\n",
       "      <td>6</td>\n",
       "      <td>0</td>\n",
       "      <td>1</td>\n",
       "      <td>0</td>\n",
       "      <td>sales</td>\n",
       "      <td>medium</td>\n",
       "    </tr>\n",
       "    <tr>\n",
       "      <th>2</th>\n",
       "      <td>0.11</td>\n",
       "      <td>0.88</td>\n",
       "      <td>7</td>\n",
       "      <td>272</td>\n",
       "      <td>4</td>\n",
       "      <td>0</td>\n",
       "      <td>1</td>\n",
       "      <td>0</td>\n",
       "      <td>sales</td>\n",
       "      <td>medium</td>\n",
       "    </tr>\n",
       "  </tbody>\n",
       "</table>\n",
       "</div>"
      ],
      "text/plain": [
       "   satisfaction_level  last_evaluation  number_project  average_montly_hours  \\\n",
       "0                0.38             0.53               2                   157   \n",
       "1                0.80             0.86               5                   262   \n",
       "2                0.11             0.88               7                   272   \n",
       "\n",
       "   time_spend_company  Work_accident  left  promotion_last_5years  sales  \\\n",
       "0                   3              0     1                      0  sales   \n",
       "1                   6              0     1                      0  sales   \n",
       "2                   4              0     1                      0  sales   \n",
       "\n",
       "   salary  \n",
       "0     low  \n",
       "1  medium  \n",
       "2  medium  "
      ]
     },
     "execution_count": 147,
     "metadata": {},
     "output_type": "execute_result"
    }
   ],
   "source": [
    "# https://www.kaggle.com/ludobenistant/hr-analytics\n",
    "df = pd.read_csv(\"./data/hr.csv\")\n",
    "df.head(3)"
   ]
  },
  {
   "cell_type": "code",
   "execution_count": 137,
   "metadata": {
    "collapsed": false
   },
   "outputs": [],
   "source": [
    "# Tanslate salary into a scale from 1-3 (1 = low, 3 = high)\n",
    "df.replace({\"salary\" : {\"low\": 1, \"medium\": 2, \"high\" : 3 }}, inplace=True)\n",
    "\n",
    "# Create new features\n",
    "df[\"_statisfaction_evaluation\"] = df[\"satisfaction_level\"] * df[\"last_evaluation\"]\n",
    "df[\"_salary_satisfaction\"] = df[\"salary\"] * df[\"satisfaction_level\"]\n",
    "df[\"_work_accident_2\"] = df[\"Work_accident\"] ** 2\n",
    "df[\"_work_accident_3\"] = df[\"Work_accident\"] ** 3\n",
    "\n",
    "# Drop text features\n",
    "del df[\"sales\"]"
   ]
  },
  {
   "cell_type": "code",
   "execution_count": 138,
   "metadata": {
    "collapsed": false
   },
   "outputs": [],
   "source": [
    "# Create our train and test data\n",
    "trainsize = int(df.shape[0] / 2)\n",
    "df_train = df.iloc[:trainsize, :].copy()\n",
    "df_test = df.iloc[trainsize:, :].copy()\n",
    "\n",
    "# Create our Xs and Ys\n",
    "Y_train = df_train[\"left\"].values.reshape(-1, 1)\n",
    "X_train = df_train.loc[:, ~(df_train.columns).isin([\"left\"])]\n",
    "\n",
    "Y_test = df_test[\"left\"].values.reshape(-1, 1)\n",
    "X_test = df_test.loc[:, ~(df_train.columns).isin([\"left\"])]"
   ]
  },
  {
   "cell_type": "code",
   "execution_count": 139,
   "metadata": {
    "collapsed": false
   },
   "outputs": [
    {
     "data": {
      "text/html": [
       "<div>\n",
       "<table border=\"1\" class=\"dataframe\">\n",
       "  <thead>\n",
       "    <tr style=\"text-align: right;\">\n",
       "      <th></th>\n",
       "      <th>satisfaction_level</th>\n",
       "      <th>last_evaluation</th>\n",
       "      <th>number_project</th>\n",
       "      <th>average_montly_hours</th>\n",
       "      <th>time_spend_company</th>\n",
       "      <th>Work_accident</th>\n",
       "      <th>left</th>\n",
       "      <th>promotion_last_5years</th>\n",
       "      <th>salary</th>\n",
       "      <th>_statisfaction_evaluation</th>\n",
       "      <th>_salary_satisfaction</th>\n",
       "      <th>_work_accident_2</th>\n",
       "      <th>_work_accident_3</th>\n",
       "    </tr>\n",
       "  </thead>\n",
       "  <tbody>\n",
       "    <tr>\n",
       "      <th>0</th>\n",
       "      <td>0.38</td>\n",
       "      <td>0.53</td>\n",
       "      <td>2</td>\n",
       "      <td>157</td>\n",
       "      <td>3</td>\n",
       "      <td>0</td>\n",
       "      <td>1</td>\n",
       "      <td>0</td>\n",
       "      <td>1</td>\n",
       "      <td>0.2014</td>\n",
       "      <td>0.38</td>\n",
       "      <td>0</td>\n",
       "      <td>0</td>\n",
       "    </tr>\n",
       "    <tr>\n",
       "      <th>1</th>\n",
       "      <td>0.80</td>\n",
       "      <td>0.86</td>\n",
       "      <td>5</td>\n",
       "      <td>262</td>\n",
       "      <td>6</td>\n",
       "      <td>0</td>\n",
       "      <td>1</td>\n",
       "      <td>0</td>\n",
       "      <td>2</td>\n",
       "      <td>0.6880</td>\n",
       "      <td>1.60</td>\n",
       "      <td>0</td>\n",
       "      <td>0</td>\n",
       "    </tr>\n",
       "    <tr>\n",
       "      <th>2</th>\n",
       "      <td>0.11</td>\n",
       "      <td>0.88</td>\n",
       "      <td>7</td>\n",
       "      <td>272</td>\n",
       "      <td>4</td>\n",
       "      <td>0</td>\n",
       "      <td>1</td>\n",
       "      <td>0</td>\n",
       "      <td>2</td>\n",
       "      <td>0.0968</td>\n",
       "      <td>0.22</td>\n",
       "      <td>0</td>\n",
       "      <td>0</td>\n",
       "    </tr>\n",
       "  </tbody>\n",
       "</table>\n",
       "</div>"
      ],
      "text/plain": [
       "   satisfaction_level  last_evaluation  number_project  average_montly_hours  \\\n",
       "0                0.38             0.53               2                   157   \n",
       "1                0.80             0.86               5                   262   \n",
       "2                0.11             0.88               7                   272   \n",
       "\n",
       "   time_spend_company  Work_accident  left  promotion_last_5years  salary  \\\n",
       "0                   3              0     1                      0       1   \n",
       "1                   6              0     1                      0       2   \n",
       "2                   4              0     1                      0       2   \n",
       "\n",
       "   _statisfaction_evaluation  _salary_satisfaction  _work_accident_2  \\\n",
       "0                     0.2014                  0.38                 0   \n",
       "1                     0.6880                  1.60                 0   \n",
       "2                     0.0968                  0.22                 0   \n",
       "\n",
       "   _work_accident_3  \n",
       "0                 0  \n",
       "1                 0  \n",
       "2                 0  "
      ]
     },
     "execution_count": 139,
     "metadata": {},
     "output_type": "execute_result"
    }
   ],
   "source": [
    "# Take a look at our new dataframe\n",
    "df.head(3)"
   ]
  },
  {
   "cell_type": "code",
   "execution_count": 144,
   "metadata": {
    "collapsed": false
   },
   "outputs": [
    {
     "name": "stdout",
     "output_type": "stream",
     "text": [
      "R-squared for vanilla regression: 0.287407914726\n",
      "\n",
      "Parameter estimates for vanilla regression:\n",
      "[ -2.04922669e+00  -9.18973591e-01  -2.86864997e-02   6.63591725e-04\n",
      "   1.05836728e-01  -4.85796725e-02  -7.43014813e-02  -1.77616812e-01\n",
      "   1.54241385e+00   1.66669587e-01  -4.85796725e-02  -4.85796725e-02\n",
      "   1.25788445e+00]\n",
      "R-squared for vanilla regression (test): 0.011000873772\n"
     ]
    }
   ],
   "source": [
    "# Vanilla regression\n",
    "vanilla = linear_model.LinearRegression()\n",
    "vanillafit = vanilla.fit(X_train, Y_train)\n",
    "\n",
    "# See the results for the training set\n",
    "print('R-squared for vanilla regression:', vanilla.score(X_train, Y_train))\n",
    "print('\\nParameter estimates for vanilla regression:')\n",
    "print(np.append(vanillafit.coef_, vanillafit.intercept_))\n",
    "\n",
    "# See the results for the test set\n",
    "print('R-squared for vanilla regression (test):', vanilla.score(X_test, Y_test))"
   ]
  },
  {
   "cell_type": "code",
   "execution_count": 145,
   "metadata": {
    "collapsed": false
   },
   "outputs": [
    {
     "name": "stdout",
     "output_type": "stream",
     "text": [
      "R-squared for ridge: 0.246170464459\n",
      "\n",
      "Parameter estimates for ridge:\n",
      "[-0.2315697   0.22917024 -0.04220256  0.000784    0.12673408 -0.04733489\n",
      " -0.06520805  0.02697761 -0.18224349 -0.12584151 -0.04733489 -0.04733489\n",
      "  0.        ]\n",
      "R-squared for ridge (test): -0.117064911806\n"
     ]
    }
   ],
   "source": [
    "# Ridge regression\n",
    "ridg = linear_model.Ridge(alpha=10, fit_intercept=False)\n",
    "ridgfit = ridg.fit(X_train, Y_train)\n",
    "\n",
    "# See the results for the training set\n",
    "print('R-squared for ridge:', ridg.score(X_train, Y_train))\n",
    "print('\\nParameter estimates for ridge:')\n",
    "print(np.append(ridgfit.coef_, ridgfit.intercept_))\n",
    "\n",
    "# See the results for the test set\n",
    "print('R-squared for ridge (test):', ridg.score(X_test, Y_test))"
   ]
  },
  {
   "cell_type": "code",
   "execution_count": 146,
   "metadata": {
    "collapsed": false
   },
   "outputs": [
    {
     "name": "stdout",
     "output_type": "stream",
     "text": [
      "R-squared for lasso: 0.00591336128193\n",
      "\n",
      "Parameter estimates for lasso:\n",
      "[-0.         -0.          0.          0.00055004  0.         -0.         -0.\n",
      " -0.         -0.         -0.         -0.         -0.          0.15595495]\n",
      "R-squared for lasso (test): -0.0156230999061\n"
     ]
    }
   ],
   "source": [
    "# Lasson regression\n",
    "lass = linear_model.Lasso(alpha=0.35)\n",
    "lassfit = lass.fit(X_train, Y_train)\n",
    "\n",
    "# See the results for the training set\n",
    "print('R-squared for lasso:', lass.score(X_train, Y_train))\n",
    "print('\\nParameter estimates for lasso:')\n",
    "print(np.append(lassfit.coef_, lassfit.intercept_))\n",
    "\n",
    "# See the results for the test set\n",
    "print('R-squared for lasso (test):', lass.score(X_test, Y_test))"
   ]
  },
  {
   "cell_type": "markdown",
   "metadata": {},
   "source": [
    "## Questions\n",
    "\n",
    "- What does a negative r-squared mean?\n",
    "- It looks like the best model is vanilla regression, is that correct?\n",
    "- All 3 models perform really poorly. What other features should we build?\n",
    "\n"
   ]
  },
  {
   "cell_type": "code",
   "execution_count": 163,
   "metadata": {
    "collapsed": false
   },
   "outputs": [
    {
     "data": {
      "text/html": [
       "<div>\n",
       "<table border=\"1\" class=\"dataframe\">\n",
       "  <thead>\n",
       "    <tr style=\"text-align: right;\">\n",
       "      <th></th>\n",
       "      <th>city</th>\n",
       "      <th>population</th>\n",
       "      <th>violent crime</th>\n",
       "      <th>murder</th>\n",
       "      <th>rape 1</th>\n",
       "      <th>rape 2</th>\n",
       "      <th>robbery</th>\n",
       "      <th>assault</th>\n",
       "      <th>property crime</th>\n",
       "      <th>burglary</th>\n",
       "      <th>larceny</th>\n",
       "      <th>motor theft</th>\n",
       "      <th>arson</th>\n",
       "    </tr>\n",
       "  </thead>\n",
       "  <tbody>\n",
       "    <tr>\n",
       "      <th>0</th>\n",
       "      <td>Adams Village</td>\n",
       "      <td>1,861</td>\n",
       "      <td>0</td>\n",
       "      <td>0</td>\n",
       "      <td>NaN</td>\n",
       "      <td>0</td>\n",
       "      <td>0</td>\n",
       "      <td>0</td>\n",
       "      <td>12</td>\n",
       "      <td>2</td>\n",
       "      <td>10</td>\n",
       "      <td>0</td>\n",
       "      <td>0.0</td>\n",
       "    </tr>\n",
       "    <tr>\n",
       "      <th>1</th>\n",
       "      <td>Addison Town and Village</td>\n",
       "      <td>2,577</td>\n",
       "      <td>3</td>\n",
       "      <td>0</td>\n",
       "      <td>NaN</td>\n",
       "      <td>0</td>\n",
       "      <td>0</td>\n",
       "      <td>3</td>\n",
       "      <td>24</td>\n",
       "      <td>3</td>\n",
       "      <td>20</td>\n",
       "      <td>1</td>\n",
       "      <td>0.0</td>\n",
       "    </tr>\n",
       "    <tr>\n",
       "      <th>2</th>\n",
       "      <td>Akron Village</td>\n",
       "      <td>2,846</td>\n",
       "      <td>3</td>\n",
       "      <td>0</td>\n",
       "      <td>NaN</td>\n",
       "      <td>0</td>\n",
       "      <td>0</td>\n",
       "      <td>3</td>\n",
       "      <td>16</td>\n",
       "      <td>1</td>\n",
       "      <td>15</td>\n",
       "      <td>0</td>\n",
       "      <td>0.0</td>\n",
       "    </tr>\n",
       "  </tbody>\n",
       "</table>\n",
       "</div>"
      ],
      "text/plain": [
       "                       city population violent crime  murder  rape 1 rape 2  \\\n",
       "0             Adams Village      1,861             0       0     NaN      0   \n",
       "1  Addison Town and Village      2,577             3       0     NaN      0   \n",
       "2             Akron Village      2,846             3       0     NaN      0   \n",
       "\n",
       "  robbery assault property crime burglary larceny motor theft  arson  \n",
       "0       0       0             12        2      10           0    0.0  \n",
       "1       0       3             24        3      20           1    0.0  \n",
       "2       0       3             16        1      15           0    0.0  "
      ]
     },
     "execution_count": 163,
     "metadata": {},
     "output_type": "execute_result"
    }
   ],
   "source": [
    "# Should we try this with a different dataset?\n",
    "# http://share.mailcharts.com/3g1g1K1y3O1Q\n",
    "\n",
    "# https://ucr.fbi.gov/crime-in-the-u.s/2013/crime-in-the-u.s.-2013/tables/table-8/table-8-state-cuts/table_8_offenses_known_to_law_enforcement_new_york_by_city_2013.xls\n",
    "col_names = [\"city\", \"population\", \"violent crime\", \"murder\", \"rape 1\", \"rape 2\", \"robbery\", \"assault\", \"property crime\", \"burglary\", \"larceny\", \"motor theft\", \"arson\"]\n",
    "df = pd.read_csv(\"./data/ny_crime.csv\", names=col_names, header=0)\n",
    "df.head(3)"
   ]
  },
  {
   "cell_type": "code",
   "execution_count": null,
   "metadata": {
    "collapsed": false
   },
   "outputs": [],
   "source": []
  },
  {
   "cell_type": "code",
   "execution_count": null,
   "metadata": {
    "collapsed": true
   },
   "outputs": [],
   "source": []
  }
 ],
 "metadata": {
  "kernelspec": {
   "display_name": "Python [conda root]",
   "language": "python",
   "name": "conda-root-py"
  },
  "language_info": {
   "codemirror_mode": {
    "name": "ipython",
    "version": 3
   },
   "file_extension": ".py",
   "mimetype": "text/x-python",
   "name": "python",
   "nbconvert_exporter": "python",
   "pygments_lexer": "ipython3",
   "version": "3.5.2"
  }
 },
 "nbformat": 4,
 "nbformat_minor": 2
}
