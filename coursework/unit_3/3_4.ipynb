{
 "cells": [
  {
   "cell_type": "code",
   "execution_count": 164,
   "metadata": {
    "collapsed": true
   },
   "outputs": [],
   "source": [
    "import pandas as pd\n",
    "from matplotlib import pyplot as plt\n",
    "import numpy as np\n",
    "import math\n",
    "import seaborn as sns\n",
    "import sklearn\n",
    "from sklearn import linear_model\n",
    "from sklearn import preprocessing\n",
    "%matplotlib inline\n",
    "sns.set_style('white')"
   ]
  },
  {
   "cell_type": "code",
   "execution_count": 210,
   "metadata": {
    "collapsed": false
   },
   "outputs": [
    {
     "data": {
      "text/html": [
       "<div>\n",
       "<table border=\"1\" class=\"dataframe\">\n",
       "  <thead>\n",
       "    <tr style=\"text-align: right;\">\n",
       "      <th></th>\n",
       "      <th>satisfaction_level</th>\n",
       "      <th>last_evaluation</th>\n",
       "      <th>number_project</th>\n",
       "      <th>average_montly_hours</th>\n",
       "      <th>time_spend_company</th>\n",
       "      <th>Work_accident</th>\n",
       "      <th>left</th>\n",
       "      <th>promotion_last_5years</th>\n",
       "      <th>sales</th>\n",
       "      <th>salary</th>\n",
       "    </tr>\n",
       "  </thead>\n",
       "  <tbody>\n",
       "    <tr>\n",
       "      <th>0</th>\n",
       "      <td>0.38</td>\n",
       "      <td>0.53</td>\n",
       "      <td>2</td>\n",
       "      <td>157</td>\n",
       "      <td>3</td>\n",
       "      <td>0</td>\n",
       "      <td>1</td>\n",
       "      <td>0</td>\n",
       "      <td>sales</td>\n",
       "      <td>low</td>\n",
       "    </tr>\n",
       "    <tr>\n",
       "      <th>1</th>\n",
       "      <td>0.80</td>\n",
       "      <td>0.86</td>\n",
       "      <td>5</td>\n",
       "      <td>262</td>\n",
       "      <td>6</td>\n",
       "      <td>0</td>\n",
       "      <td>1</td>\n",
       "      <td>0</td>\n",
       "      <td>sales</td>\n",
       "      <td>medium</td>\n",
       "    </tr>\n",
       "    <tr>\n",
       "      <th>2</th>\n",
       "      <td>0.11</td>\n",
       "      <td>0.88</td>\n",
       "      <td>7</td>\n",
       "      <td>272</td>\n",
       "      <td>4</td>\n",
       "      <td>0</td>\n",
       "      <td>1</td>\n",
       "      <td>0</td>\n",
       "      <td>sales</td>\n",
       "      <td>medium</td>\n",
       "    </tr>\n",
       "  </tbody>\n",
       "</table>\n",
       "</div>"
      ],
      "text/plain": [
       "   satisfaction_level  last_evaluation  number_project  average_montly_hours  \\\n",
       "0                0.38             0.53               2                   157   \n",
       "1                0.80             0.86               5                   262   \n",
       "2                0.11             0.88               7                   272   \n",
       "\n",
       "   time_spend_company  Work_accident  left  promotion_last_5years  sales  \\\n",
       "0                   3              0     1                      0  sales   \n",
       "1                   6              0     1                      0  sales   \n",
       "2                   4              0     1                      0  sales   \n",
       "\n",
       "   salary  \n",
       "0     low  \n",
       "1  medium  \n",
       "2  medium  "
      ]
     },
     "execution_count": 210,
     "metadata": {},
     "output_type": "execute_result"
    }
   ],
   "source": [
    "# https://www.kaggle.com/ludobenistant/hr-analytics\n",
    "df = pd.read_csv(\"./data/hr.csv\")\n",
    "\n",
    "df.head(3)"
   ]
  },
  {
   "cell_type": "code",
   "execution_count": 211,
   "metadata": {
    "collapsed": false
   },
   "outputs": [],
   "source": [
    "# Drop text features\n",
    "del df[\"sales\"]\n",
    "\n",
    "# Tanslate salary into a scale from 1-3 (1 = low, 3 = high)\n",
    "df.replace({\"salary\" : {\"low\": 1, \"medium\": 2, \"high\" : 3 }}, inplace=True)\n",
    "\n",
    "# Scale everything down\n",
    "names = df.columns\n",
    "df = pd.DataFrame(preprocessing.scale(df), columns=names)\n",
    "\n",
    "# Create new features\n",
    "# df[\"_statisfaction_evaluation\"] = df[\"satisfaction_level\"] * df[\"last_evaluation\"]\n",
    "# df[\"_salary_satisfaction\"] = df[\"salary\"] * df[\"satisfaction_level\"]\n",
    "# df[\"_work_accident_2\"] = df[\"Work_accident\"] ** 2\n",
    "# df[\"_work_accident_3\"] = df[\"Work_accident\"] ** 3"
   ]
  },
  {
   "cell_type": "code",
   "execution_count": 212,
   "metadata": {
    "collapsed": false
   },
   "outputs": [],
   "source": [
    "# Create our training and testing data\n",
    "trainsize = int(df.shape[0] / 2)\n",
    "df_train = df.iloc[:trainsize, :].copy()\n",
    "df_test = df.iloc[trainsize:, :].copy()\n",
    "\n",
    "# Create our Xs and Ys\n",
    "Y_train = df_train[\"left\"].values.reshape(-1, 1)\n",
    "X_train = df_train.loc[:, ~(df_train.columns).isin([\"left\"])]\n",
    "\n",
    "Y_test = df_test[\"left\"].values.reshape(-1, 1)\n",
    "X_test = df_test.loc[:, ~(df_train.columns).isin([\"left\"])]"
   ]
  },
  {
   "cell_type": "code",
   "execution_count": 213,
   "metadata": {
    "collapsed": false
   },
   "outputs": [
    {
     "data": {
      "text/html": [
       "<div>\n",
       "<table border=\"1\" class=\"dataframe\">\n",
       "  <thead>\n",
       "    <tr style=\"text-align: right;\">\n",
       "      <th></th>\n",
       "      <th>satisfaction_level</th>\n",
       "      <th>last_evaluation</th>\n",
       "      <th>number_project</th>\n",
       "      <th>average_montly_hours</th>\n",
       "      <th>time_spend_company</th>\n",
       "      <th>Work_accident</th>\n",
       "      <th>left</th>\n",
       "      <th>promotion_last_5years</th>\n",
       "      <th>salary</th>\n",
       "    </tr>\n",
       "  </thead>\n",
       "  <tbody>\n",
       "    <tr>\n",
       "      <th>0</th>\n",
       "      <td>-0.936495</td>\n",
       "      <td>-1.087275</td>\n",
       "      <td>-1.462863</td>\n",
       "      <td>-0.882040</td>\n",
       "      <td>-0.341235</td>\n",
       "      <td>-0.411165</td>\n",
       "      <td>1.788917</td>\n",
       "      <td>-0.147412</td>\n",
       "      <td>-0.933368</td>\n",
       "    </tr>\n",
       "    <tr>\n",
       "      <th>1</th>\n",
       "      <td>0.752814</td>\n",
       "      <td>0.840707</td>\n",
       "      <td>0.971113</td>\n",
       "      <td>1.220423</td>\n",
       "      <td>1.713436</td>\n",
       "      <td>-0.411165</td>\n",
       "      <td>1.788917</td>\n",
       "      <td>-0.147412</td>\n",
       "      <td>0.636092</td>\n",
       "    </tr>\n",
       "    <tr>\n",
       "      <th>2</th>\n",
       "      <td>-2.022479</td>\n",
       "      <td>0.957554</td>\n",
       "      <td>2.593763</td>\n",
       "      <td>1.420657</td>\n",
       "      <td>0.343655</td>\n",
       "      <td>-0.411165</td>\n",
       "      <td>1.788917</td>\n",
       "      <td>-0.147412</td>\n",
       "      <td>0.636092</td>\n",
       "    </tr>\n",
       "  </tbody>\n",
       "</table>\n",
       "</div>"
      ],
      "text/plain": [
       "   satisfaction_level  last_evaluation  number_project  average_montly_hours  \\\n",
       "0           -0.936495        -1.087275       -1.462863             -0.882040   \n",
       "1            0.752814         0.840707        0.971113              1.220423   \n",
       "2           -2.022479         0.957554        2.593763              1.420657   \n",
       "\n",
       "   time_spend_company  Work_accident      left  promotion_last_5years  \\\n",
       "0           -0.341235      -0.411165  1.788917              -0.147412   \n",
       "1            1.713436      -0.411165  1.788917              -0.147412   \n",
       "2            0.343655      -0.411165  1.788917              -0.147412   \n",
       "\n",
       "     salary  \n",
       "0 -0.933368  \n",
       "1  0.636092  \n",
       "2  0.636092  "
      ]
     },
     "execution_count": 213,
     "metadata": {},
     "output_type": "execute_result"
    }
   ],
   "source": [
    "# Take a look at our new dataframe\n",
    "df.head(3)"
   ]
  },
  {
   "cell_type": "code",
   "execution_count": 214,
   "metadata": {
    "collapsed": false
   },
   "outputs": [
    {
     "name": "stdout",
     "output_type": "stream",
     "text": [
      "R-squared for vanilla regression: 0.26668781319\n",
      "\n",
      "Parameter estimates for vanilla regression:\n",
      "[-0.37218156  0.01668165 -0.13057727  0.05503892  0.38232927 -0.12364511\n",
      " -0.02478779 -0.11539383  0.10327648]\n",
      "R-squared for vanilla regression (test): -0.030875262081\n"
     ]
    }
   ],
   "source": [
    "# Vanilla regression\n",
    "vanilla = linear_model.LinearRegression()\n",
    "vanillafit = vanilla.fit(X_train, Y_train)\n",
    "\n",
    "# See the results for the training set\n",
    "print('R-squared for vanilla regression:', vanilla.score(X_train, Y_train))\n",
    "print('\\nParameter estimates for vanilla regression:')\n",
    "print(np.append(vanillafit.coef_, vanillafit.intercept_))\n",
    "\n",
    "# See the results for the test set\n",
    "print('R-squared for vanilla regression (test):', vanilla.score(X_test, Y_test))"
   ]
  },
  {
   "cell_type": "code",
   "execution_count": 215,
   "metadata": {
    "collapsed": false
   },
   "outputs": [
    {
     "name": "stdout",
     "output_type": "stream",
     "text": [
      "R-squared for ridge: 0.257245146132\n",
      "\n",
      "Parameter estimates for ridge:\n",
      "[-0.37683941  0.02154178 -0.12660734  0.05637401  0.35276854 -0.1248408\n",
      " -0.03361669 -0.1191739   0.        ]\n",
      "R-squared for ridge (test): 0.0358169485708\n"
     ]
    }
   ],
   "source": [
    "# Ridge regression\n",
    "ridg = linear_model.Ridge(alpha=10, fit_intercept=False)\n",
    "ridgfit = ridg.fit(X_train, Y_train)\n",
    "\n",
    "# See the results for the training set\n",
    "print('R-squared for ridge:', ridg.score(X_train, Y_train))\n",
    "print('\\nParameter estimates for ridge:')\n",
    "print(np.append(ridgfit.coef_, ridgfit.intercept_))\n",
    "\n",
    "# See the results for the test set\n",
    "print('R-squared for ridge (test):', ridg.score(X_test, Y_test))"
   ]
  },
  {
   "cell_type": "code",
   "execution_count": 225,
   "metadata": {
    "collapsed": false
   },
   "outputs": [
    {
     "name": "stdout",
     "output_type": "stream",
     "text": [
      "R-squared for lasso: 0.0\n",
      "\n",
      "Parameter estimates for lasso:\n",
      "[-0.          0.          0.          0.          0.         -0.         -0.\n",
      " -0.          0.06719658]\n",
      "R-squared for lasso (test): -0.0197832103443\n"
     ]
    }
   ],
   "source": [
    "# Lasso regression\n",
    "lass = linear_model.Lasso(alpha=0.5)\n",
    "lassfit = lass.fit(X_train, Y_train)\n",
    "\n",
    "# See the results for the training set\n",
    "print('R-squared for lasso:', lass.score(X_train, Y_train))\n",
    "print('\\nParameter estimates for lasso:')\n",
    "print(np.append(lassfit.coef_, lassfit.intercept_))\n",
    "\n",
    "# See the results for the test set\n",
    "print('R-squared for lasso (test):', lass.score(X_test, Y_test))"
   ]
  },
  {
   "cell_type": "code",
   "execution_count": 227,
   "metadata": {
    "collapsed": false
   },
   "outputs": [
    {
     "data": {
      "image/png": "[encoded data removed]",
      "text/plain": [
       "<matplotlib.figure.Figure at 0x1121a7208>"
      ]
     },
     "metadata": {},
     "output_type": "display_data"
    }
   ],
   "source": [
    "# Ridge plot\n",
    "\n",
    "results = pd.DataFrame(columns=[\"lasso\", \"ridge\", \"lambda\"])\n",
    "\n",
    "for lambd in np.arange(0.01,1,0.01):\n",
    "    lass = linear_model.Lasso(alpha=lambd)\n",
    "    lass.fit(X_train, Y_train)\n",
    "    lass_score = lass.score(X_train, Y_train)\n",
    "    \n",
    "    ridgeregr = linear_model.Ridge(alpha=lambd, fit_intercept=False)\n",
    "    ridgeregr.fit(X_train, Y_train)\n",
    "    ridgeregr_score = ridgeregr.score(X_train, Y_train)\n",
    "    \n",
    "    res = pd.DataFrame([[lass_score, ridgeregr_score, lambd]], columns=[\"lasso\", \"ridge\", \"lambda\"])\n",
    "\n",
    "    results = results.append(res)\n",
    "\n",
    "plt.plot(results['lambda'], results['lasso'])\n",
    "plt.plot(results['lambda'], results['ridge'])\n",
    "plt.xlabel('lambda')\n",
    "plt.ylabel('models')\n",
    "plt.legend([\"lasso\", \"ridge\"])\n",
    "plt.show()"
   ]
  },
  {
   "cell_type": "markdown",
   "metadata": {},
   "source": [
    "## Questions\n",
    "\n",
    "- What does a negative r-squared mean?\n",
    "- It looks like the best model is vanilla regression, is that correct?\n",
    "- All 3 models perform really poorly. What other features should we build?\n",
    "\n"
   ]
  },
  {
   "cell_type": "code",
   "execution_count": 267,
   "metadata": {
    "collapsed": false
   },
   "outputs": [
    {
     "data": {
      "text/html": [
       "<div>\n",
       "<table border=\"1\" class=\"dataframe\">\n",
       "  <thead>\n",
       "    <tr style=\"text-align: right;\">\n",
       "      <th></th>\n",
       "      <th>city</th>\n",
       "      <th>population</th>\n",
       "      <th>violent crime</th>\n",
       "      <th>murder</th>\n",
       "      <th>rape 1</th>\n",
       "      <th>rape 2</th>\n",
       "      <th>robbery</th>\n",
       "      <th>assault</th>\n",
       "      <th>property crime</th>\n",
       "      <th>burglary</th>\n",
       "      <th>larceny</th>\n",
       "      <th>motor theft</th>\n",
       "      <th>arson</th>\n",
       "    </tr>\n",
       "  </thead>\n",
       "  <tbody>\n",
       "    <tr>\n",
       "      <th>0</th>\n",
       "      <td>Adams Village</td>\n",
       "      <td>1861</td>\n",
       "      <td>0</td>\n",
       "      <td>0</td>\n",
       "      <td>NaN</td>\n",
       "      <td>0</td>\n",
       "      <td>0</td>\n",
       "      <td>0</td>\n",
       "      <td>12</td>\n",
       "      <td>2</td>\n",
       "      <td>10</td>\n",
       "      <td>0</td>\n",
       "      <td>0.0</td>\n",
       "    </tr>\n",
       "    <tr>\n",
       "      <th>1</th>\n",
       "      <td>Addison Town and Village</td>\n",
       "      <td>2577</td>\n",
       "      <td>3</td>\n",
       "      <td>0</td>\n",
       "      <td>NaN</td>\n",
       "      <td>0</td>\n",
       "      <td>0</td>\n",
       "      <td>3</td>\n",
       "      <td>24</td>\n",
       "      <td>3</td>\n",
       "      <td>20</td>\n",
       "      <td>1</td>\n",
       "      <td>0.0</td>\n",
       "    </tr>\n",
       "    <tr>\n",
       "      <th>2</th>\n",
       "      <td>Akron Village</td>\n",
       "      <td>2846</td>\n",
       "      <td>3</td>\n",
       "      <td>0</td>\n",
       "      <td>NaN</td>\n",
       "      <td>0</td>\n",
       "      <td>0</td>\n",
       "      <td>3</td>\n",
       "      <td>16</td>\n",
       "      <td>1</td>\n",
       "      <td>15</td>\n",
       "      <td>0</td>\n",
       "      <td>0.0</td>\n",
       "    </tr>\n",
       "  </tbody>\n",
       "</table>\n",
       "</div>"
      ],
      "text/plain": [
       "                       city  population  violent crime  murder  rape 1  \\\n",
       "0             Adams Village        1861              0       0     NaN   \n",
       "1  Addison Town and Village        2577              3       0     NaN   \n",
       "2             Akron Village        2846              3       0     NaN   \n",
       "\n",
       "   rape 2  robbery  assault  property crime  burglary  larceny  motor theft  \\\n",
       "0       0        0        0              12         2       10            0   \n",
       "1       0        0        3              24         3       20            1   \n",
       "2       0        0        3              16         1       15            0   \n",
       "\n",
       "   arson  \n",
       "0    0.0  \n",
       "1    0.0  \n",
       "2    0.0  "
      ]
     },
     "execution_count": 267,
     "metadata": {},
     "output_type": "execute_result"
    }
   ],
   "source": [
    "# Should we try this with a different dataset?\n",
    "# http://share.mailcharts.com/3g1g1K1y3O1Q\n",
    "\n",
    "# https://ucr.fbi.gov/crime-in-the-u.s/2013/crime-in-the-u.s.-2013/tables/table-8/table-8-state-cuts/table_8_offenses_known_to_law_enforcement_new_york_by_city_2013.xls\n",
    "col_names = [\"city\", \"population\", \"violent crime\", \"murder\", \"rape 1\", \"rape 2\", \"robbery\", \"assault\", \"property crime\", \"burglary\", \"larceny\", \"motor theft\", \"arson\"]\n",
    "df = pd.read_csv(\"./data/ny_crime.csv\", names=col_names, header=0, thousands=',')\n",
    "df.head(3)"
   ]
  },
  {
   "cell_type": "code",
   "execution_count": 268,
   "metadata": {
    "collapsed": false
   },
   "outputs": [],
   "source": [
    "# Drop text features\n",
    "del df[\"rape 1\"]\n",
    "del df[\"city\"]\n",
    "\n",
    "# Delete duplicate features, based on coreplot: sns.heatmap(df.corr())\n",
    "del df[\"larceny\"]\n",
    "del df[\"assault\"]\n",
    "\n",
    "# Drop NAs\n",
    "df = df.dropna()\n",
    "\n",
    "# Scale everything down\n",
    "names = df.columns\n",
    "df = pd.DataFrame(preprocessing.scale(df), columns=names)"
   ]
  },
  {
   "cell_type": "code",
   "execution_count": 269,
   "metadata": {
    "collapsed": false
   },
   "outputs": [
    {
     "data": {
      "text/html": [
       "<div>\n",
       "<table border=\"1\" class=\"dataframe\">\n",
       "  <thead>\n",
       "    <tr style=\"text-align: right;\">\n",
       "      <th></th>\n",
       "      <th>population</th>\n",
       "      <th>violent crime</th>\n",
       "      <th>murder</th>\n",
       "      <th>rape 2</th>\n",
       "      <th>robbery</th>\n",
       "      <th>property crime</th>\n",
       "      <th>burglary</th>\n",
       "      <th>motor theft</th>\n",
       "      <th>arson</th>\n",
       "    </tr>\n",
       "  </thead>\n",
       "  <tbody>\n",
       "    <tr>\n",
       "      <th>0</th>\n",
       "      <td>-0.476136</td>\n",
       "      <td>-0.228950</td>\n",
       "      <td>-0.159972</td>\n",
       "      <td>-0.240923</td>\n",
       "      <td>-0.203747</td>\n",
       "      <td>-0.340561</td>\n",
       "      <td>-0.260439</td>\n",
       "      <td>-0.243230</td>\n",
       "      <td>-0.175499</td>\n",
       "    </tr>\n",
       "    <tr>\n",
       "      <th>1</th>\n",
       "      <td>-0.449762</td>\n",
       "      <td>-0.214011</td>\n",
       "      <td>-0.159972</td>\n",
       "      <td>-0.240923</td>\n",
       "      <td>-0.203747</td>\n",
       "      <td>-0.328095</td>\n",
       "      <td>-0.256307</td>\n",
       "      <td>-0.225749</td>\n",
       "      <td>-0.175499</td>\n",
       "    </tr>\n",
       "    <tr>\n",
       "      <th>2</th>\n",
       "      <td>-0.439853</td>\n",
       "      <td>-0.214011</td>\n",
       "      <td>-0.159972</td>\n",
       "      <td>-0.240923</td>\n",
       "      <td>-0.203747</td>\n",
       "      <td>-0.336406</td>\n",
       "      <td>-0.264570</td>\n",
       "      <td>-0.243230</td>\n",
       "      <td>-0.175499</td>\n",
       "    </tr>\n",
       "  </tbody>\n",
       "</table>\n",
       "</div>"
      ],
      "text/plain": [
       "   population  violent crime    murder    rape 2   robbery  property crime  \\\n",
       "0   -0.476136      -0.228950 -0.159972 -0.240923 -0.203747       -0.340561   \n",
       "1   -0.449762      -0.214011 -0.159972 -0.240923 -0.203747       -0.328095   \n",
       "2   -0.439853      -0.214011 -0.159972 -0.240923 -0.203747       -0.336406   \n",
       "\n",
       "   burglary  motor theft     arson  \n",
       "0 -0.260439    -0.243230 -0.175499  \n",
       "1 -0.256307    -0.225749 -0.175499  \n",
       "2 -0.264570    -0.243230 -0.175499  "
      ]
     },
     "execution_count": 269,
     "metadata": {},
     "output_type": "execute_result"
    }
   ],
   "source": [
    "df.head(3)"
   ]
  },
  {
   "cell_type": "code",
   "execution_count": 270,
   "metadata": {
    "collapsed": false
   },
   "outputs": [],
   "source": [
    "# Create our training and testing data\n",
    "trainsize = int(df.shape[0] / 2)\n",
    "df_train = df.iloc[:trainsize, :].copy()\n",
    "df_test = df.iloc[trainsize:, :].copy()\n",
    "\n",
    "# Create our Xs and Ys\n",
    "Y_train = df_train[\"murder\"].values.reshape(-1, 1)\n",
    "X_train = df_train.loc[:, ~(df_train.columns).isin([\"murder\"])]\n",
    "\n",
    "Y_test = df_test[\"murder\"].values.reshape(-1, 1)\n",
    "X_test = df_test.loc[:, ~(df_train.columns).isin([\"murder\"])]"
   ]
  },
  {
   "cell_type": "code",
   "execution_count": 271,
   "metadata": {
    "collapsed": false
   },
   "outputs": [
    {
     "name": "stdout",
     "output_type": "stream",
     "text": [
      "R-squared for vanilla regression: 0.90183857988\n",
      "\n",
      "Parameter estimates for vanilla regression:\n",
      "[ 0.01504113  1.03891075 -0.01248879  0.67632273  0.15080271 -0.67115786\n",
      " -0.41931764 -0.16462482 -0.02901671]\n",
      "R-squared for vanilla regression (test): 0.61102057113\n"
     ]
    }
   ],
   "source": [
    "# Vanilla regression\n",
    "vanilla = linear_model.LinearRegression()\n",
    "vanillafit = vanilla.fit(X_train, Y_train)\n",
    "\n",
    "# See the results for the training set\n",
    "print('R-squared for vanilla regression:', vanilla.score(X_train, Y_train))\n",
    "print('\\nParameter estimates for vanilla regression:')\n",
    "print(np.append(vanillafit.coef_, vanillafit.intercept_))\n",
    "\n",
    "# See the results for the test set\n",
    "print('R-squared for vanilla regression (test):', vanilla.score(X_test, Y_test))"
   ]
  },
  {
   "cell_type": "code",
   "execution_count": 279,
   "metadata": {
    "collapsed": false
   },
   "outputs": [
    {
     "name": "stdout",
     "output_type": "stream",
     "text": [
      "R-squared for ridge: 0.863540387845\n",
      "\n",
      "Parameter estimates for ridge:\n",
      "[ 0.03250287  0.47642479 -0.00425114  0.53025837 -0.16879493 -0.07123823\n",
      "  0.09042953 -0.13290019  0.        ]\n",
      "R-squared for ridge (test): 0.809895081155\n"
     ]
    }
   ],
   "source": [
    "# Ridge regression\n",
    "ridg = linear_model.Ridge(alpha=1, fit_intercept=False)\n",
    "ridgfit = ridg.fit(X_train, Y_train)\n",
    "\n",
    "# See the results for the training set\n",
    "print('R-squared for ridge:', ridg.score(X_train, Y_train))\n",
    "print('\\nParameter estimates for ridge:')\n",
    "print(np.append(ridgfit.coef_, ridgfit.intercept_))\n",
    "\n",
    "# See the results for the test set\n",
    "print('R-squared for ridge (test):', ridg.score(X_test, Y_test))"
   ]
  },
  {
   "cell_type": "code",
   "execution_count": 273,
   "metadata": {
    "collapsed": false
   },
   "outputs": [
    {
     "name": "stdout",
     "output_type": "stream",
     "text": [
      "R-squared for lasso: 0.81494091849\n",
      "\n",
      "Parameter estimates for lasso:\n",
      "[-0.          0.          0.          0.85282613 -0.05122187 -0.          0.\n",
      " -0.         -0.00891233]\n",
      "R-squared for lasso (test): 0.884305235611\n"
     ]
    }
   ],
   "source": [
    "# Lasso regression\n",
    "lass = linear_model.Lasso(alpha=0.01)\n",
    "lassfit = lass.fit(X_train, Y_train)\n",
    "\n",
    "# See the results for the training set\n",
    "print('R-squared for lasso:', lass.score(X_train, Y_train))\n",
    "print('\\nParameter estimates for lasso:')\n",
    "print(np.append(lassfit.coef_, lassfit.intercept_))\n",
    "\n",
    "# See the results for the test set\n",
    "print('R-squared for lasso (test):', lass.score(X_test, Y_test))"
   ]
  },
  {
   "cell_type": "code",
   "execution_count": 265,
   "metadata": {
    "collapsed": false
   },
   "outputs": [
    {
     "data": {
      "text/plain": [
       "<matplotlib.axes._subplots.AxesSubplot at 0x1121b7d30>"
      ]
     },
     "execution_count": 265,
     "metadata": {},
     "output_type": "execute_result"
    },
    {
     "data": {
      "image/png": "[encoded data removed]",
      "text/plain": [
       "<matplotlib.figure.Figure at 0x11552aac8>"
      ]
     },
     "metadata": {},
     "output_type": "display_data"
    }
   ],
   "source": [
    "sns.heatmap(df.corr())"
   ]
  },
  {
   "cell_type": "code",
   "execution_count": 275,
   "metadata": {
    "collapsed": false
   },
   "outputs": [
    {
     "data": {
      "image/png": "[encoded data removed]",
      "text/plain": [
       "<matplotlib.figure.Figure at 0x1173d31d0>"
      ]
     },
     "metadata": {},
     "output_type": "display_data"
    }
   ],
   "source": [
    "# Ridge plot\n",
    "\n",
    "results = pd.DataFrame(columns=[\"lasso\", \"ridge\", \"lambda\"])\n",
    "\n",
    "for lambd in np.arange(0.01,10,0.01):\n",
    "    lass = linear_model.Lasso(alpha=lambd)\n",
    "    lass.fit(X_train, Y_train)\n",
    "    lass_score = lass.score(X_train, Y_train)\n",
    "    \n",
    "    ridgeregr = linear_model.Ridge(alpha=lambd, fit_intercept=False)\n",
    "    ridgeregr.fit(X_train, Y_train)\n",
    "    ridgeregr_score = ridgeregr.score(X_train, Y_train)\n",
    "    \n",
    "    res = pd.DataFrame([[lass_score, ridgeregr_score, lambd]], columns=[\"lasso\", \"ridge\", \"lambda\"])\n",
    "\n",
    "    results = results.append(res)\n",
    "\n",
    "plt.plot(results['lambda'], results['lasso'])\n",
    "plt.plot(results['lambda'], results['ridge'])\n",
    "plt.xlabel('lambda')\n",
    "plt.ylabel('models')\n",
    "plt.legend([\"lasso\", \"ridge\"])\n",
    "plt.show()"
   ]
  },
  {
   "cell_type": "code",
   "execution_count": null,
   "metadata": {
    "collapsed": true
   },
   "outputs": [],
   "source": []
  }
 ],
 "metadata": {
  "kernelspec": {
   "display_name": "Python [conda root]",
   "language": "python",
   "name": "conda-root-py"
  },
  "language_info": {
   "codemirror_mode": {
    "name": "ipython",
    "version": 3
   },
   "file_extension": ".py",
   "mimetype": "text/x-python",
   "name": "python",
   "nbconvert_exporter": "python",
   "pygments_lexer": "ipython3",
   "version": "3.5.2"
  }
 },
 "nbformat": 4,
 "nbformat_minor": 2
}
