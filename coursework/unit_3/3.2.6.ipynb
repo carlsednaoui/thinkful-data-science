{
 "cells": [
  {
   "cell_type": "code",
   "execution_count": 17,
   "metadata": {
    "collapsed": false
   },
   "outputs": [
    {
     "name": "stdout",
     "output_type": "stream",
     "text": [
      "10.44%\n",
      "9.96%\n",
      "0.00010050251256281407\n",
      "0.98\n",
      "0.9\n"
     ]
    }
   ],
   "source": [
    "import numpy as np\n",
    "\n",
    "# Intuition\n",
    "# 1\n",
    "positive = (0.005 * 0.98) + ((1 - 0.005) * .1)\n",
    "print(\"{}%\".format(np.round(positive * 100, decimals=2)))\n",
    "# => 10.44%\n",
    "\n",
    "# 2: 98% (98% probability of giving a positive result when applied to a person suffering from Thripshaw's Disease)\n",
    "\n",
    "# 3 90% (10% probability of giving a (false) positive)\n",
    "\n",
    "# 4 \n",
    "misclassify = (0.02 * 0.005) + ((1 - 0.005) * .1)\n",
    "print(\"{}%\".format(misclassify * 100))\n",
    "# => 9.96%\n",
    "\n",
    "\n",
    "# Bayes rules: P(A | B) = P(B | A) * P(A) / P(B)\n",
    "# 1 \n",
    "# P(positive | negative) = P(negative | positive) * P(positive) / P(negative)\n",
    "one = 0.02 * 0.005 / 0.995\n",
    "print(one)\n",
    "# => 0.00010050251256281407\n",
    "## ^ This doesn't feel right. Not sure how to use the formula here.\n",
    "\n",
    "# 2 \n",
    "# P(correct | incorrect) = P(incorrect | correct) * P(correct) / P(incorrect)\n",
    "two = 0.02 * .98 / 0.02\n",
    "print(two)\n",
    "# => 0.98\n",
    "\n",
    "# 3 \n",
    "# P(correct | incorrect) = P(incorrect | correct) * P(correct) / P(incorrect)\n",
    "three = .10 * .90 / .10\n",
    "print(three)\n",
    "# => 0.9\n",
    "\n",
    "## Note on the two previous answers. Something must be wrong. My multiplication and division are canceling each other out.\n",
    "\n",
    "# 4 \n",
    "# P(misclassified | correctly classified) = P(correctly classified | misclassified) * P(misclassified) / P(correctly classified)\n",
    "four = 0.02 * \n",
    "print(four)\n",
    "# => \n"
   ]
  },
  {
   "cell_type": "code",
   "execution_count": null,
   "metadata": {
    "collapsed": true
   },
   "outputs": [],
   "source": []
  }
 ],
 "metadata": {
  "anaconda-cloud": {},
  "kernelspec": {
   "display_name": "Python [conda root]",
   "language": "python",
   "name": "conda-root-py"
  },
  "language_info": {
   "codemirror_mode": {
    "name": "ipython",
    "version": 3
   },
   "file_extension": ".py",
   "mimetype": "text/x-python",
   "name": "python",
   "nbconvert_exporter": "python",
   "pygments_lexer": "ipython3",
   "version": "3.5.2"
  }
 },
 "nbformat": 4,
 "nbformat_minor": 1
}
