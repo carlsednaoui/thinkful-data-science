{
 "cells": [
  {
   "cell_type": "markdown",
   "metadata": {},
   "source": [
    "1. Predict the running times of prospective Olympic sprinters using data from the last 20 Olympics.\n",
    "\n",
    "SVM or Random Forrest. This is a classification type problem, and these are typically the best.\n",
    "\n",
    "Features to look at: olympic_year, runner speed, country\n",
    "\n",
    "2. You have more features (columns) than rows in your dataset.\n",
    "\n",
    "Start with Lasso. Re-sample rows if needed.\n",
    "\n",
    "3. Identify the most important characteristic predicting likelihood of being jailed before age 20.\n",
    "\n",
    "This is a classification problem, I would use random forrest and look at the most important feature.\n",
    "\n",
    "4. Implement a filter to “highlight” emails that might be important to the recipient\n",
    "\n",
    "Split email content by words and get_dummies on it. Use KNN to find similar emails. Mark those as important.\n",
    "\n",
    "5. You have 1000+ features.\n",
    "\n",
    "Start with Lasso. Or use random forrest and take the top [n] features. Then re-run random forrest.\n",
    "\n",
    "6. Predict whether someone who adds items to their cart on a website will purchase the items.\n",
    "\n",
    "Start with regression first. See if it fits.\n",
    "Turn to random forrest, refine the model based on that.\n",
    "\n",
    "7. Your dataset dimensions are 982400 x 500\n",
    "\n",
    "Use a random subset to build and train the models. Cut down on the features. See answer to question #2.\n",
    "\n",
    "8. Identify faces in an image.\n",
    "\n",
    "No idea.\n",
    "\n",
    "9. Predict which of three flavors of ice cream will be most popular with boys vs girls.\n",
    "\n",
    "KNN."
   ]
  }
 ],
 "metadata": {
  "kernelspec": {
   "display_name": "Python [conda root]",
   "language": "python",
   "name": "conda-root-py"
  },
  "language_info": {
   "codemirror_mode": {
    "name": "ipython",
    "version": 3
   },
   "file_extension": ".py",
   "mimetype": "text/x-python",
   "name": "python",
   "nbconvert_exporter": "python",
   "pygments_lexer": "ipython3",
   "version": "3.5.2"
  }
 },
 "nbformat": 4,
 "nbformat_minor": 2
}
