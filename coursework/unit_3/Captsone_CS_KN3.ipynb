{
 "cells": [
  {
   "cell_type": "markdown",
   "metadata": {
    "collapsed": true
   },
   "source": [
    "# Predicting when a company will send it's next marketing email\n",
    "\n",
    "This project aims to predict when a company will send it's next marketing email. The data comes from [MailCharts](https://www.mailcharts.com/).\n",
    "\n",
    "Predicting when your competitors will send their next marketing blast allows you to get ahead of the game and send your email before they do.\n",
    "\n",
    "- Sample data: http://share.mailcharts.com/0b141Z3c1M40\n",
    "- All data: _coming soon_"
   ]
  },
  {
   "cell_type": "code",
   "execution_count": 15,
   "metadata": {
    "collapsed": false
   },
   "outputs": [],
   "source": [
    "# Import libraries and dependencies\n",
    "\n",
    "from datetime import date, datetime\n",
    "import pandas as pd\n",
    "import numpy as np\n",
    "import re\n",
    "import scipy\n",
    "import seaborn as sns\n",
    "import timeit\n",
    "\n",
    "import matplotlib.pyplot as plt\n",
    "%matplotlib inline\n",
    "\n",
    "from sklearn import ensemble\n",
    "from sklearn import datasets\n",
    "from sklearn.utils import shuffle\n",
    "from sklearn.metrics import mean_squared_error\n",
    "from sklearn.linear_model import LinearRegression\n",
    "from sklearn.ensemble import RandomForestRegressor, AdaBoostRegressor, GradientBoostingRegressor\n",
    "from sklearn.grid_search import GridSearchCV\n",
    "from xgboost import XGBRegressor, plot_tree \n",
    "from sklearn.model_selection import train_test_split \n"
   ]
  },
  {
   "cell_type": "code",
   "execution_count": 16,
   "metadata": {
    "collapsed": true
   },
   "outputs": [],
   "source": [
    "## SQL code to get lag:\n"
   ]
  },
  {
   "cell_type": "code",
   "execution_count": 17,
   "metadata": {
    "collapsed": false
   },
   "outputs": [
    {
     "data": {
      "text/plain": [
       "(4585, 6)"
      ]
     },
     "execution_count": 17,
     "metadata": {},
     "output_type": "execute_result"
    }
   ],
   "source": [
    "# Import the data \n",
    "df = pd.read_csv('./data/capstone-sample.csv')\n",
    "df.shape"
   ]
  },
  {
   "cell_type": "code",
   "execution_count": 18,
   "metadata": {
    "collapsed": true
   },
   "outputs": [],
   "source": [
    "# df: Take 100 companies"
   ]
  },
  {
   "cell_type": "code",
   "execution_count": 19,
   "metadata": {
    "collapsed": false
   },
   "outputs": [
    {
     "data": {
      "text/html": [
       "<div>\n",
       "<style>\n",
       "    .dataframe thead tr:only-child th {\n",
       "        text-align: right;\n",
       "    }\n",
       "\n",
       "    .dataframe thead th {\n",
       "        text-align: left;\n",
       "    }\n",
       "\n",
       "    .dataframe tbody tr th {\n",
       "        vertical-align: top;\n",
       "    }\n",
       "</style>\n",
       "<table border=\"1\" class=\"dataframe\">\n",
       "  <thead>\n",
       "    <tr style=\"text-align: right;\">\n",
       "      <th></th>\n",
       "      <th>id</th>\n",
       "      <th>company_name</th>\n",
       "      <th>company_id</th>\n",
       "      <th>subject</th>\n",
       "      <th>sent_at</th>\n",
       "      <th>industry_name</th>\n",
       "    </tr>\n",
       "  </thead>\n",
       "  <tbody>\n",
       "    <tr>\n",
       "      <th>0</th>\n",
       "      <td>582036</td>\n",
       "      <td>Ace &amp; Tate</td>\n",
       "      <td>3917</td>\n",
       "      <td>Naughty things to try in 2016...</td>\n",
       "      <td>2016-01-01 11:03:59</td>\n",
       "      <td>other</td>\n",
       "    </tr>\n",
       "    <tr>\n",
       "      <th>1</th>\n",
       "      <td>582151</td>\n",
       "      <td>Abercrombie &amp; Fitch</td>\n",
       "      <td>285</td>\n",
       "      <td>The year is yours.</td>\n",
       "      <td>2016-01-01 12:26:09</td>\n",
       "      <td>retail</td>\n",
       "    </tr>\n",
       "  </tbody>\n",
       "</table>\n",
       "</div>"
      ],
      "text/plain": [
       "       id         company_name  company_id                           subject  \\\n",
       "0  582036           Ace & Tate        3917  Naughty things to try in 2016...   \n",
       "1  582151  Abercrombie & Fitch         285                The year is yours.   \n",
       "\n",
       "               sent_at industry_name  \n",
       "0  2016-01-01 11:03:59         other  \n",
       "1  2016-01-01 12:26:09        retail  "
      ]
     },
     "execution_count": 19,
     "metadata": {},
     "output_type": "execute_result"
    }
   ],
   "source": [
    "df.head(2) "
   ]
  },
  {
   "cell_type": "code",
   "execution_count": 20,
   "metadata": {
    "collapsed": true
   },
   "outputs": [],
   "source": [
    "df= df.sort_values(by=['company_name' , 'sent_at'])"
   ]
  },
  {
   "cell_type": "code",
   "execution_count": 21,
   "metadata": {
    "collapsed": true
   },
   "outputs": [],
   "source": [
    "df['prev_company']= df.company_name.shift(1)"
   ]
  },
  {
   "cell_type": "code",
   "execution_count": 22,
   "metadata": {
    "collapsed": true
   },
   "outputs": [],
   "source": [
    "df['prev_email']= df.sent_at.shift(1)"
   ]
  },
  {
   "cell_type": "code",
   "execution_count": 23,
   "metadata": {
    "collapsed": true
   },
   "outputs": [],
   "source": [
    "prev_email=[]\n",
    "for i, row in df.iterrows():\n",
    "    if row[6]== row[1]:\n",
    "        prev_email.append(row[7])\n",
    "    else: \n",
    "        prev_email.append(None)"
   ]
  },
  {
   "cell_type": "code",
   "execution_count": 24,
   "metadata": {
    "collapsed": false
   },
   "outputs": [],
   "source": [
    "df['prev_email_sent_at']=prev_email\n",
    "df.drop(['prev_email'], axis=1, inplace=True)"
   ]
  },
  {
   "cell_type": "code",
   "execution_count": 25,
   "metadata": {
    "collapsed": false
   },
   "outputs": [
    {
     "data": {
      "text/html": [
       "<div>\n",
       "<style>\n",
       "    .dataframe thead tr:only-child th {\n",
       "        text-align: right;\n",
       "    }\n",
       "\n",
       "    .dataframe thead th {\n",
       "        text-align: left;\n",
       "    }\n",
       "\n",
       "    .dataframe tbody tr th {\n",
       "        vertical-align: top;\n",
       "    }\n",
       "</style>\n",
       "<table border=\"1\" class=\"dataframe\">\n",
       "  <thead>\n",
       "    <tr style=\"text-align: right;\">\n",
       "      <th></th>\n",
       "      <th>id</th>\n",
       "      <th>company_name</th>\n",
       "      <th>company_id</th>\n",
       "      <th>subject</th>\n",
       "      <th>sent_at</th>\n",
       "      <th>industry_name</th>\n",
       "      <th>prev_company</th>\n",
       "      <th>prev_email_sent_at</th>\n",
       "    </tr>\n",
       "  </thead>\n",
       "  <tbody>\n",
       "    <tr>\n",
       "      <th>5</th>\n",
       "      <td>582980</td>\n",
       "      <td>Allurez</td>\n",
       "      <td>3632</td>\n",
       "      <td>Happy New Year</td>\n",
       "      <td>2016-01-01 21:39:25</td>\n",
       "      <td>NaN</td>\n",
       "      <td>AllModern</td>\n",
       "      <td>None</td>\n",
       "    </tr>\n",
       "    <tr>\n",
       "      <th>27</th>\n",
       "      <td>587129</td>\n",
       "      <td>Allurez</td>\n",
       "      <td>3632</td>\n",
       "      <td>Garnet jewelry sale - The birthstone of January</td>\n",
       "      <td>2016-01-05 16:56:02</td>\n",
       "      <td>NaN</td>\n",
       "      <td>Allurez</td>\n",
       "      <td>2016-01-01 21:39:25</td>\n",
       "    </tr>\n",
       "    <tr>\n",
       "      <th>64</th>\n",
       "      <td>595382</td>\n",
       "      <td>Allurez</td>\n",
       "      <td>3632</td>\n",
       "      <td>New Year Exclusive - just for you</td>\n",
       "      <td>2016-01-11 16:38:11</td>\n",
       "      <td>NaN</td>\n",
       "      <td>Allurez</td>\n",
       "      <td>2016-01-05 16:56:02</td>\n",
       "    </tr>\n",
       "    <tr>\n",
       "      <th>86</th>\n",
       "      <td>600345</td>\n",
       "      <td>Allurez</td>\n",
       "      <td>3632</td>\n",
       "      <td>Ring in the new year</td>\n",
       "      <td>2016-01-14 16:42:01</td>\n",
       "      <td>NaN</td>\n",
       "      <td>Allurez</td>\n",
       "      <td>2016-01-11 16:38:11</td>\n",
       "    </tr>\n",
       "    <tr>\n",
       "      <th>113</th>\n",
       "      <td>605620</td>\n",
       "      <td>Allurez</td>\n",
       "      <td>3632</td>\n",
       "      <td>Must see diamond eternity bands</td>\n",
       "      <td>2016-01-18 18:02:12</td>\n",
       "      <td>NaN</td>\n",
       "      <td>Allurez</td>\n",
       "      <td>2016-01-14 16:42:01</td>\n",
       "    </tr>\n",
       "    <tr>\n",
       "      <th>126</th>\n",
       "      <td>608508</td>\n",
       "      <td>Allurez</td>\n",
       "      <td>3632</td>\n",
       "      <td>Pearl Perfection!</td>\n",
       "      <td>2016-01-20 15:42:39</td>\n",
       "      <td>NaN</td>\n",
       "      <td>Allurez</td>\n",
       "      <td>2016-01-18 18:02:12</td>\n",
       "    </tr>\n",
       "    <tr>\n",
       "      <th>132</th>\n",
       "      <td>609952</td>\n",
       "      <td>Allurez</td>\n",
       "      <td>3632</td>\n",
       "      <td>Shop early for your valentine and save $300!</td>\n",
       "      <td>2016-01-21 14:57:49</td>\n",
       "      <td>NaN</td>\n",
       "      <td>Allurez</td>\n",
       "      <td>2016-01-20 15:42:39</td>\n",
       "    </tr>\n",
       "    <tr>\n",
       "      <th>159</th>\n",
       "      <td>614215</td>\n",
       "      <td>Allurez</td>\n",
       "      <td>3632</td>\n",
       "      <td>Need gift ideas? This is for you!</td>\n",
       "      <td>2016-01-24 16:53:23</td>\n",
       "      <td>NaN</td>\n",
       "      <td>Allurez</td>\n",
       "      <td>2016-01-21 14:57:49</td>\n",
       "    </tr>\n",
       "    <tr>\n",
       "      <th>169</th>\n",
       "      <td>616035</td>\n",
       "      <td>Allurez</td>\n",
       "      <td>3632</td>\n",
       "      <td>Get the perfect gift with our Valentine's Day ...</td>\n",
       "      <td>2016-01-25 21:32:15</td>\n",
       "      <td>NaN</td>\n",
       "      <td>Allurez</td>\n",
       "      <td>2016-01-24 16:53:23</td>\n",
       "    </tr>\n",
       "    <tr>\n",
       "      <th>183</th>\n",
       "      <td>618923</td>\n",
       "      <td>Allurez</td>\n",
       "      <td>3632</td>\n",
       "      <td>You asked for it! Checkout our most popular et...</td>\n",
       "      <td>2016-01-27 17:36:03</td>\n",
       "      <td>NaN</td>\n",
       "      <td>Allurez</td>\n",
       "      <td>2016-01-25 21:32:15</td>\n",
       "    </tr>\n",
       "    <tr>\n",
       "      <th>202</th>\n",
       "      <td>622578</td>\n",
       "      <td>Allurez</td>\n",
       "      <td>3632</td>\n",
       "      <td>This Valentine's Day make sure she says YES!</td>\n",
       "      <td>2016-01-29 18:38:09</td>\n",
       "      <td>NaN</td>\n",
       "      <td>Allurez</td>\n",
       "      <td>2016-01-27 17:36:03</td>\n",
       "    </tr>\n",
       "    <tr>\n",
       "      <th>231</th>\n",
       "      <td>627603</td>\n",
       "      <td>Allurez</td>\n",
       "      <td>3632</td>\n",
       "      <td>Shop our Valentine's Day Sale!</td>\n",
       "      <td>2016-02-02 16:24:28</td>\n",
       "      <td>NaN</td>\n",
       "      <td>Allurez</td>\n",
       "      <td>2016-01-29 18:38:09</td>\n",
       "    </tr>\n",
       "    <tr>\n",
       "      <th>237</th>\n",
       "      <td>629001</td>\n",
       "      <td>Allurez</td>\n",
       "      <td>3632</td>\n",
       "      <td>Fall in love with Amethysts</td>\n",
       "      <td>2016-02-03 14:54:36</td>\n",
       "      <td>NaN</td>\n",
       "      <td>Allurez</td>\n",
       "      <td>2016-02-02 16:24:28</td>\n",
       "    </tr>\n",
       "    <tr>\n",
       "      <th>251</th>\n",
       "      <td>631618</td>\n",
       "      <td>Allurez</td>\n",
       "      <td>3632</td>\n",
       "      <td>Get the perfect Valentine's Day gift for your ...</td>\n",
       "      <td>2016-02-04 22:00:18</td>\n",
       "      <td>NaN</td>\n",
       "      <td>Allurez</td>\n",
       "      <td>2016-02-03 14:54:36</td>\n",
       "    </tr>\n",
       "    <tr>\n",
       "      <th>268</th>\n",
       "      <td>634216</td>\n",
       "      <td>Allurez</td>\n",
       "      <td>3632</td>\n",
       "      <td>Hurry! Our Valentine's Day Sale ends soon</td>\n",
       "      <td>2016-02-06 19:39:30</td>\n",
       "      <td>NaN</td>\n",
       "      <td>Allurez</td>\n",
       "      <td>2016-02-04 22:00:18</td>\n",
       "    </tr>\n",
       "    <tr>\n",
       "      <th>282</th>\n",
       "      <td>636451</td>\n",
       "      <td>Allurez</td>\n",
       "      <td>3632</td>\n",
       "      <td>Win up to $1,000 with our Valentine's Day Swee...</td>\n",
       "      <td>2016-02-08 17:19:54</td>\n",
       "      <td>NaN</td>\n",
       "      <td>Allurez</td>\n",
       "      <td>2016-02-06 19:39:30</td>\n",
       "    </tr>\n",
       "    <tr>\n",
       "      <th>298</th>\n",
       "      <td>639753</td>\n",
       "      <td>Allurez</td>\n",
       "      <td>3632</td>\n",
       "      <td>Extended - Get $1,000 with our Valentine's Day...</td>\n",
       "      <td>2016-02-10 16:34:32</td>\n",
       "      <td>NaN</td>\n",
       "      <td>Allurez</td>\n",
       "      <td>2016-02-08 17:19:54</td>\n",
       "    </tr>\n",
       "    <tr>\n",
       "      <th>307</th>\n",
       "      <td>641630</td>\n",
       "      <td>Allurez</td>\n",
       "      <td>3632</td>\n",
       "      <td>Fall in Love with our diamond hoop earrings</td>\n",
       "      <td>2016-02-11 16:35:12</td>\n",
       "      <td>NaN</td>\n",
       "      <td>Allurez</td>\n",
       "      <td>2016-02-10 16:34:32</td>\n",
       "    </tr>\n",
       "    <tr>\n",
       "      <th>355</th>\n",
       "      <td>652737</td>\n",
       "      <td>Allurez</td>\n",
       "      <td>3632</td>\n",
       "      <td>shop for personalized monograms jewelry!</td>\n",
       "      <td>2016-02-18 21:38:46</td>\n",
       "      <td>NaN</td>\n",
       "      <td>Allurez</td>\n",
       "      <td>2016-02-11 16:35:12</td>\n",
       "    </tr>\n",
       "    <tr>\n",
       "      <th>385</th>\n",
       "      <td>659446</td>\n",
       "      <td>Allurez</td>\n",
       "      <td>3632</td>\n",
       "      <td>Like vintage jewerly? This is for you!</td>\n",
       "      <td>2016-02-23 19:21:36</td>\n",
       "      <td>NaN</td>\n",
       "      <td>Allurez</td>\n",
       "      <td>2016-02-18 21:38:46</td>\n",
       "    </tr>\n",
       "    <tr>\n",
       "      <th>414</th>\n",
       "      <td>666685</td>\n",
       "      <td>Allurez</td>\n",
       "      <td>3632</td>\n",
       "      <td>Love Animals? Then you must open this email.</td>\n",
       "      <td>2016-02-28 19:03:43</td>\n",
       "      <td>NaN</td>\n",
       "      <td>Allurez</td>\n",
       "      <td>2016-02-23 19:21:36</td>\n",
       "    </tr>\n",
       "    <tr>\n",
       "      <th>432</th>\n",
       "      <td>672042</td>\n",
       "      <td>Allurez</td>\n",
       "      <td>3632</td>\n",
       "      <td>Introducing our Diamond Reset program!</td>\n",
       "      <td>2016-03-02 22:28:41</td>\n",
       "      <td>NaN</td>\n",
       "      <td>Allurez</td>\n",
       "      <td>2016-02-28 19:03:43</td>\n",
       "    </tr>\n",
       "    <tr>\n",
       "      <th>474</th>\n",
       "      <td>680724</td>\n",
       "      <td>Allurez</td>\n",
       "      <td>3632</td>\n",
       "      <td>Fall in love with Aquamarines - the birthstone...</td>\n",
       "      <td>2016-03-08 23:16:57</td>\n",
       "      <td>NaN</td>\n",
       "      <td>Allurez</td>\n",
       "      <td>2016-03-02 22:28:41</td>\n",
       "    </tr>\n",
       "    <tr>\n",
       "      <th>486</th>\n",
       "      <td>684027</td>\n",
       "      <td>Allurez</td>\n",
       "      <td>3632</td>\n",
       "      <td>Hurry! Our Friends &amp; Family Sale ends soon!</td>\n",
       "      <td>2016-03-10 21:58:44</td>\n",
       "      <td>NaN</td>\n",
       "      <td>Allurez</td>\n",
       "      <td>2016-03-08 23:16:57</td>\n",
       "    </tr>\n",
       "    <tr>\n",
       "      <th>528</th>\n",
       "      <td>693014</td>\n",
       "      <td>Allurez</td>\n",
       "      <td>3632</td>\n",
       "      <td>test for allurez</td>\n",
       "      <td>2016-03-16 21:21:51</td>\n",
       "      <td>NaN</td>\n",
       "      <td>Allurez</td>\n",
       "      <td>2016-03-10 21:58:44</td>\n",
       "    </tr>\n",
       "    <tr>\n",
       "      <th>529</th>\n",
       "      <td>693020</td>\n",
       "      <td>Allurez</td>\n",
       "      <td>3632</td>\n",
       "      <td>Find out why our customers love us</td>\n",
       "      <td>2016-03-16 21:25:25</td>\n",
       "      <td>NaN</td>\n",
       "      <td>Allurez</td>\n",
       "      <td>2016-03-16 21:21:51</td>\n",
       "    </tr>\n",
       "    <tr>\n",
       "      <th>580</th>\n",
       "      <td>701766</td>\n",
       "      <td>Allurez</td>\n",
       "      <td>3632</td>\n",
       "      <td>Propose with a cutom made diamond ring!</td>\n",
       "      <td>2016-03-22 17:48:34</td>\n",
       "      <td>NaN</td>\n",
       "      <td>Allurez</td>\n",
       "      <td>2016-03-16 21:25:25</td>\n",
       "    </tr>\n",
       "    <tr>\n",
       "      <th>628</th>\n",
       "      <td>712569</td>\n",
       "      <td>Allurez</td>\n",
       "      <td>3632</td>\n",
       "      <td>Introducing Diamond Halo Earrings</td>\n",
       "      <td>2016-03-29 21:02:46</td>\n",
       "      <td>NaN</td>\n",
       "      <td>Allurez</td>\n",
       "      <td>2016-03-22 17:48:34</td>\n",
       "    </tr>\n",
       "    <tr>\n",
       "      <th>643</th>\n",
       "      <td>715517</td>\n",
       "      <td>Allurez</td>\n",
       "      <td>3632</td>\n",
       "      <td>Exclusively for you! Save up to $400. Ends Soon</td>\n",
       "      <td>2016-03-31 16:36:38</td>\n",
       "      <td>NaN</td>\n",
       "      <td>Allurez</td>\n",
       "      <td>2016-03-29 21:02:46</td>\n",
       "    </tr>\n",
       "    <tr>\n",
       "      <th>660</th>\n",
       "      <td>718632</td>\n",
       "      <td>Allurez</td>\n",
       "      <td>3632</td>\n",
       "      <td>Fall in love with our new engagement rings!</td>\n",
       "      <td>2016-04-02 16:00:49</td>\n",
       "      <td>NaN</td>\n",
       "      <td>Allurez</td>\n",
       "      <td>2016-03-31 16:36:38</td>\n",
       "    </tr>\n",
       "    <tr>\n",
       "      <th>...</th>\n",
       "      <td>...</td>\n",
       "      <td>...</td>\n",
       "      <td>...</td>\n",
       "      <td>...</td>\n",
       "      <td>...</td>\n",
       "      <td>...</td>\n",
       "      <td>...</td>\n",
       "      <td>...</td>\n",
       "    </tr>\n",
       "    <tr>\n",
       "      <th>3864</th>\n",
       "      <td>1942106</td>\n",
       "      <td>Allurez</td>\n",
       "      <td>3632</td>\n",
       "      <td>Exclusively for you. Our Friends &amp; Family Sale...</td>\n",
       "      <td>2017-07-17 15:59:25</td>\n",
       "      <td>NaN</td>\n",
       "      <td>Allurez</td>\n",
       "      <td>2017-07-10 14:43:14</td>\n",
       "    </tr>\n",
       "    <tr>\n",
       "      <th>3908</th>\n",
       "      <td>1977247</td>\n",
       "      <td>Allurez</td>\n",
       "      <td>3632</td>\n",
       "      <td>Vintage style jewelry with a modern twist!</td>\n",
       "      <td>2017-07-24 15:06:54</td>\n",
       "      <td>NaN</td>\n",
       "      <td>Allurez</td>\n",
       "      <td>2017-07-17 15:59:25</td>\n",
       "    </tr>\n",
       "    <tr>\n",
       "      <th>3923</th>\n",
       "      <td>1989092</td>\n",
       "      <td>Allurez</td>\n",
       "      <td>3632</td>\n",
       "      <td>By Popular Demand: See our staff's favorite en...</td>\n",
       "      <td>2017-07-26 16:09:41</td>\n",
       "      <td>NaN</td>\n",
       "      <td>Allurez</td>\n",
       "      <td>2017-07-24 15:06:54</td>\n",
       "    </tr>\n",
       "    <tr>\n",
       "      <th>3949</th>\n",
       "      <td>2013130</td>\n",
       "      <td>Allurez</td>\n",
       "      <td>3632</td>\n",
       "      <td>Checkout our stunning gemstone rings!</td>\n",
       "      <td>2017-07-31 14:56:00</td>\n",
       "      <td>NaN</td>\n",
       "      <td>Allurez</td>\n",
       "      <td>2017-07-26 16:09:41</td>\n",
       "    </tr>\n",
       "    <tr>\n",
       "      <th>3964</th>\n",
       "      <td>2023849</td>\n",
       "      <td>Allurez</td>\n",
       "      <td>3632</td>\n",
       "      <td>Peridot Perfection - The birthstone of August</td>\n",
       "      <td>2017-08-02 14:08:57</td>\n",
       "      <td>NaN</td>\n",
       "      <td>Allurez</td>\n",
       "      <td>2017-07-31 14:56:00</td>\n",
       "    </tr>\n",
       "    <tr>\n",
       "      <th>4009</th>\n",
       "      <td>2050554</td>\n",
       "      <td>Allurez</td>\n",
       "      <td>3632</td>\n",
       "      <td>you'll Love these new arrivals</td>\n",
       "      <td>2017-08-07 20:18:54</td>\n",
       "      <td>NaN</td>\n",
       "      <td>Allurez</td>\n",
       "      <td>2017-08-02 14:08:57</td>\n",
       "    </tr>\n",
       "    <tr>\n",
       "      <th>4037</th>\n",
       "      <td>2071284</td>\n",
       "      <td>Allurez</td>\n",
       "      <td>3632</td>\n",
       "      <td>Trend Alert - Pretty in pink gemstones</td>\n",
       "      <td>2017-08-11 13:31:23</td>\n",
       "      <td>NaN</td>\n",
       "      <td>Allurez</td>\n",
       "      <td>2017-08-07 20:18:54</td>\n",
       "    </tr>\n",
       "    <tr>\n",
       "      <th>4056</th>\n",
       "      <td>2085417</td>\n",
       "      <td>Allurez</td>\n",
       "      <td>3632</td>\n",
       "      <td>Exclusively for you. Get up to $400 Off!</td>\n",
       "      <td>2017-08-14 15:41:57</td>\n",
       "      <td>NaN</td>\n",
       "      <td>Allurez</td>\n",
       "      <td>2017-08-11 13:31:23</td>\n",
       "    </tr>\n",
       "    <tr>\n",
       "      <th>4106</th>\n",
       "      <td>2123706</td>\n",
       "      <td>Allurez</td>\n",
       "      <td>3632</td>\n",
       "      <td>Celebrate the Solar Eclipse w/ The Allurez Moo...</td>\n",
       "      <td>2017-08-21 17:52:27</td>\n",
       "      <td>NaN</td>\n",
       "      <td>Allurez</td>\n",
       "      <td>2017-08-14 15:41:57</td>\n",
       "    </tr>\n",
       "    <tr>\n",
       "      <th>4162</th>\n",
       "      <td>2168145</td>\n",
       "      <td>Allurez</td>\n",
       "      <td>3632</td>\n",
       "      <td>Need ideas on what to buy? Checkout our Best S...</td>\n",
       "      <td>2017-08-29 14:26:10</td>\n",
       "      <td>NaN</td>\n",
       "      <td>Allurez</td>\n",
       "      <td>2017-08-21 17:52:27</td>\n",
       "    </tr>\n",
       "    <tr>\n",
       "      <th>4183</th>\n",
       "      <td>2181408</td>\n",
       "      <td>Allurez</td>\n",
       "      <td>3632</td>\n",
       "      <td>Help Hurricane Harvey victims by shopping at A...</td>\n",
       "      <td>2017-08-31 14:45:24</td>\n",
       "      <td>NaN</td>\n",
       "      <td>Allurez</td>\n",
       "      <td>2017-08-29 14:26:10</td>\n",
       "    </tr>\n",
       "    <tr>\n",
       "      <th>4191</th>\n",
       "      <td>2190503</td>\n",
       "      <td>Allurez</td>\n",
       "      <td>3632</td>\n",
       "      <td>Our Labor Day Sale Starts Now! Shop and Save</td>\n",
       "      <td>2017-09-01 17:45:52</td>\n",
       "      <td>NaN</td>\n",
       "      <td>Allurez</td>\n",
       "      <td>2017-08-31 14:45:24</td>\n",
       "    </tr>\n",
       "    <tr>\n",
       "      <th>4210</th>\n",
       "      <td>2204513</td>\n",
       "      <td>Allurez</td>\n",
       "      <td>3632</td>\n",
       "      <td>Enjoy Labor Day with the Allurez Labor Day Sale!</td>\n",
       "      <td>2017-09-04 15:33:26</td>\n",
       "      <td>NaN</td>\n",
       "      <td>Allurez</td>\n",
       "      <td>2017-09-01 17:45:52</td>\n",
       "    </tr>\n",
       "    <tr>\n",
       "      <th>4219</th>\n",
       "      <td>2212562</td>\n",
       "      <td>Allurez</td>\n",
       "      <td>3632</td>\n",
       "      <td>Do you know which blue stone is the birthstone...</td>\n",
       "      <td>2017-09-05 22:22:25</td>\n",
       "      <td>NaN</td>\n",
       "      <td>Allurez</td>\n",
       "      <td>2017-09-04 15:33:26</td>\n",
       "    </tr>\n",
       "    <tr>\n",
       "      <th>4244</th>\n",
       "      <td>2230558</td>\n",
       "      <td>Allurez</td>\n",
       "      <td>3632</td>\n",
       "      <td>Introducing the Allurez Adjustable Bracelet Co...</td>\n",
       "      <td>2017-09-08 16:16:55</td>\n",
       "      <td>NaN</td>\n",
       "      <td>Allurez</td>\n",
       "      <td>2017-09-05 22:22:25</td>\n",
       "    </tr>\n",
       "    <tr>\n",
       "      <th>4278</th>\n",
       "      <td>2258678</td>\n",
       "      <td>Allurez</td>\n",
       "      <td>3632</td>\n",
       "      <td>Make them speechless with the world's trendies...</td>\n",
       "      <td>2017-09-13 15:33:52</td>\n",
       "      <td>NaN</td>\n",
       "      <td>Allurez</td>\n",
       "      <td>2017-09-08 16:16:55</td>\n",
       "    </tr>\n",
       "    <tr>\n",
       "      <th>4280</th>\n",
       "      <td>2261522</td>\n",
       "      <td>Allurez</td>\n",
       "      <td>3632</td>\n",
       "      <td>Allurez Jewelers Account Confirmation</td>\n",
       "      <td>2017-09-13 23:39:07</td>\n",
       "      <td>NaN</td>\n",
       "      <td>Allurez</td>\n",
       "      <td>2017-09-13 15:33:52</td>\n",
       "    </tr>\n",
       "    <tr>\n",
       "      <th>4281</th>\n",
       "      <td>2261523</td>\n",
       "      <td>Allurez</td>\n",
       "      <td>3632</td>\n",
       "      <td>Welcome to the Allurez Loyalty Program</td>\n",
       "      <td>2017-09-13 23:39:10</td>\n",
       "      <td>NaN</td>\n",
       "      <td>Allurez</td>\n",
       "      <td>2017-09-13 23:39:07</td>\n",
       "    </tr>\n",
       "    <tr>\n",
       "      <th>4282</th>\n",
       "      <td>2261525</td>\n",
       "      <td>Allurez</td>\n",
       "      <td>3632</td>\n",
       "      <td>You have been subscribed successfully at allur...</td>\n",
       "      <td>2017-09-13 23:39:30</td>\n",
       "      <td>NaN</td>\n",
       "      <td>Allurez</td>\n",
       "      <td>2017-09-13 23:39:10</td>\n",
       "    </tr>\n",
       "    <tr>\n",
       "      <th>4300</th>\n",
       "      <td>2274165</td>\n",
       "      <td>Allurez</td>\n",
       "      <td>3632</td>\n",
       "      <td>Protection with Style with Hand Of God Jewelry</td>\n",
       "      <td>2017-09-15 16:41:43</td>\n",
       "      <td>NaN</td>\n",
       "      <td>Allurez</td>\n",
       "      <td>2017-09-13 23:39:30</td>\n",
       "    </tr>\n",
       "    <tr>\n",
       "      <th>4315</th>\n",
       "      <td>2285159</td>\n",
       "      <td>Allurez</td>\n",
       "      <td>3632</td>\n",
       "      <td>Refresh your look with Allurez necklaces</td>\n",
       "      <td>2017-09-17 22:17:47</td>\n",
       "      <td>NaN</td>\n",
       "      <td>Allurez</td>\n",
       "      <td>2017-09-15 16:41:43</td>\n",
       "    </tr>\n",
       "    <tr>\n",
       "      <th>4327</th>\n",
       "      <td>2297536</td>\n",
       "      <td>Allurez</td>\n",
       "      <td>3632</td>\n",
       "      <td>will you accept this flower?</td>\n",
       "      <td>2017-09-19 17:35:51</td>\n",
       "      <td>NaN</td>\n",
       "      <td>Allurez</td>\n",
       "      <td>2017-09-17 22:17:47</td>\n",
       "    </tr>\n",
       "    <tr>\n",
       "      <th>4330</th>\n",
       "      <td>2300226</td>\n",
       "      <td>Allurez</td>\n",
       "      <td>3632</td>\n",
       "      <td>Hi , follow us on social media.</td>\n",
       "      <td>2017-09-20 06:25:01</td>\n",
       "      <td>NaN</td>\n",
       "      <td>Allurez</td>\n",
       "      <td>2017-09-19 17:35:51</td>\n",
       "    </tr>\n",
       "    <tr>\n",
       "      <th>4362</th>\n",
       "      <td>2329875</td>\n",
       "      <td>Allurez</td>\n",
       "      <td>3632</td>\n",
       "      <td>Swoon over these best selling sapphires</td>\n",
       "      <td>2017-09-24 15:56:23</td>\n",
       "      <td>NaN</td>\n",
       "      <td>Allurez</td>\n",
       "      <td>2017-09-20 06:25:01</td>\n",
       "    </tr>\n",
       "    <tr>\n",
       "      <th>4370</th>\n",
       "      <td>2336458</td>\n",
       "      <td>Allurez</td>\n",
       "      <td>3632</td>\n",
       "      <td>One Band ...</td>\n",
       "      <td>2017-09-25 17:42:42</td>\n",
       "      <td>NaN</td>\n",
       "      <td>Allurez</td>\n",
       "      <td>2017-09-24 15:56:23</td>\n",
       "    </tr>\n",
       "    <tr>\n",
       "      <th>4381</th>\n",
       "      <td>2346669</td>\n",
       "      <td>Allurez</td>\n",
       "      <td>3632</td>\n",
       "      <td>Hi , refer a friend to Allurez and get $200!</td>\n",
       "      <td>2017-09-27 06:40:00</td>\n",
       "      <td>NaN</td>\n",
       "      <td>Allurez</td>\n",
       "      <td>2017-09-25 17:42:42</td>\n",
       "    </tr>\n",
       "    <tr>\n",
       "      <th>4423</th>\n",
       "      <td>2380131</td>\n",
       "      <td>Allurez</td>\n",
       "      <td>3632</td>\n",
       "      <td>Give her butterflies with the Allurez Butterfl...</td>\n",
       "      <td>2017-10-01 21:57:37</td>\n",
       "      <td>NaN</td>\n",
       "      <td>Allurez</td>\n",
       "      <td>2017-09-27 06:40:00</td>\n",
       "    </tr>\n",
       "    <tr>\n",
       "      <th>4442</th>\n",
       "      <td>2395386</td>\n",
       "      <td>Allurez</td>\n",
       "      <td>3632</td>\n",
       "      <td>can you guess October's birthstone?</td>\n",
       "      <td>2017-10-04 00:02:41</td>\n",
       "      <td>NaN</td>\n",
       "      <td>Allurez</td>\n",
       "      <td>2017-10-01 21:57:37</td>\n",
       "    </tr>\n",
       "    <tr>\n",
       "      <th>4485</th>\n",
       "      <td>2437462</td>\n",
       "      <td>Allurez</td>\n",
       "      <td>3632</td>\n",
       "      <td>Starts Now: The Allurez Columbus Day Sale</td>\n",
       "      <td>2017-10-10 00:02:57</td>\n",
       "      <td>NaN</td>\n",
       "      <td>Allurez</td>\n",
       "      <td>2017-10-04 00:02:41</td>\n",
       "    </tr>\n",
       "    <tr>\n",
       "      <th>4534</th>\n",
       "      <td>2487854</td>\n",
       "      <td>Allurez</td>\n",
       "      <td>3632</td>\n",
       "      <td>We now accept Bitcoins!</td>\n",
       "      <td>2017-10-16 22:45:01</td>\n",
       "      <td>NaN</td>\n",
       "      <td>Allurez</td>\n",
       "      <td>2017-10-10 00:02:57</td>\n",
       "    </tr>\n",
       "  </tbody>\n",
       "</table>\n",
       "<p>209 rows × 8 columns</p>\n",
       "</div>"
      ],
      "text/plain": [
       "           id company_name  company_id  \\\n",
       "5      582980      Allurez        3632   \n",
       "27     587129      Allurez        3632   \n",
       "64     595382      Allurez        3632   \n",
       "86     600345      Allurez        3632   \n",
       "113    605620      Allurez        3632   \n",
       "126    608508      Allurez        3632   \n",
       "132    609952      Allurez        3632   \n",
       "159    614215      Allurez        3632   \n",
       "169    616035      Allurez        3632   \n",
       "183    618923      Allurez        3632   \n",
       "202    622578      Allurez        3632   \n",
       "231    627603      Allurez        3632   \n",
       "237    629001      Allurez        3632   \n",
       "251    631618      Allurez        3632   \n",
       "268    634216      Allurez        3632   \n",
       "282    636451      Allurez        3632   \n",
       "298    639753      Allurez        3632   \n",
       "307    641630      Allurez        3632   \n",
       "355    652737      Allurez        3632   \n",
       "385    659446      Allurez        3632   \n",
       "414    666685      Allurez        3632   \n",
       "432    672042      Allurez        3632   \n",
       "474    680724      Allurez        3632   \n",
       "486    684027      Allurez        3632   \n",
       "528    693014      Allurez        3632   \n",
       "529    693020      Allurez        3632   \n",
       "580    701766      Allurez        3632   \n",
       "628    712569      Allurez        3632   \n",
       "643    715517      Allurez        3632   \n",
       "660    718632      Allurez        3632   \n",
       "...       ...          ...         ...   \n",
       "3864  1942106      Allurez        3632   \n",
       "3908  1977247      Allurez        3632   \n",
       "3923  1989092      Allurez        3632   \n",
       "3949  2013130      Allurez        3632   \n",
       "3964  2023849      Allurez        3632   \n",
       "4009  2050554      Allurez        3632   \n",
       "4037  2071284      Allurez        3632   \n",
       "4056  2085417      Allurez        3632   \n",
       "4106  2123706      Allurez        3632   \n",
       "4162  2168145      Allurez        3632   \n",
       "4183  2181408      Allurez        3632   \n",
       "4191  2190503      Allurez        3632   \n",
       "4210  2204513      Allurez        3632   \n",
       "4219  2212562      Allurez        3632   \n",
       "4244  2230558      Allurez        3632   \n",
       "4278  2258678      Allurez        3632   \n",
       "4280  2261522      Allurez        3632   \n",
       "4281  2261523      Allurez        3632   \n",
       "4282  2261525      Allurez        3632   \n",
       "4300  2274165      Allurez        3632   \n",
       "4315  2285159      Allurez        3632   \n",
       "4327  2297536      Allurez        3632   \n",
       "4330  2300226      Allurez        3632   \n",
       "4362  2329875      Allurez        3632   \n",
       "4370  2336458      Allurez        3632   \n",
       "4381  2346669      Allurez        3632   \n",
       "4423  2380131      Allurez        3632   \n",
       "4442  2395386      Allurez        3632   \n",
       "4485  2437462      Allurez        3632   \n",
       "4534  2487854      Allurez        3632   \n",
       "\n",
       "                                                subject              sent_at  \\\n",
       "5                                        Happy New Year  2016-01-01 21:39:25   \n",
       "27      Garnet jewelry sale - The birthstone of January  2016-01-05 16:56:02   \n",
       "64                    New Year Exclusive - just for you  2016-01-11 16:38:11   \n",
       "86                                 Ring in the new year  2016-01-14 16:42:01   \n",
       "113                     Must see diamond eternity bands  2016-01-18 18:02:12   \n",
       "126                                   Pearl Perfection!  2016-01-20 15:42:39   \n",
       "132        Shop early for your valentine and save $300!  2016-01-21 14:57:49   \n",
       "159                   Need gift ideas? This is for you!  2016-01-24 16:53:23   \n",
       "169   Get the perfect gift with our Valentine's Day ...  2016-01-25 21:32:15   \n",
       "183   You asked for it! Checkout our most popular et...  2016-01-27 17:36:03   \n",
       "202        This Valentine's Day make sure she says YES!  2016-01-29 18:38:09   \n",
       "231                      Shop our Valentine's Day Sale!  2016-02-02 16:24:28   \n",
       "237                         Fall in love with Amethysts  2016-02-03 14:54:36   \n",
       "251   Get the perfect Valentine's Day gift for your ...  2016-02-04 22:00:18   \n",
       "268           Hurry! Our Valentine's Day Sale ends soon  2016-02-06 19:39:30   \n",
       "282   Win up to $1,000 with our Valentine's Day Swee...  2016-02-08 17:19:54   \n",
       "298   Extended - Get $1,000 with our Valentine's Day...  2016-02-10 16:34:32   \n",
       "307         Fall in Love with our diamond hoop earrings  2016-02-11 16:35:12   \n",
       "355            shop for personalized monograms jewelry!  2016-02-18 21:38:46   \n",
       "385              Like vintage jewerly? This is for you!  2016-02-23 19:21:36   \n",
       "414        Love Animals? Then you must open this email.  2016-02-28 19:03:43   \n",
       "432              Introducing our Diamond Reset program!  2016-03-02 22:28:41   \n",
       "474   Fall in love with Aquamarines - the birthstone...  2016-03-08 23:16:57   \n",
       "486        Hurry! Our Friends & Family Sale ends soon!   2016-03-10 21:58:44   \n",
       "528                                    test for allurez  2016-03-16 21:21:51   \n",
       "529                  Find out why our customers love us  2016-03-16 21:25:25   \n",
       "580            Propose with a cutom made diamond ring!   2016-03-22 17:48:34   \n",
       "628                   Introducing Diamond Halo Earrings  2016-03-29 21:02:46   \n",
       "643     Exclusively for you! Save up to $400. Ends Soon  2016-03-31 16:36:38   \n",
       "660        Fall in love with our new engagement rings!   2016-04-02 16:00:49   \n",
       "...                                                 ...                  ...   \n",
       "3864  Exclusively for you. Our Friends & Family Sale...  2017-07-17 15:59:25   \n",
       "3908       Vintage style jewelry with a modern twist!    2017-07-24 15:06:54   \n",
       "3923  By Popular Demand: See our staff's favorite en...  2017-07-26 16:09:41   \n",
       "3949              Checkout our stunning gemstone rings!  2017-07-31 14:56:00   \n",
       "3964     Peridot Perfection - The birthstone of August   2017-08-02 14:08:57   \n",
       "4009                    you'll Love these new arrivals   2017-08-07 20:18:54   \n",
       "4037             Trend Alert - Pretty in pink gemstones  2017-08-11 13:31:23   \n",
       "4056          Exclusively for you. Get up to $400 Off!   2017-08-14 15:41:57   \n",
       "4106  Celebrate the Solar Eclipse w/ The Allurez Moo...  2017-08-21 17:52:27   \n",
       "4162  Need ideas on what to buy? Checkout our Best S...  2017-08-29 14:26:10   \n",
       "4183  Help Hurricane Harvey victims by shopping at A...  2017-08-31 14:45:24   \n",
       "4191       Our Labor Day Sale Starts Now! Shop and Save  2017-09-01 17:45:52   \n",
       "4210  Enjoy Labor Day with the Allurez Labor Day Sale!   2017-09-04 15:33:26   \n",
       "4219  Do you know which blue stone is the birthstone...  2017-09-05 22:22:25   \n",
       "4244  Introducing the Allurez Adjustable Bracelet Co...  2017-09-08 16:16:55   \n",
       "4278  Make them speechless with the world's trendies...  2017-09-13 15:33:52   \n",
       "4280              Allurez Jewelers Account Confirmation  2017-09-13 23:39:07   \n",
       "4281             Welcome to the Allurez Loyalty Program  2017-09-13 23:39:10   \n",
       "4282  You have been subscribed successfully at allur...  2017-09-13 23:39:30   \n",
       "4300     Protection with Style with Hand Of God Jewelry  2017-09-15 16:41:43   \n",
       "4315         Refresh your look with Allurez necklaces    2017-09-17 22:17:47   \n",
       "4327                      will you accept this flower?   2017-09-19 17:35:51   \n",
       "4330                    Hi , follow us on social media.  2017-09-20 06:25:01   \n",
       "4362            Swoon over these best selling sapphires  2017-09-24 15:56:23   \n",
       "4370                                      One Band ...   2017-09-25 17:42:42   \n",
       "4381       Hi , refer a friend to Allurez and get $200!  2017-09-27 06:40:00   \n",
       "4423  Give her butterflies with the Allurez Butterfl...  2017-10-01 21:57:37   \n",
       "4442                can you guess October's birthstone?  2017-10-04 00:02:41   \n",
       "4485          Starts Now: The Allurez Columbus Day Sale  2017-10-10 00:02:57   \n",
       "4534                           We now accept Bitcoins!   2017-10-16 22:45:01   \n",
       "\n",
       "     industry_name prev_company   prev_email_sent_at  \n",
       "5              NaN    AllModern                 None  \n",
       "27             NaN      Allurez  2016-01-01 21:39:25  \n",
       "64             NaN      Allurez  2016-01-05 16:56:02  \n",
       "86             NaN      Allurez  2016-01-11 16:38:11  \n",
       "113            NaN      Allurez  2016-01-14 16:42:01  \n",
       "126            NaN      Allurez  2016-01-18 18:02:12  \n",
       "132            NaN      Allurez  2016-01-20 15:42:39  \n",
       "159            NaN      Allurez  2016-01-21 14:57:49  \n",
       "169            NaN      Allurez  2016-01-24 16:53:23  \n",
       "183            NaN      Allurez  2016-01-25 21:32:15  \n",
       "202            NaN      Allurez  2016-01-27 17:36:03  \n",
       "231            NaN      Allurez  2016-01-29 18:38:09  \n",
       "237            NaN      Allurez  2016-02-02 16:24:28  \n",
       "251            NaN      Allurez  2016-02-03 14:54:36  \n",
       "268            NaN      Allurez  2016-02-04 22:00:18  \n",
       "282            NaN      Allurez  2016-02-06 19:39:30  \n",
       "298            NaN      Allurez  2016-02-08 17:19:54  \n",
       "307            NaN      Allurez  2016-02-10 16:34:32  \n",
       "355            NaN      Allurez  2016-02-11 16:35:12  \n",
       "385            NaN      Allurez  2016-02-18 21:38:46  \n",
       "414            NaN      Allurez  2016-02-23 19:21:36  \n",
       "432            NaN      Allurez  2016-02-28 19:03:43  \n",
       "474            NaN      Allurez  2016-03-02 22:28:41  \n",
       "486            NaN      Allurez  2016-03-08 23:16:57  \n",
       "528            NaN      Allurez  2016-03-10 21:58:44  \n",
       "529            NaN      Allurez  2016-03-16 21:21:51  \n",
       "580            NaN      Allurez  2016-03-16 21:25:25  \n",
       "628            NaN      Allurez  2016-03-22 17:48:34  \n",
       "643            NaN      Allurez  2016-03-29 21:02:46  \n",
       "660            NaN      Allurez  2016-03-31 16:36:38  \n",
       "...            ...          ...                  ...  \n",
       "3864           NaN      Allurez  2017-07-10 14:43:14  \n",
       "3908           NaN      Allurez  2017-07-17 15:59:25  \n",
       "3923           NaN      Allurez  2017-07-24 15:06:54  \n",
       "3949           NaN      Allurez  2017-07-26 16:09:41  \n",
       "3964           NaN      Allurez  2017-07-31 14:56:00  \n",
       "4009           NaN      Allurez  2017-08-02 14:08:57  \n",
       "4037           NaN      Allurez  2017-08-07 20:18:54  \n",
       "4056           NaN      Allurez  2017-08-11 13:31:23  \n",
       "4106           NaN      Allurez  2017-08-14 15:41:57  \n",
       "4162           NaN      Allurez  2017-08-21 17:52:27  \n",
       "4183           NaN      Allurez  2017-08-29 14:26:10  \n",
       "4191           NaN      Allurez  2017-08-31 14:45:24  \n",
       "4210           NaN      Allurez  2017-09-01 17:45:52  \n",
       "4219           NaN      Allurez  2017-09-04 15:33:26  \n",
       "4244           NaN      Allurez  2017-09-05 22:22:25  \n",
       "4278           NaN      Allurez  2017-09-08 16:16:55  \n",
       "4280           NaN      Allurez  2017-09-13 15:33:52  \n",
       "4281           NaN      Allurez  2017-09-13 23:39:07  \n",
       "4282           NaN      Allurez  2017-09-13 23:39:10  \n",
       "4300           NaN      Allurez  2017-09-13 23:39:30  \n",
       "4315           NaN      Allurez  2017-09-15 16:41:43  \n",
       "4327           NaN      Allurez  2017-09-17 22:17:47  \n",
       "4330           NaN      Allurez  2017-09-19 17:35:51  \n",
       "4362           NaN      Allurez  2017-09-20 06:25:01  \n",
       "4370           NaN      Allurez  2017-09-24 15:56:23  \n",
       "4381           NaN      Allurez  2017-09-25 17:42:42  \n",
       "4423           NaN      Allurez  2017-09-27 06:40:00  \n",
       "4442           NaN      Allurez  2017-10-01 21:57:37  \n",
       "4485           NaN      Allurez  2017-10-04 00:02:41  \n",
       "4534           NaN      Allurez  2017-10-10 00:02:57  \n",
       "\n",
       "[209 rows x 8 columns]"
      ]
     },
     "execution_count": 25,
     "metadata": {},
     "output_type": "execute_result"
    }
   ],
   "source": [
    "df[df.company_name=='Allurez']"
   ]
  },
  {
   "cell_type": "code",
   "execution_count": 26,
   "metadata": {
    "collapsed": true
   },
   "outputs": [],
   "source": [
    "df['company_name']= df.company_name.str.replace(' & ', '')\n",
    "df['company_name']= df.company_name.str.replace(\"'\" , '')\n",
    "df['company_name']= df.company_name.str.replace(\"-\" , '')\n",
    "df['company_name']= df.company_name.str.replace(\".\" , '')"
   ]
  },
  {
   "cell_type": "code",
   "execution_count": 27,
   "metadata": {
    "collapsed": true
   },
   "outputs": [],
   "source": [
    "# Add first set of features we need\n",
    "\n",
    "df['sent_time'] = pd.to_datetime(df.sent_at)\n",
    "df['hour'] = df.sent_time.apply(lambda x: x.hour)\n",
    "df['day'] = df.sent_time.apply(lambda x: x.day)\n",
    "df['month'] = df.sent_time.apply(lambda x: x.month)\n",
    "df['year'] = df.sent_time.apply(lambda x: x.year)\n",
    "df['day_of_week'] = df.sent_time.dt.weekday_name \n",
    "df['day_of_week_num'] = df.sent_time.dt.weekday \n",
    "df['weekend'] = df.day_of_week.apply(lambda x: 1 if x=='Saturday' or x=='Sunday' else  0) \n",
    "df[\"weeknum\"] = df.sent_time.dt.weekofyear\n",
    "df[\"am_pm\"] = df.sent_time.apply(lambda x: 1 if x.strftime('%p') == \"AM\" else 0)"
   ]
  },
  {
   "cell_type": "code",
   "execution_count": 28,
   "metadata": {
    "collapsed": true
   },
   "outputs": [],
   "source": [
    "# Get the time delta from when the previous email was sent\n",
    "\n",
    "def construct_full_date(timestamp):\n",
    "    # 2017-01-01 00:01:32\n",
    "    # format: year, month, day, hour, minute, seconds\n",
    "    date = re.split(\" |\\-|\\:\", timestamp)\n",
    "    _date = [int(x) for x in date]\n",
    "    return datetime(year=_date[0], month=_date[1], day=_date[2], hour=_date[3], minute=_date[4], second=_date[5])\n",
    "\n",
    "def get_time_delta(a, b):\n",
    "    if b == 0 or b==None:\n",
    "        return 0\n",
    "    else:\n",
    "        return (construct_full_date(a) - construct_full_date(b)).total_seconds()\n",
    "    \n",
    "df[\"delta_in_seconds\"] = df.apply(lambda x: get_time_delta(x[\"sent_at\"], x[\"prev_email_sent_at\"]), axis=1)"
   ]
  },
  {
   "cell_type": "code",
   "execution_count": 54,
   "metadata": {
    "collapsed": false
   },
   "outputs": [
    {
     "data": {
      "text/plain": [
       "Adorama             2\n",
       "AbercrombieFitch    1\n",
       "Allurez             1\n",
       "1800Flowerscom      1\n",
       "1000Bulbscom        1\n",
       "AceEverett          1\n",
       "AceTate             1\n",
       "AllModern           1\n",
       "AGACI               1\n",
       "10DollarMall        1\n",
       "Name: company_name, dtype: int64"
      ]
     },
     "execution_count": 54,
     "metadata": {},
     "output_type": "execute_result"
    }
   ],
   "source": [
    "# QA that we only have 1 time_delta with a value of 0\n",
    "\n",
    "df[df[\"delta_in_seconds\"] == 0][\"company_name\"].value_counts()"
   ]
  },
  {
   "cell_type": "code",
   "execution_count": 31,
   "metadata": {
    "collapsed": true
   },
   "outputs": [],
   "source": [
    "# Add a few more features which will make it easier to read our time deltas\n",
    "\n",
    "df[\"delta_in_hours\"] = df[\"delta_in_seconds\"] / 60 / 60\n",
    "df[\"delta_in_days\"] = df[\"delta_in_seconds\"] / 60 / 60 / 24"
   ]
  },
  {
   "cell_type": "code",
   "execution_count": 33,
   "metadata": {
    "collapsed": false
   },
   "outputs": [
    {
     "data": {
      "text/html": [
       "<div>\n",
       "<style>\n",
       "    .dataframe thead tr:only-child th {\n",
       "        text-align: right;\n",
       "    }\n",
       "\n",
       "    .dataframe thead th {\n",
       "        text-align: left;\n",
       "    }\n",
       "\n",
       "    .dataframe tbody tr th {\n",
       "        vertical-align: top;\n",
       "    }\n",
       "</style>\n",
       "<table border=\"1\" class=\"dataframe\">\n",
       "  <thead>\n",
       "    <tr style=\"text-align: right;\">\n",
       "      <th></th>\n",
       "      <th>1000Bulbscom</th>\n",
       "      <th>10DollarMall</th>\n",
       "      <th>1800Flowerscom</th>\n",
       "      <th>AGACI</th>\n",
       "      <th>AbercrombieFitch</th>\n",
       "      <th>AceEverett</th>\n",
       "      <th>AceTate</th>\n",
       "      <th>Adorama</th>\n",
       "      <th>AllModern</th>\n",
       "      <th>Allurez</th>\n",
       "    </tr>\n",
       "  </thead>\n",
       "  <tbody>\n",
       "    <tr>\n",
       "      <th>6</th>\n",
       "      <td>0</td>\n",
       "      <td>0</td>\n",
       "      <td>1</td>\n",
       "      <td>0</td>\n",
       "      <td>0</td>\n",
       "      <td>0</td>\n",
       "      <td>0</td>\n",
       "      <td>0</td>\n",
       "      <td>0</td>\n",
       "      <td>0</td>\n",
       "    </tr>\n",
       "    <tr>\n",
       "      <th>16</th>\n",
       "      <td>0</td>\n",
       "      <td>0</td>\n",
       "      <td>1</td>\n",
       "      <td>0</td>\n",
       "      <td>0</td>\n",
       "      <td>0</td>\n",
       "      <td>0</td>\n",
       "      <td>0</td>\n",
       "      <td>0</td>\n",
       "      <td>0</td>\n",
       "    </tr>\n",
       "    <tr>\n",
       "      <th>30</th>\n",
       "      <td>0</td>\n",
       "      <td>0</td>\n",
       "      <td>1</td>\n",
       "      <td>0</td>\n",
       "      <td>0</td>\n",
       "      <td>0</td>\n",
       "      <td>0</td>\n",
       "      <td>0</td>\n",
       "      <td>0</td>\n",
       "      <td>0</td>\n",
       "    </tr>\n",
       "    <tr>\n",
       "      <th>36</th>\n",
       "      <td>0</td>\n",
       "      <td>0</td>\n",
       "      <td>1</td>\n",
       "      <td>0</td>\n",
       "      <td>0</td>\n",
       "      <td>0</td>\n",
       "      <td>0</td>\n",
       "      <td>0</td>\n",
       "      <td>0</td>\n",
       "      <td>0</td>\n",
       "    </tr>\n",
       "    <tr>\n",
       "      <th>48</th>\n",
       "      <td>0</td>\n",
       "      <td>0</td>\n",
       "      <td>1</td>\n",
       "      <td>0</td>\n",
       "      <td>0</td>\n",
       "      <td>0</td>\n",
       "      <td>0</td>\n",
       "      <td>0</td>\n",
       "      <td>0</td>\n",
       "      <td>0</td>\n",
       "    </tr>\n",
       "  </tbody>\n",
       "</table>\n",
       "</div>"
      ],
      "text/plain": [
       "    1000Bulbscom  10DollarMall  1800Flowerscom  AGACI  AbercrombieFitch  \\\n",
       "6              0             0               1      0                 0   \n",
       "16             0             0               1      0                 0   \n",
       "30             0             0               1      0                 0   \n",
       "36             0             0               1      0                 0   \n",
       "48             0             0               1      0                 0   \n",
       "\n",
       "    AceEverett  AceTate  Adorama  AllModern  Allurez  \n",
       "6            0        0        0          0        0  \n",
       "16           0        0        0          0        0  \n",
       "30           0        0        0          0        0  \n",
       "36           0        0        0          0        0  \n",
       "48           0        0        0          0        0  "
      ]
     },
     "execution_count": 33,
     "metadata": {},
     "output_type": "execute_result"
    }
   ],
   "source": [
    "# Get company dummies. This will help us calculate each prediction at a company level\n",
    "\n",
    "dummy_company = pd.get_dummies(df[\"company_name\"])\n",
    "dummy_company.head()"
   ]
  },
  {
   "cell_type": "code",
   "execution_count": 34,
   "metadata": {
    "collapsed": true
   },
   "outputs": [],
   "source": [
    "# Merge both dataframes\n",
    "\n",
    "df = pd.merge(df, dummy_company, right_index=True, left_index=True)"
   ]
  },
  {
   "cell_type": "code",
   "execution_count": 35,
   "metadata": {
    "collapsed": false
   },
   "outputs": [
    {
     "data": {
      "text/plain": [
       "<matplotlib.text.Text at 0x119d6f630>"
      ]
     },
     "execution_count": 35,
     "metadata": {},
     "output_type": "execute_result"
    },
    {
     "data": {
      "image/png": "[encoded data removed]",
      "text/plain": [
       "<matplotlib.figure.Figure at 0x119d68240>"
      ]
     },
     "metadata": {},
     "output_type": "display_data"
    }
   ],
   "source": [
    "# Visualize  send volume to understand the data a bit better\n",
    "# Takeaway #1: Email volume varies drastically by company.\n",
    "# Also, we may have some heavy senders. 1,200+ emails by abercrombie seems extremely high.\n",
    "\n",
    "email_counts_sum = df.groupby([\"company_name\"])[\"delta_in_seconds\"].count()\n",
    "bars = email_counts_sum.plot(kind='bar')\n",
    "bars.set_ylabel(\"Email volume\")\n",
    "bars.set_xlabel(\"Company name\")"
   ]
  },
  {
   "cell_type": "code",
   "execution_count": 36,
   "metadata": {
    "collapsed": false
   },
   "outputs": [
    {
     "data": {
      "image/png": "[encoded data removed]",
      "text/plain": [
       "<matplotlib.figure.Figure at 0x11ac7c2b0>"
      ]
     },
     "metadata": {},
     "output_type": "display_data"
    },
    {
     "data": {
      "image/png": "[encoded data removed]",
      "text/plain": [
       "<matplotlib.figure.Figure at 0x119d98978>"
      ]
     },
     "metadata": {},
     "output_type": "display_data"
    },
    {
     "data": {
      "image/png": "[encoded data removed]",
      "text/plain": [
       "<matplotlib.figure.Figure at 0x11ac7c278>"
      ]
     },
     "metadata": {},
     "output_type": "display_data"
    },
    {
     "data": {
      "image/png": "[encoded data removed]",
      "text/plain": [
       "<matplotlib.figure.Figure at 0x11e896be0>"
      ]
     },
     "metadata": {},
     "output_type": "display_data"
    },
    {
     "data": {
      "image/png": "[encoded data removed]",
      "text/plain": [
       "<matplotlib.figure.Figure at 0x11edbf2e8>"
      ]
     },
     "metadata": {},
     "output_type": "display_data"
    },
    {
     "data": {
      "image/png": "[encoded data removed]",
      "text/plain": [
       "<matplotlib.figure.Figure at 0x11e896b38>"
      ]
     },
     "metadata": {},
     "output_type": "display_data"
    },
    {
     "data": {
      "image/png": "[encoded data removed]",
      "text/plain": [
       "<matplotlib.figure.Figure at 0x11ee796d8>"
      ]
     },
     "metadata": {},
     "output_type": "display_data"
    },
    {
     "data": {
      "image/png": "[encoded data removed]",
      "text/plain": [
       "<matplotlib.figure.Figure at 0x11eee4da0>"
      ]
     },
     "metadata": {},
     "output_type": "display_data"
    },
    {
     "data": {
      "image/png": "[encoded data removed]",
      "text/plain": [
       "<matplotlib.figure.Figure at 0x11f04abe0>"
      ]
     },
     "metadata": {},
     "output_type": "display_data"
    },
    {
     "data": {
      "image/png": "[encoded data removed]",
      "text/plain": [
       "<matplotlib.figure.Figure at 0x11f0b10b8>"
      ]
     },
     "metadata": {},
     "output_type": "display_data"
    }
   ],
   "source": [
    "# Let's analyze the sending behavior of these companies\n",
    "# Takeaway #2: Every company has their own sending behavior!\n",
    "# Takeaway #3: Seasonality is likely to impact email frequency.\n",
    "# Note: Spikes == more time in between emails\n",
    "\n",
    "time_delta_average_by_month = df.groupby(by=['company_name', 'month'])[\"delta_in_seconds\"].mean().reset_index()\n",
    "c_name = time_delta_average_by_month[\"company_name\"].unique()\n",
    "\n",
    "for i in c_name:\n",
    "    company = time_delta_average_by_month[time_delta_average_by_month[\"company_name\"] == i].reset_index()\n",
    "    plot = company.plot(x=\"month\", y=\"delta_in_seconds\")\n",
    "    plot.set_xlabel(i)\n"
   ]
  },
  {
   "cell_type": "code",
   "execution_count": 37,
   "metadata": {
    "collapsed": false,
    "scrolled": true
   },
   "outputs": [
    {
     "data": {
      "text/html": [
       "<div>\n",
       "<style>\n",
       "    .dataframe thead tr:only-child th {\n",
       "        text-align: right;\n",
       "    }\n",
       "\n",
       "    .dataframe thead th {\n",
       "        text-align: left;\n",
       "    }\n",
       "\n",
       "    .dataframe tbody tr th {\n",
       "        vertical-align: top;\n",
       "    }\n",
       "</style>\n",
       "<table border=\"1\" class=\"dataframe\">\n",
       "  <thead>\n",
       "    <tr style=\"text-align: right;\">\n",
       "      <th></th>\n",
       "      <th>industry_name</th>\n",
       "      <th>company_name</th>\n",
       "      <th>delta_in_seconds</th>\n",
       "    </tr>\n",
       "  </thead>\n",
       "  <tbody>\n",
       "    <tr>\n",
       "      <th>6</th>\n",
       "      <td>retail</td>\n",
       "      <td>AbercrombieFitch</td>\n",
       "      <td>44965</td>\n",
       "    </tr>\n",
       "    <tr>\n",
       "      <th>3</th>\n",
       "      <td>photography</td>\n",
       "      <td>Adorama</td>\n",
       "      <td>80289</td>\n",
       "    </tr>\n",
       "    <tr>\n",
       "      <th>0</th>\n",
       "      <td>e-commerce</td>\n",
       "      <td>AllModern</td>\n",
       "      <td>82759</td>\n",
       "    </tr>\n",
       "    <tr>\n",
       "      <th>4</th>\n",
       "      <td>retail</td>\n",
       "      <td>1800Flowerscom</td>\n",
       "      <td>86788</td>\n",
       "    </tr>\n",
       "    <tr>\n",
       "      <th>5</th>\n",
       "      <td>retail</td>\n",
       "      <td>AGACI</td>\n",
       "      <td>139194</td>\n",
       "    </tr>\n",
       "    <tr>\n",
       "      <th>1</th>\n",
       "      <td>lighting</td>\n",
       "      <td>1000Bulbscom</td>\n",
       "      <td>207690</td>\n",
       "    </tr>\n",
       "    <tr>\n",
       "      <th>2</th>\n",
       "      <td>other</td>\n",
       "      <td>AceTate</td>\n",
       "      <td>728605</td>\n",
       "    </tr>\n",
       "  </tbody>\n",
       "</table>\n",
       "</div>"
      ],
      "text/plain": [
       "  industry_name      company_name  delta_in_seconds\n",
       "6        retail  AbercrombieFitch             44965\n",
       "3   photography           Adorama             80289\n",
       "0    e-commerce         AllModern             82759\n",
       "4        retail    1800Flowerscom             86788\n",
       "5        retail             AGACI            139194\n",
       "1      lighting      1000Bulbscom            207690\n",
       "2         other           AceTate            728605"
      ]
     },
     "execution_count": 37,
     "metadata": {},
     "output_type": "execute_result"
    }
   ],
   "source": [
    "# It's not 100% clear here, but it looks like industry could be a helpful feature to include in our model\n",
    "# Let's visualize this\n",
    "\n",
    "df.groupby([\"industry_name\", \"company_name\"]).delta_in_seconds.mean().astype(int).reset_index().sort_values(\"delta_in_seconds\")"
   ]
  },
  {
   "cell_type": "code",
   "execution_count": 38,
   "metadata": {
    "collapsed": false
   },
   "outputs": [
    {
     "data": {
      "text/plain": [
       "<matplotlib.axes._subplots.AxesSubplot at 0x11f1a5ba8>"
      ]
     },
     "execution_count": 38,
     "metadata": {},
     "output_type": "execute_result"
    },
    {
     "data": {
      "image/png": "[encoded data removed]",
      "text/plain": [
       "<matplotlib.figure.Figure at 0x119d680f0>"
      ]
     },
     "metadata": {},
     "output_type": "display_data"
    }
   ],
   "source": [
    "# Visualize the send volume to understand the data a bit better\n",
    "# Takeaway #4: Consider adding industry as a feature\n",
    "\n",
    "email_between_time_avg = df.groupby([\"industry_name\"]).delta_in_seconds.mean()\n",
    "email_between_time_avg.plot(kind='bar')"
   ]
  },
  {
   "cell_type": "code",
   "execution_count": 39,
   "metadata": {
    "collapsed": false
   },
   "outputs": [
    {
     "data": {
      "image/png": "[encoded data removed]",
      "text/plain": [
       "<matplotlib.figure.Figure at 0x11f7f9160>"
      ]
     },
     "metadata": {},
     "output_type": "display_data"
    }
   ],
   "source": [
    "# Let's analyze all of the data by month to see how our 2 years of data compare\n",
    "# TODO: Make the x-axis start from 1 (January) and not 0\n",
    "\n",
    "plt.figure(figsize=(12,5))\n",
    "plt.xlabel('Time between two emails')\n",
    "\n",
    "df1 = df[df[\"year\"] == 2016].groupby(\"month\").delta_in_seconds.mean().reset_index()\n",
    "df2 = df[df[\"year\"] == 2017].groupby(\"month\").delta_in_seconds.mean().reset_index()\n",
    "\n",
    "ax1 = df1.delta_in_seconds.plot(color='blue', label='2016')\n",
    "ax2 = df2.delta_in_seconds.plot(color='red', label='2017')\n",
    "\n",
    "h1, l1 = ax1.get_legend_handles_labels()\n",
    "plt.legend(h1, l1, loc=2)\n",
    "plt.show()\n",
    "\n",
    "# We can see the impact of seasonality"
   ]
  },
  {
   "cell_type": "code",
   "execution_count": 40,
   "metadata": {
    "collapsed": false
   },
   "outputs": [
    {
     "data": {
      "text/plain": [
       "<matplotlib.axes._subplots.AxesSubplot at 0x11f800e80>"
      ]
     },
     "execution_count": 40,
     "metadata": {},
     "output_type": "execute_result"
    },
    {
     "data": {
      "image/png": "[encoded data removed]",
      "text/plain": [
       "<matplotlib.figure.Figure at 0x119d884a8>"
      ]
     },
     "metadata": {},
     "output_type": "display_data"
    }
   ],
   "source": [
    "# Next, let's look at the distribution of our email delta\n",
    "\n",
    "sns.boxplot(x=df[\"delta_in_seconds\"])\n",
    "\n",
    "# Look at that...! We have some outliers. Let's remove them."
   ]
  },
  {
   "cell_type": "code",
   "execution_count": 41,
   "metadata": {
    "collapsed": false
   },
   "outputs": [
    {
     "name": "stdout",
     "output_type": "stream",
     "text": [
      "(4585, 31)\n",
      "(4557, 31)\n",
      "We removed 28 outliers\n"
     ]
    },
    {
     "data": {
      "text/plain": [
       "<matplotlib.axes._subplots.AxesSubplot at 0x11f05a5c0>"
      ]
     },
     "execution_count": 41,
     "metadata": {},
     "output_type": "execute_result"
    },
    {
     "data": {
      "image/png": "[encoded data removed]",
      "text/plain": [
       "<matplotlib.figure.Figure at 0x11f0bff98>"
      ]
     },
     "metadata": {},
     "output_type": "display_data"
    }
   ],
   "source": [
    "# Remove prev_time_delta outliers\n",
    "\n",
    "stdev = df.delta_in_seconds.std()\n",
    "mean = df.delta_in_seconds.mean()\n",
    "upper_bound = mean + (stdev * 3)\n",
    "lower_bound = mean - (stdev * 3)\n",
    "\n",
    "non_outliers = df[(df.delta_in_seconds >=lower_bound) & (df.delta_in_seconds <= upper_bound)]\n",
    "\n",
    "print(df.shape)\n",
    "print(non_outliers.shape)\n",
    "print(\"We removed\", df.shape[0] - non_outliers.shape[0], \"outliers\")\n",
    "sns.boxplot(x=non_outliers[\"delta_in_seconds\"])"
   ]
  },
  {
   "cell_type": "code",
   "execution_count": 42,
   "metadata": {
    "collapsed": true
   },
   "outputs": [],
   "source": [
    "# This looks good, let's assign this back to our df variable\n",
    "\n",
    "df = non_outliers"
   ]
  },
  {
   "cell_type": "code",
   "execution_count": 43,
   "metadata": {
    "collapsed": false
   },
   "outputs": [
    {
     "data": {
      "text/plain": [
       "<matplotlib.axes._subplots.AxesSubplot at 0x11fa24b00>"
      ]
     },
     "execution_count": 43,
     "metadata": {},
     "output_type": "execute_result"
    },
    {
     "data": {
      "image/png": "[encoded data removed]",
      "text/plain": [
       "<matplotlib.figure.Figure at 0x105b98e48>"
      ]
     },
     "metadata": {},
     "output_type": "display_data"
    }
   ],
   "source": [
    "# Let's get a graps of how our data is distributed\n",
    "\n",
    "df.delta_in_hours.hist(bins = 50)\n",
    "\n",
    "# Look at that, it's left skewed!"
   ]
  },
  {
   "cell_type": "code",
   "execution_count": 44,
   "metadata": {
    "collapsed": false,
    "scrolled": true
   },
   "outputs": [
    {
     "data": {
      "image/png": "[encoded data removed]",
      "text/plain": [
       "<matplotlib.figure.Figure at 0x11ac5dda0>"
      ]
     },
     "metadata": {},
     "output_type": "display_data"
    }
   ],
   "source": [
    "# Let's build a heatmap!\n",
    "\n",
    "f = plt.figure(1, figsize = (15,12))\n",
    "pvt = pd.pivot_table(data=df,values='delta_in_days',index='day_of_week_num', columns='company_name')\n",
    "sns.heatmap(pvt, annot=True)\n",
    "plt.title('Average Time Between Emails',fontsize=25)\n",
    "plt.xticks(fontsize=10)\n",
    "plt.yticks(fontsize=10)\n",
    "plt.xlabel('company_name',fontsize=18)\n",
    "plt.ylabel('Day of Week',fontsize=18)\n",
    "plt.tight_layout()\n",
    "\n",
    "plt.show()"
   ]
  },
  {
   "cell_type": "code",
   "execution_count": 45,
   "metadata": {
    "collapsed": false
   },
   "outputs": [
    {
     "data": {
      "text/plain": [
       "<matplotlib.axes._subplots.AxesSubplot at 0x11eeeab00>"
      ]
     },
     "execution_count": 45,
     "metadata": {},
     "output_type": "execute_result"
    },
    {
     "data": {
      "image/png": "[encoded data removed]",
      "text/plain": [
       "<matplotlib.figure.Figure at 0x11f1f3320>"
      ]
     },
     "metadata": {},
     "output_type": "display_data"
    }
   ],
   "source": [
    "sns.heatmap(df.corr())"
   ]
  },
  {
   "cell_type": "code",
   "execution_count": 46,
   "metadata": {
    "collapsed": true
   },
   "outputs": [],
   "source": [
    "# Let's try creating a new feature for retail / not retail\n",
    "\n",
    "df['retail_ecommerce']=(df.industry_name=='retail') ^ (df.industry_name=='e-commerce')"
   ]
  },
  {
   "cell_type": "code",
   "execution_count": 47,
   "metadata": {
    "collapsed": true
   },
   "outputs": [],
   "source": [
    "# Let's analyze seasonality\n",
    "\n",
    "def season_map(month):\n",
    "    season=''\n",
    "    if month <=3:\n",
    "        season='Spring'\n",
    "    elif month<=6:\n",
    "        season='Summer'\n",
    "    elif month<=9:\n",
    "        season='Fall'\n",
    "    else: \n",
    "        season='Winter'\n",
    "    return season\n",
    "\n",
    "df['season']=df.month.apply(lambda x:season_map(x))\n",
    "df['season_num'] = pd.Categorical(df.season).codes"
   ]
  },
  {
   "cell_type": "code",
   "execution_count": 48,
   "metadata": {
    "collapsed": false
   },
   "outputs": [
    {
     "data": {
      "text/plain": [
       "<matplotlib.axes._subplots.AxesSubplot at 0x11ee417f0>"
      ]
     },
     "execution_count": 48,
     "metadata": {},
     "output_type": "execute_result"
    },
    {
     "data": {
      "image/png": "[encoded data removed]",
      "text/plain": [
       "<matplotlib.figure.Figure at 0x11a96f8d0>"
      ]
     },
     "metadata": {},
     "output_type": "display_data"
    }
   ],
   "source": [
    "sns.violinplot(x='season', y='delta_in_seconds', data=df, hue='retail_ecommerce' )"
   ]
  },
  {
   "cell_type": "markdown",
   "metadata": {},
   "source": [
    "## Done with EDA\n",
    "\n",
    "Features we want:\n",
    "\n",
    "- Month\n",
    "- Company\n",
    "- Industry\n",
    "- am_pm\n",
    "- weekend\n",
    "\n",
    "Models:\n",
    "\n",
    "- linear regression\n",
    "- decision tree regressor"
   ]
  },
  {
   "cell_type": "code",
   "execution_count": 35,
   "metadata": {
    "collapsed": true
   },
   "outputs": [],
   "source": [
    "# for c in df.columns:\n",
    "#     print(c)"
   ]
  },
  {
   "cell_type": "code",
   "execution_count": 68,
   "metadata": {
    "collapsed": false
   },
   "outputs": [
    {
     "name": "stdout",
     "output_type": "stream",
     "text": [
      "(3417, 16)\n",
      "(3417,)\n",
      "(1140, 16)\n",
      "(1140,)\n"
     ]
    }
   ],
   "source": [
    "# The modeling begins\n",
    "\n",
    "target = df.delta_in_hours\n",
    "companies = df[\"company_name\"].unique()\n",
    "features_of_interest = np.append([companies], ['month', 'weeknum', 'am_pm', 'season_num', 'weekend', 'retail_ecommerce'])\n",
    "features = df[features_of_interest]\n",
    "\n",
    "X_train, X_test, y_train, y_test = train_test_split(features, target, random_state=42)\n",
    "\n",
    "print(X_train.shape)\n",
    "print(y_train.shape)\n",
    "print(X_test.shape)\n",
    "print(y_test.shape)"
   ]
  },
  {
   "cell_type": "code",
   "execution_count": 69,
   "metadata": {
    "collapsed": false
   },
   "outputs": [
    {
     "data": {
      "text/plain": [
       "LinearRegression(copy_X=True, fit_intercept=True, n_jobs=1, normalize=False)"
      ]
     },
     "execution_count": 69,
     "metadata": {},
     "output_type": "execute_result"
    }
   ],
   "source": [
    "# Initialize our fit our model\n",
    "\n",
    "lg = LinearRegression()\n",
    "lg.fit(X_train, y_train)"
   ]
  },
  {
   "cell_type": "code",
   "execution_count": 70,
   "metadata": {
    "collapsed": false
   },
   "outputs": [
    {
     "data": {
      "text/plain": [
       "0.54260911367519982"
      ]
     },
     "execution_count": 70,
     "metadata": {},
     "output_type": "execute_result"
    }
   ],
   "source": [
    "y_pred = lg.predict(X_test)\n",
    "lg.score(X_test, y_test)"
   ]
  },
  {
   "cell_type": "code",
   "execution_count": 71,
   "metadata": {
    "collapsed": false
   },
   "outputs": [],
   "source": [
    "# from sklearn import tree\n",
    "# from IPython.display import Image\n",
    "# import pydotplus\n",
    "# import graphviz\n",
    "\n",
    "# decision_tree = tree.DecisionTreeClassifier(max_depth=4)\n",
    "# decision_tree.fit(X_train, y_train)\n",
    "\n",
    "# dot_data = tree.export_graphviz(\n",
    "#     decision_tree,\n",
    "#     out_file=None,\n",
    "#     feature_names=features_of_interest,\n",
    "#     filled=True\n",
    "# )\n",
    "# graph = pydotplus.graph_from_dot_data(dot_data)\n",
    "# Image(graph.create_png())"
   ]
  },
  {
   "cell_type": "code",
   "execution_count": 72,
   "metadata": {
    "collapsed": false
   },
   "outputs": [],
   "source": [
    "# print(decision_tree.score(X_test, y_test))"
   ]
  },
  {
   "cell_type": "code",
   "execution_count": 73,
   "metadata": {
    "collapsed": false
   },
   "outputs": [
    {
     "name": "stdout",
     "output_type": "stream",
     "text": [
      "0.365320781201\n"
     ]
    }
   ],
   "source": [
    "from sklearn.ensemble import RandomForestRegressor\n",
    "\n",
    "regr = RandomForestRegressor(max_depth=2, random_state=0)\n",
    "regr.fit(X_train, y_train)\n",
    "print(regr.score(X_test, y_test))"
   ]
  },
  {
   "cell_type": "code",
   "execution_count": 74,
   "metadata": {
    "collapsed": false
   },
   "outputs": [
    {
     "data": {
      "text/plain": [
       "0.59645311651399546"
      ]
     },
     "execution_count": 74,
     "metadata": {},
     "output_type": "execute_result"
    }
   ],
   "source": [
    "xgr=XGBRegressor()\n",
    "xgr.fit(X_train, y_train) \n",
    "xgr.score(X_test, y_test) "
   ]
  },
  {
   "cell_type": "code",
   "execution_count": 76,
   "metadata": {
    "collapsed": false
   },
   "outputs": [
    {
     "data": {
      "image/png": "[encoded data removed]",
      "text/plain": [
       "<matplotlib.figure.Figure at 0x11ab1e128>"
      ]
     },
     "metadata": {},
     "output_type": "display_data"
    }
   ],
   "source": [
    "plot_tree(xgr, rankdir='LR' ) \n",
    "plt.show()"
   ]
  },
  {
   "cell_type": "code",
   "execution_count": 77,
   "metadata": {
    "collapsed": false
   },
   "outputs": [
    {
     "data": {
      "text/plain": [
       "0.30816902765842036"
      ]
     },
     "execution_count": 77,
     "metadata": {},
     "output_type": "execute_result"
    }
   ],
   "source": [
    "adr=AdaBoostRegressor()\n",
    "adr.fit(X_train, y_train) \n",
    "adr.score(X_test, y_test) "
   ]
  },
  {
   "cell_type": "code",
   "execution_count": 78,
   "metadata": {
    "collapsed": false
   },
   "outputs": [
    {
     "data": {
      "text/plain": [
       "0.58183474807499602"
      ]
     },
     "execution_count": 78,
     "metadata": {},
     "output_type": "execute_result"
    }
   ],
   "source": [
    "gbr=GradientBoostingRegressor()\n",
    "gbr.fit(X_train, y_train) \n",
    "gbr.score(X_test, y_test)  "
   ]
  },
  {
   "cell_type": "code",
   "execution_count": 79,
   "metadata": {
    "collapsed": false
   },
   "outputs": [
    {
     "name": "stdout",
     "output_type": "stream",
     "text": [
      "{'loss': 'ls', 'max_features': 'sqrt', 'learning_rate': 0.05, 'n_estimators': 200}\n"
     ]
    }
   ],
   "source": [
    "#grid search\n",
    "gbr = GradientBoostingRegressor(max_features= 'sqrt' , loss='ls', n_estimators=50, learning_rate=0.1) \n",
    "\n",
    "param_grid = { \n",
    "    'n_estimators': [100, 200],\n",
    "    'max_features': ['auto', 'sqrt', 'log2'],\n",
    "    'loss': ['ls', 'lad', 'huber', 'quantile'],\n",
    "    'learning_rate': [0.1, 0.01, 0.05]\n",
    "}\n",
    "\n",
    "CV_gbr = GridSearchCV(estimator=gbr, param_grid=param_grid, cv= 5)\n",
    "CV_gbr.fit(X_train, y_train)\n",
    "print(CV_gbr.best_params_)"
   ]
  },
  {
   "cell_type": "code",
   "execution_count": 80,
   "metadata": {
    "collapsed": false
   },
   "outputs": [
    {
     "data": {
      "text/plain": [
       "0.57459864512302783"
      ]
     },
     "execution_count": 80,
     "metadata": {},
     "output_type": "execute_result"
    }
   ],
   "source": [
    "gbr=GradientBoostingRegressor(max_features= 'sqrt' , loss='ls', n_estimators=200, learning_rate= 0.05)\n",
    "gbr.fit(X_train, y_train) \n",
    "gbr.score(X_test, y_test)  "
   ]
  },
  {
   "cell_type": "code",
   "execution_count": 81,
   "metadata": {
    "collapsed": true
   },
   "outputs": [],
   "source": [
    "#revisit features\n",
    "target = df.delta_in_seconds\n",
    "df['industry_num']=pd.Categorical(df.industry_name).codes \n",
    "df['subject_promo']=df.subject.str.contains('%') \n",
    "companies = df[\"company_name\"].unique()\n",
    "features_of_interest = np.append([companies], ['month','industry_num','subject_promo', 'day_of_week_num', 'am_pm'])\n",
    "features = df[features_of_interest]\n",
    "\n",
    "X_train, X_test, y_train, y_test = train_test_split(features, target, random_state=42)"
   ]
  },
  {
   "cell_type": "code",
   "execution_count": 82,
   "metadata": {
    "collapsed": false
   },
   "outputs": [
    {
     "data": {
      "text/plain": [
       "0.59846626738563291"
      ]
     },
     "execution_count": 82,
     "metadata": {},
     "output_type": "execute_result"
    }
   ],
   "source": [
    "gbr=GradientBoostingRegressor(max_features= 'sqrt' , loss='ls', n_estimators=1000, learning_rate= 0.05)\n",
    "gbr.fit(X_train, y_train) \n",
    "gbr.score(X_test, y_test)  "
   ]
  },
  {
   "cell_type": "code",
   "execution_count": 83,
   "metadata": {
    "collapsed": false
   },
   "outputs": [
    {
     "data": {
      "text/plain": [
       "0.59912953381395861"
      ]
     },
     "execution_count": 83,
     "metadata": {},
     "output_type": "execute_result"
    }
   ],
   "source": [
    "xgr=XGBRegressor()\n",
    "xgr.fit(X_train, y_train) \n",
    "xgr.score(X_test, y_test) "
   ]
  },
  {
   "cell_type": "code",
   "execution_count": 85,
   "metadata": {
    "collapsed": false
   },
   "outputs": [
    {
     "name": "stdout",
     "output_type": "stream",
     "text": [
      "Score: 0.5404\n"
     ]
    }
   ],
   "source": [
    "#stacking models \n",
    "from mlxtend.regressor import StackingRegressor\n",
    "from sklearn.linear_model import LinearRegression\n",
    "from sklearn.linear_model import Ridge\n",
    "from sklearn.svm import SVR\n",
    "\n",
    "\n",
    "# Initializing models\n",
    "\n",
    "lr = LinearRegression()\n",
    "svr_lin = SVR(kernel='linear')\n",
    "ridge = Ridge(random_state=1)\n",
    "svr_rbf = SVR(kernel='rbf')\n",
    "gbr=GradientBoostingRegressor(max_features= 'sqrt' , loss='ls', n_estimators=1000, learning_rate= 0.05)\n",
    "xgr=XGBRegressor()\n",
    "adr=AdaBoostRegressor() \n",
    "\n",
    "stregr = StackingRegressor(regressors=[lr, adr, decision_tree], \n",
    "                           meta_regressor=gbr)\n",
    "\n",
    "# Training the stacking\n",
    "\n",
    "stregr.fit(X_train, y_train)\n",
    "stregr.predict(X_test)\n",
    "\n",
    "# Evaluate and visualize the fit\n",
    "\n",
    "# print(\"Mean Squared Error: %.4f\"\n",
    "#       % np.mean((stregr.predict(X_test) - y_test) ** 2))\n",
    "print('Score: %.4f' % stregr.score(X_test, y_test)) "
   ]
  },
  {
   "cell_type": "code",
   "execution_count": 93,
   "metadata": {
    "collapsed": false
   },
   "outputs": [],
   "source": [
    "# from sklearn.model_selection import GridSearchCV\n",
    "# from sklearn.linear_model import Lasso\n",
    "\n",
    "# # Initializing models\n",
    "\n",
    "# lr = LinearRegression()\n",
    "# svr_lin = SVR(kernel='linear')\n",
    "# ridge = Ridge(random_state=1)\n",
    "# lasso = Lasso(random_state=1)\n",
    "# svr_rbf = SVR(kernel='rbf')\n",
    "# regressors = [svr_lin, lr, ridge, lasso]\n",
    "# stregr = StackingRegressor(regressors=regressors, \n",
    "#                            meta_regressor=svr_rbf)\n",
    "\n",
    "# params = {'lasso__alpha': [0.1, 1.0, 10.0],\n",
    "#           'ridge__alpha': [0.1, 1.0, 10.0],\n",
    "#           'svr__C': [0.1, 1.0, 10.0],\n",
    "#           'meta-svr__C': [0.1, 1.0, 10.0, 100.0],\n",
    "#           'meta-svr__gamma': [0.1, 1.0, 10.0]}\n",
    "\n",
    "# grid = GridSearchCV(estimator=stregr, \n",
    "#                     param_grid=params, \n",
    "#                     cv=5,\n",
    "#                     refit=True)\n",
    "\n",
    "# grid.fit(X_train, y_train)\n",
    "\n",
    "# for params, mean_score, scores in grid.grid_scores_:\n",
    "#         print(\"%0.3f +/- %0.2f %r\"\n",
    "#               % (mean_score, scores.std() / 2.0, params))"
   ]
  },
  {
   "cell_type": "markdown",
   "metadata": {},
   "source": [
    "## Benchmark on average email in between time by company"
   ]
  },
  {
   "cell_type": "code",
   "execution_count": 94,
   "metadata": {
    "collapsed": false
   },
   "outputs": [
    {
     "data": {
      "text/plain": [
       "0.60289231528309717"
      ]
     },
     "execution_count": 94,
     "metadata": {},
     "output_type": "execute_result"
    }
   ],
   "source": [
    "#let's use GradientBoosting  \n",
    "gbr=GradientBoostingRegressor()\n",
    "gbr.fit(X_train, y_train) \n",
    "gbr.score(X_test, y_test)  "
   ]
  },
  {
   "cell_type": "code",
   "execution_count": 95,
   "metadata": {
    "collapsed": false
   },
   "outputs": [
    {
     "data": {
      "text/plain": [
       "array(['1800Flowerscom', '1000Bulbscom', '10DollarMall', 'AGACI',\n",
       "       'AbercrombieFitch', 'AceEverett', 'AceTate', 'Adorama', 'AllModern',\n",
       "       'Allurez'], dtype=object)"
      ]
     },
     "execution_count": 95,
     "metadata": {},
     "output_type": "execute_result"
    }
   ],
   "source": [
    "df[\"company_name\"].unique()"
   ]
  },
  {
   "cell_type": "code",
   "execution_count": 96,
   "metadata": {
    "collapsed": false
   },
   "outputs": [],
   "source": [
    "#benchmark on avg \n",
    "benchmark_company = \"AllModern\"\n",
    "benchmark_mean = df[df[benchmark_company] == 1].delta_in_hours.mean()"
   ]
  },
  {
   "cell_type": "code",
   "execution_count": 97,
   "metadata": {
    "collapsed": false
   },
   "outputs": [
    {
     "data": {
      "text/plain": [
       "13140.927406910117"
      ]
     },
     "execution_count": 97,
     "metadata": {},
     "output_type": "execute_result"
    }
   ],
   "source": [
    "#our model 's abs error \n",
    "abs(y_test[X_test[benchmark_company]==1 ]- gbr.predict(X_test[X_test[benchmark_company]==1])).mean()"
   ]
  },
  {
   "cell_type": "code",
   "execution_count": 98,
   "metadata": {
    "collapsed": false
   },
   "outputs": [
    {
     "data": {
      "text/plain": [
       "80918.43107178532"
      ]
     },
     "execution_count": 98,
     "metadata": {},
     "output_type": "execute_result"
    }
   ],
   "source": [
    "#benchmark's abs error \n",
    "abs(y_test[X_test[benchmark_company]==1 ]-  benchmark_mean).mean()"
   ]
  },
  {
   "cell_type": "code",
   "execution_count": 99,
   "metadata": {
    "collapsed": true
   },
   "outputs": [],
   "source": [
    "#lift is the diff/benchmark "
   ]
  },
  {
   "cell_type": "code",
   "execution_count": null,
   "metadata": {
    "collapsed": true
   },
   "outputs": [],
   "source": []
  }
 ],
 "metadata": {
  "anaconda-cloud": {},
  "kernelspec": {
   "display_name": "Python [conda root]",
   "language": "python",
   "name": "conda-root-py"
  },
  "language_info": {
   "codemirror_mode": {
    "name": "ipython",
    "version": 3
   },
   "file_extension": ".py",
   "mimetype": "text/x-python",
   "name": "python",
   "nbconvert_exporter": "python",
   "pygments_lexer": "ipython3",
   "version": "3.5.2"
  }
 },
 "nbformat": 4,
 "nbformat_minor": 1
}
