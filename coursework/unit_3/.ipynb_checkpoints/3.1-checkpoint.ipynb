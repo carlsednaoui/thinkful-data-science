{
 "cells": [
  {
   "cell_type": "code",
   "execution_count": 3,
   "metadata": {
    "collapsed": false
   },
   "outputs": [],
   "source": [
    "import numpy as np\n",
    "import pandas as pd\n",
    "import statistics\n",
    "import matplotlib.pyplot as plt\n",
    "\n",
    "df = pd.DataFrame()\n",
    "df['age'] = [28, 42, 27, 24, 35, 54, 35, 37, 11, 37, 22, 22]"
   ]
  },
  {
   "cell_type": "code",
   "execution_count": 143,
   "metadata": {
    "collapsed": false
   },
   "outputs": [
    {
     "name": "stdout",
     "output_type": "stream",
     "text": [
      "31.1666666667\n",
      "31.166666666666668\n"
     ]
    }
   ],
   "source": [
    "python_mean = sum(df['age'])/ len(df['age'])\n",
    "print(python_mean)\n",
    "\n",
    "np_mean = np.mean(df['age'])\n",
    "print(np_mean)"
   ]
  },
  {
   "cell_type": "code",
   "execution_count": 144,
   "metadata": {
    "collapsed": false
   },
   "outputs": [
    {
     "name": "stdout",
     "output_type": "stream",
     "text": [
      "31.5\n",
      "31.5\n"
     ]
    }
   ],
   "source": [
    "python_median = statistics.median(df['age'])\n",
    "print(python_median)\n",
    "\n",
    "np_median = np.median(df['age'])\n",
    "print(np_median)"
   ]
  },
  {
   "cell_type": "code",
   "execution_count": 145,
   "metadata": {
    "collapsed": false
   },
   "outputs": [
    {
     "ename": "StatisticsError",
     "evalue": "no unique mode; found 3 equally common values",
     "output_type": "error",
     "traceback": [
      "\u001b[0;31m---------------------------------------------------------------------------\u001b[0m",
      "\u001b[0;31mStatisticsError\u001b[0m                           Traceback (most recent call last)",
      "\u001b[0;32m<ipython-input-145-b40bfbadb509>\u001b[0m in \u001b[0;36m<module>\u001b[0;34m()\u001b[0m\n\u001b[0;32m----> 1\u001b[0;31m \u001b[0mpython_mode\u001b[0m \u001b[0;34m=\u001b[0m \u001b[0mstatistics\u001b[0m\u001b[0;34m.\u001b[0m\u001b[0mmode\u001b[0m\u001b[0;34m(\u001b[0m\u001b[0mdf\u001b[0m\u001b[0;34m[\u001b[0m\u001b[0;34m'age'\u001b[0m\u001b[0;34m]\u001b[0m\u001b[0;34m)\u001b[0m\u001b[0;34m\u001b[0m\u001b[0m\n\u001b[0m\u001b[1;32m      2\u001b[0m \u001b[0mprint\u001b[0m\u001b[0;34m(\u001b[0m\u001b[0mpython_mode\u001b[0m\u001b[0;34m)\u001b[0m\u001b[0;34m\u001b[0m\u001b[0m\n",
      "\u001b[0;32m/Users/carl/anaconda/lib/python3.5/statistics.py\u001b[0m in \u001b[0;36mmode\u001b[0;34m(data)\u001b[0m\n\u001b[1;32m    472\u001b[0m     \u001b[0;32melif\u001b[0m \u001b[0mtable\u001b[0m\u001b[0;34m:\u001b[0m\u001b[0;34m\u001b[0m\u001b[0m\n\u001b[1;32m    473\u001b[0m         raise StatisticsError(\n\u001b[0;32m--> 474\u001b[0;31m                 \u001b[0;34m'no unique mode; found %d equally common values'\u001b[0m \u001b[0;34m%\u001b[0m \u001b[0mlen\u001b[0m\u001b[0;34m(\u001b[0m\u001b[0mtable\u001b[0m\u001b[0;34m)\u001b[0m\u001b[0;34m\u001b[0m\u001b[0m\n\u001b[0m\u001b[1;32m    475\u001b[0m                 )\n\u001b[1;32m    476\u001b[0m     \u001b[0;32melse\u001b[0m\u001b[0;34m:\u001b[0m\u001b[0;34m\u001b[0m\u001b[0m\n",
      "\u001b[0;31mStatisticsError\u001b[0m: no unique mode; found 3 equally common values"
     ]
    }
   ],
   "source": [
    "python_mode = statistics.mode(df['age'])\n",
    "print(python_mode)\n"
   ]
  },
  {
   "cell_type": "code",
   "execution_count": 146,
   "metadata": {
    "collapsed": false
   },
   "outputs": [
    {
     "data": {
      "text/plain": [
       "22"
      ]
     },
     "execution_count": 146,
     "metadata": {},
     "output_type": "execute_result"
    }
   ],
   "source": [
    "# Generate a list of unique elements along with how often they occur.\n",
    "(values, counts) = np.unique(df['age'], return_counts=True)\n",
    "\n",
    "# The location in the values list of the most-frequently-occurring element.\n",
    "ind = np.argmax(counts)\n",
    "\n",
    "# The most frequent element.\n",
    "values[ind]"
   ]
  },
  {
   "cell_type": "code",
   "execution_count": 147,
   "metadata": {
    "collapsed": false
   },
   "outputs": [
    {
     "name": "stdout",
     "output_type": "stream",
     "text": [
      "[array([22, 35, 37])]\n",
      "Int64Index([22, 37, 35], dtype='int64')\n"
     ]
    }
   ],
   "source": [
    "# Try to get all the modes\n",
    "(values, counts) = np.unique(df['age'], return_counts=True)\n",
    "mode_indexes = np.where(counts == max(counts))\n",
    "modes = []\n",
    "for m in mode_indexes:\n",
    "    modes.append(values[m])\n",
    "print(modes)\n",
    "\n",
    "# Alternate version\n",
    "age_counts = df['age'].value_counts()\n",
    "max_modes = max(age_counts.get_values())\n",
    "lines_to_grab = np.count_nonzero(age_counts.get_values() == max_modes)\n",
    "print(age_counts.keys()[:lines_to_grab])\n",
    "\n"
   ]
  },
  {
   "cell_type": "code",
   "execution_count": 148,
   "metadata": {
    "collapsed": false
   },
   "outputs": [
    {
     "data": {
      "text/plain": [
       "115.80555555555556"
      ]
     },
     "execution_count": 148,
     "metadata": {},
     "output_type": "execute_result"
    }
   ],
   "source": [
    "# Variance\n",
    "# v = sum((x - mean) ** 2) / (n - 1)\n",
    "np.var(df['age'])"
   ]
  },
  {
   "cell_type": "code",
   "execution_count": 149,
   "metadata": {
    "collapsed": false
   },
   "outputs": [
    {
     "data": {
      "text/plain": [
       "11.239810200058244"
      ]
     },
     "execution_count": 149,
     "metadata": {},
     "output_type": "execute_result"
    }
   ],
   "source": [
    "# The standard deviation is the square root of the variance\n",
    "# s = v ** 0.5\n",
    "\n",
    "# ddof sets the delta degrees of freedom\n",
    "# we don't need that when looking at the population, only when looking at a sample\n",
    "np.std(df['age'], ddof=1)"
   ]
  },
  {
   "cell_type": "code",
   "execution_count": 150,
   "metadata": {
    "collapsed": false
   },
   "outputs": [
    {
     "data": {
      "text/plain": [
       "3.2446537223219645"
      ]
     },
     "execution_count": 150,
     "metadata": {},
     "output_type": "execute_result"
    }
   ],
   "source": [
    "# Sample error: se = s / (n ** 0.5)\n",
    "np.std(df['age'], ddof=1) / np.sqrt(len(df['age']))"
   ]
  },
  {
   "cell_type": "code",
   "execution_count": 154,
   "metadata": {
    "collapsed": false
   },
   "outputs": [
    {
     "data": {
      "image/png": "[encoded data removed]",
      "text/plain": [
       "<matplotlib.figure.Figure at 0x118b62898>"
      ]
     },
     "metadata": {},
     "output_type": "display_data"
    }
   ],
   "source": [
    "pop = pd.DataFrame()\n",
    "\n",
    "pop['low_var'] = np.random.normal(60, 10, 10000)\n",
    "pop['high_var'] = np.random.normal(60, 100, 10000)\n",
    "\n",
    "pop.hist(layout=(2, 1), sharex=True)\n",
    "plt.show()"
   ]
  },
  {
   "cell_type": "code",
   "execution_count": 152,
   "metadata": {
    "collapsed": false
   },
   "outputs": [
    {
     "name": "stdout",
     "output_type": "stream",
     "text": [
      "**Low**\n",
      "23.2411200835\n",
      "98.9860501239\n",
      "\n",
      "**High**\n",
      "-333.87822461\n",
      "414.516768594\n"
     ]
    }
   ],
   "source": [
    "print(\"**Low**\")\n",
    "print(pop['low_var'].min())\n",
    "print(pop['low_var'].max())\n",
    "\n",
    "print(\"\\n**High**\")\n",
    "print(pop['high_var'].min())\n",
    "print(pop['high_var'].max())"
   ]
  },
  {
   "cell_type": "code",
   "execution_count": 175,
   "metadata": {
    "collapsed": false
   },
   "outputs": [
    {
     "data": {
      "image/png": "[encoded data removed]",
      "text/plain": [
       "<matplotlib.figure.Figure at 0x11653e550>"
      ]
     },
     "metadata": {},
     "output_type": "display_data"
    }
   ],
   "source": [
    "# Take a random sample of 100 observations from each variable\n",
    "# and store it in a new dataframe.\n",
    "sample = pd.DataFrame()\n",
    "sample['low_var'] = np.random.choice(pop['low_var'], 100)\n",
    "sample['high_var'] = np.random.choice(pop['high_var'], 100)\n",
    "\n",
    "sample.hist()\n",
    "plt.show()"
   ]
  },
  {
   "cell_type": "code",
   "execution_count": 1,
   "metadata": {
    "collapsed": false
   },
   "outputs": [
    {
     "ename": "SyntaxError",
     "evalue": "invalid syntax (<ipython-input-1-8f12dc7951e2>, line 2)",
     "output_type": "error",
     "traceback": [
      "\u001b[0;36m  File \u001b[0;32m\"<ipython-input-1-8f12dc7951e2>\"\u001b[0;36m, line \u001b[0;32m2\u001b[0m\n\u001b[0;31m    mean = sum ages / population size\u001b[0m\n\u001b[0m                  ^\u001b[0m\n\u001b[0;31mSyntaxError\u001b[0m\u001b[0;31m:\u001b[0m invalid syntax\n"
     ]
    }
   ],
   "source": [
    "# Exercise\n",
    "mean = sum ages / population size\n",
    "mode = the one that appears most often\n",
    "median = the one in the middle. if odd, the average of the two in the middle\n",
    "\n",
    "v = variance is unscalled. stdv is scalled.\n",
    "\n",
    "1 standard deviation gives you 50% of the sample size\n",
    "variance is unscalled so it doen'st tell you how far away. you can't be 2 variances\n"
   ]
  },
  {
   "cell_type": "code",
   "execution_count": 5,
   "metadata": {
    "collapsed": false
   },
   "outputs": [],
   "source": [
    "ages = [14, 12, 11, 10, 8, 6, 8]"
   ]
  },
  {
   "cell_type": "code",
   "execution_count": 22,
   "metadata": {
    "collapsed": false
   },
   "outputs": [
    {
     "name": "stdout",
     "output_type": "stream",
     "text": [
      "9.857142857142858 10 8\n",
      "6.40816326531 2.53143502095 0.956792503652\n"
     ]
    }
   ],
   "source": [
    "# 3.1.4 Questions 1\n",
    "\n",
    "mean = statistics.mean(ages)\n",
    "median = statistics.median(ages)\n",
    "mode = statistics.mode(ages)\n",
    "\n",
    "print(mean, median, mode)\n",
    "\n",
    "variance = np.var(ages)\n",
    "deviation = np.std(ages)\n",
    "# Remember that if we were looking at a sample, we'd need to use ddof=1\n",
    "\n",
    "error = deviation / np.sqrt(len(ages))\n",
    "\n",
    "print(variance, deviation, error)"
   ]
  },
  {
   "cell_type": "code",
   "execution_count": 26,
   "metadata": {
    "collapsed": false
   },
   "outputs": [],
   "source": [
    "# 3.1.4 Questions 2\n",
    "# For tendency, I think we can use either mean, median, or mode\n",
    "# I'd pick the mean (not sure why though)\n",
    "\n",
    "# For variance, I'd pick the standard deviation bc it's \\\n",
    "# more indicative of how far away something is from the mean\n",
    "\n",
    "## What's one way to think about which one to choose?"
   ]
  },
  {
   "cell_type": "code",
   "execution_count": 27,
   "metadata": {
    "collapsed": false
   },
   "outputs": [
    {
     "name": "stdout",
     "output_type": "stream",
     "text": [
      "10 10 8\n",
      "5.42857142857 2.32992949004 0.880630571853\n"
     ]
    }
   ],
   "source": [
    "# 3.1.4 Questions 3\n",
    "ages = [14, 12, 11, 10, 8, 7, 8]\n",
    "\n",
    "mean = statistics.mean(ages)\n",
    "median = statistics.median(ages)\n",
    "mode = statistics.mode(ages)\n",
    "\n",
    "print(mean, median, mode)\n",
    "\n",
    "variance = np.var(ages)\n",
    "deviation = np.std(ages)\n",
    "# Remember that if we were looking at a sample, we'd need to use ddof=1\n",
    "\n",
    "error = deviation / np.sqrt(len(ages))\n",
    "\n",
    "print(variance, deviation, error)"
   ]
  },
  {
   "cell_type": "code",
   "execution_count": 28,
   "metadata": {
    "collapsed": true
   },
   "outputs": [],
   "source": [
    "# 3.1.4 Questions 3 (continued)\n",
    "# What changed? The mean is now equal to the median.\n",
    "# Also, there is now less variance in the data"
   ]
  },
  {
   "cell_type": "code",
   "execution_count": 40,
   "metadata": {
    "collapsed": false
   },
   "outputs": [
    {
     "name": "stdout",
     "output_type": "stream",
     "text": [
      "9 10\n",
      "15.4285714286 3.92792202425 1.48461497792\n"
     ]
    }
   ],
   "source": [
    "# 3.1.4 Questions 4\n",
    "ages = [14, 12, 11, 10, 8, 7, 1]\n",
    "\n",
    "mean = statistics.mean(ages)\n",
    "median = statistics.median(ages)\n",
    "# mode = statistics.mode(ages)\n",
    "\n",
    "# print(mean, median, mode)\n",
    "# no mode!\n",
    "print(mean, median)\n",
    "\n",
    "variance = np.var(ages)\n",
    "deviation = np.std(ages)\n",
    "error = np.std(ages) / np.sqrt(len(ages))\n",
    "\n",
    "print(variance, deviation, error)"
   ]
  },
  {
   "cell_type": "code",
   "execution_count": 36,
   "metadata": {
    "collapsed": true
   },
   "outputs": [],
   "source": [
    "# 3.1.4 Questions 4 (continued)\n",
    "\n",
    "# Choice of central tendency: I'd stick with mean\n",
    "# Again, not sure why. Is there a good answer to this?\n",
    "# I remember reading that the mean can be skewed by large values \\ \n",
    "# Is there a rule of thumb on when to use which?\n",
    "\n",
    "# Choice of variance: I'd stick with the standard deviation\n",
    "# Same as above though, not sure why."
   ]
  },
  {
   "cell_type": "code",
   "execution_count": 44,
   "metadata": {
    "collapsed": false
   },
   "outputs": [
    {
     "name": "stdout",
     "output_type": "stream",
     "text": [
      "0.1625 0.185\n",
      "0.00466875 0.0683282518436 0.0341641259218\n"
     ]
    }
   ],
   "source": [
    "# 3.1.4 Questions 5\n",
    "fans = [0.20, 0.23, 0.17, 0.05]\n",
    "\n",
    "# This is a sample of the population\n",
    "\n",
    "mean = statistics.mean(fans)\n",
    "median = statistics.median(fans)\n",
    "variance = np.var(fans)\n",
    "deviation = np.std(fans)\n",
    "error = np.std(fans) / np.sqrt(len(fans))\n",
    "\n",
    "print(mean, median)\n",
    "print(variance, deviation, error)\n",
    "\n",
    "# I would say that, on average, 16% of americans are fans of the show\n",
    "# If I think about this, I know the answer is not correct\n",
    "# since I'm not taking the variance, standard deviation, or error \\\n",
    "# into accoun. Let's cover this during our next session."
   ]
  },
  {
   "cell_type": "code",
   "execution_count": null,
   "metadata": {
    "collapsed": true
   },
   "outputs": [],
   "source": []
  }
 ],
 "metadata": {
  "anaconda-cloud": {},
  "kernelspec": {
   "display_name": "Python [conda root]",
   "language": "python",
   "name": "conda-root-py"
  },
  "language_info": {
   "codemirror_mode": {
    "name": "ipython",
    "version": 3
   },
   "file_extension": ".py",
   "mimetype": "text/x-python",
   "name": "python",
   "nbconvert_exporter": "python",
   "pygments_lexer": "ipython3",
   "version": "3.5.2"
  }
 },
 "nbformat": 4,
 "nbformat_minor": 1
}
