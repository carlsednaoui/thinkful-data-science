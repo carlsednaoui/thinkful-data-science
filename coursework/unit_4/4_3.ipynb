{
 "cells": [
  {
   "cell_type": "code",
   "execution_count": 1,
   "metadata": {
    "collapsed": true
   },
   "outputs": [],
   "source": [
    "import numpy as np\n",
    "import pandas as pd\n",
    "import scipy\n",
    "import matplotlib.pyplot as plt\n",
    "import seaborn as sns\n",
    "%matplotlib inline"
   ]
  },
  {
   "cell_type": "markdown",
   "metadata": {},
   "source": [
    "# Drill: tf-idf scores\n",
    "\n",
    "![](https://dha4w82d62smt.cloudfront.net/items/0W2b0K0r0O3N2i2S3j1A/Screen%20Shot%202018-02-01%20at%208.43.57%20AM.png?X-CloudApp-Visitor-Id=c85d38c5e1fd13bc387f4676e2ffc628&v=1e3fbf95)\n",
    "\n",
    "![](https://dha4w82d62smt.cloudfront.net/items/131o3A3g0s2U3l2w1E1t/Screen%20Shot%202018-02-01%20at%208.44.58%20AM.png?X-CloudApp-Visitor-Id=c85d38c5e1fd13bc387f4676e2ffc628&v=2cb723be)\n",
    "\n",
    "![](https://dha4w82d62smt.cloudfront.net/items/1p0l18041P053Y43150c/Screen%20Shot%202018-02-01%20at%208.46.00%20AM.png?X-CloudApp-Visitor-Id=c85d38c5e1fd13bc387f4676e2ffc628&v=6aa84d3d)"
   ]
  },
  {
   "cell_type": "code",
   "execution_count": null,
   "metadata": {
    "collapsed": true
   },
   "outputs": [],
   "source": []
  }
 ],
 "metadata": {
  "kernelspec": {
   "display_name": "Python [conda root]",
   "language": "python",
   "name": "conda-root-py"
  },
  "language_info": {
   "codemirror_mode": {
    "name": "ipython",
    "version": 3
   },
   "file_extension": ".py",
   "mimetype": "text/x-python",
   "name": "python",
   "nbconvert_exporter": "python",
   "pygments_lexer": "ipython3",
   "version": "3.5.2"
  }
 },
 "nbformat": 4,
 "nbformat_minor": 2
}
