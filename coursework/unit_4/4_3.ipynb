{
 "cells": [
  {
   "cell_type": "code",
   "execution_count": 331,
   "metadata": {
    "collapsed": true
   },
   "outputs": [],
   "source": [
    "import numpy as np\n",
    "import pandas as pd\n",
    "import scipy\n",
    "import matplotlib.pyplot as plt\n",
    "import seaborn as sns\n",
    "%matplotlib inline"
   ]
  },
  {
   "cell_type": "markdown",
   "metadata": {},
   "source": [
    "###### Drill: tf-idf scores\n",
    "\n",
    "![](https://dha4w82d62smt.cloudfront.net/items/0W2b0K0r0O3N2i2S3j1A/Screen%20Shot%202018-02-01%20at%208.43.57%20AM.png?X-CloudApp-Visitor-Id=c85d38c5e1fd13bc387f4676e2ffc628&v=1e3fbf95)\n",
    "\n",
    "![](https://dha4w82d62smt.cloudfront.net/items/131o3A3g0s2U3l2w1E1t/Screen%20Shot%202018-02-01%20at%208.44.58%20AM.png?X-CloudApp-Visitor-Id=c85d38c5e1fd13bc387f4676e2ffc628&v=2cb723be)\n",
    "\n",
    "![](https://dha4w82d62smt.cloudfront.net/items/1p0l18041P053Y43150c/Screen%20Shot%202018-02-01%20at%208.46.00%20AM.png?X-CloudApp-Visitor-Id=c85d38c5e1fd13bc387f4676e2ffc628&v=6aa84d3d)"
   ]
  },
  {
   "cell_type": "markdown",
   "metadata": {
    "collapsed": true
   },
   "source": [
    "```\n",
    "Monty        1.585 | 0    | 0\n",
    "Python           1 | 0    | 0\n",
    "sketch           0 | 0    | 0\n",
    "laugh            1 | 0    | 0\n",
    "funny        1.585 | 0    | 0\n",
    "best             0 | .585 | 0 \n",
    "ice cream        0 | 1    | 1\n",
    "dessert          0 | 1.58 | 0\n",
    "taste            0 | 1    | 2\n",
    "```"
   ]
  },
  {
   "cell_type": "markdown",
   "metadata": {
    "collapsed": true
   },
   "source": [
    " Let's talk about this\n",
    "\n",
    "\"Each document will get a score for each topic, with higher scores indicating that the document is relevant to the topic. Documents can pertain to more than one topic.\""
   ]
  },
  {
   "cell_type": "code",
   "execution_count": 332,
   "metadata": {
    "collapsed": false
   },
   "outputs": [
    {
     "name": "stdout",
     "output_type": "stream",
     "text": [
      "['[ Emma by Jane Austen 1816 ]', 'VOLUME I', 'CHAPTER I', 'Emma Woodhouse , handsome , clever , and rich , with a comfortable home and happy disposition , seemed to unite some of the best blessings of existence ; and had lived nearly twenty - one years in the world with very little to distress or vex her .']\n"
     ]
    }
   ],
   "source": [
    "from nltk.corpus import gutenberg\n",
    "import re\n",
    "from sklearn.model_selection import train_test_split\n",
    "\n",
    "#reading in the data, this time in the form of paragraphs\n",
    "emma=gutenberg.paras('austen-emma.txt')\n",
    "#processing\n",
    "emma_paras=[]\n",
    "for paragraph in emma:\n",
    "    para=paragraph[0]\n",
    "    #removing the double-dash from all words\n",
    "    para=[re.sub(r'--','',word) for word in para]\n",
    "    #Forming each paragraph into a string and adding it to the list of strings.\n",
    "    emma_paras.append(' '.join(para))\n",
    "\n",
    "print(emma_paras[0:4])"
   ]
  },
  {
   "cell_type": "code",
   "execution_count": 333,
   "metadata": {
    "collapsed": false
   },
   "outputs": [
    {
     "name": "stdout",
     "output_type": "stream",
     "text": [
      "Number of features: 1948\n",
      "Original sentence: A very few minutes more , however , completed the present trial .\n",
      "Tf_idf vector: {'present': 0.70142321085794701, 'minutes': 0.71274503103825837}\n"
     ]
    }
   ],
   "source": [
    "from sklearn.feature_extraction.text import TfidfVectorizer\n",
    "\n",
    "X_train, X_test = train_test_split(emma_paras, test_size=0.4, random_state=0)\n",
    "\n",
    "vectorizer = TfidfVectorizer(max_df=0.5, # drop words that occur in more than half the paragraphs\n",
    "                             min_df=2, # only use words that appear at least twice\n",
    "                             stop_words='english', \n",
    "                             lowercase=True, #convert everything to lower case (since Alice in Wonderland has the HABIT of CAPITALIZING WORDS for EMPHASIS)\n",
    "                             use_idf=True, #we definitely want to use inverse document frequencies in our weighting\n",
    "                             norm=u'l2', #Applies a correction factor so that longer paragraphs and shorter paragraphs get treated equally\n",
    "                             smooth_idf=True #Adds 1 to all document frequencies, as if an extra document existed that used every word once.  Prevents divide-by-zero errors\n",
    "                            )\n",
    "\n",
    "\n",
    "#Applying the vectorizer\n",
    "emma_paras_tfidf=vectorizer.fit_transform(emma_paras)\n",
    "print(\"Number of features: %d\" % emma_paras_tfidf.get_shape()[1])\n",
    "\n",
    "#splitting into training and test sets\n",
    "X_train_tfidf, X_test_tfidf= train_test_split(emma_paras_tfidf, test_size=0.4, random_state=0)\n",
    "\n",
    "\n",
    "#Reshapes the vectorizer output into something people can read\n",
    "# Question: What is CSR? NOT NEEDED!\n",
    "X_train_tfidf_csr = X_train_tfidf\n",
    "\n",
    "#number of paragraphs\n",
    "# Question: Let's walk through the code below\n",
    "n = X_train_tfidf_csr.shape[0]\n",
    "#A empty list of dictionaries, one per paragraph\n",
    "tfidf_bypara = [{} for _ in range(0,n)]\n",
    "#List of features\n",
    "terms = vectorizer.get_feature_names()\n",
    "#for each paragraph, lists the feature words and their tf-idf scores\n",
    "# nonzero() returns 2 arrays. That's your X and Y of where the data is stored!\n",
    "# zip combines two arrays\n",
    "# 1a, 2b, 3c\n",
    "# using \"*X_train_tfidf_csr\" combines the two arrays\n",
    "for i, j in zip(*X_train_tfidf_csr.nonzero()):\n",
    "    tfidf_bypara[i][terms[j]] = X_train_tfidf_csr[i, j]\n",
    "\n",
    "#Keep in mind that the log base 2 of 1 is 0, so a tf-idf score of 0 indicates that the word was present once in that sentence.\n",
    "print('Original sentence:', X_train[5])\n",
    "print('Tf_idf vector:', tfidf_bypara[5])"
   ]
  },
  {
   "cell_type": "code",
   "execution_count": 334,
   "metadata": {
    "collapsed": false
   },
   "outputs": [
    {
     "data": {
      "text/plain": [
       "(1422, 1948)"
      ]
     },
     "execution_count": 334,
     "metadata": {},
     "output_type": "execute_result"
    }
   ],
   "source": [
    "# for i in X_train_tfidf.toarray():\n",
    "#     print(i)\n",
    "#     z = zip(i, vectorizer.get_feature_names())\n",
    "#     for j in z:\n",
    "#         print(j)\n",
    "#     break\n",
    "\n",
    "X_train_tfidf.shape"
   ]
  },
  {
   "cell_type": "code",
   "execution_count": null,
   "metadata": {
    "collapsed": false
   },
   "outputs": [],
   "source": []
  },
  {
   "cell_type": "markdown",
   "metadata": {},
   "source": [
    "Question: What does this mean?\n",
    "\n",
    "> Okay, now we have our vectors, with one vector per paragraph. It's time to do some dimension reduction. We use the Singular Value Decomposition (SVD) function from sklearn rather than PCA because we don't want to mean-center our variables (and thus lose sparsity):"
   ]
  },
  {
   "cell_type": "code",
   "execution_count": 335,
   "metadata": {
    "collapsed": false
   },
   "outputs": [
    {
     "data": {
      "text/plain": [
       "[3, 4, 5]"
      ]
     },
     "execution_count": 335,
     "metadata": {},
     "output_type": "execute_result"
    }
   ],
   "source": [
    "# 1618, 1942, 1203\n",
    "# svd.components_[0].argsort()\n",
    "# vectorizer.get_feature_names()[1203]\n",
    "\n",
    "a = [1,2,3,4,5]\n",
    "top_components = a[-3:]\n",
    "top_components"
   ]
  },
  {
   "cell_type": "code",
   "execution_count": 336,
   "metadata": {
    "collapsed": false
   },
   "outputs": [
    {
     "name": "stdout",
     "output_type": "stream",
     "text": [
      "Percent variance captured by all components: 45.2003348297\n",
      "Component 0:\n",
      "1948\n",
      "Ze component is:  papa\n",
      "Ze component is:  just\n",
      "Ze component is:  sorry\n",
      "Ze component is:  yes\n",
      "Ze component is:  oh\n",
      "\" Oh !    0.99929\n",
      "Oh !      0.99929\n",
      "\" Oh !    0.99929\n",
      "\" Oh !    0.99929\n",
      "\" Oh !    0.99929\n",
      "\" Oh !    0.99929\n",
      "\" Oh !    0.99929\n",
      "\" Oh !    0.99929\n",
      "\" Oh !    0.99929\n",
      "\" Oh !    0.99929\n",
      "Name: 0, dtype: float64\n",
      "Component 1:\n",
      "1948\n",
      "Ze component is:  miss\n",
      "Ze component is:  mrs\n",
      "Ze component is:  said\n",
      "Ze component is:  mr\n",
      "Ze component is:  emma\n",
      "\" You have made her too tall , Emma ,\" said Mr . Knightley .                                                                                                                                                                                                                                                                                                                                                                                                                                                                                                                                                                                                                                                                                                                                                                                                                                                                                     0.634244\n",
      "\" You get upon delicate subjects , Emma ,\" said Mrs . Weston smiling ; \" remember that I am here . Mr .                                                                                                                                                                                                                                                                                                                                                                                                                                                                                                                                                                                                                                                                                                                                                                                                                                          0.594733\n",
      "\" I do not know what your opinion may be , Mrs . Weston ,\" said Mr . Knightley , \" of this great intimacy between Emma and Harriet Smith , but I think it a bad thing .\"                                                                                                                                                                                                                                                                                                                                                                                                                                                                                                                                                                                                                                                                                                                                                                         0.560323\n",
      "\" You are right , Mrs . Weston ,\" said Mr . Knightley warmly , \" Miss Fairfax is as capable as any of us of forming a just opinion of Mrs . Elton .                                                                                                                                                                                                                                                                                                                                                                                                                                                                                                                                                                                                                                                                                                                                                                                              0.557591\n",
      "\" There were misunderstandings between them , Emma ; he said so expressly .                                                                                                                                                                                                                                                                                                                                                                                                                                                                                                                                                                                                                                                                                                                                                                                                                                                                      0.528300\n",
      "Mr . Knightley might quarrel with her , but Emma could not quarrel with herself .                                                                                                                                                                                                                                                                                                                                                                                                                                                                                                                                                                                                                                                                                                                                                                                                                                                                0.526168\n",
      "Emma found that it was not Mr . Weston ' s fault that the number of privy councillors was not yet larger .                                                                                                                                                                                                                                                                                                                                                                                                                                                                                                                                                                                                                                                                                                                                                                                                                                       0.508338\n",
      "\" In one respect , perhaps , Mr . Elton ' s manners are superior to Mr . Knightley ' s or Mr . Weston ' s .                                                                                                                                                                                                                                                                                                                                                                                                                                                                                                                                                                                                                                                                                                                                                                                                                                      0.507859\n",
      "\" Now ,\" said Emma , when they were fairly beyond the sweep gates , \" now Mr . Weston , do let me know what has happened .\"                                                                                                                                                                                                                                                                                                                                                                                                                                                                                                                                                                                                                                                                                                                                                                                                                      0.505969\n",
      "Mrs . Weston was acting no part , feigning no feelings in all that she said to him in favour of the event . She had been extremely surprized , never more so , than when Emma first opened the affair to her ; but she saw in it only increase of happiness to all , and had no scruple in urging him to the utmost . She had such a regard for Mr . Knightley , as to think he deserved even her dearest Emma ; and it was in every respect so proper , suitable , and unexceptionable a connexion , and in one respect , one point of the highest importance , so peculiarly eligible , so singularly fortunate , that now it seemed as if Emma could not safely have attached herself to any other creature , and that she had herself been the stupidest of beings in not having thought of it , and wished it long ago . How very few of those men in a rank of life to address Emma would have renounced their own home for Hartfield !    0.501626\n",
      "Name: 1, dtype: float64\n",
      "Component 2:\n",
      "1948\n",
      "Ze component is:  vii\n",
      "Ze component is:  xvi\n",
      "Ze component is:  ii\n",
      "Ze component is:  iii\n",
      "Ze component is:  chapter\n",
      "CHAPTER I       0.998413\n",
      "CHAPTER V       0.998413\n",
      "CHAPTER X       0.998413\n",
      "CHAPTER I       0.998413\n",
      "CHAPTER I       0.998413\n",
      "CHAPTER X       0.998413\n",
      "CHAPTER V       0.998413\n",
      "CHAPTER V       0.998413\n",
      "CHAPTER X       0.998413\n",
      "CHAPTER XVII    0.997100\n",
      "Name: 2, dtype: float64\n",
      "Component 3:\n",
      "1948\n",
      "Ze component is:  emma\n",
      "Ze component is:  said\n",
      "Ze component is:  miss\n",
      "Ze component is:  dear\n",
      "Ze component is:  ah\n",
      "\" Ah !    0.992907\n",
      "\" Ah !    0.992907\n",
      "\" Ah !    0.992907\n",
      "\" Ah !    0.992907\n",
      "\" Ah !    0.992907\n",
      "\" Ah !    0.992907\n",
      "\" Ah !    0.992907\n",
      "\" Ah !    0.992907\n",
      "\" Ah !    0.992907\n",
      "\" Ah !    0.992907\n",
      "Name: 3, dtype: float64\n",
      "Component 4:\n",
      "1948\n",
      "Ze component is:  yes\n",
      "Ze component is:  harriet\n",
      "Ze component is:  dear\n",
      "Ze component is:  said\n",
      "Ze component is:  emma\n",
      "\" There were misunderstandings between them , Emma ; he said so expressly .    0.650526\n",
      "Emma demurred .                                                                0.598577\n",
      "\" Are you well , my Emma ?\"                                                    0.598577\n",
      "Emma was silenced .                                                            0.587322\n",
      "At first it was downright dulness to Emma .                                    0.586229\n",
      "\" Emma , my dear Emma \"                                                        0.576755\n",
      "Emma could not resist .                                                        0.569321\n",
      "\" It is not now worth a regret ,\" said Emma .                                  0.564916\n",
      "\" For shame , Emma !                                                           0.544464\n",
      "\" I am ready ,\" said Emma , \" whenever I am wanted .\"                          0.502581\n",
      "Name: 4, dtype: float64\n"
     ]
    }
   ],
   "source": [
    "from sklearn.decomposition import TruncatedSVD\n",
    "from sklearn.pipeline import make_pipeline\n",
    "from sklearn.preprocessing import Normalizer\n",
    "\n",
    "#Our SVD data reducer.  We are going to reduce the feature space from 1379 to 130.\n",
    "svd= TruncatedSVD(130)\n",
    "lsa = make_pipeline(svd, Normalizer(copy=False))\n",
    "# Run SVD on the training data, then project the training data.\n",
    "X_train_lsa = lsa.fit_transform(X_train_tfidf)\n",
    "\n",
    "variance_explained=svd.explained_variance_ratio_\n",
    "total_variance = variance_explained.sum()\n",
    "print(\"Percent variance captured by all components:\",total_variance*100)\n",
    "\n",
    "#Looking at what sorts of paragraphs our solution considers similar, for the first five identified topics\n",
    "# Question: Why do we use x_train_lsa AND x_train as an index?\n",
    "paras_by_component=pd.DataFrame(X_train_lsa,index=X_train)\n",
    "for i in range(5):\n",
    "    print('Component {}:'.format(i))\n",
    "    top_components = svd.components_[i].argsort()[-5:]\n",
    "    print(len(svd.components_[0]))\n",
    "    for t in top_components:\n",
    "        print(\"Ze component is: \", vectorizer.get_feature_names()[t])\n",
    "    print(paras_by_component.loc[:,i].sort_values(ascending=False)[0:10])"
   ]
  },
  {
   "cell_type": "code",
   "execution_count": 337,
   "metadata": {
    "collapsed": false
   },
   "outputs": [],
   "source": [
    "from sklearn.metrics.pairwise import cosine_similarity\n",
    "\n",
    "# cos = cosine_similarity(X_train_tfidf, X_train_tfidf)"
   ]
  },
  {
   "cell_type": "code",
   "execution_count": 338,
   "metadata": {
    "collapsed": false
   },
   "outputs": [
    {
     "name": "stdout",
     "output_type": "stream",
     "text": [
      "=====\n",
      "\" Very true ,\" he gravely replied ; \" it was very bad .\"\n",
      "=====\n",
      "\" He is very plain , undoubtedly  remarkably plain : but that is nothing compared with his entire want of gentility .\n",
      "=====\n",
      "\" And do you really believe the affair to have been carrying on with such perfect secresy ? The Campbells , the Dixons , did none of them know of the engagement ?\"\n",
      "=====\n",
      "\" It appears to me the most desirable arrangement in the world .\"\n",
      "=====\n",
      "\" I have no doubt of his being a very respectable young man .\n",
      "=====\n",
      "\" Oh !\n",
      "=====\n",
      "It was hot ; and after walking some time over the gardens in a scattered , dispersed way , scarcely any three together , they insensibly followed one another to the delicious shade of a broad short avenue of limes , which stretching beyond the garden at an equal distance from the river , seemed the finish of the pleasure grounds . It led to nothing ; nothing but a view at the end over a low stone wall with high pillars , which seemed intended , in their erection , to give the appearance of an approach to the house , which never had been there .\n",
      "=====\n",
      "The cold repast was over , and the party were to go out once more to see what had not yet been seen , the old Abbey fish - ponds ; perhaps get as far as the clover , which was to be begun cutting on the morrow , or , at any rate , have the pleasure of being hot , and growing cool again . Mr .\n",
      "=====\n",
      "\" But you would not wish me to come away before I am tired , papa ?\"\n",
      "=====\n",
      "Mr . Elton was so hot and tired , that all this wit seemed thrown away .\n"
     ]
    }
   ],
   "source": [
    "sent = vectorizer.transform([\"hot and tired\"])\n",
    "love = cosine_similarity(sent, X_train_tfidf)\n",
    "top_matches = love.argsort()[0][-10:]\n",
    "for i in top_matches:\n",
    "    print(\"=====\")\n",
    "    print(X_train[i])"
   ]
  },
  {
   "cell_type": "code",
   "execution_count": null,
   "metadata": {
    "collapsed": false
   },
   "outputs": [],
   "source": []
  },
  {
   "cell_type": "code",
   "execution_count": null,
   "metadata": {
    "collapsed": false
   },
   "outputs": [],
   "source": []
  },
  {
   "cell_type": "code",
   "execution_count": 339,
   "metadata": {
    "collapsed": false
   },
   "outputs": [
    {
     "data": {
      "image/png": "[encoded data removed]",
      "text/plain": [
       "<matplotlib.figure.Figure at 0x13bab64a8>"
      ]
     },
     "metadata": {},
     "output_type": "display_data"
    },
    {
     "name": "stdout",
     "output_type": "stream",
     "text": [
      "Key:\n",
      "0 That is _court_ .\n",
      "1 \" Yes , sir , I did indeed ; and I am very much obliged by your kind solicitude about me .\"\n",
      "2 \" How much his business engrosses him already is very plain from the circumstance of his forgetting to inquire for the book you recommended .\n",
      "3 To restrain him as much as might be , by her own manners , she was immediately preparing to speak with exquisite calmness and gravity of the weather and the night ; but scarcely had she begun , scarcely had they passed the sweep - gate and joined the other carriage , than she found her subject cut up  her hand seized  her attention demanded , and Mr . Elton actually making violent love to her : availing himself of the precious opportunity , declaring sentiments which must be already well known , hoping  fearing  adoring  ready to die if she refused him ; but flattering himself that his ardent attachment and unequalled love and unexampled passion could not fail of having some effect , and in short , very much resolved on being seriously accepted as soon as possible .\n",
      "4 Emma smiled and answered \" My visit was of use to the nervous part of her complaint , I hope ; but not even I can charm away a sore throat ; it is a most severe cold indeed .\n",
      "5 A very few minutes more , however , completed the present trial .\n",
      "6 \" I am delighted to hear you speak so stoutly on the subject ,\" replied Emma , smiling ; \" but you do not mean to deny that there was a time  and not very distant either  when you gave me reason to understand that you did care about him ?\"\n",
      "7 \" Very well ; and if he had intended to give her one , he would have told her so .\"\n",
      "8 Some laughed , and answered good - humouredly .\n",
      "9 \" There appeared such a perfectly good understanding among them all \" he began rather quickly , but checking himself , added , \" however , it is impossible for me to say on what terms they really were  how it might all be behind the scenes .\n"
     ]
    }
   ],
   "source": [
    "# Compute document similarity using LSA components\n",
    "similarity = np.asarray(np.asmatrix(X_train_lsa) * np.asmatrix(X_train_lsa).T)\n",
    "#Only taking the first 10 sentences\n",
    "sim_matrix=pd.DataFrame(similarity,index=X_train).iloc[0:10,0:10]\n",
    "#Making a plot\n",
    "ax = sns.heatmap(sim_matrix,yticklabels=range(10))\n",
    "plt.show()\n",
    "\n",
    "#Generating a key for the plot.\n",
    "print('Key:')\n",
    "for i in range(10):\n",
    "    print(i,sim_matrix.index[i])\n"
   ]
  },
  {
   "cell_type": "code",
   "execution_count": 340,
   "metadata": {
    "collapsed": false
   },
   "outputs": [
    {
     "name": "stdout",
     "output_type": "stream",
     "text": [
      "Percent variance captured by all components: 45.2003348297\n",
      "Component 0:\n",
      "1948\n",
      "Ze component is:  papa\n",
      "Ze component is:  just\n",
      "Ze component is:  sorry\n",
      "Ze component is:  yes\n",
      "Ze component is:  oh\n",
      "\" Oh !       0.99929\n",
      "\" Oh !       0.99929\n",
      "\" Oh !       0.99929\n",
      "\" Oh !       0.99929\n",
      "\" Oh !       0.99929\n",
      "\" Oh !       0.99929\n",
      "\" Oh !       0.99929\n",
      "\" Oh no !    0.99929\n",
      "\" Oh !       0.99929\n",
      "\" Oh !       0.99929\n",
      "Name: 0, dtype: float64\n",
      "Component 1:\n",
      "1948\n",
      "Ze component is:  miss\n",
      "Ze component is:  mrs\n",
      "Ze component is:  said\n",
      "Ze component is:  mr\n",
      "Ze component is:  emma\n",
      "\" Well , Mrs . Weston ,\" said Emma triumphantly when he left them , \" what do you say now to Mr . Knightley ' s marrying Jane Fairfax ?\"                                                                                                                                                                                                                                                                                                             0.676355\n",
      "Frank turned instantly to Emma , to claim her former promise ; and boasted himself an engaged man , which his father looked his most perfect approbation of  and it then appeared that Mrs . Weston was wanting _him_ to dance with Mrs . Elton himself , and that their business was to help to persuade him into it , which was done pretty soon . Mr . Weston and Mrs . Elton led the way , Mr . Frank Churchill and Miss Woodhouse followed .    0.604032\n",
      "In this walk Emma and Mr . Weston found all the others assembled ; and towards this view she immediately perceived Mr . Knightley and Harriet distinct from the rest , quietly leading the way .                                                                                                                                                                                                                                                     0.571821\n",
      "After tea , Mr . and Mrs . Weston , and Mr . Elton sat down with Mr . Woodhouse to cards .                                                                                                                                                                                                                                                                                                                                                           0.567120\n",
      "The result of this distress was , that , with a much more voluntary , cheerful consent than his daughter had ever presumed to hope for at the moment , she was able to fix her wedding - day  and Mr . Elton was called on , within a month from the marriage of Mr . and Mrs . Robert Martin , to join the hands of Mr . Knightley and Miss Woodhouse .                                                                                             0.557346\n",
      "\" He is a person I never think of from one month ' s end to another ,\" said Mr . Knightley , with a degree of vexation , which made Emma immediately talk of something else , though she could not comprehend why he should be angry .                                                                                                                                                                                                               0.555512\n",
      "\" Mrs . Weston ' s manners ,\" said Emma , \" were always particularly good .                                                                                                                                                                                                                                                                                                                                                                          0.552094\n",
      "Emma was more than half in hopes of Mr . Elton ' s having dropt a hint .                                                                                                                                                                                                                                                                                                                                                                             0.539384\n",
      "\" Well ,\" said Emma , \" there is no disputing about taste . At least you admire her except her complexion .\"                                                                                                                                                                                                                                                                                                                                         0.533829\n",
      "Nobody had any information to give ; and , after a few more wonderings , Emma said ,                                                                                                                                                                                                                                                                                                                                                                 0.531003\n",
      "Name: 1, dtype: float64\n",
      "Component 2:\n",
      "1948\n",
      "Ze component is:  vii\n",
      "Ze component is:  xvi\n",
      "Ze component is:  ii\n",
      "Ze component is:  iii\n",
      "Ze component is:  chapter\n",
      "CHAPTER XIX      0.998413\n",
      "CHAPTER XV       0.998413\n",
      "CHAPTER XVIII    0.998413\n",
      "CHAPTER XV       0.998413\n",
      "CHAPTER XVIII    0.998413\n",
      "CHAPTER XV       0.998413\n",
      "CHAPTER XVIII    0.998413\n",
      "CHAPTER XVII     0.997100\n",
      "CHAPTER XVII     0.997100\n",
      "CHAPTER XII      0.997091\n",
      "Name: 2, dtype: float64\n",
      "Component 3:\n",
      "1948\n",
      "Ze component is:  emma\n",
      "Ze component is:  said\n",
      "Ze component is:  miss\n",
      "Ze component is:  dear\n",
      "Ze component is:  ah\n",
      "\" Ah !     0.992907\n",
      "\" Ah !     0.992907\n",
      "\" Ah !     0.992907\n",
      "\" Ah !\"    0.992907\n",
      "\" Ah !     0.992907\n",
      "\" Ah !     0.992907\n",
      "\" Ah !     0.992907\n",
      "\" Ah !     0.992907\n",
      "\" Ah !     0.992907\n",
      "\" Ah !     0.992907\n",
      "Name: 3, dtype: float64\n",
      "Component 4:\n",
      "1948\n",
      "Ze component is:  yes\n",
      "Ze component is:  harriet\n",
      "Ze component is:  dear\n",
      "Ze component is:  said\n",
      "Ze component is:  emma\n",
      "\" No , no ,\" said Emma , \" it will not reckon low .                                                             0.629807\n",
      "Nobody had any information to give ; and , after a few more wonderings , Emma said ,                            0.629708\n",
      "\" Well ,\" said Emma , \" there is no disputing about taste . At least you admire her except her complexion .\"    0.622235\n",
      "Emma had done .                                                                                                 0.598577\n",
      "\" Emma !\"                                                                                                       0.598577\n",
      "\" My Emma !\"                                                                                                    0.598577\n",
      "Emma wondered on what , of all the medley , she would fix .                                                     0.594339\n",
      "\" And I do envy him , Emma .                                                                                    0.592036\n",
      "\" Emma ,\" said she , \" this paper is worse than I expected .                                                    0.580457\n",
      "\" No ,\" said Emma , laughing ; \" but perhaps there might be some made to his coming back again .                0.549605\n",
      "Name: 4, dtype: float64\n"
     ]
    }
   ],
   "source": [
    "# Drill 0: Apply LSA to test set\n",
    "\n",
    "# svd= TruncatedSVD(130)\n",
    "# lsa = make_pipeline(svd, Normalizer(copy=False))\n",
    "# lsa = lsa.fit(X_train_tfidf)\n",
    "X_test_lsa = lsa.transform(X_test_tfidf)\n",
    "\n",
    "variance_explained=svd.explained_variance_ratio_\n",
    "total_variance = variance_explained.sum()\n",
    "print(\"Percent variance captured by all components:\",total_variance*100)\n",
    "\n",
    "#Looking at what sorts of paragraphs our solution considers similar, for the first five identified topics\n",
    "paras_by_component=pd.DataFrame(X_test_lsa,index=X_test)\n",
    "for i in range(5):\n",
    "    print('Component {}:'.format(i))\n",
    "    top_components = svd.components_[i].argsort()[-5:]\n",
    "    print(len(svd.components_[0]))\n",
    "    for t in top_components:\n",
    "        print(\"Ze component is: \", vectorizer.get_feature_names()[t])\n",
    "    print(paras_by_component.loc[:,i].sort_values(ascending=False)[0:10])\n",
    "    "
   ]
  },
  {
   "cell_type": "code",
   "execution_count": 341,
   "metadata": {
    "collapsed": true
   },
   "outputs": [],
   "source": [
    "# Does it identify similar sentences for components 0 through 4?\n",
    "# => Ish. I feel like these results are all over the map."
   ]
  },
  {
   "cell_type": "code",
   "execution_count": 342,
   "metadata": {
    "collapsed": true
   },
   "outputs": [],
   "source": [
    "# Drill 1\n",
    "# How would we integrate spaCy to use lemmas?\n",
    "# => TODO Change things up a few times and see how that affects the results of the LSA.\n",
    "# Write up your observations and share them with your mentor."
   ]
  },
  {
   "cell_type": "code",
   "execution_count": 343,
   "metadata": {
    "collapsed": true
   },
   "outputs": [],
   "source": [
    "#####"
   ]
  },
  {
   "cell_type": "code",
   "execution_count": 346,
   "metadata": {
    "collapsed": false
   },
   "outputs": [
    {
     "name": "stdout",
     "output_type": "stream",
     "text": [
      "['[ Emma by Jane Austen 1816 ]', 'VOLUME I', 'CHAPTER I', 'Emma Woodhouse , handsome , clever , and rich , with a comfortable home and happy disposition , seemed to unite some of the best blessings of existence ; and had lived nearly twenty - one years in the world with very little to distress or vex her .']\n"
     ]
    }
   ],
   "source": [
    "#reading in the data, this time in the form of paragraphs\n",
    "emma=gutenberg.paras('austen-emma.txt')\n",
    "#processing\n",
    "emma_paras=[]\n",
    "for paragraph in emma:\n",
    "    para=paragraph[0]\n",
    "    #removing the double-dash from all words\n",
    "    para=[re.sub(r'--','',word) for word in para]\n",
    "    #Forming each paragraph into a string and adding it to the list of strings.\n",
    "    emma_paras.append(' '.join(para))\n",
    "\n",
    "print(emma_paras[0:4])"
   ]
  },
  {
   "cell_type": "code",
   "execution_count": 363,
   "metadata": {
    "collapsed": false
   },
   "outputs": [],
   "source": [
    "import spacy\n",
    "nlp = spacy.load('en')\n",
    "\n",
    "emma_doc=[]\n",
    "for paragraph in emma_paras:\n",
    "    emma_doc.append(\" \".join([token.lemma_ for token in nlp(paragraph)]))"
   ]
  },
  {
   "cell_type": "code",
   "execution_count": 364,
   "metadata": {
    "collapsed": false
   },
   "outputs": [
    {
     "name": "stdout",
     "output_type": "stream",
     "text": [
      "['[ emma by jane austen 1816 ]', 'volume i', 'chapter i', 'emma woodhouse , handsome , clever , and rich , with a comfortable home and happy disposition , seem to unite some of the best blessing of existence ; and have live nearly twenty - one year in the world with very little to distress or vex her .']\n"
     ]
    }
   ],
   "source": [
    "print(emma_doc[0:4])"
   ]
  },
  {
   "cell_type": "code",
   "execution_count": null,
   "metadata": {
    "collapsed": false
   },
   "outputs": [],
   "source": []
  },
  {
   "cell_type": "code",
   "execution_count": 366,
   "metadata": {
    "collapsed": false
   },
   "outputs": [
    {
     "name": "stdout",
     "output_type": "stream",
     "text": [
      "Number of features: 1592\n",
      "Original sentence: a very few minute more , however , complete the present trial .\n",
      "Tf_idf vector: {'present': 0.53946685074649903, 'minute': 0.5433044653685889, 'complete': 0.64326959733552336}\n"
     ]
    }
   ],
   "source": [
    "from sklearn.feature_extraction.text import TfidfVectorizer\n",
    "\n",
    "X_train, X_test = train_test_split(emma_doc, test_size=0.4, random_state=0)\n",
    "\n",
    "vectorizer = TfidfVectorizer(max_df=0.5, # drop words that occur in more than half the paragraphs\n",
    "                             min_df=2, # only use words that appear at least twice\n",
    "                             stop_words='english', \n",
    "                             lowercase=True, #convert everything to lower case (since Alice in Wonderland has the HABIT of CAPITALIZING WORDS for EMPHASIS)\n",
    "                             use_idf=True, #we definitely want to use inverse document frequencies in our weighting\n",
    "                             norm=u'l2', #Applies a correction factor so that longer paragraphs and shorter paragraphs get treated equally\n",
    "                             smooth_idf=True #Adds 1 to all document frequencies, as if an extra document existed that used every word once.  Prevents divide-by-zero errors\n",
    "                            )\n",
    "\n",
    "\n",
    "#Applying the vectorizer\n",
    "# Question: How to make this work with Spacy?\n",
    "emma_doc_tfidf=vectorizer.fit_transform(emma_doc)\n",
    "print(\"Number of features: %d\" % emma_doc_tfidf.get_shape()[1])\n",
    "\n",
    "\n",
    "X_train_tfidf, X_test_tfidf= train_test_split(emma_doc_tfidf, test_size=0.4, random_state=0)\n",
    "\n",
    "n = X_train_tfidf.shape[0]\n",
    "tfidf_bypara = [{} for _ in range(0,n)]\n",
    "terms = vectorizer.get_feature_names()\n",
    "for i, j in zip(*X_train_tfidf.nonzero()):\n",
    "    tfidf_bypara[i][terms[j]] = X_train_tfidf[i, j]\n",
    "\n",
    "\n",
    "print('Original sentence:', X_train[5])\n",
    "print('Tf_idf vector:', tfidf_bypara[5])"
   ]
  },
  {
   "cell_type": "code",
   "execution_count": 373,
   "metadata": {
    "collapsed": false
   },
   "outputs": [
    {
     "data": {
      "text/plain": [
       "'a very few minute more , however , complete the present trial .'"
      ]
     },
     "execution_count": 373,
     "metadata": {},
     "output_type": "execute_result"
    }
   ],
   "source": [
    "X_train[5]"
   ]
  },
  {
   "cell_type": "code",
   "execution_count": null,
   "metadata": {
    "collapsed": false
   },
   "outputs": [],
   "source": []
  },
  {
   "cell_type": "code",
   "execution_count": null,
   "metadata": {
    "collapsed": true
   },
   "outputs": [],
   "source": []
  }
 ],
 "metadata": {
  "kernelspec": {
   "display_name": "Python [conda root]",
   "language": "python",
   "name": "conda-root-py"
  },
  "language_info": {
   "codemirror_mode": {
    "name": "ipython",
    "version": 3
   },
   "file_extension": ".py",
   "mimetype": "text/x-python",
   "name": "python",
   "nbconvert_exporter": "python",
   "pygments_lexer": "ipython3",
   "version": "3.5.2"
  }
 },
 "nbformat": 4,
 "nbformat_minor": 2
}
