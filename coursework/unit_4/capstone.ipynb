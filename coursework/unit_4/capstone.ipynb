{
 "cells": [
  {
   "cell_type": "markdown",
   "metadata": {},
   "source": [
    "## Capstone\n",
    "\n",
    "For this project you'll dig into a large amount of text and apply most of what you've covered in this unit and in the course so far.\n",
    "\n",
    "First, pick a set of texts. This can be either a series of novels, chapters, or articles. Anything you'd like. It just has to have multiple entries of varying characteristics. At least 100 should be good. There should also be at least 10 different authors, but try to keep the texts related (either all on the same topic of from the same branch of literature - something to make classification a bit more difficult than obviously different subjects).\n",
    "\n",
    "This capstone can be an extension of your NLP challenge if you wish to use the same corpus. If you found problems with that data set that limited your analysis, however, it may be worth using what you learned to choose a new corpus. Reserve 25% of your corpus as a test set.\n",
    "\n",
    "The first technique is to create a series of clusters. Try several techniques and pick the one you think best represents your data. Make sure there is a narrative and reasoning around why you have chosen the given clusters. Are authors consistently grouped into the same cluster?\n",
    "\n",
    "Next, perform some unsupervised feature generation and selection using the techniques covered in this unit and elsewhere in the course. Using those features then build models to attempt to classify your texts by author. Try different permutations of unsupervised and supervised techniques to see which combinations have the best performance.\n",
    "\n",
    "Lastly return to your holdout group. Does your clustering on those members perform as you'd expect? Have your clusters remained stable or changed dramatically? What about your model? Is it's performance consistent?\n",
    "\n",
    "If there is a divergence in the relative stability of your model and your clusters, delve into why.\n",
    "\n",
    "Your end result should be a write up of how clustering and modeling compare for classifying your texts. What are the advantages of each? Why would you want to use one over the other? Approximately 3-5 pages is a good length for your write up, and remember to include visuals to help tell your story!"
   ]
  },
  {
   "cell_type": "code",
   "execution_count": 125,
   "metadata": {
    "collapsed": true
   },
   "outputs": [],
   "source": [
    "# Grab the data from here: http://share.mailcharts.com/0D0Q2e0L1s47 and http://share.mailcharts.com/0z0F3m1X0l39\n",
    "import pandas as pd\n",
    "import numpy as np"
   ]
  },
  {
   "cell_type": "code",
   "execution_count": 126,
   "metadata": {
    "collapsed": false
   },
   "outputs": [
    {
     "name": "stdout",
     "output_type": "stream",
     "text": [
      "(3365, 8)\n",
      "Index(['reg_id', 'add_id', 'name', 'email_guid', 'sent_at', 'subject',\n",
      "       'full_text', 'r'],\n",
      "      dtype='object')\n"
     ]
    }
   ],
   "source": [
    "df = pd.read_csv(\"./data/capstone-v2.csv\", encoding=\"ISO-8859-1\")\n",
    "print(df.shape)\n",
    "print(df.columns)"
   ]
  },
  {
   "cell_type": "code",
   "execution_count": 127,
   "metadata": {
    "collapsed": true
   },
   "outputs": [],
   "source": [
    "from nltk.stem import PorterStemmer\n",
    "from nltk.corpus import stopwords\n",
    "from nltk import word_tokenize\n",
    "from nltk import ngrams\n",
    "import string\n",
    "import re\n",
    "\n",
    "# Steps: Clean up text, stemming, remove stop words and weird chars, tokenizer words\n",
    "\n",
    "# punctuation = list(set(string.punctuation))\n",
    "re_punctuation = \"\\.|\\>|\\/|\\)|\\\"|\\(|\\}|\\'|\\_|\\-|\\$|\\:|\\[|\\^|\\+|\\?|\\`|\\~|\\!|\\<|\\@|\\;|\\=|\\*|\\\\\\|\\{|\\&|\\]|\\||\\,|\\|\"\n",
    "stopwords_set = list(set(stopwords.words('english')))\n",
    "handpicked_works = [\"com\"]\n",
    "\n",
    "def get_unigram_sentence(sentence, company_name):\n",
    "    company_names = company_name.lower().split(\" \")\n",
    "    company_names.append(company_name.lower().replace(\" \", \"\"))\n",
    "    \n",
    "    sentence_no_punc = re.sub(re_punctuation, \" \", sentence)\n",
    "    unigram = [word for word in word_tokenize(sentence_no_punc.lower()) if word not in stopwords_set and word not in company_names and word not in handpicked_works]\n",
    "    return unigram"
   ]
  },
  {
   "cell_type": "code",
   "execution_count": 128,
   "metadata": {
    "collapsed": false
   },
   "outputs": [],
   "source": [
    "tokenized_text = []\n",
    "\n",
    "for i, el in df.iterrows():\n",
    "    tokenized_text.append(get_unigram_sentence(el['subject'], el['name']))\n",
    "\n",
    "df[\"tokenized_text\"] = tokenized_text"
   ]
  },
  {
   "cell_type": "code",
   "execution_count": 129,
   "metadata": {
    "collapsed": true
   },
   "outputs": [],
   "source": [
    "stemmer = PorterStemmer()\n",
    "\n",
    "def get_stems(words):\n",
    "    return [stemmer.stem(word) for word in words]"
   ]
  },
  {
   "cell_type": "code",
   "execution_count": 130,
   "metadata": {
    "collapsed": true
   },
   "outputs": [],
   "source": [
    "df[\"stemmed_tokens\"] = df.tokenized_text.apply(lambda x: get_stems(x))"
   ]
  },
  {
   "cell_type": "code",
   "execution_count": 131,
   "metadata": {
    "collapsed": true
   },
   "outputs": [],
   "source": [
    "df[\"stemmed_text\"] = df[\"stemmed_tokens\"].apply(lambda x: \" \".join(word for word in x))"
   ]
  },
  {
   "cell_type": "code",
   "execution_count": 132,
   "metadata": {
    "collapsed": false
   },
   "outputs": [],
   "source": [
    "from sklearn.feature_extraction.text import TfidfVectorizer, CountVectorizer\n",
    "\n",
    "# vectorizer = TfidfVectorizer(stop_words=\"english\", min_df=50, ngram_range=(1,2))\n",
    "vectorizer = CountVectorizer(stop_words=\"english\", min_df=50)\n",
    "\n",
    "vectorizer = vectorizer.fit(df[\"stemmed_text\"])\n",
    "X = vectorizer.transform(df[\"stemmed_text\"])\n",
    "X = X.toarray()"
   ]
  },
  {
   "cell_type": "code",
   "execution_count": 133,
   "metadata": {
    "collapsed": false
   },
   "outputs": [],
   "source": [
    "# # Split our data in test / train\n",
    "# from sklearn.model_selection import train_test_split\n",
    "\n",
    "# X_train, X_test = train_test_split(X, test_size=0.25, random_state=100)\n",
    "# df_train, df_test = train_test_split(df, test_size=0.25, random_state=100)\n",
    "\n",
    "# print(X_train.shape)\n",
    "# print(X_test.shape)"
   ]
  },
  {
   "cell_type": "code",
   "execution_count": 134,
   "metadata": {
    "collapsed": false
   },
   "outputs": [
    {
     "name": "stderr",
     "output_type": "stream",
     "text": [
      "//anaconda/lib/python3.5/site-packages/sklearn/decomposition/online_lda.py:532: DeprecationWarning: The default value for 'learning_method' will be changed from 'online' to 'batch' in the release 0.20. This warning was introduced in 0.18.\n",
      "  DeprecationWarning)\n"
     ]
    },
    {
     "data": {
      "text/plain": [
       "LatentDirichletAllocation(batch_size=128, doc_topic_prior=None,\n",
       "             evaluate_every=-1, learning_decay=0.7, learning_method=None,\n",
       "             learning_offset=10.0, max_doc_update_iter=100, max_iter=10,\n",
       "             mean_change_tol=0.001, n_components=6, n_jobs=1,\n",
       "             n_topics=None, perp_tol=0.1, random_state=22,\n",
       "             topic_word_prior=None, total_samples=1000000.0, verbose=0)"
      ]
     },
     "execution_count": 134,
     "metadata": {},
     "output_type": "execute_result"
    }
   ],
   "source": [
    "from sklearn.decomposition import LatentDirichletAllocation as LDA\n",
    "\n",
    "vectorized_values = X\n",
    "\n",
    "lda = LDA(6, random_state=22)\n",
    "lda.fit(vectorized_values)"
   ]
  },
  {
   "cell_type": "code",
   "execution_count": 135,
   "metadata": {
    "collapsed": false
   },
   "outputs": [
    {
     "name": "stdout",
     "output_type": "stream",
     "text": [
      "Topic 0:\n",
      "[('order', 482.15211872257055), ('confirm', 255.62581284201485), ('account', 95.85691550403682), ('receiv', 49.904849740078475), ('lorem', 0.1678661424038993), ('shipment', 0.1673806752796114), ('deliveri', 0.16722944819457455), ('shop', 0.16713224124860648), ('ship', 0.16705559786669114), ('thank', 0.1669234619469451)]\n",
      "====================================================================================================\n",
      "Topic 1:\n",
      "[('thank', 209.84719430827846), ('order', 155.5153540726883), ('lorem', 104.28456241599727), ('gift', 97.781533536753), ('way', 87.70228529196665), ('shipment', 53.35132204199367), ('shop', 0.16766427225987832), ('welcom', 0.1672196995100544), ('account', 0.16721608074336233), ('purchas', 0.16712906671594271)]\n",
      "====================================================================================================\n",
      "Topic 2:\n",
      "[('ship', 314.80376502297815), ('welcom', 299.09929360261737), ('free', 163.94775339994263), ('order', 163.45352267114652), ('today', 98.55312978529751), ('lorem', 0.17229374873845626), ('start', 0.16898496289656215), ('end', 0.16845898481465585), ('10', 0.16768290883576606), ('day', 0.16764003951902143)]\n",
      "====================================================================================================\n",
      "Topic 3:\n",
      "[('sale', 96.47621285544288), ('end', 87.27014780412395), ('30', 80.27614563704817), ('purchas', 78.43406024509687), ('style', 71.01011484526684), ('extra', 60.38082413819638), ('15', 54.81935107161625), ('deliveri', 49.29042863350461), ('today', 0.17751118726799492), ('25', 0.17481803001159418)]\n",
      "====================================================================================================\n",
      "Topic 4:\n",
      "[('new', 215.47181142511332), ('10', 78.12544324496804), ('order', 0.1726760998154649), ('sale', 0.16755126905637316), ('deal', 0.16727068602091028), ('50', 0.16726377717658242), ('thank', 0.16723632067626878), ('shop', 0.16722411742630988), ('account', 0.1672071733066618), ('start', 0.16718901620052715)]\n",
      "====================================================================================================\n",
      "Topic 5:\n",
      "[('day', 127.51651378652228), ('save', 127.36153348110453), ('50', 110.50109900755699), ('shop', 93.02292381343696), ('20', 85.20719872160971), ('deal', 84.37879003525435), ('holiday', 69.09559691792197), ('start', 61.72347781656861), ('25', 60.36955928175045), ('sale', 58.15416804515435)]\n",
      "====================================================================================================\n"
     ]
    }
   ],
   "source": [
    "labels = []\n",
    "\n",
    "def print_topics(model, vectorizer, top_n=10):\n",
    "    for idx, topic in enumerate(model.components_):\n",
    "        print(\"Topic %d:\" % (idx))\n",
    "        print([(vectorizer.get_feature_names()[i], topic[i]) for i in topic.argsort()[:-top_n - 1:-1]])\n",
    "        labels.append([(vectorizer.get_feature_names()[i]) for i in topic.argsort()[:-1-1:-1]][0])\n",
    "        print(\"=\" * 100)\n",
    "\n",
    "print_topics(lda, vectorizer)"
   ]
  },
  {
   "cell_type": "code",
   "execution_count": 136,
   "metadata": {
    "collapsed": false
   },
   "outputs": [],
   "source": [
    "# Next, let's assign this to our original text\n",
    "\n",
    "vectorized_values_lda = lda.transform(vectorized_values)\n",
    "\n",
    "predicted_label = []\n",
    "for i in vectorized_values_lda:\n",
    "    # Get the highest value. We'll consider that to be the predicted label.\n",
    "    predicted_label.append(labels[i.argsort()[-1]])\n",
    "\n",
    "df[\"lda_predicted_label\"] = predicted_label"
   ]
  },
  {
   "cell_type": "code",
   "execution_count": 137,
   "metadata": {
    "collapsed": false
   },
   "outputs": [
    {
     "data": {
      "text/html": [
       "<div>\n",
       "<style>\n",
       "    .dataframe thead tr:only-child th {\n",
       "        text-align: right;\n",
       "    }\n",
       "\n",
       "    .dataframe thead th {\n",
       "        text-align: left;\n",
       "    }\n",
       "\n",
       "    .dataframe tbody tr th {\n",
       "        vertical-align: top;\n",
       "    }\n",
       "</style>\n",
       "<table border=\"1\" class=\"dataframe\">\n",
       "  <thead>\n",
       "    <tr style=\"text-align: right;\">\n",
       "      <th></th>\n",
       "      <th>reg_id</th>\n",
       "      <th>add_id</th>\n",
       "      <th>name</th>\n",
       "      <th>email_guid</th>\n",
       "      <th>sent_at</th>\n",
       "      <th>subject</th>\n",
       "      <th>full_text</th>\n",
       "      <th>r</th>\n",
       "      <th>tokenized_text</th>\n",
       "      <th>stemmed_tokens</th>\n",
       "      <th>stemmed_text</th>\n",
       "      <th>lda_predicted_label</th>\n",
       "    </tr>\n",
       "  </thead>\n",
       "  <tbody>\n",
       "    <tr>\n",
       "      <th>0</th>\n",
       "      <td>6361</td>\n",
       "      <td>7526</td>\n",
       "      <td>Le Creuset</td>\n",
       "      <td>45f2d9ed-128e-9ae5-b8f1-4e224a02dfca</td>\n",
       "      <td>2017-01-10 21:34:33</td>\n",
       "      <td>Welcome, Lorem Ipsum!</td>\n",
       "      <td>LE CREUSET Welcome to Le Creuset. To log in wh...</td>\n",
       "      <td>1</td>\n",
       "      <td>[welcome, lorem, ipsum]</td>\n",
       "      <td>[welcom, lorem, ipsum]</td>\n",
       "      <td>welcom lorem ipsum</td>\n",
       "      <td>ship</td>\n",
       "    </tr>\n",
       "    <tr>\n",
       "      <th>1</th>\n",
       "      <td>6361</td>\n",
       "      <td>7526</td>\n",
       "      <td>Le Creuset</td>\n",
       "      <td>34db5cee-2a9c-17f4-b97d-68343ad26f19</td>\n",
       "      <td>2017-01-10 21:36:48</td>\n",
       "      <td>Hi! You were looking for free shipping, right?</td>\n",
       "      <td>Save a bundle on shipping with code LECREUSETL...</td>\n",
       "      <td>2</td>\n",
       "      <td>[hi, looking, free, shipping, right]</td>\n",
       "      <td>[hi, look, free, ship, right]</td>\n",
       "      <td>hi look free ship right</td>\n",
       "      <td>ship</td>\n",
       "    </tr>\n",
       "    <tr>\n",
       "      <th>2</th>\n",
       "      <td>6361</td>\n",
       "      <td>7526</td>\n",
       "      <td>Le Creuset</td>\n",
       "      <td>55f96ec8-739f-4a3a-63c4-ec1fddcf795d</td>\n",
       "      <td>2017-01-10 21:41:43</td>\n",
       "      <td>Le Creuset: New Order # 200068673</td>\n",
       "      <td>LE CREUSET Thank you for your order from Le Cr...</td>\n",
       "      <td>3</td>\n",
       "      <td>[new, order, #, 200068673]</td>\n",
       "      <td>[new, order, #, 200068673]</td>\n",
       "      <td>new order # 200068673</td>\n",
       "      <td>new</td>\n",
       "    </tr>\n",
       "    <tr>\n",
       "      <th>3</th>\n",
       "      <td>6361</td>\n",
       "      <td>7526</td>\n",
       "      <td>Le Creuset</td>\n",
       "      <td>f0188d30-aa26-8614-7a44-aa149fad66b0</td>\n",
       "      <td>2017-01-12 21:37:00</td>\n",
       "      <td>Your kitchen + our color choices = food heaven</td>\n",
       "      <td>What will you bring to the table? View in brow...</td>\n",
       "      <td>4</td>\n",
       "      <td>[kitchen, color, choices, food, heaven]</td>\n",
       "      <td>[kitchen, color, choic, food, heaven]</td>\n",
       "      <td>kitchen color choic food heaven</td>\n",
       "      <td>day</td>\n",
       "    </tr>\n",
       "    <tr>\n",
       "      <th>4</th>\n",
       "      <td>6361</td>\n",
       "      <td>7526</td>\n",
       "      <td>Le Creuset</td>\n",
       "      <td>29af73ae-8956-9bdc-7148-d5eb0bde173b</td>\n",
       "      <td>2017-01-13 15:09:04</td>\n",
       "      <td>Free Shipping Starts Now + Storage Staples to ...</td>\n",
       "      <td>Plus, a sweet treat for you! LE CREUSET Cookwa...</td>\n",
       "      <td>5</td>\n",
       "      <td>[free, shipping, starts, storage, staples, get...</td>\n",
       "      <td>[free, ship, start, storag, stapl, get, organ]</td>\n",
       "      <td>free ship start storag stapl get organ</td>\n",
       "      <td>ship</td>\n",
       "    </tr>\n",
       "  </tbody>\n",
       "</table>\n",
       "</div>"
      ],
      "text/plain": [
       "   reg_id  add_id        name                            email_guid  \\\n",
       "0    6361    7526  Le Creuset  45f2d9ed-128e-9ae5-b8f1-4e224a02dfca   \n",
       "1    6361    7526  Le Creuset  34db5cee-2a9c-17f4-b97d-68343ad26f19   \n",
       "2    6361    7526  Le Creuset  55f96ec8-739f-4a3a-63c4-ec1fddcf795d   \n",
       "3    6361    7526  Le Creuset  f0188d30-aa26-8614-7a44-aa149fad66b0   \n",
       "4    6361    7526  Le Creuset  29af73ae-8956-9bdc-7148-d5eb0bde173b   \n",
       "\n",
       "               sent_at                                            subject  \\\n",
       "0  2017-01-10 21:34:33                              Welcome, Lorem Ipsum!   \n",
       "1  2017-01-10 21:36:48     Hi! You were looking for free shipping, right?   \n",
       "2  2017-01-10 21:41:43                  Le Creuset: New Order # 200068673   \n",
       "3  2017-01-12 21:37:00     Your kitchen + our color choices = food heaven   \n",
       "4  2017-01-13 15:09:04  Free Shipping Starts Now + Storage Staples to ...   \n",
       "\n",
       "                                           full_text  r  \\\n",
       "0  LE CREUSET Welcome to Le Creuset. To log in wh...  1   \n",
       "1  Save a bundle on shipping with code LECREUSETL...  2   \n",
       "2  LE CREUSET Thank you for your order from Le Cr...  3   \n",
       "3  What will you bring to the table? View in brow...  4   \n",
       "4  Plus, a sweet treat for you! LE CREUSET Cookwa...  5   \n",
       "\n",
       "                                      tokenized_text  \\\n",
       "0                            [welcome, lorem, ipsum]   \n",
       "1               [hi, looking, free, shipping, right]   \n",
       "2                         [new, order, #, 200068673]   \n",
       "3            [kitchen, color, choices, food, heaven]   \n",
       "4  [free, shipping, starts, storage, staples, get...   \n",
       "\n",
       "                                   stemmed_tokens  \\\n",
       "0                          [welcom, lorem, ipsum]   \n",
       "1                   [hi, look, free, ship, right]   \n",
       "2                      [new, order, #, 200068673]   \n",
       "3           [kitchen, color, choic, food, heaven]   \n",
       "4  [free, ship, start, storag, stapl, get, organ]   \n",
       "\n",
       "                             stemmed_text lda_predicted_label  \n",
       "0                      welcom lorem ipsum                ship  \n",
       "1                 hi look free ship right                ship  \n",
       "2                   new order # 200068673                 new  \n",
       "3         kitchen color choic food heaven                 day  \n",
       "4  free ship start storag stapl get organ                ship  "
      ]
     },
     "execution_count": 137,
     "metadata": {},
     "output_type": "execute_result"
    }
   ],
   "source": [
    "df.head()"
   ]
  },
  {
   "cell_type": "code",
   "execution_count": 138,
   "metadata": {
    "collapsed": false
   },
   "outputs": [],
   "source": [
    "# Compare against other classifiers\n",
    "\n",
    "from sklearn.decomposition import NMF\n",
    "from sklearn.cluster import KMeans as KM \n",
    "from sklearn.cluster import ward_tree as Ward"
   ]
  },
  {
   "cell_type": "code",
   "execution_count": 139,
   "metadata": {
    "collapsed": false
   },
   "outputs": [
    {
     "name": "stdout",
     "output_type": "stream",
     "text": [
      "*********\n",
      "<class 'sklearn.decomposition.nmf.NMF'>\n",
      "Topic 0:\n",
      "[('order', 482.15211872257055), ('confirm', 255.62581284201485), ('account', 95.85691550403682), ('receiv', 49.904849740078475), ('lorem', 0.1678661424038993), ('shipment', 0.1673806752796114), ('deliveri', 0.16722944819457455), ('shop', 0.16713224124860648), ('ship', 0.16705559786669114), ('thank', 0.1669234619469451)]\n",
      "====================================================================================================\n",
      "Topic 1:\n",
      "[('thank', 209.84719430827846), ('order', 155.5153540726883), ('lorem', 104.28456241599727), ('gift', 97.781533536753), ('way', 87.70228529196665), ('shipment', 53.35132204199367), ('shop', 0.16766427225987832), ('welcom', 0.1672196995100544), ('account', 0.16721608074336233), ('purchas', 0.16712906671594271)]\n",
      "====================================================================================================\n",
      "Topic 2:\n",
      "[('ship', 314.80376502297815), ('welcom', 299.09929360261737), ('free', 163.94775339994263), ('order', 163.45352267114652), ('today', 98.55312978529751), ('lorem', 0.17229374873845626), ('start', 0.16898496289656215), ('end', 0.16845898481465585), ('10', 0.16768290883576606), ('day', 0.16764003951902143)]\n",
      "====================================================================================================\n",
      "Topic 3:\n",
      "[('sale', 96.47621285544288), ('end', 87.27014780412395), ('30', 80.27614563704817), ('purchas', 78.43406024509687), ('style', 71.01011484526684), ('extra', 60.38082413819638), ('15', 54.81935107161625), ('deliveri', 49.29042863350461), ('today', 0.17751118726799492), ('25', 0.17481803001159418)]\n",
      "====================================================================================================\n",
      "Topic 4:\n",
      "[('new', 215.47181142511332), ('10', 78.12544324496804), ('order', 0.1726760998154649), ('sale', 0.16755126905637316), ('deal', 0.16727068602091028), ('50', 0.16726377717658242), ('thank', 0.16723632067626878), ('shop', 0.16722411742630988), ('account', 0.1672071733066618), ('start', 0.16718901620052715)]\n",
      "====================================================================================================\n",
      "Topic 5:\n",
      "[('day', 127.51651378652228), ('save', 127.36153348110453), ('50', 110.50109900755699), ('shop', 93.02292381343696), ('20', 85.20719872160971), ('deal', 84.37879003525435), ('holiday', 69.09559691792197), ('start', 61.72347781656861), ('25', 60.36955928175045), ('sale', 58.15416804515435)]\n",
      "====================================================================================================\n",
      "*********\n",
      "<class 'sklearn.cluster.k_means_.KMeans'>\n",
      "Topic 0:\n",
      "[('order', 482.15211872257055), ('confirm', 255.62581284201485), ('account', 95.85691550403682), ('receiv', 49.904849740078475), ('lorem', 0.1678661424038993), ('shipment', 0.1673806752796114), ('deliveri', 0.16722944819457455), ('shop', 0.16713224124860648), ('ship', 0.16705559786669114), ('thank', 0.1669234619469451)]\n",
      "====================================================================================================\n",
      "Topic 1:\n",
      "[('thank', 209.84719430827846), ('order', 155.5153540726883), ('lorem', 104.28456241599727), ('gift', 97.781533536753), ('way', 87.70228529196665), ('shipment', 53.35132204199367), ('shop', 0.16766427225987832), ('welcom', 0.1672196995100544), ('account', 0.16721608074336233), ('purchas', 0.16712906671594271)]\n",
      "====================================================================================================\n",
      "Topic 2:\n",
      "[('ship', 314.80376502297815), ('welcom', 299.09929360261737), ('free', 163.94775339994263), ('order', 163.45352267114652), ('today', 98.55312978529751), ('lorem', 0.17229374873845626), ('start', 0.16898496289656215), ('end', 0.16845898481465585), ('10', 0.16768290883576606), ('day', 0.16764003951902143)]\n",
      "====================================================================================================\n",
      "Topic 3:\n",
      "[('sale', 96.47621285544288), ('end', 87.27014780412395), ('30', 80.27614563704817), ('purchas', 78.43406024509687), ('style', 71.01011484526684), ('extra', 60.38082413819638), ('15', 54.81935107161625), ('deliveri', 49.29042863350461), ('today', 0.17751118726799492), ('25', 0.17481803001159418)]\n",
      "====================================================================================================\n",
      "Topic 4:\n",
      "[('new', 215.47181142511332), ('10', 78.12544324496804), ('order', 0.1726760998154649), ('sale', 0.16755126905637316), ('deal', 0.16727068602091028), ('50', 0.16726377717658242), ('thank', 0.16723632067626878), ('shop', 0.16722411742630988), ('account', 0.1672071733066618), ('start', 0.16718901620052715)]\n",
      "====================================================================================================\n",
      "Topic 5:\n",
      "[('day', 127.51651378652228), ('save', 127.36153348110453), ('50', 110.50109900755699), ('shop', 93.02292381343696), ('20', 85.20719872160971), ('deal', 84.37879003525435), ('holiday', 69.09559691792197), ('start', 61.72347781656861), ('25', 60.36955928175045), ('sale', 58.15416804515435)]\n",
      "====================================================================================================\n"
     ]
    }
   ],
   "source": [
    "model_names = {NMF: \"nmf\", KM: \"km\"}\n",
    "models = [NMF, KM]\n",
    "\n",
    "for m in models:\n",
    "    print(\"*********\")\n",
    "    print(m)\n",
    "    _model = m(6, random_state=22)\n",
    "    _model.fit(vectorized_values)\n",
    "\n",
    "    labels = []\n",
    "    def print_topics(model, vectorizer, top_n=10):\n",
    "        for idx, topic in enumerate(model.components_):\n",
    "            print(\"Topic %d:\" % (idx))\n",
    "            print([(vectorizer.get_feature_names()[i], topic[i]) for i in topic.argsort()[:-top_n - 1:-1]])\n",
    "            labels.append([(vectorizer.get_feature_names()[i]) for i in topic.argsort()[:-1-1:-1]][0])\n",
    "            print(\"=\" * 100)\n",
    "    print_topics(lda, vectorizer)\n",
    "\n",
    "    vectorized_values_model = _model.transform(vectorized_values)\n",
    "\n",
    "    predicted_label = []\n",
    "    for i in vectorized_values_nmf:\n",
    "        # Get the highest value. We'll consider that to be the predicted label.\n",
    "        predicted_label.append(labels[i.argsort()[-1]])\n",
    "    \n",
    "    label = model_names[m] + \"_predicted_label\"\n",
    "    df[label] = predicted_label\n"
   ]
  },
  {
   "cell_type": "code",
   "execution_count": 140,
   "metadata": {
    "collapsed": false
   },
   "outputs": [
    {
     "data": {
      "text/html": [
       "<div>\n",
       "<style>\n",
       "    .dataframe thead tr:only-child th {\n",
       "        text-align: right;\n",
       "    }\n",
       "\n",
       "    .dataframe thead th {\n",
       "        text-align: left;\n",
       "    }\n",
       "\n",
       "    .dataframe tbody tr th {\n",
       "        vertical-align: top;\n",
       "    }\n",
       "</style>\n",
       "<table border=\"1\" class=\"dataframe\">\n",
       "  <thead>\n",
       "    <tr style=\"text-align: right;\">\n",
       "      <th></th>\n",
       "      <th>reg_id</th>\n",
       "      <th>add_id</th>\n",
       "      <th>name</th>\n",
       "      <th>email_guid</th>\n",
       "      <th>sent_at</th>\n",
       "      <th>subject</th>\n",
       "      <th>full_text</th>\n",
       "      <th>r</th>\n",
       "      <th>tokenized_text</th>\n",
       "      <th>stemmed_tokens</th>\n",
       "      <th>stemmed_text</th>\n",
       "      <th>lda_predicted_label</th>\n",
       "      <th>nmf_predicted_label</th>\n",
       "      <th>km_predicted_label</th>\n",
       "    </tr>\n",
       "  </thead>\n",
       "  <tbody>\n",
       "    <tr>\n",
       "      <th>0</th>\n",
       "      <td>6361</td>\n",
       "      <td>7526</td>\n",
       "      <td>Le Creuset</td>\n",
       "      <td>45f2d9ed-128e-9ae5-b8f1-4e224a02dfca</td>\n",
       "      <td>2017-01-10 21:34:33</td>\n",
       "      <td>Welcome, Lorem Ipsum!</td>\n",
       "      <td>LE CREUSET Welcome to Le Creuset. To log in wh...</td>\n",
       "      <td>1</td>\n",
       "      <td>[welcome, lorem, ipsum]</td>\n",
       "      <td>[welcom, lorem, ipsum]</td>\n",
       "      <td>welcom lorem ipsum</td>\n",
       "      <td>ship</td>\n",
       "      <td>ship</td>\n",
       "      <td>ship</td>\n",
       "    </tr>\n",
       "    <tr>\n",
       "      <th>1</th>\n",
       "      <td>6361</td>\n",
       "      <td>7526</td>\n",
       "      <td>Le Creuset</td>\n",
       "      <td>34db5cee-2a9c-17f4-b97d-68343ad26f19</td>\n",
       "      <td>2017-01-10 21:36:48</td>\n",
       "      <td>Hi! You were looking for free shipping, right?</td>\n",
       "      <td>Save a bundle on shipping with code LECREUSETL...</td>\n",
       "      <td>2</td>\n",
       "      <td>[hi, looking, free, shipping, right]</td>\n",
       "      <td>[hi, look, free, ship, right]</td>\n",
       "      <td>hi look free ship right</td>\n",
       "      <td>ship</td>\n",
       "      <td>thank</td>\n",
       "      <td>thank</td>\n",
       "    </tr>\n",
       "    <tr>\n",
       "      <th>2</th>\n",
       "      <td>6361</td>\n",
       "      <td>7526</td>\n",
       "      <td>Le Creuset</td>\n",
       "      <td>55f96ec8-739f-4a3a-63c4-ec1fddcf795d</td>\n",
       "      <td>2017-01-10 21:41:43</td>\n",
       "      <td>Le Creuset: New Order # 200068673</td>\n",
       "      <td>LE CREUSET Thank you for your order from Le Cr...</td>\n",
       "      <td>3</td>\n",
       "      <td>[new, order, #, 200068673]</td>\n",
       "      <td>[new, order, #, 200068673]</td>\n",
       "      <td>new order # 200068673</td>\n",
       "      <td>new</td>\n",
       "      <td>sale</td>\n",
       "      <td>sale</td>\n",
       "    </tr>\n",
       "    <tr>\n",
       "      <th>3</th>\n",
       "      <td>6361</td>\n",
       "      <td>7526</td>\n",
       "      <td>Le Creuset</td>\n",
       "      <td>f0188d30-aa26-8614-7a44-aa149fad66b0</td>\n",
       "      <td>2017-01-12 21:37:00</td>\n",
       "      <td>Your kitchen + our color choices = food heaven</td>\n",
       "      <td>What will you bring to the table? View in brow...</td>\n",
       "      <td>4</td>\n",
       "      <td>[kitchen, color, choices, food, heaven]</td>\n",
       "      <td>[kitchen, color, choic, food, heaven]</td>\n",
       "      <td>kitchen color choic food heaven</td>\n",
       "      <td>day</td>\n",
       "      <td>day</td>\n",
       "      <td>day</td>\n",
       "    </tr>\n",
       "    <tr>\n",
       "      <th>4</th>\n",
       "      <td>6361</td>\n",
       "      <td>7526</td>\n",
       "      <td>Le Creuset</td>\n",
       "      <td>29af73ae-8956-9bdc-7148-d5eb0bde173b</td>\n",
       "      <td>2017-01-13 15:09:04</td>\n",
       "      <td>Free Shipping Starts Now + Storage Staples to ...</td>\n",
       "      <td>Plus, a sweet treat for you! LE CREUSET Cookwa...</td>\n",
       "      <td>5</td>\n",
       "      <td>[free, shipping, starts, storage, staples, get...</td>\n",
       "      <td>[free, ship, start, storag, stapl, get, organ]</td>\n",
       "      <td>free ship start storag stapl get organ</td>\n",
       "      <td>ship</td>\n",
       "      <td>thank</td>\n",
       "      <td>thank</td>\n",
       "    </tr>\n",
       "  </tbody>\n",
       "</table>\n",
       "</div>"
      ],
      "text/plain": [
       "   reg_id  add_id        name                            email_guid  \\\n",
       "0    6361    7526  Le Creuset  45f2d9ed-128e-9ae5-b8f1-4e224a02dfca   \n",
       "1    6361    7526  Le Creuset  34db5cee-2a9c-17f4-b97d-68343ad26f19   \n",
       "2    6361    7526  Le Creuset  55f96ec8-739f-4a3a-63c4-ec1fddcf795d   \n",
       "3    6361    7526  Le Creuset  f0188d30-aa26-8614-7a44-aa149fad66b0   \n",
       "4    6361    7526  Le Creuset  29af73ae-8956-9bdc-7148-d5eb0bde173b   \n",
       "\n",
       "               sent_at                                            subject  \\\n",
       "0  2017-01-10 21:34:33                              Welcome, Lorem Ipsum!   \n",
       "1  2017-01-10 21:36:48     Hi! You were looking for free shipping, right?   \n",
       "2  2017-01-10 21:41:43                  Le Creuset: New Order # 200068673   \n",
       "3  2017-01-12 21:37:00     Your kitchen + our color choices = food heaven   \n",
       "4  2017-01-13 15:09:04  Free Shipping Starts Now + Storage Staples to ...   \n",
       "\n",
       "                                           full_text  r  \\\n",
       "0  LE CREUSET Welcome to Le Creuset. To log in wh...  1   \n",
       "1  Save a bundle on shipping with code LECREUSETL...  2   \n",
       "2  LE CREUSET Thank you for your order from Le Cr...  3   \n",
       "3  What will you bring to the table? View in brow...  4   \n",
       "4  Plus, a sweet treat for you! LE CREUSET Cookwa...  5   \n",
       "\n",
       "                                      tokenized_text  \\\n",
       "0                            [welcome, lorem, ipsum]   \n",
       "1               [hi, looking, free, shipping, right]   \n",
       "2                         [new, order, #, 200068673]   \n",
       "3            [kitchen, color, choices, food, heaven]   \n",
       "4  [free, shipping, starts, storage, staples, get...   \n",
       "\n",
       "                                   stemmed_tokens  \\\n",
       "0                          [welcom, lorem, ipsum]   \n",
       "1                   [hi, look, free, ship, right]   \n",
       "2                      [new, order, #, 200068673]   \n",
       "3           [kitchen, color, choic, food, heaven]   \n",
       "4  [free, ship, start, storag, stapl, get, organ]   \n",
       "\n",
       "                             stemmed_text lda_predicted_label  \\\n",
       "0                      welcom lorem ipsum                ship   \n",
       "1                 hi look free ship right                ship   \n",
       "2                   new order # 200068673                 new   \n",
       "3         kitchen color choic food heaven                 day   \n",
       "4  free ship start storag stapl get organ                ship   \n",
       "\n",
       "  nmf_predicted_label km_predicted_label  \n",
       "0                ship               ship  \n",
       "1               thank              thank  \n",
       "2                sale               sale  \n",
       "3                 day                day  \n",
       "4               thank              thank  "
      ]
     },
     "execution_count": 140,
     "metadata": {},
     "output_type": "execute_result"
    }
   ],
   "source": [
    "df.head()"
   ]
  },
  {
   "cell_type": "code",
   "execution_count": null,
   "metadata": {
    "collapsed": true
   },
   "outputs": [],
   "source": []
  },
  {
   "cell_type": "code",
   "execution_count": 142,
   "metadata": {
    "collapsed": false
   },
   "outputs": [
    {
     "name": "stdout",
     "output_type": "stream",
     "text": [
      "0    1717\n",
      "1     206\n",
      "Name: order confirmation, dtype: int64\n",
      "0.0    1769\n",
      "1.0     154\n",
      "Name: shipping confirmation, dtype: int64\n",
      "0.0    1906\n",
      "1.0      17\n",
      "Name: delivery notification, dtype: int64\n"
     ]
    },
    {
     "name": "stderr",
     "output_type": "stream",
     "text": [
      "//anaconda/lib/python3.5/site-packages/ipykernel/__main__.py:8: SettingWithCopyWarning: \n",
      "A value is trying to be set on a copy of a slice from a DataFrame\n",
      "\n",
      "See the caveats in the documentation: http://pandas.pydata.org/pandas-docs/stable/indexing.html#indexing-view-versus-copy\n"
     ]
    }
   ],
   "source": [
    "# Load manual classification\n",
    "classified = pd.read_csv(\"./data/captsone-manually-classified.csv\")\n",
    "\n",
    "# Fill blanks with 0\n",
    "classified.fillna(0, inplace=True)\n",
    "\n",
    "# Remove any \"?\" and replace with 0\n",
    "classified[\"order confirmation\"][classified[\"order confirmation\"] == \"?\"] = 0\n",
    "\n",
    "# Print some quick summary stats\n",
    "print(classified[\"order confirmation\"].value_counts())\n",
    "print(classified[\"shipping confirmation\"].value_counts())\n",
    "print(classified[\"delivery notification\"].value_counts())"
   ]
  },
  {
   "cell_type": "code",
   "execution_count": 171,
   "metadata": {
    "collapsed": false
   },
   "outputs": [],
   "source": [
    "def get_classification_results(row):\n",
    "    if row[\"order confirmation\"] != 0:\n",
    "        return \"order\"\n",
    "    if row[\"shipping confirmation\"] != 0:\n",
    "        return \"ship\"\n",
    "    if row[\"delivery notification\"] != 0:\n",
    "        return \"delivery\"\n",
    "    else:\n",
    "        return \"not classified\"\n",
    "\n",
    "classified[\"classification\"] = classified.apply(get_classification_results, axis=1)\n",
    "# classified.head(100)"
   ]
  },
  {
   "cell_type": "code",
   "execution_count": 170,
   "metadata": {
    "collapsed": false
   },
   "outputs": [],
   "source": [
    "# Merge our manual classification with the main DF\n",
    "df = df.merge(classified[[\"email_guid\", \"classification\"]], on=\"email_guid\")"
   ]
  },
  {
   "cell_type": "code",
   "execution_count": null,
   "metadata": {
    "collapsed": false
   },
   "outputs": [],
   "source": []
  },
  {
   "cell_type": "code",
   "execution_count": null,
   "metadata": {
    "collapsed": false
   },
   "outputs": [],
   "source": []
  },
  {
   "cell_type": "code",
   "execution_count": null,
   "metadata": {
    "collapsed": false
   },
   "outputs": [],
   "source": []
  },
  {
   "cell_type": "code",
   "execution_count": null,
   "metadata": {
    "collapsed": false
   },
   "outputs": [],
   "source": []
  },
  {
   "cell_type": "code",
   "execution_count": null,
   "metadata": {
    "collapsed": false
   },
   "outputs": [],
   "source": []
  },
  {
   "cell_type": "code",
   "execution_count": null,
   "metadata": {
    "collapsed": false
   },
   "outputs": [],
   "source": []
  },
  {
   "cell_type": "code",
   "execution_count": null,
   "metadata": {
    "collapsed": true
   },
   "outputs": [],
   "source": []
  },
  {
   "cell_type": "code",
   "execution_count": null,
   "metadata": {
    "collapsed": true
   },
   "outputs": [],
   "source": []
  }
 ],
 "metadata": {
  "anaconda-cloud": {},
  "kernelspec": {
   "display_name": "Python [conda root]",
   "language": "python",
   "name": "conda-root-py"
  },
  "language_info": {
   "codemirror_mode": {
    "name": "ipython",
    "version": 3
   },
   "file_extension": ".py",
   "mimetype": "text/x-python",
   "name": "python",
   "nbconvert_exporter": "python",
   "pygments_lexer": "ipython3",
   "version": "3.5.2"
  }
 },
 "nbformat": 4,
 "nbformat_minor": 1
}
