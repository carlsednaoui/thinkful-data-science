{
 "cells": [
  {
   "cell_type": "markdown",
   "metadata": {},
   "source": [
    "## Capstone\n",
    "\n",
    "For this project you'll dig into a large amount of text and apply most of what you've covered in this unit and in the course so far.\n",
    "\n",
    "First, pick a set of texts. This can be either a series of novels, chapters, or articles. Anything you'd like. It just has to have multiple entries of varying characteristics. At least 100 should be good. There should also be at least 10 different authors, but try to keep the texts related (either all on the same topic of from the same branch of literature - something to make classification a bit more difficult than obviously different subjects).\n",
    "\n",
    "This capstone can be an extension of your NLP challenge if you wish to use the same corpus. If you found problems with that data set that limited your analysis, however, it may be worth using what you learned to choose a new corpus. Reserve 25% of your corpus as a test set.\n",
    "\n",
    "The first technique is to create a series of clusters. Try several techniques and pick the one you think best represents your data. Make sure there is a narrative and reasoning around why you have chosen the given clusters. Are authors consistently grouped into the same cluster?\n",
    "\n",
    "Next, perform some unsupervised feature generation and selection using the techniques covered in this unit and elsewhere in the course. Using those features then build models to attempt to classify your texts by author. Try different permutations of unsupervised and supervised techniques to see which combinations have the best performance.\n",
    "\n",
    "Lastly return to your holdout group. Does your clustering on those members perform as you'd expect? Have your clusters remained stable or changed dramatically? What about your model? Is it's performance consistent?\n",
    "\n",
    "If there is a divergence in the relative stability of your model and your clusters, delve into why.\n",
    "\n",
    "Your end result should be a write up of how clustering and modeling compare for classifying your texts. What are the advantages of each? Why would you want to use one over the other? Approximately 3-5 pages is a good length for your write up, and remember to include visuals to help tell your story!"
   ]
  },
  {
   "cell_type": "code",
   "execution_count": 188,
   "metadata": {
    "collapsed": true
   },
   "outputs": [],
   "source": [
    "# Grab the data from here: http://share.mailcharts.com/0D0Q2e0L1s47 and http://share.mailcharts.com/0z0F3m1X0l39\n",
    "import pandas as pd\n",
    "import numpy as np"
   ]
  },
  {
   "cell_type": "code",
   "execution_count": 189,
   "metadata": {
    "collapsed": false
   },
   "outputs": [
    {
     "name": "stdout",
     "output_type": "stream",
     "text": [
      "(3365, 8)\n",
      "Index(['reg_id', 'add_id', 'name', 'email_guid', 'sent_at', 'subject',\n",
      "       'full_text', 'r'],\n",
      "      dtype='object')\n"
     ]
    }
   ],
   "source": [
    "df = pd.read_csv(\"./data/capstone-v2.csv\", encoding=\"ISO-8859-1\")\n",
    "print(df.shape)\n",
    "print(df.columns)"
   ]
  },
  {
   "cell_type": "code",
   "execution_count": 190,
   "metadata": {
    "collapsed": false
   },
   "outputs": [],
   "source": [
    "df[\"all_text\"] = df[\"subject\"] + \" \" + df[\"full_text\"].fillna(\"\")"
   ]
  },
  {
   "cell_type": "code",
   "execution_count": 243,
   "metadata": {
    "collapsed": true
   },
   "outputs": [],
   "source": [
    "from nltk.stem import PorterStemmer\n",
    "from nltk.corpus import stopwords\n",
    "from nltk import word_tokenize\n",
    "from nltk import ngrams\n",
    "import string\n",
    "import re\n",
    "\n",
    "# Steps: Clean up text, stemming, remove stop words and weird chars, tokenizer words\n",
    "\n",
    "# punctuation = list(set(string.punctuation))\n",
    "re_punctuation = \"\\.|\\>|\\/|\\)|\\\"|\\(|\\}|\\'|\\_|\\-|\\$|\\:|\\[|\\^|\\+|\\?|\\`|\\~|\\!|\\<|\\@|\\;|\\=|\\*|\\\\\\|\\{|\\&|\\]|\\||\\,|\\|\"\n",
    "stopwords_set = list(set(stopwords.words('english')))\n",
    "handpicked_works = [\"com\"]\n",
    "\n",
    "def get_unigram_sentence(sentence, company_name):\n",
    "    company_names = company_name.lower().split(\" \")\n",
    "    company_names.append(company_name.lower().replace(\" \", \"\"))\n",
    "    \n",
    "    sentence_no_punc = re.sub(re_punctuation, \" \", sentence)\n",
    "    unigram = [word for word in word_tokenize(sentence_no_punc.lower()) if word not in stopwords_set and word not in company_names and word not in handpicked_works]\n",
    "    return unigram"
   ]
  },
  {
   "cell_type": "code",
   "execution_count": 244,
   "metadata": {
    "collapsed": false
   },
   "outputs": [],
   "source": [
    "tokenized_text = []\n",
    "\n",
    "for i, el in df.iterrows():\n",
    "    tokenized_text.append(get_unigram_sentence(el['subject'], el['name']))\n",
    "\n",
    "df[\"tokenized_text\"] = tokenized_text"
   ]
  },
  {
   "cell_type": "code",
   "execution_count": 245,
   "metadata": {
    "collapsed": true
   },
   "outputs": [],
   "source": [
    "stemmer = PorterStemmer()\n",
    "\n",
    "def get_stems(words):\n",
    "    return [stemmer.stem(word) for word in words]"
   ]
  },
  {
   "cell_type": "code",
   "execution_count": 246,
   "metadata": {
    "collapsed": true
   },
   "outputs": [],
   "source": [
    "df[\"stemmed_tokens\"] = df.tokenized_text.apply(lambda x: get_stems(x))"
   ]
  },
  {
   "cell_type": "code",
   "execution_count": 247,
   "metadata": {
    "collapsed": true
   },
   "outputs": [],
   "source": [
    "df[\"stemmed_text\"] = df[\"stemmed_tokens\"].apply(lambda x: \" \".join(word for word in x))"
   ]
  },
  {
   "cell_type": "code",
   "execution_count": 248,
   "metadata": {
    "collapsed": false
   },
   "outputs": [],
   "source": [
    "from sklearn.feature_extraction.text import TfidfVectorizer, CountVectorizer\n",
    "\n",
    "# tfidf = TfidfVectorizer(stop_words=\"english\", min_df=50, ngram_range=(1,2))\n",
    "# tfidf = tfidf.fit(df[\"stemmed_text\"])\n",
    "# X = tfidf.transform(df[\"stemmed_text\"])\n",
    "\n",
    "vectorizer = CountVectorizer(stop_words=\"english\", min_df=50)\n",
    "vectorizer = vectorizer.fit(df[\"stemmed_text\"])\n",
    "X = vectorizer.transform(df[\"stemmed_text\"])\n",
    "X = X.toarray()"
   ]
  },
  {
   "cell_type": "code",
   "execution_count": 249,
   "metadata": {
    "collapsed": false
   },
   "outputs": [],
   "source": [
    "# # Split our data in test / train\n",
    "# from sklearn.model_selection import train_test_split\n",
    "\n",
    "# X_train, X_test = train_test_split(X, test_size=0.25, random_state=100)\n",
    "# df_train, df_test = train_test_split(df, test_size=0.25, random_state=100)\n",
    "\n",
    "# print(X_train.shape)\n",
    "# print(X_test.shape)"
   ]
  },
  {
   "cell_type": "code",
   "execution_count": 250,
   "metadata": {
    "collapsed": false
   },
   "outputs": [
    {
     "name": "stderr",
     "output_type": "stream",
     "text": [
      "/Users/carl/anaconda/lib/python3.5/site-packages/sklearn/decomposition/online_lda.py:536: DeprecationWarning: The default value for 'learning_method' will be changed from 'online' to 'batch' in the release 0.20. This warning was introduced in 0.18.\n",
      "  DeprecationWarning)\n"
     ]
    },
    {
     "data": {
      "text/plain": [
       "LatentDirichletAllocation(batch_size=128, doc_topic_prior=None,\n",
       "             evaluate_every=-1, learning_decay=0.7, learning_method=None,\n",
       "             learning_offset=10.0, max_doc_update_iter=100, max_iter=10,\n",
       "             mean_change_tol=0.001, n_components=6, n_jobs=1,\n",
       "             n_topics=None, perp_tol=0.1, random_state=22,\n",
       "             topic_word_prior=None, total_samples=1000000.0, verbose=0)"
      ]
     },
     "execution_count": 250,
     "metadata": {},
     "output_type": "execute_result"
    }
   ],
   "source": [
    "from sklearn.decomposition import LatentDirichletAllocation as LDA\n",
    "\n",
    "# Note: I had to change this from 6 to 7 to get \"ship\" back as a category\n",
    "lda = LDA(6, random_state=22)\n",
    "# lda.fit(X_train)\n",
    "lda.fit(X)"
   ]
  },
  {
   "cell_type": "code",
   "execution_count": 255,
   "metadata": {
    "collapsed": false
   },
   "outputs": [],
   "source": [
    "labels = []\n",
    "\n",
    "def print_topics(model, vectorizer, top_n=10):\n",
    "    for idx, topic in enumerate(model.components_):\n",
    "        print(\"Topic %d:\" % (idx))\n",
    "        print([(vectorizer.get_feature_names()[i], topic[i]) for i in topic.argsort()[:-top_n - 1:-1]])\n",
    "        labels.append([(vectorizer.get_feature_names()[i]) for i in topic.argsort()[:-1-1:-1]][0])\n",
    "        print(\"=\" * 100)"
   ]
  },
  {
   "cell_type": "code",
   "execution_count": 256,
   "metadata": {
    "collapsed": false
   },
   "outputs": [
    {
     "name": "stdout",
     "output_type": "stream",
     "text": [
      "Topic 0:\n",
      "[('order', 482.15211872257055), ('confirm', 255.62581284201485), ('account', 95.85691550403682), ('receiv', 49.904849740078475), ('lorem', 0.1678661424038993), ('shipment', 0.1673806752796114), ('deliveri', 0.16722944819457455), ('shop', 0.16713224124860648), ('ship', 0.16705559786669114), ('thank', 0.1669234619469451)]\n",
      "====================================================================================================\n",
      "Topic 1:\n",
      "[('thank', 209.84719430827846), ('order', 155.5153540726883), ('lorem', 104.28456241599727), ('gift', 97.781533536753003), ('way', 87.702285291966646), ('shipment', 53.351322041993669), ('shop', 0.16766427225987832), ('welcom', 0.16721969951005439), ('account', 0.16721608074336233), ('purchas', 0.16712906671594271)]\n",
      "====================================================================================================\n",
      "Topic 2:\n",
      "[('ship', 314.80376502297815), ('welcom', 299.09929360261737), ('free', 163.94775339994263), ('order', 163.45352267114652), ('today', 98.553129785297514), ('lorem', 0.17229374873845626), ('start', 0.16898496289656215), ('end', 0.16845898481465585), ('10', 0.16768290883576606), ('day', 0.16764003951902143)]\n",
      "====================================================================================================\n",
      "Topic 3:\n",
      "[('sale', 96.476212855442881), ('end', 87.270147804123951), ('30', 80.276145637048174), ('purchas', 78.434060245096873), ('style', 71.010114845266841), ('extra', 60.380824138196388), ('15', 54.819351071616254), ('deliveri', 49.290428633504611), ('today', 0.17751118726799489), ('25', 0.17481803001159418)]\n",
      "====================================================================================================\n",
      "Topic 4:\n",
      "[('new', 215.47181142511334), ('10', 78.125443244968039), ('order', 0.17267609981546489), ('sale', 0.16755126905637316), ('deal', 0.16727068602091028), ('50', 0.16726377717658242), ('thank', 0.16723632067626878), ('shop', 0.16722411742630988), ('account', 0.16720717330666179), ('start', 0.16718901620052715)]\n",
      "====================================================================================================\n",
      "Topic 5:\n",
      "[('day', 127.51651378652228), ('save', 127.36153348110453), ('50', 110.50109900755699), ('shop', 93.022923813436961), ('20', 85.207198721609728), ('deal', 84.378790035254355), ('holiday', 69.095596917921966), ('start', 61.723477816568611), ('25', 60.369559281750448), ('sale', 58.15416804515435)]\n",
      "====================================================================================================\n"
     ]
    }
   ],
   "source": [
    "print_topics(lda, vectorizer)"
   ]
  },
  {
   "cell_type": "code",
   "execution_count": 253,
   "metadata": {
    "collapsed": false
   },
   "outputs": [],
   "source": [
    "# Next, let's assign this to our original text\n",
    "\n",
    "# X_train_tfidf_lda = lda.transform(X_train)\n",
    "X_train_tfidf_lda = lda.transform(X)\n",
    "\n",
    "predicted_label = []\n",
    "\n",
    "for i in X_train_tfidf_lda:\n",
    "    # Get the highest value. We'll consider that to be the predicted label.\n",
    "    predicted_label.append(labels[i.argsort()[-1]])\n",
    "\n",
    "# df_train[\"predicted_label\"] = predicted_label\n",
    "df[\"predicted_label\"] = predicted_label"
   ]
  },
  {
   "cell_type": "code",
   "execution_count": 254,
   "metadata": {
    "collapsed": false
   },
   "outputs": [
    {
     "data": {
      "text/plain": [
       "0                                 Welcome, Lorem Ipsum!\n",
       "1        Hi! You were looking for free shipping, right?\n",
       "2                     Le Creuset: New Order # 200068673\n",
       "3        Your kitchen + our color choices = food heaven\n",
       "4     Free Shipping Starts Now + Storage Staples to ...\n",
       "5     Le Creuset: Shipment # 200064834 for Order # 2...\n",
       "6                                 Make it a Joyful Year\n",
       "7                Customize your cookware and your inbox\n",
       "8     Free Shipping Ends Today + Reasons to Love Our...\n",
       "9              Introducing the Le Creuset Gift Registry\n",
       "10                        Customer account confirmation\n",
       "11                        Customer account confirmation\n",
       "12                              Order #279487 Confirmed\n",
       "13                              Order #279487 Confirmed\n",
       "14                    Special Video Message From Cindy!\n",
       "15                    Special Video Message From Cindy!\n",
       "16          A shipment from order #279487 is on the way\n",
       "17          A shipment from order #279487 is on the way\n",
       "18                                Tour Cindy's House?\\t\n",
       "19                                Tour Cindy's House?\\t\n",
       "20             get our best-selling leggings 2 for $24!\n",
       "21            Fabletics - Order Confirmation #398058306\n",
       "22                            your order is on its way!\n",
       "23    donât forget to review your recent fabletics...\n",
       "24                               Did Fabletics Deliver?\n",
       "25             Thank you! Your order number is TYFNDCQ.\n",
       "26                     Your order #TYFNDCQ has shipped!\n",
       "27                                  Welcome to Athleta!\n",
       "28                               Performance Guaranteed\n",
       "29                           We're Making Shopping Easy\n",
       "                            ...                        \n",
       "70                                    NEW: Full Circles\n",
       "71                                Welcome, Lorem Ipsum!\n",
       "72                     YOGASMOGA: New Order # 100024196\n",
       "73          Get 20% Off when you follow us on Instagram\n",
       "74    Buy 2 or More Items and Get 25% Off - Limited ...\n",
       "75    Back By Popular Demand â Tippy Toe 'n Twist ...\n",
       "76    Be Humble, Be Kind > Get a pair of Tippy Toe L...\n",
       "77                                 Welcome To YOGASMOGA\n",
       "78                    Your YOGASMOGAs are on their way!\n",
       "79    YOGASMOGA: Shipment # 100020300 for Order # 10...\n",
       "80                               Who is your Valentine?\n",
       "81                               Welcome to AmazonSmile\n",
       "82    Your AmazonSmile order of \"Poweron 2 Pack Earb...\n",
       "83    Your AmazonSmile order of \"Poweron 2 Pack Earb...\n",
       "84               Welcome to your first Amazon delivery!\n",
       "85    Lorem Ipsum, will you rate your transaction at...\n",
       "86    Leave Packaging Feedback for your recent purch...\n",
       "87            Save $8.62 today only â¦ with our thanks\n",
       "88        Find your next arts, crafts or sewing project\n",
       "89    Save up to 35% on your favorite brands and eve...\n",
       "90    Lorem Ipsum: Get $10 just for signing in to th...\n",
       "91                            Confirm your Etsy account\n",
       "92                    Hi Lorem, what will you discover?\n",
       "93    Your Etsy Purchase from AandGinspirations (117...\n",
       "94        Your Etsy Order Shipped (Receipt #1171263711)\n",
       "95                                         She said YES\n",
       "96                        Embrace the color of the year\n",
       "97                    Hi Lorem, get gifts just for them\n",
       "98                                Sweets for your sweet\n",
       "99                                Better than chocolate\n",
       "Name: subject, Length: 100, dtype: object"
      ]
     },
     "execution_count": 254,
     "metadata": {},
     "output_type": "execute_result"
    }
   ],
   "source": [
    "# df_train.head(10)\n",
    "\n",
    "# Our results are no longer as good\n",
    "df.subject.head(100)"
   ]
  },
  {
   "cell_type": "code",
   "execution_count": 68,
   "metadata": {
    "collapsed": false
   },
   "outputs": [],
   "source": [
    "# we want to look at \"ship\" and \"order\"\n",
    "# we want to re-classify them using full-text and subject line\n",
    "\n",
    "# retrain_df = df_train[(df_train[\"predicted_label\"] == \"ship\") | (df_train[\"predicted_label\"] == \"order\")]\n",
    "retrain_df = df[(df[\"predicted_label\"] == \"ship\") | (df[\"predicted_label\"] == \"order\")]"
   ]
  },
  {
   "cell_type": "code",
   "execution_count": 17,
   "metadata": {
    "collapsed": false
   },
   "outputs": [],
   "source": [
    "# TFIDF\n",
    "\n",
    "tfidf_retrain = TfidfVectorizer(stop_words=\"english\", min_df=50)\n",
    "tfidf_retrain = tfidf_retrain.fit(retrain_df[\"all_text\"])\n",
    "X_retrain = tfidf_retrain.transform(retrain_df[\"all_text\"])\n",
    "X_retrain = X_retrain.toarray()"
   ]
  },
  {
   "cell_type": "code",
   "execution_count": 18,
   "metadata": {
    "collapsed": false
   },
   "outputs": [
    {
     "name": "stderr",
     "output_type": "stream",
     "text": [
      "/Users/carl/anaconda/lib/python3.5/site-packages/sklearn/decomposition/online_lda.py:536: DeprecationWarning: The default value for 'learning_method' will be changed from 'online' to 'batch' in the release 0.20. This warning was introduced in 0.18.\n",
      "  DeprecationWarning)\n"
     ]
    },
    {
     "data": {
      "text/plain": [
       "LatentDirichletAllocation(batch_size=128, doc_topic_prior=None,\n",
       "             evaluate_every=-1, learning_decay=0.7, learning_method=None,\n",
       "             learning_offset=10.0, max_doc_update_iter=100, max_iter=10,\n",
       "             mean_change_tol=0.001, n_components=2, n_jobs=1,\n",
       "             n_topics=None, perp_tol=0.1, random_state=100,\n",
       "             topic_word_prior=None, total_samples=1000000.0, verbose=0)"
      ]
     },
     "execution_count": 18,
     "metadata": {},
     "output_type": "execute_result"
    }
   ],
   "source": [
    "# LDA\n",
    "\n",
    "lda_retrain = LDA(2, random_state = 100)\n",
    "lda_retrain.fit(X_retrain)"
   ]
  },
  {
   "cell_type": "code",
   "execution_count": 19,
   "metadata": {
    "collapsed": true
   },
   "outputs": [],
   "source": [
    "retrain_labels = []\n",
    "\n",
    "def print_topics(model, vectorizer, top_n=5):\n",
    "    for idx, topic in enumerate(model.components_):\n",
    "        print(\"Topic %d:\" % (idx))\n",
    "        print([(vectorizer.get_feature_names()[i], topic[i]) for i in topic.argsort()[:-top_n - 1:-1]])\n",
    "        retrain_labels.append([(vectorizer.get_feature_names()[i]) for i in topic.argsort()[:-1-1:-1]][0])\n",
    "        print(\"=\" * 100)"
   ]
  },
  {
   "cell_type": "code",
   "execution_count": 20,
   "metadata": {
    "collapsed": false
   },
   "outputs": [
    {
     "name": "stdout",
     "output_type": "stream",
     "text": [
      "Topic 0:\n",
      "[('shop', 88.784520778743428), ('email', 68.601010910822197), ('xxx', 57.756023962725145), ('free', 53.593783133469266), ('com', 51.285668476048166)]\n",
      "====================================================================================================\n",
      "Topic 1:\n",
      "[('order', 131.12121518408154), ('shipping', 47.981909790044533), ('lorem', 43.420137896791168), ('shipped', 42.870463573853407), ('00', 39.851922344854316)]\n",
      "====================================================================================================\n"
     ]
    }
   ],
   "source": [
    "print_topics(lda_retrain, tfidf_retrain)"
   ]
  },
  {
   "cell_type": "code",
   "execution_count": 21,
   "metadata": {
    "collapsed": false
   },
   "outputs": [
    {
     "name": "stderr",
     "output_type": "stream",
     "text": [
      "/Users/carl/anaconda/lib/python3.5/site-packages/ipykernel/__main__.py:9: SettingWithCopyWarning: \n",
      "A value is trying to be set on a copy of a slice from a DataFrame.\n",
      "Try using .loc[row_indexer,col_indexer] = value instead\n",
      "\n",
      "See the caveats in the documentation: http://pandas.pydata.org/pandas-docs/stable/indexing.html#indexing-view-versus-copy\n"
     ]
    }
   ],
   "source": [
    "X_retrain_tfidf_lda = lda_retrain.transform(X_retrain)\n",
    "\n",
    "predicted_label_retrain = []\n",
    "\n",
    "for i in X_retrain_tfidf_lda:\n",
    "    # Get the highest value. We'll consider that to be the predicted label.\n",
    "    predicted_label_retrain.append(retrain_labels[i.argsort()[-1]])\n",
    "\n",
    "retrain_df[\"predicted_label_retrain\"] = predicted_label_retrain"
   ]
  },
  {
   "cell_type": "code",
   "execution_count": 22,
   "metadata": {
    "collapsed": false
   },
   "outputs": [
    {
     "data": {
      "text/html": [
       "<div>\n",
       "<style scoped>\n",
       "    .dataframe tbody tr th:only-of-type {\n",
       "        vertical-align: middle;\n",
       "    }\n",
       "\n",
       "    .dataframe tbody tr th {\n",
       "        vertical-align: top;\n",
       "    }\n",
       "\n",
       "    .dataframe thead th {\n",
       "        text-align: right;\n",
       "    }\n",
       "</style>\n",
       "<table border=\"1\" class=\"dataframe\">\n",
       "  <thead>\n",
       "    <tr style=\"text-align: right;\">\n",
       "      <th></th>\n",
       "      <th>subject</th>\n",
       "      <th>predicted_label</th>\n",
       "      <th>predicted_label_retrain</th>\n",
       "      <th>r</th>\n",
       "    </tr>\n",
       "  </thead>\n",
       "  <tbody>\n",
       "    <tr>\n",
       "      <th>141</th>\n",
       "      <td>Thank you for your purchase. Order number: A72...</td>\n",
       "      <td>order</td>\n",
       "      <td>order</td>\n",
       "      <td>1</td>\n",
       "    </tr>\n",
       "    <tr>\n",
       "      <th>2539</th>\n",
       "      <td>Your order has shipped!</td>\n",
       "      <td>order</td>\n",
       "      <td>order</td>\n",
       "      <td>2</td>\n",
       "    </tr>\n",
       "    <tr>\n",
       "      <th>902</th>\n",
       "      <td>Thanks for your order from Bleecker's Finest Deli</td>\n",
       "      <td>order</td>\n",
       "      <td>order</td>\n",
       "      <td>1</td>\n",
       "    </tr>\n",
       "    <tr>\n",
       "      <th>250</th>\n",
       "      <td>Your UNIQLO order has shipped! #UNU01202198</td>\n",
       "      <td>order</td>\n",
       "      <td>order</td>\n",
       "      <td>3</td>\n",
       "    </tr>\n",
       "    <tr>\n",
       "      <th>973</th>\n",
       "      <td>Your Total Gym order receipt</td>\n",
       "      <td>order</td>\n",
       "      <td>order</td>\n",
       "      <td>2</td>\n",
       "    </tr>\n",
       "    <tr>\n",
       "      <th>1567</th>\n",
       "      <td>Thank you! Your order number is 95843113</td>\n",
       "      <td>order</td>\n",
       "      <td>order</td>\n",
       "      <td>3</td>\n",
       "    </tr>\n",
       "    <tr>\n",
       "      <th>2638</th>\n",
       "      <td>Your Superior Threads order has shipped</td>\n",
       "      <td>order</td>\n",
       "      <td>order</td>\n",
       "      <td>5</td>\n",
       "    </tr>\n",
       "    <tr>\n",
       "      <th>1025</th>\n",
       "      <td>Your Order 3735504 Has Shipped</td>\n",
       "      <td>order</td>\n",
       "      <td>order</td>\n",
       "      <td>9</td>\n",
       "    </tr>\n",
       "    <tr>\n",
       "      <th>2560</th>\n",
       "      <td>Your Dillard's Order Status #424067859</td>\n",
       "      <td>order</td>\n",
       "      <td>order</td>\n",
       "      <td>3</td>\n",
       "    </tr>\n",
       "    <tr>\n",
       "      <th>1625</th>\n",
       "      <td>Thank you for creating an online account.</td>\n",
       "      <td>order</td>\n",
       "      <td>order</td>\n",
       "      <td>1</td>\n",
       "    </tr>\n",
       "    <tr>\n",
       "      <th>3323</th>\n",
       "      <td>thank you for your order - kate spade new york...</td>\n",
       "      <td>order</td>\n",
       "      <td>order</td>\n",
       "      <td>1</td>\n",
       "    </tr>\n",
       "    <tr>\n",
       "      <th>786</th>\n",
       "      <td>We're processing your order W467889925</td>\n",
       "      <td>order</td>\n",
       "      <td>order</td>\n",
       "      <td>2</td>\n",
       "    </tr>\n",
       "    <tr>\n",
       "      <th>230</th>\n",
       "      <td>Your receipt for Kenhub Premium</td>\n",
       "      <td>order</td>\n",
       "      <td>order</td>\n",
       "      <td>3</td>\n",
       "    </tr>\n",
       "    <tr>\n",
       "      <th>1711</th>\n",
       "      <td>Your order #949642 has shipped</td>\n",
       "      <td>order</td>\n",
       "      <td>order</td>\n",
       "      <td>3</td>\n",
       "    </tr>\n",
       "    <tr>\n",
       "      <th>2120</th>\n",
       "      <td>Thanks for your Jet order!</td>\n",
       "      <td>order</td>\n",
       "      <td>order</td>\n",
       "      <td>3</td>\n",
       "    </tr>\n",
       "    <tr>\n",
       "      <th>1294</th>\n",
       "      <td>A shipment from order #36036 is on the way</td>\n",
       "      <td>order</td>\n",
       "      <td>order</td>\n",
       "      <td>3</td>\n",
       "    </tr>\n",
       "    <tr>\n",
       "      <th>773</th>\n",
       "      <td>Allen Edmonds Shipping Acknowledgment</td>\n",
       "      <td>order</td>\n",
       "      <td>order</td>\n",
       "      <td>9</td>\n",
       "    </tr>\n",
       "    <tr>\n",
       "      <th>2898</th>\n",
       "      <td>Order 34539552 has shipped</td>\n",
       "      <td>order</td>\n",
       "      <td>order</td>\n",
       "      <td>2</td>\n",
       "    </tr>\n",
       "    <tr>\n",
       "      <th>1517</th>\n",
       "      <td>Response Needed Lands' End 8165259</td>\n",
       "      <td>order</td>\n",
       "      <td>order</td>\n",
       "      <td>3</td>\n",
       "    </tr>\n",
       "    <tr>\n",
       "      <th>851</th>\n",
       "      <td>Shipment Notification</td>\n",
       "      <td>order</td>\n",
       "      <td>order</td>\n",
       "      <td>3</td>\n",
       "    </tr>\n",
       "    <tr>\n",
       "      <th>1710</th>\n",
       "      <td>Thank you for your order #949642</td>\n",
       "      <td>order</td>\n",
       "      <td>order</td>\n",
       "      <td>2</td>\n",
       "    </tr>\n",
       "    <tr>\n",
       "      <th>1857</th>\n",
       "      <td>Order received. Arrives by 11/13. Avery Ready ...</td>\n",
       "      <td>order</td>\n",
       "      <td>order</td>\n",
       "      <td>2</td>\n",
       "    </tr>\n",
       "    <tr>\n",
       "      <th>3026</th>\n",
       "      <td>Thanks For Your Order</td>\n",
       "      <td>order</td>\n",
       "      <td>order</td>\n",
       "      <td>2</td>\n",
       "    </tr>\n",
       "    <tr>\n",
       "      <th>1314</th>\n",
       "      <td>Your Shipment Confirmation for Order #A129836191</td>\n",
       "      <td>order</td>\n",
       "      <td>order</td>\n",
       "      <td>3</td>\n",
       "    </tr>\n",
       "    <tr>\n",
       "      <th>270</th>\n",
       "      <td>Forever21.com - Forever21 Order Cancellation N...</td>\n",
       "      <td>order</td>\n",
       "      <td>order</td>\n",
       "      <td>3</td>\n",
       "    </tr>\n",
       "    <tr>\n",
       "      <th>2987</th>\n",
       "      <td>Thanks for shopping maurices - Order #OMAW0372...</td>\n",
       "      <td>order</td>\n",
       "      <td>order</td>\n",
       "      <td>3</td>\n",
       "    </tr>\n",
       "    <tr>\n",
       "      <th>3237</th>\n",
       "      <td>Your B&amp;H Order #1049120532 Is Confirmed. Thank...</td>\n",
       "      <td>order</td>\n",
       "      <td>order</td>\n",
       "      <td>3</td>\n",
       "    </tr>\n",
       "    <tr>\n",
       "      <th>503</th>\n",
       "      <td>Naturalizer.com Shipping Confirmation</td>\n",
       "      <td>order</td>\n",
       "      <td>order</td>\n",
       "      <td>2</td>\n",
       "    </tr>\n",
       "    <tr>\n",
       "      <th>455</th>\n",
       "      <td>Shipping confirmation</td>\n",
       "      <td>order</td>\n",
       "      <td>order</td>\n",
       "      <td>4</td>\n",
       "    </tr>\n",
       "    <tr>\n",
       "      <th>279</th>\n",
       "      <td>E-TICKET and RETURN LABEL ATTACHED â SHIPPIN...</td>\n",
       "      <td>order</td>\n",
       "      <td>order</td>\n",
       "      <td>2</td>\n",
       "    </tr>\n",
       "    <tr>\n",
       "      <th>...</th>\n",
       "      <td>...</td>\n",
       "      <td>...</td>\n",
       "      <td>...</td>\n",
       "      <td>...</td>\n",
       "    </tr>\n",
       "    <tr>\n",
       "      <th>2268</th>\n",
       "      <td>Your Item(s) have Shipped</td>\n",
       "      <td>order</td>\n",
       "      <td>order</td>\n",
       "      <td>3</td>\n",
       "    </tr>\n",
       "    <tr>\n",
       "      <th>803</th>\n",
       "      <td>Your pup's BarkBox is in the DANGER ZONE!</td>\n",
       "      <td>order</td>\n",
       "      <td>order</td>\n",
       "      <td>9</td>\n",
       "    </tr>\n",
       "    <tr>\n",
       "      <th>439</th>\n",
       "      <td>Shipping update for order 26897</td>\n",
       "      <td>order</td>\n",
       "      <td>order</td>\n",
       "      <td>4</td>\n",
       "    </tr>\n",
       "    <tr>\n",
       "      <th>2626</th>\n",
       "      <td>Your Sulky of America order has shipped!</td>\n",
       "      <td>order</td>\n",
       "      <td>order</td>\n",
       "      <td>3</td>\n",
       "    </tr>\n",
       "    <tr>\n",
       "      <th>1758</th>\n",
       "      <td>Your Sur La Table order #1999965692 has shipped</td>\n",
       "      <td>order</td>\n",
       "      <td>order</td>\n",
       "      <td>7</td>\n",
       "    </tr>\n",
       "    <tr>\n",
       "      <th>915</th>\n",
       "      <td>Problem Delivering Your Order</td>\n",
       "      <td>order</td>\n",
       "      <td>order</td>\n",
       "      <td>4</td>\n",
       "    </tr>\n",
       "    <tr>\n",
       "      <th>2810</th>\n",
       "      <td>We're Working On It! Order Processing.</td>\n",
       "      <td>order</td>\n",
       "      <td>order</td>\n",
       "      <td>4</td>\n",
       "    </tr>\n",
       "    <tr>\n",
       "      <th>1797</th>\n",
       "      <td>Your Order Update</td>\n",
       "      <td>order</td>\n",
       "      <td>order</td>\n",
       "      <td>4</td>\n",
       "    </tr>\n",
       "    <tr>\n",
       "      <th>2084</th>\n",
       "      <td>Action required to continue cooking!</td>\n",
       "      <td>order</td>\n",
       "      <td>order</td>\n",
       "      <td>7</td>\n",
       "    </tr>\n",
       "    <tr>\n",
       "      <th>2921</th>\n",
       "      <td>Thank you for your order (#21616914)</td>\n",
       "      <td>order</td>\n",
       "      <td>order</td>\n",
       "      <td>2</td>\n",
       "    </tr>\n",
       "    <tr>\n",
       "      <th>1239</th>\n",
       "      <td>Buckle.com Order Shipped</td>\n",
       "      <td>order</td>\n",
       "      <td>order</td>\n",
       "      <td>3</td>\n",
       "    </tr>\n",
       "    <tr>\n",
       "      <th>131</th>\n",
       "      <td>Thank you for your purchase. Order number: L31...</td>\n",
       "      <td>order</td>\n",
       "      <td>order</td>\n",
       "      <td>1</td>\n",
       "    </tr>\n",
       "    <tr>\n",
       "      <th>2894</th>\n",
       "      <td>We're shipping your lululemon order # c6478449213</td>\n",
       "      <td>order</td>\n",
       "      <td>order</td>\n",
       "      <td>3</td>\n",
       "    </tr>\n",
       "    <tr>\n",
       "      <th>17</th>\n",
       "      <td>A shipment from order #279487 is on the way</td>\n",
       "      <td>order</td>\n",
       "      <td>order</td>\n",
       "      <td>8</td>\n",
       "    </tr>\n",
       "    <tr>\n",
       "      <th>3102</th>\n",
       "      <td>Shipment Confirmation notice for order  204055581</td>\n",
       "      <td>order</td>\n",
       "      <td>order</td>\n",
       "      <td>4</td>\n",
       "    </tr>\n",
       "    <tr>\n",
       "      <th>1608</th>\n",
       "      <td>Your Pier 1 Imports order from 10/9/2017 has b...</td>\n",
       "      <td>order</td>\n",
       "      <td>order</td>\n",
       "      <td>4</td>\n",
       "    </tr>\n",
       "    <tr>\n",
       "      <th>2240</th>\n",
       "      <td>Good News, Your Package Has Been Delivered</td>\n",
       "      <td>order</td>\n",
       "      <td>order</td>\n",
       "      <td>5</td>\n",
       "    </tr>\n",
       "    <tr>\n",
       "      <th>2111</th>\n",
       "      <td>Your order has been delivered: Russell Boys' C...</td>\n",
       "      <td>order</td>\n",
       "      <td>order</td>\n",
       "      <td>4</td>\n",
       "    </tr>\n",
       "    <tr>\n",
       "      <th>2883</th>\n",
       "      <td>Shipping confirmation for your ClubMonaco.com ...</td>\n",
       "      <td>order</td>\n",
       "      <td>order</td>\n",
       "      <td>3</td>\n",
       "    </tr>\n",
       "    <tr>\n",
       "      <th>2463</th>\n",
       "      <td>Your Wayfair package has shipped!</td>\n",
       "      <td>order</td>\n",
       "      <td>order</td>\n",
       "      <td>6</td>\n",
       "    </tr>\n",
       "    <tr>\n",
       "      <th>1691</th>\n",
       "      <td>Your Threadless Shipment #6568023 has shipped ...</td>\n",
       "      <td>order</td>\n",
       "      <td>order</td>\n",
       "      <td>3</td>\n",
       "    </tr>\n",
       "    <tr>\n",
       "      <th>2960</th>\n",
       "      <td>Thank you for your Anthropologie order.</td>\n",
       "      <td>order</td>\n",
       "      <td>order</td>\n",
       "      <td>1</td>\n",
       "    </tr>\n",
       "    <tr>\n",
       "      <th>1899</th>\n",
       "      <td>Your Order Has Shipped</td>\n",
       "      <td>order</td>\n",
       "      <td>order</td>\n",
       "      <td>4</td>\n",
       "    </tr>\n",
       "    <tr>\n",
       "      <th>3300</th>\n",
       "      <td>Shipping Confirmation for Order # 100011559768</td>\n",
       "      <td>order</td>\n",
       "      <td>order</td>\n",
       "      <td>2</td>\n",
       "    </tr>\n",
       "    <tr>\n",
       "      <th>280</th>\n",
       "      <td>TRACKING INFORMATION - E-TICKET ATTACHED</td>\n",
       "      <td>order</td>\n",
       "      <td>order</td>\n",
       "      <td>3</td>\n",
       "    </tr>\n",
       "    <tr>\n",
       "      <th>1009</th>\n",
       "      <td>Your order OMF66732830 is ready to be shipped</td>\n",
       "      <td>order</td>\n",
       "      <td>order</td>\n",
       "      <td>3</td>\n",
       "    </tr>\n",
       "    <tr>\n",
       "      <th>802</th>\n",
       "      <td>Ruh Roh! Billing Update Needed</td>\n",
       "      <td>order</td>\n",
       "      <td>order</td>\n",
       "      <td>8</td>\n",
       "    </tr>\n",
       "    <tr>\n",
       "      <th>53</th>\n",
       "      <td>We've received your order!</td>\n",
       "      <td>order</td>\n",
       "      <td>order</td>\n",
       "      <td>3</td>\n",
       "    </tr>\n",
       "    <tr>\n",
       "      <th>79</th>\n",
       "      <td>YOGASMOGA: Shipment # 100020300 for Order # 10...</td>\n",
       "      <td>order</td>\n",
       "      <td>order</td>\n",
       "      <td>9</td>\n",
       "    </tr>\n",
       "    <tr>\n",
       "      <th>2840</th>\n",
       "      <td>Thank You for Ordering the Round Lace</td>\n",
       "      <td>order</td>\n",
       "      <td>order</td>\n",
       "      <td>2</td>\n",
       "    </tr>\n",
       "  </tbody>\n",
       "</table>\n",
       "<p>406 rows × 4 columns</p>\n",
       "</div>"
      ],
      "text/plain": [
       "                                                subject predicted_label  \\\n",
       "141   Thank you for your purchase. Order number: A72...           order   \n",
       "2539                            Your order has shipped!           order   \n",
       "902   Thanks for your order from Bleecker's Finest Deli           order   \n",
       "250         Your UNIQLO order has shipped! #UNU01202198           order   \n",
       "973                        Your Total Gym order receipt           order   \n",
       "1567           Thank you! Your order number is 95843113           order   \n",
       "2638            Your Superior Threads order has shipped           order   \n",
       "1025                     Your Order 3735504 Has Shipped           order   \n",
       "2560             Your Dillard's Order Status #424067859           order   \n",
       "1625          Thank you for creating an online account.           order   \n",
       "3323  thank you for your order - kate spade new york...           order   \n",
       "786              We're processing your order W467889925           order   \n",
       "230                     Your receipt for Kenhub Premium           order   \n",
       "1711                     Your order #949642 has shipped           order   \n",
       "2120                         Thanks for your Jet order!           order   \n",
       "1294         A shipment from order #36036 is on the way           order   \n",
       "773               Allen Edmonds Shipping Acknowledgment           order   \n",
       "2898                         Order 34539552 has shipped           order   \n",
       "1517                 Response Needed Lands' End 8165259           order   \n",
       "851                               Shipment Notification           order   \n",
       "1710                   Thank you for your order #949642           order   \n",
       "1857  Order received. Arrives by 11/13. Avery Ready ...           order   \n",
       "3026                              Thanks For Your Order           order   \n",
       "1314   Your Shipment Confirmation for Order #A129836191           order   \n",
       "270   Forever21.com - Forever21 Order Cancellation N...           order   \n",
       "2987  Thanks for shopping maurices - Order #OMAW0372...           order   \n",
       "3237  Your B&H Order #1049120532 Is Confirmed. Thank...           order   \n",
       "503               Naturalizer.com Shipping Confirmation           order   \n",
       "455                               Shipping confirmation           order   \n",
       "279   E-TICKET and RETURN LABEL ATTACHED â SHIPPIN...           order   \n",
       "...                                                 ...             ...   \n",
       "2268                          Your Item(s) have Shipped           order   \n",
       "803           Your pup's BarkBox is in the DANGER ZONE!           order   \n",
       "439                     Shipping update for order 26897           order   \n",
       "2626           Your Sulky of America order has shipped!           order   \n",
       "1758    Your Sur La Table order #1999965692 has shipped           order   \n",
       "915                       Problem Delivering Your Order           order   \n",
       "2810             We're Working On It! Order Processing.           order   \n",
       "1797                                  Your Order Update           order   \n",
       "2084               Action required to continue cooking!           order   \n",
       "2921               Thank you for your order (#21616914)           order   \n",
       "1239                           Buckle.com Order Shipped           order   \n",
       "131   Thank you for your purchase. Order number: L31...           order   \n",
       "2894  We're shipping your lululemon order # c6478449213           order   \n",
       "17          A shipment from order #279487 is on the way           order   \n",
       "3102  Shipment Confirmation notice for order  204055581           order   \n",
       "1608  Your Pier 1 Imports order from 10/9/2017 has b...           order   \n",
       "2240         Good News, Your Package Has Been Delivered           order   \n",
       "2111  Your order has been delivered: Russell Boys' C...           order   \n",
       "2883  Shipping confirmation for your ClubMonaco.com ...           order   \n",
       "2463                  Your Wayfair package has shipped!           order   \n",
       "1691  Your Threadless Shipment #6568023 has shipped ...           order   \n",
       "2960            Thank you for your Anthropologie order.           order   \n",
       "1899                             Your Order Has Shipped           order   \n",
       "3300     Shipping Confirmation for Order # 100011559768           order   \n",
       "280            TRACKING INFORMATION - E-TICKET ATTACHED           order   \n",
       "1009      Your order OMF66732830 is ready to be shipped           order   \n",
       "802                      Ruh Roh! Billing Update Needed           order   \n",
       "53                           We've received your order!           order   \n",
       "79    YOGASMOGA: Shipment # 100020300 for Order # 10...           order   \n",
       "2840              Thank You for Ordering the Round Lace           order   \n",
       "\n",
       "     predicted_label_retrain  r  \n",
       "141                    order  1  \n",
       "2539                   order  2  \n",
       "902                    order  1  \n",
       "250                    order  3  \n",
       "973                    order  2  \n",
       "1567                   order  3  \n",
       "2638                   order  5  \n",
       "1025                   order  9  \n",
       "2560                   order  3  \n",
       "1625                   order  1  \n",
       "3323                   order  1  \n",
       "786                    order  2  \n",
       "230                    order  3  \n",
       "1711                   order  3  \n",
       "2120                   order  3  \n",
       "1294                   order  3  \n",
       "773                    order  9  \n",
       "2898                   order  2  \n",
       "1517                   order  3  \n",
       "851                    order  3  \n",
       "1710                   order  2  \n",
       "1857                   order  2  \n",
       "3026                   order  2  \n",
       "1314                   order  3  \n",
       "270                    order  3  \n",
       "2987                   order  3  \n",
       "3237                   order  3  \n",
       "503                    order  2  \n",
       "455                    order  4  \n",
       "279                    order  2  \n",
       "...                      ... ..  \n",
       "2268                   order  3  \n",
       "803                    order  9  \n",
       "439                    order  4  \n",
       "2626                   order  3  \n",
       "1758                   order  7  \n",
       "915                    order  4  \n",
       "2810                   order  4  \n",
       "1797                   order  4  \n",
       "2084                   order  7  \n",
       "2921                   order  2  \n",
       "1239                   order  3  \n",
       "131                    order  1  \n",
       "2894                   order  3  \n",
       "17                     order  8  \n",
       "3102                   order  4  \n",
       "1608                   order  4  \n",
       "2240                   order  5  \n",
       "2111                   order  4  \n",
       "2883                   order  3  \n",
       "2463                   order  6  \n",
       "1691                   order  3  \n",
       "2960                   order  1  \n",
       "1899                   order  4  \n",
       "3300                   order  2  \n",
       "280                    order  3  \n",
       "1009                   order  3  \n",
       "802                    order  8  \n",
       "53                     order  3  \n",
       "79                     order  9  \n",
       "2840                   order  2  \n",
       "\n",
       "[406 rows x 4 columns]"
      ]
     },
     "execution_count": 22,
     "metadata": {},
     "output_type": "execute_result"
    }
   ],
   "source": [
    "# retrain_df[[\"subject\", \"predicted_label\", \"predicted_label_retrain\"]]\n",
    "retrain_df[[\"subject\", \"predicted_label\", \"predicted_label_retrain\", \"r\"]][(retrain_df[\"predicted_label_retrain\"] == \"order\") & (retrain_df[\"predicted_label\"] == \"order\")]\n",
    "\n",
    "# X, order => x\n",
    "# X, shop => sales"
   ]
  },
  {
   "cell_type": "code",
   "execution_count": 23,
   "metadata": {
    "collapsed": true
   },
   "outputs": [],
   "source": [
    "# Create complete df with full data (both labels). It's ok to keep cells empty.\n",
    "# Do crosstab comparison of results v.s. manual labeling\n",
    "# Question: Can we use R as part of the unsupervised learning\n",
    "# Use labels from here to do supervised learning\n",
    "\n"
   ]
  },
  {
   "cell_type": "code",
   "execution_count": null,
   "metadata": {
    "collapsed": false
   },
   "outputs": [],
   "source": []
  },
  {
   "cell_type": "code",
   "execution_count": 74,
   "metadata": {
    "collapsed": false
   },
   "outputs": [],
   "source": [
    "classified = pd.read_csv(\"./data/captsone-manually-classified.csv\")"
   ]
  },
  {
   "cell_type": "code",
   "execution_count": 100,
   "metadata": {
    "collapsed": false
   },
   "outputs": [
    {
     "name": "stderr",
     "output_type": "stream",
     "text": [
      "/Users/carl/anaconda/lib/python3.5/site-packages/ipykernel/__main__.py:5: SettingWithCopyWarning: \n",
      "A value is trying to be set on a copy of a slice from a DataFrame\n",
      "\n",
      "See the caveats in the documentation: http://pandas.pydata.org/pandas-docs/stable/indexing.html#indexing-view-versus-copy\n"
     ]
    }
   ],
   "source": [
    "# Fill blanks with 0\n",
    "classified.fillna(0, inplace=True)\n",
    "\n",
    "# Remove any \"?\" and replace with 0\n",
    "classified[\"order confirmation\"][classified[\"order confirmation\"] == \"?\"] = 0"
   ]
  },
  {
   "cell_type": "code",
   "execution_count": 96,
   "metadata": {
    "collapsed": false
   },
   "outputs": [
    {
     "name": "stdout",
     "output_type": "stream",
     "text": [
      "0    1717\n",
      "1     206\n",
      "Name: order confirmation, dtype: int64\n",
      "0.0    1769\n",
      "1.0     154\n",
      "Name: shipping confirmation, dtype: int64\n",
      "0.0    1906\n",
      "1.0      17\n",
      "Name: delivery notification, dtype: int64\n"
     ]
    }
   ],
   "source": [
    "print(classified[\"order confirmation\"].value_counts())\n",
    "print(classified[\"shipping confirmation\"].value_counts())\n",
    "print(classified[\"delivery notification\"].value_counts())"
   ]
  },
  {
   "cell_type": "code",
   "execution_count": null,
   "metadata": {
    "collapsed": false
   },
   "outputs": [],
   "source": []
  },
  {
   "cell_type": "code",
   "execution_count": null,
   "metadata": {
    "collapsed": true
   },
   "outputs": [],
   "source": [
    "# Other models to use aside from LDA: Kmean, nmf\n",
    "# http://scikit-learn.org/stable/modules/generated/sklearn.decomposition.NMF.html\n",
    "# http://scikit-learn.org/stable/modules/generated/sklearn.cluster.KMeans.html\n",
    "# http://scikit-learn.org/0.15/modules/generated/sklearn.cluster.Ward.html"
   ]
  }
 ],
 "metadata": {
  "anaconda-cloud": {},
  "kernelspec": {
   "display_name": "Python [conda root]",
   "language": "python",
   "name": "conda-root-py"
  },
  "language_info": {
   "codemirror_mode": {
    "name": "ipython",
    "version": 3
   },
   "file_extension": ".py",
   "mimetype": "text/x-python",
   "name": "python",
   "nbconvert_exporter": "python",
   "pygments_lexer": "ipython3",
   "version": "3.5.2"
  }
 },
 "nbformat": 4,
 "nbformat_minor": 1
}
