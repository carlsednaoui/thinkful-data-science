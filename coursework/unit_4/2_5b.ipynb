{
 "cells": [
  {
   "cell_type": "code",
   "execution_count": 1,
   "metadata": {
    "collapsed": true
   },
   "outputs": [],
   "source": [
    "import numpy as np\n",
    "import pandas as pd\n",
    "import scipy\n",
    "import matplotlib.pyplot as plt\n",
    "import seaborn as sns\n",
    "from sklearn.cluster import KMeans\n",
    "from sklearn.preprocessing import normalize\n",
    "from sklearn.decomposition import PCA\n",
    "from sklearn.cluster import MiniBatchKMeans\n",
    "%matplotlib inline"
   ]
  },
  {
   "cell_type": "markdown",
   "metadata": {},
   "source": [
    "Use the tools at hand to determine which clustering solution, including number of clusters and algorithm used, is best for the marathon data. Once you have a solution you like, write a data story, including visualizations, where you teach the reader something about the Boston Marathon based on your clusters."
   ]
  },
  {
   "cell_type": "code",
   "execution_count": 2,
   "metadata": {
    "collapsed": false
   },
   "outputs": [
    {
     "data": {
      "text/plain": [
       "(31984, 21)"
      ]
     },
     "execution_count": 2,
     "metadata": {},
     "output_type": "execute_result"
    }
   ],
   "source": [
    "df = pd.read_csv(\"./data/2-5-marathon-2014.csv\")\n",
    "df.shape"
   ]
  },
  {
   "cell_type": "code",
   "execution_count": 3,
   "metadata": {
    "collapsed": false
   },
   "outputs": [],
   "source": [
    "# Remove wheelchair participants — otherwise the race times are all over the map\n",
    "df[\"wheelchair\"] = df.bib.str.contains(\"W\")\n",
    "df = df[df.wheelchair == False]"
   ]
  },
  {
   "cell_type": "code",
   "execution_count": 4,
   "metadata": {
    "collapsed": false
   },
   "outputs": [
    {
     "data": {
      "text/html": [
       "<div>\n",
       "<style>\n",
       "    .dataframe thead tr:only-child th {\n",
       "        text-align: right;\n",
       "    }\n",
       "\n",
       "    .dataframe thead th {\n",
       "        text-align: left;\n",
       "    }\n",
       "\n",
       "    .dataframe tbody tr th {\n",
       "        vertical-align: top;\n",
       "    }\n",
       "</style>\n",
       "<table border=\"1\" class=\"dataframe\">\n",
       "  <thead>\n",
       "    <tr style=\"text-align: right;\">\n",
       "      <th></th>\n",
       "      <th>name</th>\n",
       "      <th>overall</th>\n",
       "      <th>official</th>\n",
       "      <th>pace</th>\n",
       "      <th>5k</th>\n",
       "    </tr>\n",
       "  </thead>\n",
       "  <tbody>\n",
       "    <tr>\n",
       "      <th>39</th>\n",
       "      <td>Keflezighi, Meb</td>\n",
       "      <td>1</td>\n",
       "      <td>128.62</td>\n",
       "      <td>4.92</td>\n",
       "      <td>15.15</td>\n",
       "    </tr>\n",
       "    <tr>\n",
       "      <th>11</th>\n",
       "      <td>Chebet, Wilson</td>\n",
       "      <td>2</td>\n",
       "      <td>128.80</td>\n",
       "      <td>4.92</td>\n",
       "      <td>15.18</td>\n",
       "    </tr>\n",
       "    <tr>\n",
       "      <th>20</th>\n",
       "      <td>Chepkwony, Frankline</td>\n",
       "      <td>3</td>\n",
       "      <td>128.83</td>\n",
       "      <td>4.92</td>\n",
       "      <td>15.18</td>\n",
       "    </tr>\n",
       "    <tr>\n",
       "      <th>50</th>\n",
       "      <td>Shafar, Vitaliy</td>\n",
       "      <td>4</td>\n",
       "      <td>129.62</td>\n",
       "      <td>4.95</td>\n",
       "      <td>15.40</td>\n",
       "    </tr>\n",
       "    <tr>\n",
       "      <th>7</th>\n",
       "      <td>Geneti, Markos</td>\n",
       "      <td>5</td>\n",
       "      <td>129.83</td>\n",
       "      <td>4.97</td>\n",
       "      <td>15.17</td>\n",
       "    </tr>\n",
       "    <tr>\n",
       "      <th>32</th>\n",
       "      <td>Kimurer, Joel</td>\n",
       "      <td>6</td>\n",
       "      <td>131.05</td>\n",
       "      <td>5.00</td>\n",
       "      <td>15.18</td>\n",
       "    </tr>\n",
       "    <tr>\n",
       "      <th>47</th>\n",
       "      <td>Arciniaga, Nicholas</td>\n",
       "      <td>7</td>\n",
       "      <td>131.78</td>\n",
       "      <td>5.03</td>\n",
       "      <td>15.18</td>\n",
       "    </tr>\n",
       "    <tr>\n",
       "      <th>54</th>\n",
       "      <td>Eggleston, Jeffrey</td>\n",
       "      <td>8</td>\n",
       "      <td>131.95</td>\n",
       "      <td>5.03</td>\n",
       "      <td>15.20</td>\n",
       "    </tr>\n",
       "    <tr>\n",
       "      <th>29</th>\n",
       "      <td>Lonyangata, Paul</td>\n",
       "      <td>9</td>\n",
       "      <td>132.57</td>\n",
       "      <td>5.07</td>\n",
       "      <td>15.18</td>\n",
       "    </tr>\n",
       "    <tr>\n",
       "      <th>26</th>\n",
       "      <td>Annani, Adil</td>\n",
       "      <td>10</td>\n",
       "      <td>132.72</td>\n",
       "      <td>5.07</td>\n",
       "      <td>15.18</td>\n",
       "    </tr>\n",
       "  </tbody>\n",
       "</table>\n",
       "</div>"
      ],
      "text/plain": [
       "                    name  overall  official  pace     5k\n",
       "39       Keflezighi, Meb        1    128.62  4.92  15.15\n",
       "11        Chebet, Wilson        2    128.80  4.92  15.18\n",
       "20  Chepkwony, Frankline        3    128.83  4.92  15.18\n",
       "50       Shafar, Vitaliy        4    129.62  4.95  15.40\n",
       "7         Geneti, Markos        5    129.83  4.97  15.17\n",
       "32         Kimurer, Joel        6    131.05  5.00  15.18\n",
       "47   Arciniaga, Nicholas        7    131.78  5.03  15.18\n",
       "54    Eggleston, Jeffrey        8    131.95  5.03  15.20\n",
       "29      Lonyangata, Paul        9    132.57  5.07  15.18\n",
       "26          Annani, Adil       10    132.72  5.07  15.18"
      ]
     },
     "execution_count": 4,
     "metadata": {},
     "output_type": "execute_result"
    }
   ],
   "source": [
    "df.sort_values(\"official\").head(10)[[\"name\", \"overall\", \"official\", \"pace\", \"5k\"]]"
   ]
  },
  {
   "cell_type": "code",
   "execution_count": 5,
   "metadata": {
    "collapsed": false
   },
   "outputs": [
    {
     "name": "stdout",
     "output_type": "stream",
     "text": [
      "10k\n",
      "name\n",
      "division\n",
      "25k\n",
      "gender\n",
      "age\n",
      "official\n",
      "bib\n",
      "genderdiv\n",
      "ctz\n",
      "35k\n",
      "overall\n",
      "pace\n",
      "state\n",
      "30k\n",
      "5k\n",
      "half\n",
      "20k\n",
      "country\n",
      "city\n",
      "40k\n",
      "wheelchair\n"
     ]
    },
    {
     "data": {
      "text/plain": [
       "[None,\n",
       " None,\n",
       " None,\n",
       " None,\n",
       " None,\n",
       " None,\n",
       " None,\n",
       " None,\n",
       " None,\n",
       " None,\n",
       " None,\n",
       " None,\n",
       " None,\n",
       " None,\n",
       " None,\n",
       " None,\n",
       " None,\n",
       " None,\n",
       " None,\n",
       " None,\n",
       " None,\n",
       " None]"
      ]
     },
     "execution_count": 5,
     "metadata": {},
     "output_type": "execute_result"
    }
   ],
   "source": [
    "[print(c) for c in df.columns]"
   ]
  },
  {
   "cell_type": "code",
   "execution_count": 6,
   "metadata": {
    "collapsed": false
   },
   "outputs": [
    {
     "data": {
      "text/html": [
       "<div>\n",
       "<style>\n",
       "    .dataframe thead tr:only-child th {\n",
       "        text-align: right;\n",
       "    }\n",
       "\n",
       "    .dataframe thead th {\n",
       "        text-align: left;\n",
       "    }\n",
       "\n",
       "    .dataframe tbody tr th {\n",
       "        vertical-align: top;\n",
       "    }\n",
       "</style>\n",
       "<table border=\"1\" class=\"dataframe\">\n",
       "  <thead>\n",
       "    <tr style=\"text-align: right;\">\n",
       "      <th></th>\n",
       "      <th>division</th>\n",
       "      <th>age</th>\n",
       "      <th>official</th>\n",
       "      <th>genderdiv</th>\n",
       "      <th>overall</th>\n",
       "      <th>pace</th>\n",
       "    </tr>\n",
       "  </thead>\n",
       "  <tbody>\n",
       "    <tr>\n",
       "      <th>count</th>\n",
       "      <td>31931.000000</td>\n",
       "      <td>31931.000000</td>\n",
       "      <td>31931.000000</td>\n",
       "      <td>31931.000000</td>\n",
       "      <td>31931.000000</td>\n",
       "      <td>31931.000000</td>\n",
       "    </tr>\n",
       "    <tr>\n",
       "      <th>mean</th>\n",
       "      <td>1935.744073</td>\n",
       "      <td>42.419968</td>\n",
       "      <td>243.223522</td>\n",
       "      <td>8064.377752</td>\n",
       "      <td>15966.000000</td>\n",
       "      <td>9.284285</td>\n",
       "    </tr>\n",
       "    <tr>\n",
       "      <th>std</th>\n",
       "      <td>1714.871975</td>\n",
       "      <td>11.314113</td>\n",
       "      <td>52.037284</td>\n",
       "      <td>4746.662139</td>\n",
       "      <td>9217.830059</td>\n",
       "      <td>1.982437</td>\n",
       "    </tr>\n",
       "    <tr>\n",
       "      <th>min</th>\n",
       "      <td>1.000000</td>\n",
       "      <td>18.000000</td>\n",
       "      <td>128.620000</td>\n",
       "      <td>1.000000</td>\n",
       "      <td>1.000000</td>\n",
       "      <td>4.920000</td>\n",
       "    </tr>\n",
       "    <tr>\n",
       "      <th>25%</th>\n",
       "      <td>614.000000</td>\n",
       "      <td>34.000000</td>\n",
       "      <td>205.680000</td>\n",
       "      <td>3992.000000</td>\n",
       "      <td>7983.500000</td>\n",
       "      <td>7.850000</td>\n",
       "    </tr>\n",
       "    <tr>\n",
       "      <th>50%</th>\n",
       "      <td>1428.000000</td>\n",
       "      <td>42.000000</td>\n",
       "      <td>232.430000</td>\n",
       "      <td>7983.000000</td>\n",
       "      <td>15966.000000</td>\n",
       "      <td>8.870000</td>\n",
       "    </tr>\n",
       "    <tr>\n",
       "      <th>75%</th>\n",
       "      <td>2614.000000</td>\n",
       "      <td>50.000000</td>\n",
       "      <td>273.325000</td>\n",
       "      <td>11974.500000</td>\n",
       "      <td>23948.500000</td>\n",
       "      <td>10.430000</td>\n",
       "    </tr>\n",
       "    <tr>\n",
       "      <th>max</th>\n",
       "      <td>6979.000000</td>\n",
       "      <td>81.000000</td>\n",
       "      <td>538.880000</td>\n",
       "      <td>17575.000000</td>\n",
       "      <td>31931.000000</td>\n",
       "      <td>20.570000</td>\n",
       "    </tr>\n",
       "  </tbody>\n",
       "</table>\n",
       "</div>"
      ],
      "text/plain": [
       "           division           age      official     genderdiv       overall  \\\n",
       "count  31931.000000  31931.000000  31931.000000  31931.000000  31931.000000   \n",
       "mean    1935.744073     42.419968    243.223522   8064.377752  15966.000000   \n",
       "std     1714.871975     11.314113     52.037284   4746.662139   9217.830059   \n",
       "min        1.000000     18.000000    128.620000      1.000000      1.000000   \n",
       "25%      614.000000     34.000000    205.680000   3992.000000   7983.500000   \n",
       "50%     1428.000000     42.000000    232.430000   7983.000000  15966.000000   \n",
       "75%     2614.000000     50.000000    273.325000  11974.500000  23948.500000   \n",
       "max     6979.000000     81.000000    538.880000  17575.000000  31931.000000   \n",
       "\n",
       "               pace  \n",
       "count  31931.000000  \n",
       "mean       9.284285  \n",
       "std        1.982437  \n",
       "min        4.920000  \n",
       "25%        7.850000  \n",
       "50%        8.870000  \n",
       "75%       10.430000  \n",
       "max       20.570000  "
      ]
     },
     "execution_count": 6,
     "metadata": {},
     "output_type": "execute_result"
    }
   ],
   "source": [
    "df.describe()"
   ]
  },
  {
   "cell_type": "markdown",
   "metadata": {},
   "source": [
    "## Columns\n",
    "\n",
    "- official\n",
    "- age\n",
    "- gender\n",
    "- overall (position in the race)\n",
    "- country\n",
    "\n",
    "--\n",
    "\n",
    "Don't care\n",
    "\n",
    "- pace\n",
    "- name\n",
    "- bib\n",
    "- genderdiv\n",
    "- division\n",
    "- ctz\n",
    "- state\n",
    "- city\n",
    "\n",
    "--\n",
    "\n",
    "Maybe we care\n",
    "\n",
    "- 5k\n",
    "- 10k\n",
    "- 20k\n",
    "- half\n",
    "- 25k\n",
    "- 30k\n",
    "- 35k\n",
    "- 40k"
   ]
  },
  {
   "cell_type": "code",
   "execution_count": 7,
   "metadata": {
    "collapsed": false
   },
   "outputs": [],
   "source": [
    "df[\"male\"] = df.gender == \"M\""
   ]
  },
  {
   "cell_type": "code",
   "execution_count": 8,
   "metadata": {
    "collapsed": false
   },
   "outputs": [
    {
     "data": {
      "text/plain": [
       "(31931, 4)"
      ]
     },
     "execution_count": 8,
     "metadata": {},
     "output_type": "execute_result"
    }
   ],
   "source": [
    "df = df.sort_values(\"official\")[[\"official\", \"age\", \"male\", \"overall\"]]\n",
    "df.shape"
   ]
  },
  {
   "cell_type": "code",
   "execution_count": 9,
   "metadata": {
    "collapsed": false
   },
   "outputs": [],
   "source": [
    "X = df.iloc[:,1:]\n",
    "\n",
    "# We declare y (to remain consistent with supervised learning) but don't use it\n",
    "y = df.iloc[:,0]"
   ]
  },
  {
   "cell_type": "code",
   "execution_count": 10,
   "metadata": {
    "collapsed": false
   },
   "outputs": [
    {
     "data": {
      "image/png": "[encoded data removed]",
      "text/plain": [
       "<matplotlib.figure.Figure at 0x11b97a208>"
      ]
     },
     "metadata": {},
     "output_type": "display_data"
    }
   ],
   "source": [
    "# Could we use PCA here? Not sure how to interpret the graph below.\n",
    "X_norm = normalize(X)\n",
    "X_pca = PCA(2).fit_transform(X_norm)\n",
    "y_pred = KMeans(n_clusters=2, random_state=42).fit_predict(X_pca)\n",
    "plt.scatter(X_pca[:, 0], X_pca[:, 1], c=y_pred)\n",
    "plt.show()"
   ]
  },
  {
   "cell_type": "code",
   "execution_count": 12,
   "metadata": {
    "collapsed": false
   },
   "outputs": [
    {
     "data": {
      "image/png": "[encoded data removed]",
      "text/plain": [
       "<matplotlib.figure.Figure at 0x11a8037f0>"
      ]
     },
     "metadata": {},
     "output_type": "display_data"
    }
   ],
   "source": [
    "y_pred = KMeans(n_clusters=3, random_state=42).fit_predict(X)\n",
    "plt.scatter(X.age, X.overall, c=y_pred)\n",
    "plt.ylabel('Finishing position')\n",
    "plt.xlabel('Age')\n",
    "plt.show()"
   ]
  },
  {
   "cell_type": "code",
   "execution_count": 13,
   "metadata": {
    "collapsed": false
   },
   "outputs": [
    {
     "name": "stdout",
     "output_type": "stream",
     "text": [
      "Number of estimated clusters: 4\n"
     ]
    }
   ],
   "source": [
    "# Let's try different models: MeanShift\n",
    "from sklearn.cluster import MeanShift, estimate_bandwidth\n",
    "\n",
    "bandwidth = estimate_bandwidth(X, quantile=0.2, n_samples=500)\n",
    "ms = MeanShift(bandwidth=bandwidth, bin_seeding=True)\n",
    "ms.fit(X)\n",
    "cluster_centers = ms.cluster_centers_\n",
    "labels = ms.labels_\n",
    "\n",
    "n_clusters_ = len(np.unique(labels))\n",
    "print(\"Number of estimated clusters: {}\".format(n_clusters_))"
   ]
  },
  {
   "cell_type": "code",
   "execution_count": 14,
   "metadata": {
    "collapsed": false
   },
   "outputs": [
    {
     "data": {
      "text/plain": [
       "(31931, 3)"
      ]
     },
     "execution_count": 14,
     "metadata": {},
     "output_type": "execute_result"
    }
   ],
   "source": [
    "X.shape"
   ]
  },
  {
   "cell_type": "code",
   "execution_count": 15,
   "metadata": {
    "collapsed": false
   },
   "outputs": [
    {
     "data": {
      "image/png": "[encoded data removed]",
      "text/plain": [
       "<matplotlib.figure.Figure at 0x11b815f98>"
      ]
     },
     "metadata": {},
     "output_type": "display_data"
    }
   ],
   "source": [
    "plt.scatter(X.age, X.overall, c=labels)\n",
    "plt.show()"
   ]
  },
  {
   "cell_type": "code",
   "execution_count": 16,
   "metadata": {
    "collapsed": true
   },
   "outputs": [],
   "source": [
    "# # Time for Spectral Clustering\n",
    "# # Note: This is slow\n",
    "# from sklearn.cluster import SpectralClustering\n",
    "\n",
    "# # Let's use 4 clusters since that's what we estimated above\n",
    "# n_clusters=4\n",
    "# sc = SpectralClustering(n_clusters=n_clusters)\n",
    "# sc.fit(X)\n",
    "# predict=sc.fit_predict(X)\n",
    "\n",
    "# plt.scatter(X.age, X.overall, c=predict)\n",
    "# plt.show()"
   ]
  },
  {
   "cell_type": "code",
   "execution_count": null,
   "metadata": {
    "collapsed": true
   },
   "outputs": [],
   "source": [
    "# Question: How do you pick which values to use when graphing the plots? (On the X and Y axis)\n",
    "# Question: Would it make sense to use PCA here? See the resulting graph above.\n",
    "# Question: How is this useful in real life? As in, how do we know how the different models are clustering?\n",
    "####: If I was looking to group user based engagement and I calculated that there are our users fall into 1 of 4 groups.\n",
    "####: How do you know what criteria is used for these groups?"
   ]
  }
 ],
 "metadata": {
  "anaconda-cloud": {},
  "kernelspec": {
   "display_name": "Python [conda root]",
   "language": "python",
   "name": "conda-root-py"
  },
  "language_info": {
   "codemirror_mode": {
    "name": "ipython",
    "version": 3
   },
   "file_extension": ".py",
   "mimetype": "text/x-python",
   "name": "python",
   "nbconvert_exporter": "python",
   "pygments_lexer": "ipython3",
   "version": "3.5.2"
  }
 },
 "nbformat": 4,
 "nbformat_minor": 1
}
