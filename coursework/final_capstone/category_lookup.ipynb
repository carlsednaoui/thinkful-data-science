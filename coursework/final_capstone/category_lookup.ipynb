{
 "cells": [
  {
   "cell_type": "code",
   "execution_count": 143,
   "metadata": {
    "collapsed": false
   },
   "outputs": [],
   "source": [
    "import pandas as pd\n",
    "import numpy as np\n",
    "import math\n",
    "import re\n",
    "import time"
   ]
  },
  {
   "cell_type": "code",
   "execution_count": 134,
   "metadata": {
    "collapsed": true
   },
   "outputs": [],
   "source": [
    "def combine_categories(row):\n",
    "    result = row.category_1.lower()\n",
    "    \n",
    "    if row.category_2:\n",
    "        result = result + \" \" + row.category_2.lower()\n",
    "    if row.category_3:\n",
    "        result = result + \" \" + row.category_3.lower()\n",
    "    if row.category_4:\n",
    "        result = result + \" \" + row.category_4.lower()\n",
    "    if row.category_5:\n",
    "        result = result + \" \" + row.category_5.lower()\n",
    "    if row.category_6:\n",
    "        result = result + \" \" + row.category_6.lower()\n",
    "    if row.category_7:\n",
    "        result = result + \" \" + row.category_7.lower()\n",
    "    \n",
    "    result = set(re.split(r\"[\\>|\\&| ]+\", result))\n",
    "    return result"
   ]
  },
  {
   "cell_type": "code",
   "execution_count": 119,
   "metadata": {
    "collapsed": false
   },
   "outputs": [
    {
     "name": "stdout",
     "output_type": "stream",
     "text": [
      "(5427, 8)\n"
     ]
    },
    {
     "data": {
      "text/html": [
       "<div>\n",
       "<style scoped>\n",
       "    .dataframe tbody tr th:only-of-type {\n",
       "        vertical-align: middle;\n",
       "    }\n",
       "\n",
       "    .dataframe tbody tr th {\n",
       "        vertical-align: top;\n",
       "    }\n",
       "\n",
       "    .dataframe thead th {\n",
       "        text-align: right;\n",
       "    }\n",
       "</style>\n",
       "<table border=\"1\" class=\"dataframe\">\n",
       "  <thead>\n",
       "    <tr style=\"text-align: right;\">\n",
       "      <th></th>\n",
       "      <th>category_1</th>\n",
       "      <th>category_2</th>\n",
       "      <th>category_3</th>\n",
       "      <th>category_4</th>\n",
       "      <th>category_5</th>\n",
       "      <th>category_6</th>\n",
       "      <th>category_7</th>\n",
       "      <th>combined</th>\n",
       "    </tr>\n",
       "  </thead>\n",
       "  <tbody>\n",
       "    <tr>\n",
       "      <th>0</th>\n",
       "      <td>Animals &amp; Pet Supplies</td>\n",
       "      <td>False</td>\n",
       "      <td>False</td>\n",
       "      <td>False</td>\n",
       "      <td>False</td>\n",
       "      <td>False</td>\n",
       "      <td>False</td>\n",
       "      <td>{supplies, pet, animals}</td>\n",
       "    </tr>\n",
       "    <tr>\n",
       "      <th>1</th>\n",
       "      <td>Animals &amp; Pet Supplies</td>\n",
       "      <td>Live Animals</td>\n",
       "      <td>False</td>\n",
       "      <td>False</td>\n",
       "      <td>False</td>\n",
       "      <td>False</td>\n",
       "      <td>False</td>\n",
       "      <td>{supplies, pet, animals, live}</td>\n",
       "    </tr>\n",
       "  </tbody>\n",
       "</table>\n",
       "</div>"
      ],
      "text/plain": [
       "               category_1    category_2 category_3 category_4 category_5  \\\n",
       "0  Animals & Pet Supplies         False      False      False      False   \n",
       "1  Animals & Pet Supplies  Live Animals      False      False      False   \n",
       "\n",
       "  category_6 category_7                        combined  \n",
       "0      False      False        {supplies, pet, animals}  \n",
       "1      False      False  {supplies, pet, animals, live}  "
      ]
     },
     "execution_count": 119,
     "metadata": {},
     "output_type": "execute_result"
    }
   ],
   "source": [
    "# https://www.google.com/basepages/producttype/taxonomy.en-US.txt\n",
    "cat = pd.read_csv(\"./data/taxonomy.csv\", encoding=\"ISO-8859-1\")\n",
    "cat.fillna(False, inplace=True)\n",
    "cat[\"combined\"] = cat.apply(lambda x: combine_categories(x), axis=1)\n",
    "print(cat.shape)\n",
    "cat.head(2)"
   ]
  },
  {
   "cell_type": "code",
   "execution_count": 94,
   "metadata": {
    "collapsed": false
   },
   "outputs": [
    {
     "name": "stdout",
     "output_type": "stream",
     "text": [
      "(500, 2)\n"
     ]
    },
    {
     "data": {
      "text/html": [
       "<div>\n",
       "<style scoped>\n",
       "    .dataframe tbody tr th:only-of-type {\n",
       "        vertical-align: middle;\n",
       "    }\n",
       "\n",
       "    .dataframe tbody tr th {\n",
       "        vertical-align: top;\n",
       "    }\n",
       "\n",
       "    .dataframe thead th {\n",
       "        text-align: right;\n",
       "    }\n",
       "</style>\n",
       "<table border=\"1\" class=\"dataframe\">\n",
       "  <thead>\n",
       "    <tr style=\"text-align: right;\">\n",
       "      <th></th>\n",
       "      <th>subject</th>\n",
       "      <th>full_text</th>\n",
       "    </tr>\n",
       "  </thead>\n",
       "  <tbody>\n",
       "    <tr>\n",
       "      <th>0</th>\n",
       "      <td>Fine-tune your collection with Edox + Versace</td>\n",
       "      <td>PLUS, enter our Invicta Big Idea Sweepstakes f...</td>\n",
       "    </tr>\n",
       "    <tr>\n",
       "      <th>1</th>\n",
       "      <td>Des Moines Register Evening Report</td>\n",
       "      <td>Having trouble viewing this email? | View it i...</td>\n",
       "    </tr>\n",
       "  </tbody>\n",
       "</table>\n",
       "</div>"
      ],
      "text/plain": [
       "                                         subject  \\\n",
       "0  Fine-tune your collection with Edox + Versace   \n",
       "1             Des Moines Register Evening Report   \n",
       "\n",
       "                                           full_text  \n",
       "0  PLUS, enter our Invicta Big Idea Sweepstakes f...  \n",
       "1  Having trouble viewing this email? | View it i...  "
      ]
     },
     "execution_count": 94,
     "metadata": {},
     "output_type": "execute_result"
    }
   ],
   "source": [
    "df = pd.read_csv(\"./data/emails.csv\", encoding=\"ISO-8859-1\")\n",
    "print(df.shape)\n",
    "df.head(2)"
   ]
  },
  {
   "cell_type": "code",
   "execution_count": 136,
   "metadata": {
    "collapsed": true
   },
   "outputs": [],
   "source": [
    "def contains_word(s, w):\n",
    "    return (' ' + w + ' ') in (' ' + s + ' ')"
   ]
  },
  {
   "cell_type": "code",
   "execution_count": 141,
   "metadata": {
    "collapsed": true
   },
   "outputs": [],
   "source": [
    "def combined_field_mapper(subject, category_words):\n",
    "    category = set()\n",
    "        \n",
    "    for w in category_words:\n",
    "        if contains_word(subject, w):\n",
    "            category.add(i)\n",
    "\n",
    "    return list(category)"
   ]
  },
  {
   "cell_type": "code",
   "execution_count": null,
   "metadata": {
    "collapsed": true
   },
   "outputs": [],
   "source": [
    "start_time = time.time()\n",
    "\n",
    "categories = []\n",
    "\n",
    "for subject in subjects:\n",
    "    category = set()\n",
    "    for i, row in cat.iterrows():\n",
    "        words = row[\"combined\"] # set\n",
    "        subject = set(subject.split(\" \")) # set\n",
    "        for w in words:\n",
    "            if contains_word(subject, w):\n",
    "                category.add(i)\n",
    "    categories.append(list(category))\n",
    "\n",
    "# df.categories = categories\n",
    "print(\"--- %s seconds ---\" % (time.time() - start_time))"
   ]
  },
  {
   "cell_type": "code",
   "execution_count": 146,
   "metadata": {
    "collapsed": false
   },
   "outputs": [],
   "source": [
    "# subjects = df.iloc[0:10].subject.apply(lambda x: x.lower())\n",
    "\n",
    "# start_time = time.time()\n",
    "# categories = []\n",
    "\n",
    "# for subject in subjects:\n",
    "#     category = set()\n",
    "#     for i, row in cat.iterrows():\n",
    "#         words = row[\"combined\"]\n",
    "#         for w in words:\n",
    "#             if contains_word(subject, w):\n",
    "#                 category.add(i)\n",
    "#     categories.append(list(category))\n",
    "\n",
    "# print(\"--- %s seconds ---\" % (time.time() - start_time))\n",
    "# --- 11.866845846176147 seconds ---\n",
    "# # df.categories = categories"
   ]
  },
  {
   "cell_type": "code",
   "execution_count": 132,
   "metadata": {
    "collapsed": false
   },
   "outputs": [
    {
     "name": "stdout",
     "output_type": "stream",
     "text": [
      "Toys & Games > Toys > Riding Toys > Rocking & Spring Riding Toys\n",
      "Electronics > Audio > Audio Components > Headphones & Headsets\n",
      "Toys & Games > Toys > Activity Toys > Coiled Spring Toys\n"
     ]
    }
   ],
   "source": [
    "# def print_categories(list_of_ids):\n",
    "#     for i in list_of_ids:\n",
    "#         category = cat.iloc[i, :-1]\n",
    "#         print(\" > \".join([i for i in category if i != False]))\n",
    "        \n",
    "# print_categories(list(category))"
   ]
  },
  {
   "cell_type": "code",
   "execution_count": null,
   "metadata": {
    "collapsed": false
   },
   "outputs": [],
   "source": []
  },
  {
   "cell_type": "code",
   "execution_count": null,
   "metadata": {
    "collapsed": true
   },
   "outputs": [],
   "source": [
    "# next steps\n",
    "# get this to run faster\n",
    "# clean up categories and assess results\n",
    "# how do we handle singular v.s. plural?\n",
    "# should we remove stop words?\n",
    "# what categories should we add? (shoes example)\n",
    "# using more than just subject (e.g. full_text)\n",
    "# using google vision to understand the email better (image recognition, OCR, etc)\n",
    "### use this info to add new categories\n",
    "# explore using different weights (would this make sense for us?)"
   ]
  }
 ],
 "metadata": {
  "anaconda-cloud": {},
  "kernelspec": {
   "display_name": "Python [conda root]",
   "language": "python",
   "name": "conda-root-py"
  },
  "language_info": {
   "codemirror_mode": {
    "name": "ipython",
    "version": 3
   },
   "file_extension": ".py",
   "mimetype": "text/x-python",
   "name": "python",
   "nbconvert_exporter": "python",
   "pygments_lexer": "ipython3",
   "version": "3.5.2"
  }
 },
 "nbformat": 4,
 "nbformat_minor": 1
}
