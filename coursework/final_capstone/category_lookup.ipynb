{
 "cells": [
  {
   "cell_type": "code",
   "execution_count": 83,
   "metadata": {
    "collapsed": false
   },
   "outputs": [],
   "source": [
    "import pandas as pd\n",
    "import numpy as np\n",
    "import math\n",
    "import re\n",
    "import time"
   ]
  },
  {
   "cell_type": "code",
   "execution_count": 84,
   "metadata": {
    "collapsed": true
   },
   "outputs": [],
   "source": [
    "def combine_categories_set(row):\n",
    "    result = row.category_1.lower()\n",
    "    \n",
    "    if row.category_2:\n",
    "        result = result + \" \" + row.category_2.lower()\n",
    "    if row.category_3:\n",
    "        result = result + \" \" + row.category_3.lower()\n",
    "    if row.category_4:\n",
    "        result = result + \" \" + row.category_4.lower()\n",
    "    if row.category_5:\n",
    "        result = result + \" \" + row.category_5.lower()\n",
    "    if row.category_6:\n",
    "        result = result + \" \" + row.category_6.lower()\n",
    "    if row.category_7:\n",
    "        result = result + \" \" + row.category_7.lower()\n",
    "    \n",
    "    result = set(re.split(r\"[\\>|\\&| ]+\", result))\n",
    "    return result\n",
    "\n",
    "def combine_categories(row):\n",
    "    result = row.category_1.lower()\n",
    "    \n",
    "    if row.category_2:\n",
    "        result = result + \" > \" + row.category_2.lower()\n",
    "    if row.category_3:\n",
    "        result = result + \" > \" + row.category_3.lower()\n",
    "    if row.category_4:\n",
    "        result = result + \" > \" + row.category_4.lower()\n",
    "    if row.category_5:\n",
    "        result = result + \" > \" + row.category_5.lower()\n",
    "    if row.category_6:\n",
    "        result = result + \" > \" + row.category_6.lower()\n",
    "    if row.category_7:\n",
    "        result = result + \" > \" + row.category_7.lower()\n",
    "\n",
    "    return result"
   ]
  },
  {
   "cell_type": "code",
   "execution_count": 85,
   "metadata": {
    "collapsed": false
   },
   "outputs": [
    {
     "name": "stdout",
     "output_type": "stream",
     "text": [
      "(5427, 9)\n"
     ]
    },
    {
     "data": {
      "text/html": [
       "<div>\n",
       "<style>\n",
       "    .dataframe thead tr:only-child th {\n",
       "        text-align: right;\n",
       "    }\n",
       "\n",
       "    .dataframe thead th {\n",
       "        text-align: left;\n",
       "    }\n",
       "\n",
       "    .dataframe tbody tr th {\n",
       "        vertical-align: top;\n",
       "    }\n",
       "</style>\n",
       "<table border=\"1\" class=\"dataframe\">\n",
       "  <thead>\n",
       "    <tr style=\"text-align: right;\">\n",
       "      <th></th>\n",
       "      <th>category_1</th>\n",
       "      <th>category_2</th>\n",
       "      <th>category_3</th>\n",
       "      <th>category_4</th>\n",
       "      <th>category_5</th>\n",
       "      <th>category_6</th>\n",
       "      <th>category_7</th>\n",
       "      <th>combined</th>\n",
       "      <th>combined_set</th>\n",
       "    </tr>\n",
       "  </thead>\n",
       "  <tbody>\n",
       "    <tr>\n",
       "      <th>0</th>\n",
       "      <td>Animals &amp; Pet Supplies</td>\n",
       "      <td>False</td>\n",
       "      <td>False</td>\n",
       "      <td>False</td>\n",
       "      <td>False</td>\n",
       "      <td>False</td>\n",
       "      <td>False</td>\n",
       "      <td>animals &amp; pet supplies</td>\n",
       "      <td>{animals, pet, supplies}</td>\n",
       "    </tr>\n",
       "    <tr>\n",
       "      <th>1</th>\n",
       "      <td>Animals &amp; Pet Supplies</td>\n",
       "      <td>Live Animals</td>\n",
       "      <td>False</td>\n",
       "      <td>False</td>\n",
       "      <td>False</td>\n",
       "      <td>False</td>\n",
       "      <td>False</td>\n",
       "      <td>animals &amp; pet supplies &gt; live animals</td>\n",
       "      <td>{animals, live, pet, supplies}</td>\n",
       "    </tr>\n",
       "  </tbody>\n",
       "</table>\n",
       "</div>"
      ],
      "text/plain": [
       "               category_1    category_2 category_3 category_4 category_5  \\\n",
       "0  Animals & Pet Supplies         False      False      False      False   \n",
       "1  Animals & Pet Supplies  Live Animals      False      False      False   \n",
       "\n",
       "  category_6 category_7                               combined  \\\n",
       "0      False      False                 animals & pet supplies   \n",
       "1      False      False  animals & pet supplies > live animals   \n",
       "\n",
       "                     combined_set  \n",
       "0        {animals, pet, supplies}  \n",
       "1  {animals, live, pet, supplies}  "
      ]
     },
     "execution_count": 85,
     "metadata": {},
     "output_type": "execute_result"
    }
   ],
   "source": [
    "# https://www.google.com/basepages/producttype/taxonomy.en-US.txt\n",
    "cat = pd.read_csv(\"./data/taxonomy.csv\", encoding=\"ISO-8859-1\")\n",
    "cat.fillna(False, inplace=True)\n",
    "cat[\"combined\"] = cat.apply(lambda x: combine_categories(x), axis=1)\n",
    "cat[\"combined_set\"] = cat.apply(lambda x: combine_categories_set(x), axis=1)\n",
    "print(cat.shape)\n",
    "cat.head(2)"
   ]
  },
  {
   "cell_type": "code",
   "execution_count": 86,
   "metadata": {
    "collapsed": false
   },
   "outputs": [
    {
     "name": "stdout",
     "output_type": "stream",
     "text": [
      "(100, 2)\n"
     ]
    },
    {
     "data": {
      "text/html": [
       "<div>\n",
       "<style>\n",
       "    .dataframe thead tr:only-child th {\n",
       "        text-align: right;\n",
       "    }\n",
       "\n",
       "    .dataframe thead th {\n",
       "        text-align: left;\n",
       "    }\n",
       "\n",
       "    .dataframe tbody tr th {\n",
       "        vertical-align: top;\n",
       "    }\n",
       "</style>\n",
       "<table border=\"1\" class=\"dataframe\">\n",
       "  <thead>\n",
       "    <tr style=\"text-align: right;\">\n",
       "      <th></th>\n",
       "      <th>subject</th>\n",
       "      <th>full_text</th>\n",
       "    </tr>\n",
       "  </thead>\n",
       "  <tbody>\n",
       "    <tr>\n",
       "      <th>0</th>\n",
       "      <td>Prana Patterns on Point + a FREE $20</td>\n",
       "      <td>PLUS the $20 Almost Gift Card To view this ema...</td>\n",
       "    </tr>\n",
       "    <tr>\n",
       "      <th>1</th>\n",
       "      <td>Now 25% OFF every doggone thing. Everything. D...</td>\n",
       "      <td>The September Style sale The September Style s...</td>\n",
       "    </tr>\n",
       "  </tbody>\n",
       "</table>\n",
       "</div>"
      ],
      "text/plain": [
       "                                             subject  \\\n",
       "0               Prana Patterns on Point + a FREE $20   \n",
       "1  Now 25% OFF every doggone thing. Everything. D...   \n",
       "\n",
       "                                           full_text  \n",
       "0  PLUS the $20 Almost Gift Card To view this ema...  \n",
       "1  The September Style sale The September Style s...  "
      ]
     },
     "execution_count": 86,
     "metadata": {},
     "output_type": "execute_result"
    }
   ],
   "source": [
    "df = pd.read_csv(\"./data/emails.csv\", encoding=\"ISO-8859-1\")\n",
    "print(df.shape)\n",
    "df.head(2)"
   ]
  },
  {
   "cell_type": "code",
   "execution_count": 87,
   "metadata": {
    "collapsed": false
   },
   "outputs": [],
   "source": [
    "# def contains_word(s, w):\n",
    "#     return (' ' + w + ' ') in (' ' + s + ' ')\n",
    "\n",
    "# subjects = df.iloc[0:10].subject.apply(lambda x: x.lower())\n",
    "\n",
    "# start_time = time.time()\n",
    "# categories = []\n",
    "\n",
    "# for subject in subjects:\n",
    "#     category = set()\n",
    "#     for i, row in cat.iterrows():\n",
    "#         words = row[\"combined_set\"]\n",
    "#         for w in words:\n",
    "#             if contains_word(subject, w):\n",
    "#                 category.add(i)\n",
    "#     categories.append(list(category))\n",
    "\n",
    "# print(\"--- %s seconds ---\" % (time.time() - start_time))\n",
    "# # --- 3.7804958820343018 seconds ---\n",
    "# # df.categories = categories"
   ]
  },
  {
   "cell_type": "code",
   "execution_count": 88,
   "metadata": {
    "collapsed": false
   },
   "outputs": [
    {
     "name": "stdout",
     "output_type": "stream",
     "text": [
      "--- 38.86279606819153 seconds ---\n"
     ]
    }
   ],
   "source": [
    "subjects = df.subject.apply(lambda x: x.lower())\n",
    "\n",
    "start_time = time.time()\n",
    "categories = []\n",
    "\n",
    "for subject in subjects:\n",
    "    category = set()\n",
    "    subject = set(re.split(r\"[\\>|\\&| ]+\", subject))\n",
    "\n",
    "    for i, row in cat.iterrows():\n",
    "        words = row[\"combined_set\"]\n",
    "        \n",
    "        if len(words.intersection(subject))>0: \n",
    "            category.add(i)\n",
    "\n",
    "    categories.append(list(category))\n",
    "\n",
    "print(\"--- %s seconds ---\" % (time.time() - start_time))\n",
    "# --- 3.6054348945617676 seconds ---\n",
    "df[\"category_ids\"] = categories"
   ]
  },
  {
   "cell_type": "code",
   "execution_count": 132,
   "metadata": {
    "collapsed": false
   },
   "outputs": [
    {
     "name": "stdout",
     "output_type": "stream",
     "text": [
      "Toys & Games > Toys > Riding Toys > Rocking & Spring Riding Toys\n",
      "Electronics > Audio > Audio Components > Headphones & Headsets\n",
      "Toys & Games > Toys > Activity Toys > Coiled Spring Toys\n"
     ]
    }
   ],
   "source": [
    "# def print_categories(list_of_ids):\n",
    "#     for i in list_of_ids:\n",
    "#         category = cat.iloc[i, :-1]\n",
    "#         print(\" > \".join([i for i in category if i != False]))\n",
    "        \n",
    "# print_categories(list(category))"
   ]
  },
  {
   "cell_type": "code",
   "execution_count": 104,
   "metadata": {
    "collapsed": true
   },
   "outputs": [],
   "source": [
    "def convert_categories_index_to_text(categories):\n",
    "    result = []\n",
    "    for i in categories:\n",
    "        result.append(cat.iloc[i][\"combined\"])\n",
    "        result.append(\"*****\")\n",
    "    return result\n",
    "\n",
    "df[\"categories\"] = df.apply(lambda x: convert_categories_index_to_text(x[\"category_ids\"]), axis=1)"
   ]
  },
  {
   "cell_type": "code",
   "execution_count": 105,
   "metadata": {
    "collapsed": false
   },
   "outputs": [
    {
     "name": "stdout",
     "output_type": "stream",
     "text": [
      "Prana Patterns on Point + a FREE $20\n",
      "['sporting goods > exercise & fitness > weight lifting > free weight accessories > weight bars', '*****', 'sporting goods > exercise & fitness > weight lifting > free weights', '*****', 'food, beverages & tobacco > food items > fruits & vegetables > fresh & frozen vegetables > greens > on choy', '*****', 'sporting goods > exercise & fitness > weight lifting > free weight accessories', '*****', 'sporting goods > exercise & fitness > weight lifting > free weight accessories > free weight storage racks', '*****', 'sporting goods > exercise & fitness > weight lifting > free weight accessories > weight bar collars', '*****', 'arts & entertainment > hobbies & creative arts > arts & crafts > crafting patterns & molds', '*****', 'arts & entertainment > hobbies & creative arts > arts & crafts > crafting patterns & molds > beading patterns', '*****', 'arts & entertainment > hobbies & creative arts > arts & crafts > crafting patterns & molds > craft molds', '*****', 'arts & entertainment > hobbies & creative arts > arts & crafts > crafting patterns & molds > felting molds', '*****', 'arts & entertainment > hobbies & creative arts > arts & crafts > crafting patterns & molds > needlecraft patterns', '*****', 'arts & entertainment > hobbies & creative arts > arts & crafts > crafting patterns & molds > sewing patterns', '*****']\n"
     ]
    }
   ],
   "source": [
    "# QA\n",
    "\n",
    "position = 0\n",
    "\n",
    "print(df.iloc[position][\"subject\"])\n",
    "print(df.iloc[position][\"categories\"])\n"
   ]
  },
  {
   "cell_type": "code",
   "execution_count": null,
   "metadata": {
    "collapsed": false
   },
   "outputs": [],
   "source": []
  },
  {
   "cell_type": "code",
   "execution_count": 12,
   "metadata": {
    "collapsed": true
   },
   "outputs": [],
   "source": [
    "# next steps\n",
    "# get this to run faster\n",
    "# clean up categories and assess results\n",
    "# how do we handle singular v.s. plural?\n",
    "# should we remove stop words?\n",
    "# what categories should we add? (shoes example)\n",
    "# using more than just subject (e.g. full_text)\n",
    "# using google vision to understand the email better (image recognition, OCR, etc)\n",
    "### use this info to add new categories\n",
    "# explore using different weights (would this make sense for us?)"
   ]
  },
  {
   "cell_type": "code",
   "execution_count": null,
   "metadata": {
    "collapsed": false
   },
   "outputs": [],
   "source": []
  },
  {
   "cell_type": "code",
   "execution_count": null,
   "metadata": {
    "collapsed": false
   },
   "outputs": [],
   "source": []
  },
  {
   "cell_type": "code",
   "execution_count": null,
   "metadata": {
    "collapsed": false
   },
   "outputs": [],
   "source": []
  },
  {
   "cell_type": "code",
   "execution_count": null,
   "metadata": {
    "collapsed": true
   },
   "outputs": [],
   "source": []
  },
  {
   "cell_type": "code",
   "execution_count": null,
   "metadata": {
    "collapsed": false
   },
   "outputs": [],
   "source": []
  },
  {
   "cell_type": "code",
   "execution_count": null,
   "metadata": {
    "collapsed": false
   },
   "outputs": [],
   "source": []
  },
  {
   "cell_type": "code",
   "execution_count": null,
   "metadata": {
    "collapsed": true
   },
   "outputs": [],
   "source": []
  }
 ],
 "metadata": {
  "anaconda-cloud": {},
  "kernelspec": {
   "display_name": "Python [conda root]",
   "language": "python",
   "name": "conda-root-py"
  },
  "language_info": {
   "codemirror_mode": {
    "name": "ipython",
    "version": 3
   },
   "file_extension": ".py",
   "mimetype": "text/x-python",
   "name": "python",
   "nbconvert_exporter": "python",
   "pygments_lexer": "ipython3",
   "version": "3.5.2"
  }
 },
 "nbformat": 4,
 "nbformat_minor": 1
}
