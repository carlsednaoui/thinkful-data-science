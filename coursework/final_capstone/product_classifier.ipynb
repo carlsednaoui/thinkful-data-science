{
 "cells": [
  {
   "cell_type": "code",
   "execution_count": 1,
   "metadata": {
    "collapsed": true
   },
   "outputs": [],
   "source": [
    "# HTML: https://s3.amazonaws.com/assets.mailcharts.com/emails/3b9666be-1ddc-952f-329e-6e832911892e/index.html\n",
    "# JSON: https://s3.amazonaws.com/assets.mailcharts.com/~emails:3b9666be-1ddc-952f-329e-6e832911892e.json"
   ]
  },
  {
   "cell_type": "code",
   "execution_count": 75,
   "metadata": {
    "collapsed": true
   },
   "outputs": [],
   "source": [
    "from bs4 import BeautifulSoup\n",
    "from collections import Counter\n",
    "from collections import defaultdict\n",
    "from io import BytesIO\n",
    "import math\n",
    "from nltk.stem import WordNetLemmatizer\n",
    "from nltk import pos_tag as word_type\n",
    "import numpy as np\n",
    "import pandas as pd\n",
    "from PIL import Image\n",
    "import pytesseract\n",
    "import re\n",
    "import requests\n",
    "import string"
   ]
  },
  {
   "cell_type": "code",
   "execution_count": 76,
   "metadata": {
    "collapsed": false
   },
   "outputs": [],
   "source": [
    "# Google vision\n",
    "from google.cloud import vision\n",
    "from google.cloud.vision import types\n",
    "import os\n",
    "\n",
    "path=\"/Users/carl/sites/google.json\"\n",
    "os.environ['GOOGLE_APPLICATION_CREDENTIALS']=path"
   ]
  },
  {
   "cell_type": "code",
   "execution_count": 77,
   "metadata": {
    "collapsed": true
   },
   "outputs": [],
   "source": [
    "# Helper functions to prepare category data\n",
    "\n",
    "def create_full_category(row):\n",
    "    result = row.category_1.lower()\n",
    "    \n",
    "    if row.category_2:\n",
    "        result = result + \" > \" + row.category_2.lower()\n",
    "    if row.category_3:\n",
    "        result = result + \" > \" + row.category_3.lower()\n",
    "    if row.category_4:\n",
    "        result = result + \" > \" + row.category_4.lower()\n",
    "    if row.category_5:\n",
    "        result = result + \" > \" + row.category_5.lower()\n",
    "    if row.category_6:\n",
    "        result = result + \" > \" + row.category_6.lower()\n",
    "    if row.category_7:\n",
    "        result = result + \" > \" + row.category_7.lower()\n",
    "\n",
    "    return result\n",
    "\n",
    "def get_lookup_value(row):    \n",
    "    if row.lookup_value:\n",
    "        return row.lookup_value.lower().split(\"|\")\n",
    "    if row.category_7:\n",
    "        return [row.category_7.lower()]\n",
    "    if row.category_6:\n",
    "        return [row.category_6.lower()]\n",
    "    if row.category_5:\n",
    "        return [row.category_5.lower()]\n",
    "    if row.category_4:\n",
    "        return [row.category_4.lower()]\n",
    "    if row.category_3:\n",
    "        return [row.category_3.lower()]\n",
    "    if row.category_2:\n",
    "        return [row.category_2.lower()]\n",
    "    if row.category_1:\n",
    "        return [row.category_1.lower()]"
   ]
  },
  {
   "cell_type": "code",
   "execution_count": 78,
   "metadata": {
    "collapsed": false
   },
   "outputs": [],
   "source": [
    "# Create category DF\n",
    "categories_df = pd.read_csv(\"./data/taxonomy-carl.csv\", encoding=\"ISO-8859-1\", dtype=str)\n",
    "categories_df.fillna(False, inplace=True)\n",
    "categories_df[\"full_category\"] = categories_df.apply(lambda x: create_full_category(x), axis=1)\n",
    "categories_df[\"lookup_value\"] = categories_df.apply(lambda x: get_lookup_value(x), axis=1)"
   ]
  },
  {
   "cell_type": "code",
   "execution_count": 79,
   "metadata": {
    "collapsed": true
   },
   "outputs": [],
   "source": [
    "# Email text cleaner\n",
    "\n",
    "lemmatizer = WordNetLemmatizer()\n",
    "punctuation = r\"\\+|\\:|\\{|\\\\|\\(|\\-|\\`|\\<|\\?|\\*|\\;|\\_|\\@|\\'|\\[|\\}|\\)|\\,|\\/|\\\"|\\$|\\=|\\&|\\]|\\!|\\%|\\>|\\^|\\~|\\||\\.|\\#\"\n",
    "\n",
    "def clean_email_text(content):\n",
    "    if type(content) == float and np.isnan(content): # prevent blowup if nan\n",
    "        return \"\"\n",
    "    content = \" \".join(content.split(\"_\")) # prevents blowup if subjects are concatenated with \"_\"\n",
    "    content = \" \".join(content.split(\"\\n\"))\n",
    "    lowered = str(content).lower()\n",
    "    no_punct = re.sub(punctuation, \"\", lowered)\n",
    "    alpha = \" \".join([word for word in no_punct.split(\" \") if word.isalpha()])\n",
    "    nouns = \" \".join([word[0] for word in word_type(alpha.strip().split(\" \")) if word[1] != \"VB\"])\n",
    "    singulars = \" \".join([lemmatizer.lemmatize(word) for word in nouns.split(\" \") if word.isalpha()])\n",
    "    return singulars"
   ]
  },
  {
   "cell_type": "code",
   "execution_count": 80,
   "metadata": {
    "collapsed": true
   },
   "outputs": [],
   "source": [
    "# Content matching functions\n",
    "\n",
    "def contains_word(s, w):\n",
    "    return (' ' + w + ' ') in (' ' + s + ' ')\n",
    "\n",
    "def contains_word_with_counter(i, s, w):\n",
    "    return (i, s.count(w))\n",
    "\n",
    "def find_matches(text):\n",
    "    text = clean_email_text(text)\n",
    "    categories = []\n",
    "    \n",
    "    for i, row in categories_df.iterrows():\n",
    "        category_to_find = row[\"lookup_value\"]\n",
    "        for c in category_to_find:\n",
    "            if contains_word(text, c):\n",
    "                categories.append(contains_word_with_counter(i, text, c))\n",
    "    return categories"
   ]
  },
  {
   "cell_type": "code",
   "execution_count": 81,
   "metadata": {
    "collapsed": false
   },
   "outputs": [],
   "source": [
    "# See which images we need to process\n",
    "\n",
    "def get_image_size(url):\n",
    "    data = requests.get(url).content\n",
    "    im = Image.open(BytesIO(data))    \n",
    "    return im.size\n",
    "\n",
    "def get_images_to_analyze(url):\n",
    "    page = requests.get(url)\n",
    "    soup = BeautifulSoup(page.content, 'html.parser')\n",
    "\n",
    "    images_to_analyze = []\n",
    "\n",
    "    for img in soup.findAll('img'):\n",
    "        img_url = \"https://s3.amazonaws.com/assets.mailcharts.com/emails/\" + guid + \"/\" + img[\"src\"]\n",
    "        try:\n",
    "            width, height = get_image_size(img_url)\n",
    "            area = width * height\n",
    "            if area > 10000:\n",
    "                images_to_analyze.append(img_url)\n",
    "        except:\n",
    "            pass\n",
    "\n",
    "    return images_to_analyze\n",
    "\n",
    "\n",
    "# OCR\n",
    "# def process_image_ocr(images):\n",
    "#     ocr_results = []\n",
    "    \n",
    "#     for image in images:\n",
    "#         # TODO: We need to convert gifs to JPEGs\n",
    "#         # https://pillow.readthedocs.io/en/5.1.x/reference/plugins.html#module-PIL.GifImagePlugin\n",
    "#         if image.endswith(\".gif\"):\n",
    "#             print(\"skipping gif\")\n",
    "#         else:\n",
    "#             response = requests.get(image)\n",
    "#             img = Image.open(BytesIO(response.content))\n",
    "#             text = pytesseract.image_to_string(img)\n",
    "#             ocr_results.append(text + \" \")\n",
    "#     return \" \".join(ocr_results)\n",
    "\n",
    "def get_images_data(images):\n",
    "    text_results = \"\"\n",
    "    image_results = \"\"\n",
    "    \n",
    "    for image in images:\n",
    "        client = vision.ImageAnnotatorClient()\n",
    "        request = {'image': {'source': {'image_uri': image},},}\n",
    "        response = client.annotate_image(request)\n",
    "        text = \" \".join([l.description for l in response.text_annotations])\n",
    "        label = \" \".join([l.description for l in response.label_annotations])\n",
    "        web = \" \".join([l.description for l in response.web_detection.web_entities])\n",
    "\n",
    "        text_results = text_results + text + \" \"\n",
    "        image_results = image_results + label + \" \"\n",
    "\n",
    "    return (text_results, image_results)"
   ]
  },
  {
   "cell_type": "code",
   "execution_count": 93,
   "metadata": {
    "collapsed": false
   },
   "outputs": [],
   "source": [
    "# image_content, image_text, subject_body\n",
    "\n",
    "WEIGHTS = {\n",
    "    \"subject\": 0.20,\n",
    "    \"body\": 0.10,\n",
    "    \"image_text\": 0.25,\n",
    "    \"image_content\": 0.45\n",
    "}\n",
    "\n",
    "def calculate_result(subject, body, image_text, image_content): \n",
    "    # Calculate weight\n",
    "    subject = [(s[0], s[1]*WEIGHTS[\"subject\"]) for s in subject]\n",
    "    body = [(s[0], s[1]*WEIGHTS[\"body\"]) for s in body]\n",
    "    image_text = [(s[0], s[1]*WEIGHTS[\"image_text\"]) for s in image_text]\n",
    "    image_content = [(s[0], s[1]*WEIGHTS[\"image_content\"]) for s in image_content]\n",
    "    \n",
    "    # combine all of them\n",
    "    subject.extend(body)\n",
    "    subject.extend(image_text)\n",
    "    subject.extend(image_content)\n",
    "    \n",
    "    # add the results\n",
    "    d = defaultdict(float)\n",
    "\n",
    "    for i in subject:\n",
    "        d[i[0]] +=i[1]\n",
    "\n",
    "    return sorted(d.items(), key=lambda t: t[1], reverse=True)\n",
    "\n",
    "def categorize(subject, full_text, image_text, image_content):\n",
    "    subject = find_matches(subject)\n",
    "    full_text = find_matches(full_text)\n",
    "    image_text = find_matches(image_text)\n",
    "    image_content = find_matches(image_content)\n",
    "    return calculate_result(subject, full_text, image_text, image_content)\n",
    "\n",
    "def list_categories(res):\n",
    "    total_points = sum([result[1] for result in results])\n",
    "    cutoff = total_points * 0.1\n",
    "    \n",
    "    categories = []\n",
    "    for category_index, value in res:\n",
    "        if value >= 0 and total_points > cutoff:\n",
    "            categories.append((categories_df.iloc[category_index][\"full_category\"], value))\n",
    "            total_points = total_points - value\n",
    "    return categories"
   ]
  },
  {
   "cell_type": "code",
   "execution_count": 83,
   "metadata": {
    "collapsed": true
   },
   "outputs": [],
   "source": [
    "df = pd.read_csv(\"./data/emails-tag-1100.csv\", encoding=\"ISO-8859-1\", dtype=str)\n",
    "df[\"subject\"] = df[\"subject\"].apply(lambda x: clean_email_text(x))\n",
    "df[\"full_text\"] = df[\"full_text\"].apply(lambda x: clean_email_text(x))\n",
    "df = df.iloc[:10]"
   ]
  },
  {
   "cell_type": "code",
   "execution_count": 97,
   "metadata": {
    "collapsed": false
   },
   "outputs": [
    {
     "name": "stdout",
     "output_type": "stream",
     "text": [
      "https://www.mailcharts.com/emails/6ec4361a-cd9b-dd16-84cc-7257447f7071\n"
     ]
    }
   ],
   "source": [
    "position = 3\n",
    "subject = df.iloc[position][\"subject\"]\n",
    "full_text = df.iloc[position][\"full_text\"]\n",
    "guid = df.iloc[position][\"guid\"]\n",
    "url = \"https://s3.amazonaws.com/assets.mailcharts.com/emails/\" + guid + \"/index.html\"\n",
    "images = get_images_to_analyze(url)\n",
    "image_text, image_content = get_images_data(images)\n",
    "\n",
    "print(\"https://www.mailcharts.com/emails/\" + df.iloc[position][\"guid\"])"
   ]
  },
  {
   "cell_type": "code",
   "execution_count": 98,
   "metadata": {
    "collapsed": false
   },
   "outputs": [
    {
     "data": {
      "text/plain": [
       "[('shoe', 2.9000000000000004),\n",
       " ('clothing > outerwear', 1.8),\n",
       " ('clothing > pants > short', 0.95),\n",
       " ('clothing > shirt > top', 0.95),\n",
       " ('clothing', 0.9),\n",
       " ('clothing > outerwear > blazer', 0.6),\n",
       " ('clothing > outerwear > jacket', 0.6),\n",
       " ('accessory > bag', 0.5),\n",
       " ('accessory > scarf', 0.5),\n",
       " ('accessory > jewelry', 0.5),\n",
       " ('clothing > underwear > lingerie', 0.45),\n",
       " ('clothing > dress', 0.45),\n",
       " ('clothing > pants > jean', 0.45),\n",
       " ('clothing > pants > denim', 0.45),\n",
       " ('clothing > pants > short > swimwear', 0.45)]"
      ]
     },
     "execution_count": 98,
     "metadata": {},
     "output_type": "execute_result"
    }
   ],
   "source": [
    "results = categorize(subject, full_text, image_text, image_content)\n",
    "list_categories(results)"
   ]
  },
  {
   "cell_type": "code",
   "execution_count": null,
   "metadata": {
    "collapsed": false
   },
   "outputs": [],
   "source": []
  },
  {
   "cell_type": "code",
   "execution_count": null,
   "metadata": {
    "collapsed": false
   },
   "outputs": [],
   "source": [
    "# Ideas for improvement\n",
    "# [ ] Look at google web results\n",
    "# [X] Exclude values in the lowest N%\n",
    "# [ ] Only return the lowest level for a given category\n",
    "# [ ] Classify images by surface area and only look at top N% (e.g. 80%)\n",
    "\n",
    "# Making this more data scien-cy\n",
    "# Cluster companies based on similar content"
   ]
  },
  {
   "cell_type": "code",
   "execution_count": null,
   "metadata": {
    "collapsed": false
   },
   "outputs": [],
   "source": []
  },
  {
   "cell_type": "code",
   "execution_count": null,
   "metadata": {
    "collapsed": false
   },
   "outputs": [],
   "source": []
  },
  {
   "cell_type": "code",
   "execution_count": null,
   "metadata": {
    "collapsed": false
   },
   "outputs": [],
   "source": []
  },
  {
   "cell_type": "code",
   "execution_count": null,
   "metadata": {
    "collapsed": false
   },
   "outputs": [],
   "source": [
    "import json\n",
    "df = pd.read_csv(\"./data/emails-tag-1100.csv\", encoding=\"ISO-8859-1\", dtype=str)"
   ]
  },
  {
   "cell_type": "code",
   "execution_count": 150,
   "metadata": {
    "collapsed": false
   },
   "outputs": [
    {
     "ename": "JSONDecodeError",
     "evalue": "Expecting value: line 1 column 1 (char 0)",
     "output_type": "error",
     "traceback": [
      "\u001b[0;31m---------------------------------------------------------------------------\u001b[0m",
      "\u001b[0;31mJSONDecodeError\u001b[0m                           Traceback (most recent call last)",
      "\u001b[0;32m<ipython-input-150-687588b12a3c>\u001b[0m in \u001b[0;36m<module>\u001b[0;34m()\u001b[0m\n\u001b[1;32m      5\u001b[0m \u001b[0mdata\u001b[0m \u001b[0;34m=\u001b[0m \u001b[0mjson\u001b[0m\u001b[0;34m.\u001b[0m\u001b[0mdumps\u001b[0m\u001b[0;34m(\u001b[0m\u001b[0;34m{\u001b[0m\u001b[0;34m'subject'\u001b[0m\u001b[0;34m:\u001b[0m\u001b[0mitem\u001b[0m\u001b[0;34m[\u001b[0m\u001b[0;34m\"subject\"\u001b[0m\u001b[0;34m]\u001b[0m\u001b[0;34m,\u001b[0m\u001b[0;34m'full_text'\u001b[0m\u001b[0;34m:\u001b[0m\u001b[0mitem\u001b[0m\u001b[0;34m[\u001b[0m\u001b[0;34m\"full_text\"\u001b[0m\u001b[0;34m]\u001b[0m\u001b[0;34m,\u001b[0m \u001b[0;34m'guid'\u001b[0m\u001b[0;34m:\u001b[0m\u001b[0mitem\u001b[0m\u001b[0;34m[\u001b[0m\u001b[0;34m\"guid\"\u001b[0m\u001b[0;34m]\u001b[0m\u001b[0;34m}\u001b[0m\u001b[0;34m)\u001b[0m\u001b[0;34m\u001b[0m\u001b[0m\n\u001b[1;32m      6\u001b[0m \u001b[0mr\u001b[0m \u001b[0;34m=\u001b[0m \u001b[0mrequests\u001b[0m\u001b[0;34m.\u001b[0m\u001b[0mpost\u001b[0m\u001b[0;34m(\u001b[0m\u001b[0murl\u001b[0m\u001b[0;34m,\u001b[0m \u001b[0mdata\u001b[0m\u001b[0;34m)\u001b[0m\u001b[0;34m\u001b[0m\u001b[0m\n\u001b[0;32m----> 7\u001b[0;31m \u001b[0mprint\u001b[0m\u001b[0;34m(\u001b[0m\u001b[0mr\u001b[0m\u001b[0;34m.\u001b[0m\u001b[0mjson\u001b[0m\u001b[0;34m(\u001b[0m\u001b[0;34m)\u001b[0m\u001b[0;34m)\u001b[0m\u001b[0;34m\u001b[0m\u001b[0m\n\u001b[0m",
      "\u001b[0;32m/Users/carl/anaconda/lib/python3.5/site-packages/requests/models.py\u001b[0m in \u001b[0;36mjson\u001b[0;34m(self, **kwargs)\u001b[0m\n\u001b[1;32m    890\u001b[0m                     \u001b[0;31m# used.\u001b[0m\u001b[0;34m\u001b[0m\u001b[0;34m\u001b[0m\u001b[0m\n\u001b[1;32m    891\u001b[0m                     \u001b[0;32mpass\u001b[0m\u001b[0;34m\u001b[0m\u001b[0m\n\u001b[0;32m--> 892\u001b[0;31m         \u001b[0;32mreturn\u001b[0m \u001b[0mcomplexjson\u001b[0m\u001b[0;34m.\u001b[0m\u001b[0mloads\u001b[0m\u001b[0;34m(\u001b[0m\u001b[0mself\u001b[0m\u001b[0;34m.\u001b[0m\u001b[0mtext\u001b[0m\u001b[0;34m,\u001b[0m \u001b[0;34m**\u001b[0m\u001b[0mkwargs\u001b[0m\u001b[0;34m)\u001b[0m\u001b[0;34m\u001b[0m\u001b[0m\n\u001b[0m\u001b[1;32m    893\u001b[0m \u001b[0;34m\u001b[0m\u001b[0m\n\u001b[1;32m    894\u001b[0m     \u001b[0;34m@\u001b[0m\u001b[0mproperty\u001b[0m\u001b[0;34m\u001b[0m\u001b[0m\n",
      "\u001b[0;32m/Users/carl/anaconda/lib/python3.5/site-packages/simplejson/__init__.py\u001b[0m in \u001b[0;36mloads\u001b[0;34m(s, encoding, cls, object_hook, parse_float, parse_int, parse_constant, object_pairs_hook, use_decimal, **kw)\u001b[0m\n\u001b[1;32m    516\u001b[0m             \u001b[0mparse_constant\u001b[0m \u001b[0;32mis\u001b[0m \u001b[0;32mNone\u001b[0m \u001b[0;32mand\u001b[0m \u001b[0mobject_pairs_hook\u001b[0m \u001b[0;32mis\u001b[0m \u001b[0;32mNone\u001b[0m\u001b[0;34m\u001b[0m\u001b[0m\n\u001b[1;32m    517\u001b[0m             and not use_decimal and not kw):\n\u001b[0;32m--> 518\u001b[0;31m         \u001b[0;32mreturn\u001b[0m \u001b[0m_default_decoder\u001b[0m\u001b[0;34m.\u001b[0m\u001b[0mdecode\u001b[0m\u001b[0;34m(\u001b[0m\u001b[0ms\u001b[0m\u001b[0;34m)\u001b[0m\u001b[0;34m\u001b[0m\u001b[0m\n\u001b[0m\u001b[1;32m    519\u001b[0m     \u001b[0;32mif\u001b[0m \u001b[0mcls\u001b[0m \u001b[0;32mis\u001b[0m \u001b[0;32mNone\u001b[0m\u001b[0;34m:\u001b[0m\u001b[0;34m\u001b[0m\u001b[0m\n\u001b[1;32m    520\u001b[0m         \u001b[0mcls\u001b[0m \u001b[0;34m=\u001b[0m \u001b[0mJSONDecoder\u001b[0m\u001b[0;34m\u001b[0m\u001b[0m\n",
      "\u001b[0;32m/Users/carl/anaconda/lib/python3.5/site-packages/simplejson/decoder.py\u001b[0m in \u001b[0;36mdecode\u001b[0;34m(self, s, _w, _PY3)\u001b[0m\n\u001b[1;32m    368\u001b[0m         \u001b[0;32mif\u001b[0m \u001b[0m_PY3\u001b[0m \u001b[0;32mand\u001b[0m \u001b[0misinstance\u001b[0m\u001b[0;34m(\u001b[0m\u001b[0ms\u001b[0m\u001b[0;34m,\u001b[0m \u001b[0mbytes\u001b[0m\u001b[0;34m)\u001b[0m\u001b[0;34m:\u001b[0m\u001b[0;34m\u001b[0m\u001b[0m\n\u001b[1;32m    369\u001b[0m             \u001b[0ms\u001b[0m \u001b[0;34m=\u001b[0m \u001b[0mstr\u001b[0m\u001b[0;34m(\u001b[0m\u001b[0ms\u001b[0m\u001b[0;34m,\u001b[0m \u001b[0mself\u001b[0m\u001b[0;34m.\u001b[0m\u001b[0mencoding\u001b[0m\u001b[0;34m)\u001b[0m\u001b[0;34m\u001b[0m\u001b[0m\n\u001b[0;32m--> 370\u001b[0;31m         \u001b[0mobj\u001b[0m\u001b[0;34m,\u001b[0m \u001b[0mend\u001b[0m \u001b[0;34m=\u001b[0m \u001b[0mself\u001b[0m\u001b[0;34m.\u001b[0m\u001b[0mraw_decode\u001b[0m\u001b[0;34m(\u001b[0m\u001b[0ms\u001b[0m\u001b[0;34m)\u001b[0m\u001b[0;34m\u001b[0m\u001b[0m\n\u001b[0m\u001b[1;32m    371\u001b[0m         \u001b[0mend\u001b[0m \u001b[0;34m=\u001b[0m \u001b[0m_w\u001b[0m\u001b[0;34m(\u001b[0m\u001b[0ms\u001b[0m\u001b[0;34m,\u001b[0m \u001b[0mend\u001b[0m\u001b[0;34m)\u001b[0m\u001b[0;34m.\u001b[0m\u001b[0mend\u001b[0m\u001b[0;34m(\u001b[0m\u001b[0;34m)\u001b[0m\u001b[0;34m\u001b[0m\u001b[0m\n\u001b[1;32m    372\u001b[0m         \u001b[0;32mif\u001b[0m \u001b[0mend\u001b[0m \u001b[0;34m!=\u001b[0m \u001b[0mlen\u001b[0m\u001b[0;34m(\u001b[0m\u001b[0ms\u001b[0m\u001b[0;34m)\u001b[0m\u001b[0;34m:\u001b[0m\u001b[0;34m\u001b[0m\u001b[0m\n",
      "\u001b[0;32m/Users/carl/anaconda/lib/python3.5/site-packages/simplejson/decoder.py\u001b[0m in \u001b[0;36mraw_decode\u001b[0;34m(self, s, idx, _w, _PY3)\u001b[0m\n\u001b[1;32m    398\u001b[0m             \u001b[0;32melif\u001b[0m \u001b[0mord0\u001b[0m \u001b[0;34m==\u001b[0m \u001b[0;36m0xef\u001b[0m \u001b[0;32mand\u001b[0m \u001b[0ms\u001b[0m\u001b[0;34m[\u001b[0m\u001b[0midx\u001b[0m\u001b[0;34m:\u001b[0m\u001b[0midx\u001b[0m \u001b[0;34m+\u001b[0m \u001b[0;36m3\u001b[0m\u001b[0;34m]\u001b[0m \u001b[0;34m==\u001b[0m \u001b[0;34m'\\xef\\xbb\\xbf'\u001b[0m\u001b[0;34m:\u001b[0m\u001b[0;34m\u001b[0m\u001b[0m\n\u001b[1;32m    399\u001b[0m                 \u001b[0midx\u001b[0m \u001b[0;34m+=\u001b[0m \u001b[0;36m3\u001b[0m\u001b[0;34m\u001b[0m\u001b[0m\n\u001b[0;32m--> 400\u001b[0;31m         \u001b[0;32mreturn\u001b[0m \u001b[0mself\u001b[0m\u001b[0;34m.\u001b[0m\u001b[0mscan_once\u001b[0m\u001b[0;34m(\u001b[0m\u001b[0ms\u001b[0m\u001b[0;34m,\u001b[0m \u001b[0midx\u001b[0m\u001b[0;34m=\u001b[0m\u001b[0m_w\u001b[0m\u001b[0;34m(\u001b[0m\u001b[0ms\u001b[0m\u001b[0;34m,\u001b[0m \u001b[0midx\u001b[0m\u001b[0;34m)\u001b[0m\u001b[0;34m.\u001b[0m\u001b[0mend\u001b[0m\u001b[0;34m(\u001b[0m\u001b[0;34m)\u001b[0m\u001b[0;34m)\u001b[0m\u001b[0;34m\u001b[0m\u001b[0m\n\u001b[0m",
      "\u001b[0;31mJSONDecodeError\u001b[0m: Expecting value: line 1 column 1 (char 0)"
     ]
    }
   ],
   "source": [
    "position = 450\n",
    "item = df.iloc[position]\n",
    "\n",
    "url = \"http://localhost:9000/api\"\n",
    "data = json.dumps({'subject':item[\"subject\"],'full_text':item[\"full_text\"], 'guid':item[\"guid\"]}) \n",
    "r = requests.post(url, data)\n",
    "print(r.json())"
   ]
  },
  {
   "cell_type": "code",
   "execution_count": null,
   "metadata": {
    "collapsed": false
   },
   "outputs": [],
   "source": []
  },
  {
   "cell_type": "code",
   "execution_count": 132,
   "metadata": {
    "collapsed": true
   },
   "outputs": [],
   "source": [
    "# Next steps\n",
    "# Gather email data for 10 companies for last month\n",
    "# jcrew, gap, uniqlo, banana republic, old navy, nike, coach, brooks brother\n",
    "# Will work with Koyuki to cluster companies based on similar content"
   ]
  },
  {
   "cell_type": "code",
   "execution_count": null,
   "metadata": {
    "collapsed": false
   },
   "outputs": [],
   "source": []
  },
  {
   "cell_type": "code",
   "execution_count": null,
   "metadata": {
    "collapsed": true
   },
   "outputs": [],
   "source": []
  }
 ],
 "metadata": {
  "kernelspec": {
   "display_name": "Python [conda root]",
   "language": "python",
   "name": "conda-root-py"
  },
  "language_info": {
   "codemirror_mode": {
    "name": "ipython",
    "version": 3
   },
   "file_extension": ".py",
   "mimetype": "text/x-python",
   "name": "python",
   "nbconvert_exporter": "python",
   "pygments_lexer": "ipython3",
   "version": "3.5.2"
  }
 },
 "nbformat": 4,
 "nbformat_minor": 2
}
