{
 "cells": [
  {
   "cell_type": "code",
   "execution_count": 2,
   "metadata": {
    "collapsed": false
   },
   "outputs": [
    {
     "ename": "ImportError",
     "evalue": "No module named 'scrapy'",
     "output_type": "error",
     "traceback": [
      "\u001b[0;31m---------------------------------------------------------------------------\u001b[0m",
      "\u001b[0;31mImportError\u001b[0m                               Traceback (most recent call last)",
      "\u001b[0;32m<ipython-input-2-1f6f935af042>\u001b[0m in \u001b[0;36m<module>\u001b[0;34m()\u001b[0m\n\u001b[1;32m      1\u001b[0m \u001b[0;31m# Importing in each cell because of the kernel restarts.\u001b[0m\u001b[0;34m\u001b[0m\u001b[0;34m\u001b[0m\u001b[0m\n\u001b[0;32m----> 2\u001b[0;31m \u001b[0;32mimport\u001b[0m \u001b[0mscrapy\u001b[0m\u001b[0;34m\u001b[0m\u001b[0m\n\u001b[0m\u001b[1;32m      3\u001b[0m \u001b[0;32mfrom\u001b[0m \u001b[0mscrapy\u001b[0m\u001b[0;34m.\u001b[0m\u001b[0mcrawler\u001b[0m \u001b[0;32mimport\u001b[0m \u001b[0mCrawlerProcess\u001b[0m\u001b[0;34m\u001b[0m\u001b[0m\n\u001b[1;32m      4\u001b[0m \u001b[0;34m\u001b[0m\u001b[0m\n\u001b[1;32m      5\u001b[0m \u001b[0;34m\u001b[0m\u001b[0m\n",
      "\u001b[0;31mImportError\u001b[0m: No module named 'scrapy'"
     ]
    }
   ],
   "source": [
    "# Importing in each cell because of the kernel restarts.\n",
    "import scrapy\n",
    "from scrapy.crawler import CrawlerProcess\n",
    "\n",
    "\n",
    "class ESSpider(scrapy.Spider):\n",
    "    # Naming the spider is important if you are running more than one spider of\n",
    "    # this class simultaneously.\n",
    "    name = \"ESS\"\n",
    "    \n",
    "    # URL(s) to start with.\n",
    "    start_urls = [\n",
    "        'http://www.everydaysexism.com',\n",
    "    ]\n",
    "\n",
    "    # What to do with the URL.  Here, we tell it to download all the code and save\n",
    "    # it to the mainpage.html file\n",
    "    def parse(self, response):\n",
    "        with open('mainpage.html', 'wb') as f:\n",
    "            f.write(response.body)\n",
    "\n",
    "\n",
    "# Instantiate our crawler.\n",
    "process = CrawlerProcess()\n",
    "\n",
    "# Start the crawler with our spider.\n",
    "process.crawl(ESSpider)\n",
    "process.start()\n"
   ]
  },
  {
   "cell_type": "code",
   "execution_count": null,
   "metadata": {
    "collapsed": true
   },
   "outputs": [],
   "source": [
    "# # Importing in each cell because of the kernel restarts.\n",
    "# import scrapy\n",
    "# from scrapy.crawler import CrawlerProcess\n",
    "\n",
    "\n",
    "# class ESSpider(scrapy.Spider):\n",
    "#     # Naming the spider is important if you are running more than one spider of\n",
    "#     # this class simultaneously.\n",
    "#     name = \"ESS\"\n",
    "    \n",
    "#     # URL(s) to start with.\n",
    "#     start_urls = [\n",
    "#         'http://www.everydaysexism.com',\n",
    "#     ]\n",
    "\n",
    "#     # Use XPath to parse the response we get.\n",
    "#     def parse(self, response):\n",
    "        \n",
    "#         # Iterate over every <article> element on the page.\n",
    "#         for article in response.xpath('//article'):\n",
    "            \n",
    "#             # Yield a dictionary with the values we want.\n",
    "#             yield {\n",
    "#                 # This is the code to choose what we want to extract\n",
    "#                 # You can modify this with other Xpath expressions to extract other information from the site\n",
    "#                 'name': article.xpath('header/h2/a/@title').extract_first(),\n",
    "#                 'date': article.xpath('header/section/span[@class=\"entry-date\"]/text()').extract_first(),\n",
    "#                 'text': article.xpath('section[@class=\"entry-content\"]/p/text()').extract(),\n",
    "#                 'tags': article.xpath('*/span[@class=\"tag-links\"]/a/text()').extract()\n",
    "#             }\n",
    "\n",
    "# # Tell the script how to run the crawler by passing in settings.\n",
    "# process = CrawlerProcess({\n",
    "#     'FEED_FORMAT': 'json',         # Store data in JSON format.\n",
    "#     'FEED_URI': 'firstpage.json',  # Name our storage file.\n",
    "#     'LOG_ENABLED': False           # Turn off logging for now.\n",
    "# })\n",
    "\n",
    "# # Start the crawler with our spider.\n",
    "# process.crawl(ESSpider)\n",
    "# process.start()\n",
    "# print('Success!')\n"
   ]
  },
  {
   "cell_type": "code",
   "execution_count": 15,
   "metadata": {
    "collapsed": false
   },
   "outputs": [
    {
     "name": "stdout",
     "output_type": "stream",
     "text": [
      "(10, 4)\n",
      "        date       name                     tags  \\\n",
      "0 2018-03-24          B  [University, Workplace]   \n",
      "1 2018-03-24          S           [Public space]   \n",
      "2 2018-03-24        Eve           [Public space]   \n",
      "3 2018-03-24    Mitsuko                 [School]   \n",
      "4 2018-03-24  anonymous              [Workplace]   \n",
      "\n",
      "                                                text  \n",
      "0  [I have regularly had an issue at work where I...  \n",
      "1  [Walking down a fairly busy street in the earl...  \n",
      "2  [I’ve just left my flat about 14:45, I’m weari...  \n",
      "3  [One day, I was at school and one of my collea...  \n",
      "4  [Our CMO (a man)  just told our marketing SVP ...  \n"
     ]
    }
   ],
   "source": [
    "import pandas as pd\n",
    "\n",
    "firstpage = pd.read_json('/Users/carl/sites/thinkful-data-science/coursework/unit_5/firstpage.json', orient='records')\n",
    "print(firstpage.shape)\n",
    "print(firstpage.head())"
   ]
  },
  {
   "cell_type": "code",
   "execution_count": 17,
   "metadata": {
    "collapsed": false
   },
   "outputs": [
    {
     "name": "stdout",
     "output_type": "stream",
     "text": [
      "(90, 4)\n",
      "        date       name                     tags  \\\n",
      "0 2018-03-24          B  [University, Workplace]   \n",
      "1 2018-03-24          S           [Public space]   \n",
      "2 2018-03-24        Eve           [Public space]   \n",
      "3 2018-03-24    Mitsuko                 [School]   \n",
      "4 2018-03-24  anonymous              [Workplace]   \n",
      "\n",
      "                                                text  \n",
      "0  [I have regularly had an issue at work where I...  \n",
      "1  [Walking down a fairly busy street in the earl...  \n",
      "2  [I’ve just left my flat about 14:45, I’m weari...  \n",
      "3  [One day, I was at school and one of my collea...  \n",
      "4  [Our CMO (a man)  just told our marketing SVP ...  \n"
     ]
    }
   ],
   "source": [
    "import pandas as pd\n",
    "\n",
    "# Checking whether we got data from all 9 pages\n",
    "ESSdf=pd.read_json('/Users/carl/sites/thinkful-data-science/coursework/unit_5/data.json', orient='records')\n",
    "print(ESSdf.shape)\n",
    "print(ESSdf.head())"
   ]
  },
  {
   "cell_type": "code",
   "execution_count": 20,
   "metadata": {
    "collapsed": false
   },
   "outputs": [
    {
     "name": "stdout",
     "output_type": "stream",
     "text": [
      "(92, 1)\n",
      "                              title\n",
      "0            Beachcomber (pen name)\n",
      "1                        Bob Costas\n",
      "2                       Comedy film\n",
      "3                 List of comedians\n",
      "4                     Douglas Adams\n",
      "5                       David Bowie\n",
      "6            Do Not Adjust Your Set\n",
      "7                     Elvis Presley\n",
      "8                   Ennio Morricone\n",
      "9      Cinema of the United Kingdom\n",
      "10                    Fawlty Towers\n",
      "11                 Federico Fellini\n",
      "12                  George Harrison\n",
      "13             Gilbert and Sullivan\n",
      "14                   Graham Chapman\n",
      "15               Hunter S. Thompson\n",
      "16                      Harry Kroto\n",
      "17                   Ingmar Bergman\n",
      "18                 John Stuart Mill\n",
      "19                      John Cleese\n",
      "20                    J. K. Rowling\n",
      "21                        John Peel\n",
      "22                             Joke\n",
      "23                        Kate Bush\n",
      "24     Monty Python's Life of Brian\n",
      "25              Spam (Monty Python)\n",
      "26               Dead Parrot sketch\n",
      "27               Cheese Shop sketch\n",
      "28        Bruces' Philosophers Song\n",
      "29   The Funniest Joke in the World\n",
      "..                              ...\n",
      "62                     Cameron Diaz\n",
      "63                   Walter Mondale\n",
      "64  The Rime of the Ancient Mariner\n",
      "65  Around the World in Eighty Days\n",
      "66                    Andrzej Wajda\n",
      "67                     Billy Wilder\n",
      "68                Catherine Deneuve\n",
      "69                Beyond the Fringe\n",
      "70                             Cunt\n",
      "71             List of Welsh people\n",
      "72       Downing College, Cambridge\n",
      "73                      Dan Aykroyd\n",
      "74              Bernardo Bertolucci\n",
      "75                    Marty Feldman\n",
      "76                    Sketch comedy\n",
      "77                      Terry Jones\n",
      "78  I'm Sorry, I'll Read That Again\n",
      "79                        Eric Idle\n",
      "80                   Robin Williams\n",
      "81                    Tracey Ullman\n",
      "82                Tim Brooke-Taylor\n",
      "83                     Fifth Beatle\n",
      "84       Fafhrd and the Gray Mouser\n",
      "85                  Jean-Luc Godard\n",
      "86     Warcraft III: Reign of Chaos\n",
      "87                     Hans Moleman\n",
      "88                    Ripping Yarns\n",
      "89        List of British comedians\n",
      "90               Wensleydale cheese\n",
      "91                    Art Garfunkel\n",
      "\n",
      "[92 rows x 1 columns]\n"
     ]
    }
   ],
   "source": [
    "import pandas as pd\n",
    "\n",
    "# Checking whether we got data \n",
    "\n",
    "Monty=pd.read_json('/Users/carl/sites/thinkful-data-science/coursework/unit_5/PythonLinks.json', orient='records')\n",
    "print(Monty.shape)\n",
    "print(Monty)"
   ]
  },
  {
   "cell_type": "code",
   "execution_count": 23,
   "metadata": {
    "collapsed": false
   },
   "outputs": [
    {
     "name": "stdout",
     "output_type": "stream",
     "text": [
      "(360, 3)\n",
      "  price                                              title  \\\n",
      "0  $275                    Leather Loveseat / Sofa / Couch   \n",
      "1  None               Used sleeper sofa couch and loveseat   \n",
      "2  None  Macy's Mid-Century Love Seat Couch (decent con...   \n",
      "3  $250                                      leather couch   \n",
      "4  $300                                Ottoman White Couch   \n",
      "\n",
      "                                                 url  \n",
      "0  https://newyork.craigslist.org/stn/fuo/d/leath...  \n",
      "1  https://newyork.craigslist.org/brk/zip/d/used-...  \n",
      "2  https://newyork.craigslist.org/brk/zip/d/macys...  \n",
      "3  https://newyork.craigslist.org/que/fuo/d/leath...  \n",
      "4  https://newyork.craigslist.org/mnh/fuo/d/ottom...  \n"
     ]
    }
   ],
   "source": [
    "import pandas as pd\n",
    "\n",
    "# Checking whether we got data \n",
    "\n",
    "Clist=pd.read_json('/Users/carl/sites/thinkful-data-science/coursework/unit_5/clist.json', orient='records')\n",
    "print(Clist.shape)\n",
    "print(Clist.head())"
   ]
  },
  {
   "cell_type": "code",
   "execution_count": 30,
   "metadata": {
    "collapsed": false
   },
   "outputs": [
    {
     "data": {
      "text/html": [
       "<div>\n",
       "<style scoped>\n",
       "    .dataframe tbody tr th:only-of-type {\n",
       "        vertical-align: middle;\n",
       "    }\n",
       "\n",
       "    .dataframe tbody tr th {\n",
       "        vertical-align: top;\n",
       "    }\n",
       "\n",
       "    .dataframe thead th {\n",
       "        text-align: right;\n",
       "    }\n",
       "</style>\n",
       "<table border=\"1\" class=\"dataframe\">\n",
       "  <thead>\n",
       "    <tr style=\"text-align: right;\">\n",
       "      <th></th>\n",
       "      <th>price</th>\n",
       "      <th>title</th>\n",
       "      <th>url</th>\n",
       "    </tr>\n",
       "  </thead>\n",
       "  <tbody>\n",
       "    <tr>\n",
       "      <th>count</th>\n",
       "      <td>319</td>\n",
       "      <td>360</td>\n",
       "      <td>360</td>\n",
       "    </tr>\n",
       "    <tr>\n",
       "      <th>unique</th>\n",
       "      <td>92</td>\n",
       "      <td>319</td>\n",
       "      <td>353</td>\n",
       "    </tr>\n",
       "    <tr>\n",
       "      <th>top</th>\n",
       "      <td>$200</td>\n",
       "      <td>Couch</td>\n",
       "      <td>https://newyork.craigslist.org/mnh/fuo/d/couch...</td>\n",
       "    </tr>\n",
       "    <tr>\n",
       "      <th>freq</th>\n",
       "      <td>22</td>\n",
       "      <td>6</td>\n",
       "      <td>2</td>\n",
       "    </tr>\n",
       "  </tbody>\n",
       "</table>\n",
       "</div>"
      ],
      "text/plain": [
       "       price  title                                                url\n",
       "count    319    360                                                360\n",
       "unique    92    319                                                353\n",
       "top     $200  Couch  https://newyork.craigslist.org/mnh/fuo/d/couch...\n",
       "freq      22      6                                                  2"
      ]
     },
     "execution_count": 30,
     "metadata": {},
     "output_type": "execute_result"
    }
   ],
   "source": [
    "Clist.describe()"
   ]
  },
  {
   "cell_type": "code",
   "execution_count": 42,
   "metadata": {
    "collapsed": false
   },
   "outputs": [],
   "source": [
    "Clist[\"price_without_dollar\"] = Clist[\"price\"].str.replace(\"$\", \"\")"
   ]
  },
  {
   "cell_type": "code",
   "execution_count": 37,
   "metadata": {
    "collapsed": false
   },
   "outputs": [],
   "source": [
    "import numpy as np\n",
    "import matplotlib.pyplot as plt"
   ]
  },
  {
   "cell_type": "code",
   "execution_count": 43,
   "metadata": {
    "collapsed": false
   },
   "outputs": [
    {
     "data": {
      "image/png": "[encoded data removed]",
      "text/plain": [
       "<matplotlib.figure.Figure at 0x111099438>"
      ]
     },
     "metadata": {},
     "output_type": "display_data"
    }
   ],
   "source": [
    "plt.plot(Clist[\"price_without_dollar\"])\n",
    "plt.show()"
   ]
  },
  {
   "cell_type": "code",
   "execution_count": 66,
   "metadata": {
    "collapsed": false
   },
   "outputs": [],
   "source": [
    "# Let's exclude outliers\n",
    "\n",
    "data = [int(d) for d in Clist[\"price_without_dollar\"].dropna().as_matrix()]\n",
    "res = [abs(data - np.mean(data)) < 2 * np.std(data)]"
   ]
  },
  {
   "cell_type": "code",
   "execution_count": 76,
   "metadata": {
    "collapsed": false
   },
   "outputs": [
    {
     "name": "stdout",
     "output_type": "stream",
     "text": [
      "319\n",
      "318\n"
     ]
    }
   ],
   "source": [
    "print(len(data))\n",
    "non_outliers = []\n",
    "\n",
    "for idx, val in enumerate(res[0]):\n",
    "    if val == True:\n",
    "        non_outliers.append(data[idx])\n",
    "        \n",
    "print(len(non_outliers))"
   ]
  },
  {
   "cell_type": "code",
   "execution_count": 77,
   "metadata": {
    "collapsed": false
   },
   "outputs": [
    {
     "data": {
      "image/png": "[encoded data removed]",
      "text/plain": [
       "<matplotlib.figure.Figure at 0x11136f710>"
      ]
     },
     "metadata": {},
     "output_type": "display_data"
    }
   ],
   "source": [
    "plt.plot(non_outliers)\n",
    "plt.show()"
   ]
  },
  {
   "cell_type": "code",
   "execution_count": null,
   "metadata": {
    "collapsed": true
   },
   "outputs": [],
   "source": []
  }
 ],
 "metadata": {
  "kernelspec": {
   "display_name": "Python [conda root]",
   "language": "python",
   "name": "conda-root-py"
  },
  "language_info": {
   "codemirror_mode": {
    "name": "ipython",
    "version": 3
   },
   "file_extension": ".py",
   "mimetype": "text/x-python",
   "name": "python",
   "nbconvert_exporter": "python",
   "pygments_lexer": "ipython3",
   "version": "3.5.2"
  }
 },
 "nbformat": 4,
 "nbformat_minor": 2
}
