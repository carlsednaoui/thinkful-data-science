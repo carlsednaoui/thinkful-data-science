{
 "cells": [
  {
   "cell_type": "markdown",
   "metadata": {},
   "source": [
    "## DRILL: When to use surveys\n",
    "\n",
    "State whether a survey would be the best option for answering each of the following questions.\n",
    "\n",
    "- Popularity of various Uber drivers.\n",
    "  - Yes, user the 5-star review system they have today is a good low-friction way to do this. Note: There may be some bias towards great or really poor experiences, but there should even out in the long-run.\n",
    "- A grocery store wants to know how much people like strawberry, chocolate, and vanilla ice cream.\n",
    "  - No. Look at the sales numbers instead.\n",
    "- Trojan wants to know whether their condoms are more popular among straight people or gay people.\n",
    "  - Yes, this is sensitive data you couldn't otherwise acquired. Note: Gay people are likely to be unrepresented in the answers (people are less likely to say they are gay). See if you can include any other canary question to help with this. (e.g. \"have you ever hooked up with a member of the same sex\").\n",
    "- Recently, rental rates for HappyCars have increased by 30%, which is quite unusual. You want to find out why this is happening and how to keep the increase going.\n",
    "  - Yes, this is a great use of surveys.\n",
    "- Assessing the success rate of a new advertising campaign.\n",
    "  - No. You should assess this with our own analytics platforms. Not a survey.\n",
    "- Measuring the effect of nurse/patient ratio on patient recovery rates in hospital wards.\n",
    "  - No. It would be best to observe this data."
   ]
  },
  {
   "cell_type": "code",
   "execution_count": null,
   "metadata": {
    "collapsed": true
   },
   "outputs": [],
   "source": []
  }
 ],
 "metadata": {
  "kernelspec": {
   "display_name": "Python [conda root]",
   "language": "python",
   "name": "conda-root-py"
  },
  "language_info": {
   "codemirror_mode": {
    "name": "ipython",
    "version": 3
   },
   "file_extension": ".py",
   "mimetype": "text/x-python",
   "name": "python",
   "nbconvert_exporter": "python",
   "pygments_lexer": "ipython3",
   "version": "3.5.2"
  }
 },
 "nbformat": 4,
 "nbformat_minor": 2
}
