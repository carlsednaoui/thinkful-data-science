{
 "cells": [
  {
   "cell_type": "markdown",
   "metadata": {},
   "source": [
    "# Challenge: What test to use\n",
    "\n",
    "1. Did people become less trusting from 2012 to 2014? Compute results for each country in the sample.\n",
    "2. Did people become happier from 2012 to 2014? Compute results for each country in the sample.\n",
    "3. Who reported watching more TV in 2012, men or women?\n",
    "4. Who was more likely to believe people were fair in 2012, people living with a partner or people living alone?\n",
    "5. Pick three or four of the countries in the sample and compare how often people met socially in 2014. Are there differences, and if so, which countries stand out?\n",
    "6. Pick three or four of the countries in the sample and compare how often people took part in social activities, relative to others their age, in 2014. Are there differences, and if so, which countries stand out?"
   ]
  },
  {
   "cell_type": "code",
   "execution_count": 69,
   "metadata": {
    "collapsed": true
   },
   "outputs": [],
   "source": [
    "import numpy as np\n",
    "import pandas as pd"
   ]
  },
  {
   "cell_type": "code",
   "execution_count": 70,
   "metadata": {
    "collapsed": false
   },
   "outputs": [
    {
     "name": "stdout",
     "output_type": "stream",
     "text": [
      "(8594, 13)\n"
     ]
    },
    {
     "data": {
      "text/plain": [
       "Index(['cntry', 'idno', 'year', 'tvtot', 'ppltrst', 'pplfair', 'pplhlp',\n",
       "       'happy', 'sclmeet', 'sclact', 'gndr', 'agea', 'partner'],\n",
       "      dtype='object')"
      ]
     },
     "execution_count": 70,
     "metadata": {},
     "output_type": "execute_result"
    }
   ],
   "source": [
    "# Columns: https://thinkful-ed.github.io/data-201-resources/ESS_practice_data/ESS_codebook.html\n",
    "df = pd.read_csv(\"https://raw.githubusercontent.com/Thinkful-Ed/data-201-resources/master/ESS_practice_data/ESSdata_Thinkful.csv\")\n",
    "\n",
    "print(df.shape)\n",
    "df.columns"
   ]
  },
  {
   "cell_type": "code",
   "execution_count": 71,
   "metadata": {
    "collapsed": false
   },
   "outputs": [
    {
     "name": "stdout",
     "output_type": "stream",
     "text": [
      "cntry  year\n",
      "CH     6       5.677878\n",
      "       7       5.751617\n",
      "CZ     6       4.362519\n",
      "       7       4.424658\n",
      "DE     6       5.214286\n",
      "       7       5.357143\n",
      "ES     6       5.114592\n",
      "       7       4.895128\n",
      "NO     6       6.649315\n",
      "       7       6.598630\n",
      "SE     6       6.058499\n",
      "       7       6.257709\n",
      "Name: ppltrst, dtype: float64\n",
      "        ppltrst\n",
      "cntry          \n",
      "CH     1.298701\n",
      "CZ     1.424368\n",
      "DE     2.739726\n",
      "ES    -4.290937\n",
      "NO    -0.762258\n",
      "SE     3.288114\n"
     ]
    }
   ],
   "source": [
    "# Did people become less trusting from 2012 to 2014? Compute results for each country in the sample.\n",
    "# Question: How do we use t-test and what not to calculate this instead?\n",
    "\n",
    "print(df.groupby([\"cntry\", \"year\"])[\"ppltrst\"].mean())\n",
    "\n",
    "trust_2012 = df[df[\"year\"] == 6][[\"cntry\", \"ppltrst\"]].groupby(\"cntry\").mean()\n",
    "trust_2014 = df[df[\"year\"] == 7][[\"cntry\", \"ppltrst\"]].groupby(\"cntry\").mean()\n",
    "\n",
    "print((trust_2014-trust_2012)/trust_2012 * 100)"
   ]
  },
  {
   "cell_type": "code",
   "execution_count": 89,
   "metadata": {
    "collapsed": false
   },
   "outputs": [
    {
     "name": "stdout",
     "output_type": "stream",
     "text": [
      "Ttest_indResult(statistic=array([-0.07405572]), pvalue=array([ 0.94242648]))\n"
     ]
    }
   ],
   "source": [
    "import scipy.stats as stats\n",
    "print(stats.ttest_ind(trust_2012, trust_2014))"
   ]
  },
  {
   "cell_type": "code",
   "execution_count": 49,
   "metadata": {
    "collapsed": false
   },
   "outputs": [
    {
     "name": "stdout",
     "output_type": "stream",
     "text": [
      "cntry  year\n",
      "CH     6       8.088312\n",
      "       7       8.116429\n",
      "CZ     6       6.770898\n",
      "       7       6.914110\n",
      "DE     6       7.428571\n",
      "       7       7.857143\n",
      "ES     6       7.548680\n",
      "       7       7.419967\n",
      "NO     6       8.251719\n",
      "       7       7.915185\n",
      "SE     6       7.907387\n",
      "       7       7.946961\n",
      "Name: happy, dtype: float64\n",
      "          happy\n",
      "cntry          \n",
      "CH     0.347635\n",
      "CZ     2.115120\n",
      "DE     5.769231\n",
      "ES    -1.705104\n",
      "NO    -4.078359\n",
      "SE     0.500473\n"
     ]
    }
   ],
   "source": [
    "# Did people become happier from 2012 to 2014? Compute results for each country in the sample.\n",
    "# Question: How do we use t-test and what not to calculate this instead?\n",
    "\n",
    "print(df.groupby([\"cntry\", \"year\"])[\"happy\"].mean())\n",
    "\n",
    "happy_2012 = df[df[\"year\"] == 6][[\"cntry\", \"happy\"]].groupby(\"cntry\").mean()\n",
    "happy_2014 = df[df[\"year\"] == 7][[\"cntry\", \"happy\"]].groupby(\"cntry\").mean()\n",
    "\n",
    "print((happy_2014-happy_2012)/happy_2012 * 100)\n"
   ]
  },
  {
   "cell_type": "code",
   "execution_count": 54,
   "metadata": {
    "collapsed": false
   },
   "outputs": [
    {
     "data": {
      "text/plain": [
       "gndr\n",
       "1.0    3.901906\n",
       "2.0    3.944393\n",
       "Name: tvtot, dtype: float64"
      ]
     },
     "execution_count": 54,
     "metadata": {},
     "output_type": "execute_result"
    }
   ],
   "source": [
    "# Who reported watching more TV in 2012, men or women?\n",
    "# 1 Male, 2 Female\n",
    "# FEMALE\n",
    "# Question: How do we use t-test and what not to calculate this instead?\n",
    "\n",
    "df[df[\"year\"] == 6].groupby([\"gndr\"])[\"tvtot\"].mean()"
   ]
  },
  {
   "cell_type": "code",
   "execution_count": 56,
   "metadata": {
    "collapsed": false
   },
   "outputs": [
    {
     "data": {
      "text/plain": [
       "partner\n",
       "1.0    6.080736\n",
       "2.0    5.856965\n",
       "Name: pplfair, dtype: float64"
      ]
     },
     "execution_count": 56,
     "metadata": {},
     "output_type": "execute_result"
    }
   ],
   "source": [
    "# Who was more likely to believe people were fair in 2012, people living with a partner or people living alone?\n",
    "# 1 Lives with husband/wife/partner at household grid, 2 Does not\n",
    "# PEOPLE WITH PARTNERS\n",
    "# Question: How do we use t-test and what not to calculate this instead?\n",
    "\n",
    "df[df[\"year\"] == 6].groupby([\"partner\"])[\"pplfair\"].mean()"
   ]
  },
  {
   "cell_type": "code",
   "execution_count": 57,
   "metadata": {
    "collapsed": false
   },
   "outputs": [
    {
     "data": {
      "text/plain": [
       "cntry\n",
       "CH    5.160622\n",
       "CZ    4.445802\n",
       "DE    4.428571\n",
       "ES    5.260116\n",
       "NO    5.302326\n",
       "SE    5.426211\n",
       "Name: sclmeet, dtype: float64"
      ]
     },
     "execution_count": 57,
     "metadata": {},
     "output_type": "execute_result"
    }
   ],
   "source": [
    "# Pick three or four of the countries in the sample and compare how often people met socially in 2014.\n",
    "# Are there differences, and if so, which countries stand out?\n",
    "# ANSWER: The countries that grew most in happiness met less socially (CZ DE) — seems counter intuitive\n",
    "# Question: How do we use t-test and what not to calculate this instead?\n",
    "\n",
    "df[df[\"year\"] == 7].groupby(\"cntry\")[\"sclmeet\"].mean()"
   ]
  },
  {
   "cell_type": "code",
   "execution_count": 66,
   "metadata": {
    "collapsed": false
   },
   "outputs": [
    {
     "data": {
      "text/html": [
       "<div>\n",
       "<style scoped>\n",
       "    .dataframe tbody tr th:only-of-type {\n",
       "        vertical-align: middle;\n",
       "    }\n",
       "\n",
       "    .dataframe tbody tr th {\n",
       "        vertical-align: top;\n",
       "    }\n",
       "\n",
       "    .dataframe thead th {\n",
       "        text-align: right;\n",
       "    }\n",
       "</style>\n",
       "<table border=\"1\" class=\"dataframe\">\n",
       "  <thead>\n",
       "    <tr style=\"text-align: right;\">\n",
       "      <th>agea</th>\n",
       "      <th>(1, 30]</th>\n",
       "      <th>(30, 50]</th>\n",
       "      <th>(50, 70]</th>\n",
       "      <th>(70, 100]</th>\n",
       "    </tr>\n",
       "    <tr>\n",
       "      <th>cntry</th>\n",
       "      <th></th>\n",
       "      <th></th>\n",
       "      <th></th>\n",
       "      <th></th>\n",
       "    </tr>\n",
       "  </thead>\n",
       "  <tbody>\n",
       "    <tr>\n",
       "      <th>CH</th>\n",
       "      <td>2.812500</td>\n",
       "      <td>2.795455</td>\n",
       "      <td>2.741784</td>\n",
       "      <td>2.800000</td>\n",
       "    </tr>\n",
       "    <tr>\n",
       "      <th>CZ</th>\n",
       "      <td>2.940741</td>\n",
       "      <td>2.634146</td>\n",
       "      <td>2.732394</td>\n",
       "      <td>2.487179</td>\n",
       "    </tr>\n",
       "    <tr>\n",
       "      <th>DE</th>\n",
       "      <td>NaN</td>\n",
       "      <td>3.000000</td>\n",
       "      <td>2.857143</td>\n",
       "      <td>2.000000</td>\n",
       "    </tr>\n",
       "    <tr>\n",
       "      <th>ES</th>\n",
       "      <td>2.728814</td>\n",
       "      <td>2.691038</td>\n",
       "      <td>2.626471</td>\n",
       "      <td>2.240260</td>\n",
       "    </tr>\n",
       "    <tr>\n",
       "      <th>NO</th>\n",
       "      <td>2.956790</td>\n",
       "      <td>2.789474</td>\n",
       "      <td>2.827586</td>\n",
       "      <td>2.948052</td>\n",
       "    </tr>\n",
       "    <tr>\n",
       "      <th>SE</th>\n",
       "      <td>2.909548</td>\n",
       "      <td>2.863830</td>\n",
       "      <td>2.847973</td>\n",
       "      <td>2.916084</td>\n",
       "    </tr>\n",
       "  </tbody>\n",
       "</table>\n",
       "</div>"
      ],
      "text/plain": [
       "agea    (1, 30]  (30, 50]  (50, 70]  (70, 100]\n",
       "cntry                                         \n",
       "CH     2.812500  2.795455  2.741784   2.800000\n",
       "CZ     2.940741  2.634146  2.732394   2.487179\n",
       "DE          NaN  3.000000  2.857143   2.000000\n",
       "ES     2.728814  2.691038  2.626471   2.240260\n",
       "NO     2.956790  2.789474  2.827586   2.948052\n",
       "SE     2.909548  2.863830  2.847973   2.916084"
      ]
     },
     "execution_count": 66,
     "metadata": {},
     "output_type": "execute_result"
    }
   ],
   "source": [
    "# Pick three or four of the countries in the sample and compare how often people took part in social activities, relative to others their age, in 2014.\n",
    "# Are there differences, and if so, which countries stand out?\n",
    "# AGAIN CZ AND DE HAVE SOME OF THE LOWEST RATES\n",
    "# Question: How do we use t-test and what not to calculate this instead?\n",
    "\n",
    "bins = [1, 30, 50, 70, 100]\n",
    "df_y = df[df[\"year\"] == 7]\n",
    "\n",
    "groups = df_y.groupby([\"cntry\", pd.cut(df_y[\"agea\"], bins)])[\"sclact\"].mean()\n",
    "groups.unstack()\n"
   ]
  },
  {
   "cell_type": "code",
   "execution_count": null,
   "metadata": {
    "collapsed": true
   },
   "outputs": [],
   "source": []
  }
 ],
 "metadata": {
  "kernelspec": {
   "display_name": "Python [conda root]",
   "language": "python",
   "name": "conda-root-py"
  },
  "language_info": {
   "codemirror_mode": {
    "name": "ipython",
    "version": 3
   },
   "file_extension": ".py",
   "mimetype": "text/x-python",
   "name": "python",
   "nbconvert_exporter": "python",
   "pygments_lexer": "ipython3",
   "version": "3.5.2"
  }
 },
 "nbformat": 4,
 "nbformat_minor": 2
}
