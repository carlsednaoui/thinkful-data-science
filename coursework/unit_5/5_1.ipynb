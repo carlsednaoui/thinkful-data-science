{
 "cells": [
  {
   "cell_type": "markdown",
   "metadata": {},
   "source": [
    "## Thinking Like a Data Scientist\n",
    "\n",
    "Why use dependent groups? Come up with a few scenarios where getting repeated measures from the same people would be beneficial. Summarize them in your notebook and discuss with your mentor.\n",
    "\n"
   ]
  },
  {
   "cell_type": "markdown",
   "metadata": {},
   "source": [
    "- Average kid height at ages X, Y, Z in two separate regions. Compare if kids in region A grow faster than kids in region B.\n",
    "- Average basket total when shown a specific promotion or incentive (e.g. offer a free sample)\n",
    "- Number of times a person opens your app in a day when using different types of push notifications."
   ]
  },
  {
   "cell_type": "code",
   "execution_count": null,
   "metadata": {
    "collapsed": true
   },
   "outputs": [],
   "source": []
  }
 ],
 "metadata": {
  "kernelspec": {
   "display_name": "Python [conda root]",
   "language": "python",
   "name": "conda-root-py"
  },
  "language_info": {
   "codemirror_mode": {
    "name": "ipython",
    "version": 3
   },
   "file_extension": ".py",
   "mimetype": "text/x-python",
   "name": "python",
   "nbconvert_exporter": "python",
   "pygments_lexer": "ipython3",
   "version": "3.5.2"
  }
 },
 "nbformat": 4,
 "nbformat_minor": 2
}
