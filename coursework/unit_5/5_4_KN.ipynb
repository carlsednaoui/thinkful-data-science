{
 "cells": [
  {
   "cell_type": "markdown",
   "metadata": {},
   "source": [
    "# Challenge: What test to use\n",
    "\n",
    "1. Did people become less trusting from 2012 to 2014? Compute results for each country in the sample.\n",
    "2. Did people become happier from 2012 to 2014? Compute results for each country in the sample.\n",
    "3. Who reported watching more TV in 2012, men or women?\n",
    "4. Who was more likely to believe people were fair in 2012, people living with a partner or people living alone?\n",
    "5. Pick three or four of the countries in the sample and compare how often people met socially in 2014. Are there differences, and if so, which countries stand out?\n",
    "6. Pick three or four of the countries in the sample and compare how often people took part in social activities, relative to others their age, in 2014. Are there differences, and if so, which countries stand out?"
   ]
  },
  {
   "cell_type": "code",
   "execution_count": 1,
   "metadata": {
    "collapsed": true
   },
   "outputs": [],
   "source": [
    "import numpy as np\n",
    "import pandas as pd\n",
    "import matplotlib.pyplot as plt\n",
    "%matplotlib inline"
   ]
  },
  {
   "cell_type": "code",
   "execution_count": 2,
   "metadata": {
    "collapsed": false
   },
   "outputs": [
    {
     "name": "stdout",
     "output_type": "stream",
     "text": [
      "(8594, 13)\n"
     ]
    },
    {
     "data": {
      "text/plain": [
       "Index(['cntry', 'idno', 'year', 'tvtot', 'ppltrst', 'pplfair', 'pplhlp',\n",
       "       'happy', 'sclmeet', 'sclact', 'gndr', 'agea', 'partner'],\n",
       "      dtype='object')"
      ]
     },
     "execution_count": 2,
     "metadata": {},
     "output_type": "execute_result"
    }
   ],
   "source": [
    "# Columns: https://thinkful-ed.github.io/data-201-resources/ESS_practice_data/ESS_codebook.html\n",
    "df = pd.read_csv(\"https://raw.githubusercontent.com/Thinkful-Ed/data-201-resources/master/ESS_practice_data/ESSdata_Thinkful.csv\")\n",
    "\n",
    "print(df.shape)\n",
    "df.columns"
   ]
  },
  {
   "cell_type": "code",
   "execution_count": 3,
   "metadata": {
    "collapsed": true
   },
   "outputs": [],
   "source": [
    "df.fillna(0, inplace=True)"
   ]
  },
  {
   "cell_type": "code",
   "execution_count": 4,
   "metadata": {
    "collapsed": false
   },
   "outputs": [
    {
     "name": "stdout",
     "output_type": "stream",
     "text": [
      "cntry  year\n",
      "CH     6       5.677878\n",
      "       7       5.751617\n",
      "CZ     6       4.316109\n",
      "       7       4.417933\n",
      "DE     6       5.214286\n",
      "       7       5.357143\n",
      "ES     6       5.114592\n",
      "       7       4.887057\n",
      "NO     6       6.640219\n",
      "       7       6.589603\n",
      "SE     6       6.045154\n",
      "       7       6.257709\n",
      "Name: ppltrst, dtype: float64\n",
      "        ppltrst\n",
      "cntry          \n",
      "CH     1.298701\n",
      "CZ     2.359155\n",
      "DE     2.739726\n",
      "ES    -4.448743\n",
      "NO    -0.762258\n",
      "SE     3.516123\n"
     ]
    }
   ],
   "source": [
    "# Did people become less trusting from 2012 to 2014? Compute results for each country in the sample.\n",
    "# Question: How do we use t-test and what not to calculate this instead?\n",
    "\n",
    "print(df.groupby([\"cntry\", \"year\"])[\"ppltrst\"].mean())\n",
    "\n",
    "trust_2012 = df[df[\"year\"] == 6][[\"cntry\", \"ppltrst\"]].groupby(\"cntry\").mean()\n",
    "trust_2014 = df[df[\"year\"] == 7][[\"cntry\", \"ppltrst\"]].groupby(\"cntry\").mean()\n",
    "\n",
    "print((trust_2014-trust_2012)/trust_2012 * 100)"
   ]
  },
  {
   "cell_type": "code",
   "execution_count": null,
   "metadata": {
    "collapsed": true
   },
   "outputs": [],
   "source": []
  },
  {
   "cell_type": "code",
   "execution_count": 5,
   "metadata": {
    "collapsed": true
   },
   "outputs": [],
   "source": [
    "# df[df[\"year\"] == 6][[\"ppltrst\"]]\n",
    "# df[df[\"year\"] == 7][[\"ppltrst\"]]"
   ]
  },
  {
   "cell_type": "code",
   "execution_count": 6,
   "metadata": {
    "collapsed": false
   },
   "outputs": [
    {
     "data": {
      "text/plain": [
       "array([[<matplotlib.axes._subplots.AxesSubplot object at 0x11466d7f0>]], dtype=object)"
      ]
     },
     "execution_count": 6,
     "metadata": {},
     "output_type": "execute_result"
    },
    {
     "data": {
      "image/png": "[encoded data removed]",
      "text/plain": [
       "<matplotlib.figure.Figure at 0x111cf0588>"
      ]
     },
     "metadata": {},
     "output_type": "display_data"
    },
    {
     "data": {
      "image/png": "[encoded data removed]",
      "text/plain": [
       "<matplotlib.figure.Figure at 0x114622588>"
      ]
     },
     "metadata": {},
     "output_type": "display_data"
    }
   ],
   "source": [
    "df[df[\"year\"] == 6][[\"ppltrst\"]].hist()\n",
    "df[df[\"year\"] == 7][[\"ppltrst\"]].hist()"
   ]
  },
  {
   "cell_type": "code",
   "execution_count": 7,
   "metadata": {
    "collapsed": false
   },
   "outputs": [
    {
     "name": "stdout",
     "output_type": "stream",
     "text": [
      "Ttest_indResult(statistic=array([-0.02885204]), pvalue=array([ 0.97698326]))\n"
     ]
    }
   ],
   "source": [
    "import scipy.stats as stats\n",
    "#print(stats.ttest_ind(trust_2012, trust_2014))\n",
    "\n",
    "print(stats.ttest_ind(df[df[\"year\"] == 6][[\"ppltrst\"]], df[df[\"year\"] == 7][[\"ppltrst\"]]))\n",
    "#Since P is not smaller than 0.05, we can't reject H0 hence can't say the trust scores are different for these two years "
   ]
  },
  {
   "cell_type": "code",
   "execution_count": 8,
   "metadata": {
    "collapsed": false
   },
   "outputs": [
    {
     "data": {
      "text/plain": [
       "array([[<matplotlib.axes._subplots.AxesSubplot object at 0x1a1ef83048>]], dtype=object)"
      ]
     },
     "execution_count": 8,
     "metadata": {},
     "output_type": "execute_result"
    },
    {
     "data": {
      "image/png": "[encoded data removed]",
      "text/plain": [
       "<matplotlib.figure.Figure at 0x1145e7390>"
      ]
     },
     "metadata": {},
     "output_type": "display_data"
    },
    {
     "data": {
      "image/png": "[encoded data removed]",
      "text/plain": [
       "<matplotlib.figure.Figure at 0x11cb812b0>"
      ]
     },
     "metadata": {},
     "output_type": "display_data"
    }
   ],
   "source": [
    "#but how about for each country?\n",
    "df[(df.year == 6) & (df.cntry=='CH')][[\"ppltrst\"]].hist()\n",
    "df[(df.year == 7) & (df.cntry=='CH')][[\"ppltrst\"]].hist()"
   ]
  },
  {
   "cell_type": "code",
   "execution_count": 9,
   "metadata": {
    "collapsed": false
   },
   "outputs": [
    {
     "name": "stdout",
     "output_type": "stream",
     "text": [
      "Ttest_indResult(statistic=array([-0.67827166]), pvalue=array([ 0.4977011]))\n"
     ]
    }
   ],
   "source": [
    "print(stats.ttest_ind(df[(df.year == 6) & (df.cntry=='CH')][[\"ppltrst\"]], \\\n",
    "                      df[(df.year == 7) & (df.cntry=='CH')][[\"ppltrst\"]]))\n",
    "#Since P is not smaller than 0.05, we can't reject H0 hence can't say trust scores are different for these two years "
   ]
  },
  {
   "cell_type": "code",
   "execution_count": 10,
   "metadata": {
    "collapsed": false
   },
   "outputs": [
    {
     "name": "stdout",
     "output_type": "stream",
     "text": [
      "========\n",
      "CH\n",
      "Ttest_indResult(statistic=array([-0.67827166]), pvalue=array([ 0.4977011]))\n",
      "========\n",
      "CZ\n",
      "Ttest_indResult(statistic=array([-0.77762019]), pvalue=array([ 0.43693293]))\n",
      "========\n",
      "DE\n",
      "Ttest_indResult(statistic=array([-0.18084359]), pvalue=array([ 0.85789266]))\n",
      "========\n",
      "ES\n",
      "Ttest_indResult(statistic=array([ 2.5827108]), pvalue=array([ 0.00986086]))\n",
      "========\n",
      "NO\n",
      "Ttest_indResult(statistic=array([ 0.53868638]), pvalue=array([ 0.59018539]))\n",
      "========\n",
      "SE\n",
      "Ttest_indResult(statistic=array([-2.22071525]), pvalue=array([ 0.02649337]))\n"
     ]
    }
   ],
   "source": [
    "country=df.cntry.unique()\n",
    "for i in country:\n",
    "    print('========')\n",
    "    print(i)\n",
    "    print(stats.ttest_ind(df[(df.year == 6) & (df.cntry==i)][[\"ppltrst\"]], \\\n",
    "                      df[(df.year == 7) & (df.cntry==i)][[\"ppltrst\"]]))"
   ]
  },
  {
   "cell_type": "code",
   "execution_count": 11,
   "metadata": {
    "collapsed": true
   },
   "outputs": [],
   "source": [
    "## only ES has significant diff in happiness and it's a increase! "
   ]
  },
  {
   "cell_type": "code",
   "execution_count": 12,
   "metadata": {
    "collapsed": false
   },
   "outputs": [
    {
     "name": "stdout",
     "output_type": "stream",
     "text": [
      "cntry  year\n",
      "CH     6       8.056921\n",
      "       7       8.116429\n",
      "CZ     6       6.647416\n",
      "       7       6.851064\n",
      "DE     6       7.428571\n",
      "       7       7.857143\n",
      "ES     6       7.542457\n",
      "       7       7.413850\n",
      "NO     6       8.206566\n",
      "       7       7.915185\n",
      "SE     6       7.898678\n",
      "       7       7.920705\n",
      "Name: happy, dtype: float64\n",
      "          happy\n",
      "cntry          \n",
      "CH     0.738600\n",
      "CZ     3.063557\n",
      "DE     5.769231\n",
      "ES    -1.705104\n",
      "NO    -3.550592\n",
      "SE     0.278862\n"
     ]
    }
   ],
   "source": [
    "# Did people become happier from 2012 to 2014? Compute results for each country in the sample.\n",
    "# Question: How do we use t-test and what not to calculate this instead?\n",
    "\n",
    "print(df.groupby([\"cntry\", \"year\"])[\"happy\"].mean())\n",
    "\n",
    "happy_2012 = df[df[\"year\"] == 6][[\"cntry\", \"happy\"]].groupby(\"cntry\").mean()\n",
    "happy_2014 = df[df[\"year\"] == 7][[\"cntry\", \"happy\"]].groupby(\"cntry\").mean()\n",
    "\n",
    "print((happy_2014-happy_2012)/happy_2012 * 100)\n"
   ]
  },
  {
   "cell_type": "code",
   "execution_count": 13,
   "metadata": {
    "collapsed": false
   },
   "outputs": [
    {
     "data": {
      "text/plain": [
       "gndr\n",
       "1.0    3.896472\n",
       "2.0    3.938871\n",
       "Name: tvtot, dtype: float64"
      ]
     },
     "execution_count": 13,
     "metadata": {},
     "output_type": "execute_result"
    }
   ],
   "source": [
    "# Who reported watching more TV in 2012, men or women?\n",
    "# 1 Male, 2 Female\n",
    "# FEMALE\n",
    "# Question: How do we use t-test and what not to calculate this instead?\n",
    "\n",
    "df[df[\"year\"] == 6].groupby([\"gndr\"])[\"tvtot\"].mean()"
   ]
  },
  {
   "cell_type": "code",
   "execution_count": 14,
   "metadata": {
    "collapsed": false
   },
   "outputs": [
    {
     "data": {
      "text/plain": [
       "array([[<matplotlib.axes._subplots.AxesSubplot object at 0x1a1f242978>]], dtype=object)"
      ]
     },
     "execution_count": 14,
     "metadata": {},
     "output_type": "execute_result"
    },
    {
     "data": {
      "image/png": "[encoded data removed]",
      "text/plain": [
       "<matplotlib.figure.Figure at 0x1a1ef95208>"
      ]
     },
     "metadata": {},
     "output_type": "display_data"
    },
    {
     "data": {
      "image/png": "[encoded data removed]",
      "text/plain": [
       "<matplotlib.figure.Figure at 0x1a1f2007b8>"
      ]
     },
     "metadata": {},
     "output_type": "display_data"
    }
   ],
   "source": [
    "df[(df.year == 6) & (df.gndr==1)][[\"tvtot\"]].hist()\n",
    "df[(df.year == 7) & (df.gndr==2)][[\"tvtot\"]].hist()"
   ]
  },
  {
   "cell_type": "code",
   "execution_count": 25,
   "metadata": {
    "collapsed": false
   },
   "outputs": [
    {
     "name": "stdout",
     "output_type": "stream",
     "text": [
      "KruskalResult(statistic=2.1988790412220069, pvalue=0.13811113936582456)\n"
     ]
    }
   ],
   "source": [
    "#not so normal, so we would use kruskal \n",
    "print(stats.kruskal(df[(df.year == 7) & (df.gndr==1)][[\"tvtot\"]], df[(df.year == 7) & (df.gndr==2)][[\"tvtot\"]]))\n",
    "\n",
    "#since p is not smaller than 0.05, can't reject H0 hence can't conclude that male/female watch more TV or not "
   ]
  },
  {
   "cell_type": "code",
   "execution_count": 16,
   "metadata": {
    "collapsed": false
   },
   "outputs": [
    {
     "data": {
      "text/plain": [
       "partner\n",
       "0.0    6.000000\n",
       "1.0    6.055722\n",
       "2.0    5.827970\n",
       "Name: pplfair, dtype: float64"
      ]
     },
     "execution_count": 16,
     "metadata": {},
     "output_type": "execute_result"
    }
   ],
   "source": [
    "# Who was more likely to believe people were fair in 2012, people living with a partner or people living alone?\n",
    "# 1 Lives with husband/wife/partner at household grid, 2 Does not\n",
    "# PEOPLE WITH PARTNERS\n",
    "# Question: How do we use t-test and what not to calculate this instead?\n",
    "\n",
    "df[df[\"year\"] == 6].groupby([\"partner\"])[\"pplfair\"].mean()"
   ]
  },
  {
   "cell_type": "code",
   "execution_count": 17,
   "metadata": {
    "collapsed": false
   },
   "outputs": [
    {
     "data": {
      "text/plain": [
       "array([[<matplotlib.axes._subplots.AxesSubplot object at 0x1a1f43d0f0>]], dtype=object)"
      ]
     },
     "execution_count": 17,
     "metadata": {},
     "output_type": "execute_result"
    },
    {
     "data": {
      "image/png": "[encoded data removed]",
      "text/plain": [
       "<matplotlib.figure.Figure at 0x1a1f084b00>"
      ]
     },
     "metadata": {},
     "output_type": "display_data"
    },
    {
     "data": {
      "image/png": "[encoded data removed]",
      "text/plain": [
       "<matplotlib.figure.Figure at 0x1a1f412ef0>"
      ]
     },
     "metadata": {},
     "output_type": "display_data"
    }
   ],
   "source": [
    "df[(df.year == 6) & (df.partner==1)][[\"pplfair\"]].hist()\n",
    "df[(df.year == 6) & (df.partner==2)][[\"pplfair\"]].hist()"
   ]
  },
  {
   "cell_type": "code",
   "execution_count": 18,
   "metadata": {
    "collapsed": false
   },
   "outputs": [
    {
     "data": {
      "text/plain": [
       "NormaltestResult(statistic=masked_array(data = [71.93888810163958],\n",
       "             mask = [False],\n",
       "       fill_value = 1e+20)\n",
       ", pvalue=array([  2.39149200e-16]))"
      ]
     },
     "execution_count": 18,
     "metadata": {},
     "output_type": "execute_result"
    }
   ],
   "source": [
    "# we can check if a pandas series is normal or not (tests whether a sample differs from a normal distribution) \n",
    "\n",
    "stats.mstats.normaltest(df[(df.year == 6) & (df.partner==2)][[\"pplfair\"]])\n",
    "\n",
    "#since p is small, it's normal "
   ]
  },
  {
   "cell_type": "code",
   "execution_count": 19,
   "metadata": {
    "collapsed": false
   },
   "outputs": [
    {
     "name": "stdout",
     "output_type": "stream",
     "text": [
      "T-test\n",
      "Ttest_indResult(statistic=array([ 3.3368593]), pvalue=array([ 0.00085452]))\n",
      "========\n",
      "Kruskal\n",
      "KruskalResult(statistic=13.891888306657743, pvalue=0.00019363236442962553)\n"
     ]
    }
   ],
   "source": [
    "print('T-test')\n",
    "print(stats.ttest_ind(df[(df.year == 6) & (df.partner==1)][[\"pplfair\"]], \\\n",
    "                      df[(df.year == 6) & (df.partner==2)][[\"pplfair\"]])) \n",
    "\n",
    "\n",
    "print('========')\n",
    "\n",
    "print('Kruskal')\n",
    "print(stats.kruskal(df[(df.year == 6) & (df.partner==1)][[\"pplfair\"]], \\\n",
    "                      df[(df.year == 6) & (df.partner==2)][[\"pplfair\"]]))\n",
    "\n",
    "\n"
   ]
  },
  {
   "cell_type": "code",
   "execution_count": 20,
   "metadata": {
    "collapsed": true
   },
   "outputs": [],
   "source": [
    "#Both show that there is significant difference in fairness score between people with partner and people without partner \n",
    "#With partner, people believe more in fairness"
   ]
  },
  {
   "cell_type": "code",
   "execution_count": 21,
   "metadata": {
    "collapsed": false
   },
   "outputs": [
    {
     "data": {
      "text/plain": [
       "cntry\n",
       "CH    5.153946\n",
       "CZ    4.425532\n",
       "DE    4.428571\n",
       "ES    5.251443\n",
       "NO    5.302326\n",
       "SE    5.426211\n",
       "Name: sclmeet, dtype: float64"
      ]
     },
     "execution_count": 21,
     "metadata": {},
     "output_type": "execute_result"
    }
   ],
   "source": [
    "# Pick three or four of the countries in the sample and compare how often people met socially in 2014.\n",
    "# Are there differences, and if so, which countries stand out?\n",
    "# ANSWER: The countries that grew most in happiness met less socially (CZ DE) — seems counter intuitive\n",
    "# Question: How do we use t-test and what not to calculate this instead?\n",
    "\n",
    "df[df[\"year\"] == 7].groupby(\"cntry\")[\"sclmeet\"].mean()"
   ]
  },
  {
   "cell_type": "code",
   "execution_count": 22,
   "metadata": {
    "collapsed": false
   },
   "outputs": [
    {
     "data": {
      "text/html": [
       "<div>\n",
       "<style scoped>\n",
       "    .dataframe tbody tr th:only-of-type {\n",
       "        vertical-align: middle;\n",
       "    }\n",
       "\n",
       "    .dataframe tbody tr th {\n",
       "        vertical-align: top;\n",
       "    }\n",
       "\n",
       "    .dataframe thead th {\n",
       "        text-align: right;\n",
       "    }\n",
       "</style>\n",
       "<table border=\"1\" class=\"dataframe\">\n",
       "  <thead>\n",
       "    <tr style=\"text-align: right;\">\n",
       "      <th>agea</th>\n",
       "      <th>(1, 30]</th>\n",
       "      <th>(30, 50]</th>\n",
       "      <th>(50, 70]</th>\n",
       "      <th>(70, 100]</th>\n",
       "    </tr>\n",
       "    <tr>\n",
       "      <th>cntry</th>\n",
       "      <th></th>\n",
       "      <th></th>\n",
       "      <th></th>\n",
       "      <th></th>\n",
       "    </tr>\n",
       "  </thead>\n",
       "  <tbody>\n",
       "    <tr>\n",
       "      <th>CH</th>\n",
       "      <td>2.812500</td>\n",
       "      <td>2.743494</td>\n",
       "      <td>2.716279</td>\n",
       "      <td>2.769231</td>\n",
       "    </tr>\n",
       "    <tr>\n",
       "      <th>CZ</th>\n",
       "      <td>2.919118</td>\n",
       "      <td>2.623482</td>\n",
       "      <td>2.682028</td>\n",
       "      <td>2.365854</td>\n",
       "    </tr>\n",
       "    <tr>\n",
       "      <th>DE</th>\n",
       "      <td>NaN</td>\n",
       "      <td>3.000000</td>\n",
       "      <td>2.857143</td>\n",
       "      <td>2.000000</td>\n",
       "    </tr>\n",
       "    <tr>\n",
       "      <th>ES</th>\n",
       "      <td>2.705882</td>\n",
       "      <td>2.665888</td>\n",
       "      <td>2.551429</td>\n",
       "      <td>2.090909</td>\n",
       "    </tr>\n",
       "    <tr>\n",
       "      <th>NO</th>\n",
       "      <td>2.956790</td>\n",
       "      <td>2.789474</td>\n",
       "      <td>2.827586</td>\n",
       "      <td>2.948052</td>\n",
       "    </tr>\n",
       "    <tr>\n",
       "      <th>SE</th>\n",
       "      <td>2.895000</td>\n",
       "      <td>2.827731</td>\n",
       "      <td>2.847973</td>\n",
       "      <td>2.916084</td>\n",
       "    </tr>\n",
       "  </tbody>\n",
       "</table>\n",
       "</div>"
      ],
      "text/plain": [
       "agea    (1, 30]  (30, 50]  (50, 70]  (70, 100]\n",
       "cntry                                         \n",
       "CH     2.812500  2.743494  2.716279   2.769231\n",
       "CZ     2.919118  2.623482  2.682028   2.365854\n",
       "DE          NaN  3.000000  2.857143   2.000000\n",
       "ES     2.705882  2.665888  2.551429   2.090909\n",
       "NO     2.956790  2.789474  2.827586   2.948052\n",
       "SE     2.895000  2.827731  2.847973   2.916084"
      ]
     },
     "execution_count": 22,
     "metadata": {},
     "output_type": "execute_result"
    }
   ],
   "source": [
    "# Pick three or four of the countries in the sample and compare how often people took part in social activities, relative to others their age, in 2014.\n",
    "# Are there differences, and if so, which countries stand out?\n",
    "# AGAIN CZ AND DE HAVE SOME OF THE LOWEST RATES\n",
    "# Question: How do we use t-test and what not to calculate this instead?\n",
    "\n",
    "bins = [1, 30, 50, 70, 100]\n",
    "df_y = df[df[\"year\"] == 7]\n",
    "\n",
    "groups = df_y.groupby([\"cntry\", pd.cut(df_y[\"agea\"], bins)])[\"sclact\"].mean()\n",
    "groups.unstack()"
   ]
  },
  {
   "cell_type": "code",
   "execution_count": null,
   "metadata": {
    "collapsed": true
   },
   "outputs": [],
   "source": []
  },
  {
   "cell_type": "code",
   "execution_count": null,
   "metadata": {
    "collapsed": true
   },
   "outputs": [],
   "source": []
  }
 ],
 "metadata": {
  "kernelspec": {
   "display_name": "Python [conda env:anaconda]",
   "language": "python",
   "name": "conda-env-anaconda-py"
  },
  "language_info": {
   "codemirror_mode": {
    "name": "ipython",
    "version": 3
   },
   "file_extension": ".py",
   "mimetype": "text/x-python",
   "name": "python",
   "nbconvert_exporter": "python",
   "pygments_lexer": "ipython3",
   "version": "3.5.2"
  }
 },
 "nbformat": 4,
 "nbformat_minor": 2
}
