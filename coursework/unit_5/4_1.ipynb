{
 "cells": [
  {
   "cell_type": "markdown",
   "metadata": {},
   "source": [
    "DRILL: Question Design\n",
    "\n",
    "- Age: rating scale\n",
    "- Gender: multiple choice, choose one\n",
    "- Income: rating scale\n",
    "- Opinions about dish soap: write-in\n",
    "- Brand of dish soap used: write-in or multiple choice, choose one\n",
    "- Preference for dish soap brand (Cleany, Sudsy, DeGreaser, Pinesoft): multiple choice, choose one\n",
    "- Positive vs negative feelings about dish soap: rating scale"
   ]
  },
  {
   "cell_type": "markdown",
   "metadata": {},
   "source": [
    "Drill\n",
    "\n",
    "- On which issues does the mainstream media do the worst job of representing President Trump?\n",
    "  - Assumes they do a good job about Trump in other areas\n",
    "- Do you feel that the media is too eager to slur conservatives with baseless accusations of racism and sexism?\n",
    "  - Tries to influence your answer\n",
    "- Do you believe that the media sensationalizes and exaggerates stories in order to paint President Trump and conservatives in a bad light?\n",
    "  - Tries to influence your answer"
   ]
  },
  {
   "cell_type": "code",
   "execution_count": null,
   "metadata": {
    "collapsed": true
   },
   "outputs": [],
   "source": []
  }
 ],
 "metadata": {
  "kernelspec": {
   "display_name": "Python [conda root]",
   "language": "python",
   "name": "conda-root-py"
  },
  "language_info": {
   "codemirror_mode": {
    "name": "ipython",
    "version": 3
   },
   "file_extension": ".py",
   "mimetype": "text/x-python",
   "name": "python",
   "nbconvert_exporter": "python",
   "pygments_lexer": "ipython3",
   "version": "3.5.2"
  }
 },
 "nbformat": 4,
 "nbformat_minor": 2
}
