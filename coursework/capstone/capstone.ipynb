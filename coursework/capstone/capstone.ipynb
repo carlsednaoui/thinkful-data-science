{
 "cells": [
  {
   "cell_type": "code",
   "execution_count": 65,
   "metadata": {
    "collapsed": true
   },
   "outputs": [],
   "source": [
    "from dateutil.parser import *\n",
    "import datetime\n",
    "import matplotlib.pyplot as plt\n",
    "import numpy as np\n",
    "import pandas as pd\n",
    "\n",
    "%matplotlib inline"
   ]
  },
  {
   "cell_type": "markdown",
   "metadata": {
    "collapsed": true
   },
   "source": [
    "## About the data\n",
    "\n",
    "A good email marketing strategy is critical for every online retailer. To give you some perspective, 20% of online sales were driven by email in Q4 2015.\n",
    "\n",
    "The problem is that most online retailers plan their email strategy without ever understanding what other companies are doing and what the underlying trends are. Let's explore the data collected by [MailCharts](https://www.mailcharts.com) to understand what the current email trends are.\n",
    "\n",
    "The data we're about to explore was collected from January 1st, 2016 until December 31st, 2016. Before going any further, let's load our data..."
   ]
  },
  {
   "cell_type": "code",
   "execution_count": 48,
   "metadata": {
    "collapsed": false
   },
   "outputs": [],
   "source": [
    "# Since the data is over 100MB, it can't be uploaded to GitHub.\n",
    "# Download the data from here: https://cl.ly/2Q0F3I2s1r0Y and save it in the data folder.\n",
    "df = pd.read_csv('./data/mc-2016.csv')"
   ]
  },
  {
   "cell_type": "code",
   "execution_count": 49,
   "metadata": {
    "collapsed": false
   },
   "outputs": [
    {
     "name": "stdout",
     "output_type": "stream",
     "text": [
      "Our dataset contains 573198 data points.\n",
      "The columns available are: ['company_id', 'guid', 'subject', 'from', 'reply_to', 'mobile_optimized', 'sent_at', 'animated', 'body_bytes', 'image_bytes'] \n",
      "\n",
      "Here's the format of our data:\n",
      "company_id                                                        578\n",
      "guid                             8564454b-f39e-c1bf-45b1-5166bf8bdb10\n",
      "subject                                               My M&M's & More\n",
      "from                [{\"address\":\"noreply@r.groupon.com\",\"name\":\"Gr...\n",
      "reply_to                                                          NaN\n",
      "mobile_optimized                                                    t\n",
      "sent_at                                           2016-06-12 20:17:25\n",
      "animated                                                            f\n",
      "body_bytes                                                      53936\n",
      "image_bytes                                                    175079\n",
      "Name: 0, dtype: object\n"
     ]
    }
   ],
   "source": [
    "print(\"Our dataset contains {} data points.\".format(len(df)))\n",
    "print(\"The columns available are: {} \\n\".format(list(df)))\n",
    "\n",
    "print(\"Here's the format of our data:\")\n",
    "print(df.ix[0,:])"
   ]
  },
  {
   "cell_type": "markdown",
   "metadata": {},
   "source": [
    "There's three question we want to answer and all of them are time-based (i.e. what's the trend).\n",
    "\n",
    "1. Are companies dropping the notion of a `no-reply` email address?\n",
    "1. Are more emails becoming mobile optimized?\n",
    "1. Are GIFs more popular in emails?"
   ]
  },
  {
   "cell_type": "code",
   "execution_count": 94,
   "metadata": {
    "collapsed": false
   },
   "outputs": [],
   "source": [
    "# Let's parse the dates\n",
    "# df['parsed_date'] = df.ix[0:10,'sent_at'].map(lambda x: parse(x).strftime('%B %Y'))\n",
    "# df['parsed_date'] = df['sent_at'].map(lambda x: parse(x).strftime('%B %Y'))\n",
    "# => That worked well for 10 examples, but for 500k rows it won't do. It's too slow!\n",
    "# => Let's try another approach\n",
    "\n",
    "df['month'] = df['sent_at'].map(lambda x: x.split('-')[1])\n",
    "# print(df['month'])"
   ]
  },
  {
   "cell_type": "code",
   "execution_count": 103,
   "metadata": {
    "collapsed": false
   },
   "outputs": [
    {
     "name": "stdout",
     "output_type": "stream",
     "text": [
      "Let's look at email volume for 2016.\n",
      "month\n",
      "01    38801\n",
      "02    37443\n",
      "03    40575\n",
      "04    39494\n",
      "05    41034\n",
      "06    41847\n",
      "07    52650\n",
      "08    54299\n",
      "09    50600\n",
      "10    52727\n",
      "11    60636\n",
      "12    63092\n",
      "dtype: int64\n"
     ]
    },
    {
     "data": {
      "image/png": "[encoded data removed]",
      "text/plain": [
       "<matplotlib.figure.Figure at 0x1044a8320>"
      ]
     },
     "metadata": {},
     "output_type": "display_data"
    }
   ],
   "source": [
    "print(\"Let's look at email volume for 2016.\")\n",
    "monthly_volume = df.groupby(['month']).size()\n",
    "print(monthly_volume)\n",
    "\n",
    "plt.plot(monthly_volume)\n",
    "plt.ylabel('Email volume')\n",
    "plt.xlabel('Month')\n",
    "plt.show()"
   ]
  },
  {
   "cell_type": "code",
   "execution_count": null,
   "metadata": {
    "collapsed": true
   },
   "outputs": [],
   "source": []
  }
 ],
 "metadata": {
  "anaconda-cloud": {},
  "kernelspec": {
   "display_name": "Python [conda root]",
   "language": "python",
   "name": "conda-root-py"
  },
  "language_info": {
   "codemirror_mode": {
    "name": "ipython",
    "version": 3
   },
   "file_extension": ".py",
   "mimetype": "text/x-python",
   "name": "python",
   "nbconvert_exporter": "python",
   "pygments_lexer": "ipython3",
   "version": "3.5.2"
  }
 },
 "nbformat": 4,
 "nbformat_minor": 1
}
