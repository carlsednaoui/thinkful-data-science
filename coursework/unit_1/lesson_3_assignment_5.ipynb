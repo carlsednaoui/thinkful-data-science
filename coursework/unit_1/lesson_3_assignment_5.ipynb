{
 "cells": [
  {
   "cell_type": "code",
   "execution_count": 4,
   "metadata": {
    "collapsed": false
   },
   "outputs": [],
   "source": [
    "import re\n",
    "import pandas as pd"
   ]
  },
  {
   "cell_type": "code",
   "execution_count": 9,
   "metadata": {
    "collapsed": false
   },
   "outputs": [
    {
     "name": "stdout",
     "output_type": "stream",
     "text": [
      "False\n"
     ]
    }
   ],
   "source": [
    "samplestring='take 5'\n",
    "print(samplestring.isalpha())"
   ]
  },
  {
   "cell_type": "code",
   "execution_count": 12,
   "metadata": {
    "collapsed": false
   },
   "outputs": [
    {
     "name": "stdout",
     "output_type": "stream",
     "text": [
      "0     True\n",
      "1     True\n",
      "2    False\n",
      "3     True\n",
      "4    False\n",
      "dtype: bool\n"
     ]
    }
   ],
   "source": [
    "# Dirty list\n",
    "money = pd.Series([400, 111, '$20', 57, 'Lots'])\n",
    "\n",
    "# Money.isdigit() fails because .isdigit is a string attribute, not a Series\n",
    "# attribute.\n",
    "\n",
    "# In the anonymous function below, we first make sure each item of the Series\n",
    "# is a string then apply the string method 'isdigit'.\n",
    "print(money.apply(lambda x: str(x).isdigit()))"
   ]
  },
  {
   "cell_type": "code",
   "execution_count": 16,
   "metadata": {
    "collapsed": false
   },
   "outputs": [
    {
     "name": "stdout",
     "output_type": "stream",
     "text": [
      "[400, 111, 57]\n",
      "0    400\n",
      "1    111\n",
      "2     20\n",
      "3     57\n",
      "4       \n",
      "dtype: object\n"
     ]
    }
   ],
   "source": [
    "print(list(filter(lambda x: str(x).isdigit(), money)))\n",
    "\n",
    "print(money.apply(lambda x: ''.join(list(filter(str.isdigit, str(x))))))"
   ]
  },
  {
   "cell_type": "code",
   "execution_count": 24,
   "metadata": {
    "collapsed": false
   },
   "outputs": [
    {
     "name": "stdout",
     "output_type": "stream",
     "text": [
      "              0                  1\n",
      "0   MollyMalone   molmal@gmail.com\n",
      "1  JeffreyJones  jefjo@hotmail.com\n",
      "2    DeadParrot   fjords@gmail.com\n"
     ]
    }
   ],
   "source": [
    "# Dirty text list.\n",
    "words = pd.Series([\n",
    "    'MollyMalone$molmal@gmail.com',\n",
    "    'JeffreyJones$jefjo@hotmail.com',\n",
    "    'DeadParrot$fjords@gmail.com'\n",
    "])\n",
    "\n",
    "#Splitting on '$'\n",
    "word_split = words.str.split('$', expand=True)\n",
    "print(word_split)\n",
    "names = word_split[0]\n",
    "emails = word_split[1]\n",
    "# print(names)\n",
    "# print(emails)"
   ]
  },
  {
   "cell_type": "code",
   "execution_count": 26,
   "metadata": {
    "collapsed": false
   },
   "outputs": [
    {
     "name": "stdout",
     "output_type": "stream",
     "text": [
      "0      Molly\n",
      "1    Jeffrey\n",
      "2       Dead\n",
      "Name: 0, dtype: object 0    Malone\n",
      "1     Jones\n",
      "2    Parrot\n",
      "Name: 0, dtype: object\n"
     ]
    }
   ],
   "source": [
    "firstname = names.apply(lambda x: re.findall('[A-Z][a-z]*', x)[0])\n",
    "lastname = names.apply(lambda x: re.findall('[A-Z][a-z]*', x)[1])\n",
    "print(firstname, lastname)"
   ]
  },
  {
   "cell_type": "code",
   "execution_count": null,
   "metadata": {
    "collapsed": true
   },
   "outputs": [],
   "source": []
  }
 ],
 "metadata": {
  "kernelspec": {
   "display_name": "Python [conda root]",
   "language": "python",
   "name": "conda-root-py"
  },
  "language_info": {
   "codemirror_mode": {
    "name": "ipython",
    "version": 3
   },
   "file_extension": ".py",
   "mimetype": "text/x-python",
   "name": "python",
   "nbconvert_exporter": "python",
   "pygments_lexer": "ipython3",
   "version": "3.5.2"
  }
 },
 "nbformat": 4,
 "nbformat_minor": 1
}
