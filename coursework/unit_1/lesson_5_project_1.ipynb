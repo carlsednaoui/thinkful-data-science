{
 "cells": [
  {
   "cell_type": "code",
   "execution_count": 1,
   "metadata": {
    "collapsed": true
   },
   "outputs": [],
   "source": [
    "import numpy as np\n",
    "import pandas as pd\n",
    "import matplotlib.pyplot as plt\n",
    "% matplotlib inline"
   ]
  },
  {
   "cell_type": "code",
   "execution_count": 2,
   "metadata": {
    "collapsed": false
   },
   "outputs": [
    {
     "data": {
      "text/html": [
       "<div>\n",
       "<table border=\"1\" class=\"dataframe\">\n",
       "  <thead>\n",
       "    <tr style=\"text-align: right;\">\n",
       "      <th></th>\n",
       "      <th>company_id</th>\n",
       "      <th>guid</th>\n",
       "      <th>subject</th>\n",
       "      <th>from</th>\n",
       "      <th>reply_to</th>\n",
       "      <th>mobile_optimized</th>\n",
       "      <th>sent_at</th>\n",
       "      <th>animated</th>\n",
       "      <th>body_bytes</th>\n",
       "      <th>image_bytes</th>\n",
       "    </tr>\n",
       "  </thead>\n",
       "  <tbody>\n",
       "    <tr>\n",
       "      <th>0</th>\n",
       "      <td>578.0</td>\n",
       "      <td>8564454b-f39e-c1bf-45b1-5166bf8bdb10</td>\n",
       "      <td>My M&amp;M's &amp; More</td>\n",
       "      <td>[{\"address\":\"noreply@r.groupon.com\",\"name\":\"Gr...</td>\n",
       "      <td>NaN</td>\n",
       "      <td>t</td>\n",
       "      <td>2016-06-12 20:17:25</td>\n",
       "      <td>f</td>\n",
       "      <td>53936</td>\n",
       "      <td>175079</td>\n",
       "    </tr>\n",
       "  </tbody>\n",
       "</table>\n",
       "</div>"
      ],
      "text/plain": [
       "   company_id                                  guid          subject  \\\n",
       "0       578.0  8564454b-f39e-c1bf-45b1-5166bf8bdb10  My M&M's & More   \n",
       "\n",
       "                                                from reply_to  \\\n",
       "0  [{\"address\":\"noreply@r.groupon.com\",\"name\":\"Gr...      NaN   \n",
       "\n",
       "  mobile_optimized              sent_at animated  body_bytes  image_bytes  \n",
       "0                t  2016-06-12 20:17:25        f       53936       175079  "
      ]
     },
     "execution_count": 2,
     "metadata": {},
     "output_type": "execute_result"
    }
   ],
   "source": [
    "# Dive in and explore the data set. Look for something that provokes a question that can be answered with an experiment.\n",
    "\n",
    "df = pd.read_csv('./data/mc-2016.csv')\n",
    "df.head(1)"
   ]
  },
  {
   "cell_type": "code",
   "execution_count": 3,
   "metadata": {
    "collapsed": false
   },
   "outputs": [
    {
     "data": {
      "text/html": [
       "<div>\n",
       "<table border=\"1\" class=\"dataframe\">\n",
       "  <thead>\n",
       "    <tr style=\"text-align: right;\">\n",
       "      <th></th>\n",
       "      <th>company_id</th>\n",
       "      <th>guid</th>\n",
       "      <th>subject</th>\n",
       "      <th>from</th>\n",
       "      <th>reply_to</th>\n",
       "      <th>mobile_optimized</th>\n",
       "      <th>sent_at</th>\n",
       "      <th>animated</th>\n",
       "      <th>body_bytes</th>\n",
       "      <th>image_bytes</th>\n",
       "      <th>month</th>\n",
       "    </tr>\n",
       "  </thead>\n",
       "  <tbody>\n",
       "    <tr>\n",
       "      <th>0</th>\n",
       "      <td>578.0</td>\n",
       "      <td>8564454b-f39e-c1bf-45b1-5166bf8bdb10</td>\n",
       "      <td>My M&amp;M's &amp; More</td>\n",
       "      <td>[{\"address\":\"noreply@r.groupon.com\",\"name\":\"Gr...</td>\n",
       "      <td>NaN</td>\n",
       "      <td>t</td>\n",
       "      <td>2016-06-12 20:17:25</td>\n",
       "      <td>f</td>\n",
       "      <td>53936</td>\n",
       "      <td>175079</td>\n",
       "      <td>06</td>\n",
       "    </tr>\n",
       "  </tbody>\n",
       "</table>\n",
       "</div>"
      ],
      "text/plain": [
       "   company_id                                  guid          subject  \\\n",
       "0       578.0  8564454b-f39e-c1bf-45b1-5166bf8bdb10  My M&M's & More   \n",
       "\n",
       "                                                from reply_to  \\\n",
       "0  [{\"address\":\"noreply@r.groupon.com\",\"name\":\"Gr...      NaN   \n",
       "\n",
       "  mobile_optimized              sent_at animated  body_bytes  image_bytes  \\\n",
       "0                t  2016-06-12 20:17:25        f       53936       175079   \n",
       "\n",
       "  month  \n",
       "0    06  "
      ]
     },
     "execution_count": 3,
     "metadata": {},
     "output_type": "execute_result"
    }
   ],
   "source": [
    "# add a month column\n",
    "df['month'] = df['sent_at'].apply(lambda x: str(x).split(' ')[0].split('-')[1])\n",
    "df.head(1)"
   ]
  },
  {
   "cell_type": "code",
   "execution_count": 4,
   "metadata": {
    "collapsed": false
   },
   "outputs": [],
   "source": [
    "# drop anything that's not from 2016\n",
    "df = df[df['sent_at'].str.contains('2016')]"
   ]
  },
  {
   "cell_type": "code",
   "execution_count": 32,
   "metadata": {
    "collapsed": false
   },
   "outputs": [],
   "source": [
    "# gather monthly email volume\n",
    "email_volume_by_month = df.groupby(['month']).size()"
   ]
  },
  {
   "cell_type": "code",
   "execution_count": 35,
   "metadata": {
    "collapsed": false
   },
   "outputs": [],
   "source": [
    "# understand mobile optimization trends\n",
    "mobile = df[df['mobile_optimized'] == 't'].groupby(['month']).size()\n",
    "mobile_rate = mobile / email_volume_by_month"
   ]
  },
  {
   "cell_type": "code",
   "execution_count": 36,
   "metadata": {
    "collapsed": false
   },
   "outputs": [
    {
     "data": {
      "text/plain": [
       "<matplotlib.axes._subplots.AxesSubplot at 0x114831b70>"
      ]
     },
     "execution_count": 36,
     "metadata": {},
     "output_type": "execute_result"
    },
    {
     "data": {
      "image/png": "[encoded data removed]",
      "text/plain": [
       "<matplotlib.figure.Figure at 0x114667550>"
      ]
     },
     "metadata": {},
     "output_type": "display_data"
    }
   ],
   "source": [
    "mobile_rate.plot()"
   ]
  },
  {
   "cell_type": "code",
   "execution_count": 39,
   "metadata": {
    "collapsed": false
   },
   "outputs": [],
   "source": [
    "# Experimentation RFC: propose and outline an experiment plan\n"
   ]
  },
  {
   "cell_type": "markdown",
   "metadata": {},
   "source": [
    "**Part 1: Analysis that highlights your experimental hypothesis.**\n",
    "> The problem: define the question or problem, justify why the problem should be studied, and review what we already know about the problem.\n",
    "\n",
    "Our emails are not mobile optimized. As seen from the above research, the email industry is quickly adopting mobile optimized email templates. Given that 45% of our sales comes from mobile (made up number) and that 20% of purchases come from email (made up number), a mobile optimized email template may help us drive additional sales."
   ]
  },
  {
   "cell_type": "markdown",
   "metadata": {},
   "source": [
    "**Part 2: A rollout plan showing how you would implement and rollout the experiment.**\n",
    "> The potential solution: propose a hypothesis (potential explanation) to be tested\n",
    "\n",
    "We will create a mobile optimized email template using the same style as our existing, non-mobile, email. This ensures the only difference is whether the email template is mobile optimized or not.\n",
    "\n",
    "The mobile email version will go into production the first week of May and will be sent to 10% of randomly selected subscribers. We can do this directly from within our ESP (email service provider)."
   ]
  },
  {
   "cell_type": "markdown",
   "metadata": {},
   "source": [
    "**Part 3: An evaluation plan showing what constitutes success in this experiment.**\n",
    "> The method of testing the solution: describe the design of the experiment, the analysis plan, and set benchmarks\n",
    "\n",
    "As mentioned earlier, the test will be first rolled out to 10% of our subscribers. If this email performs as well, or better than, the non-mobile optimized template we will do a follow up test next week as a 50/50 split.\n",
    "\n",
    "The metrics to monitor are:\n",
    "\n",
    "- Open rate\n",
    "- Click rate\n",
    "- Gross sales volume\n",
    "\n",
    "Our existing, non-mobile optimized email template has seen the following mean performance over the last 4 weeks:\n",
    "\n",
    "- Open rate: 32%\n",
    "- Click rate: 5.5%\n",
    "- Gross sales volume: $18,143\n"
   ]
  }
 ],
 "metadata": {
  "anaconda-cloud": {},
  "kernelspec": {
   "display_name": "Python 3",
   "language": "python",
   "name": "python3"
  },
  "language_info": {
   "codemirror_mode": {
    "name": "ipython",
    "version": 3
   },
   "file_extension": ".py",
   "mimetype": "text/x-python",
   "name": "python",
   "nbconvert_exporter": "python",
   "pygments_lexer": "ipython3",
   "version": "3.5.2"
  }
 },
 "nbformat": 4,
 "nbformat_minor": 1
}
