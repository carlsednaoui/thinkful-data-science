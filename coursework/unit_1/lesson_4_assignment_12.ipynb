{
 "cells": [
  {
   "cell_type": "code",
   "execution_count": 1,
   "metadata": {
    "collapsed": true
   },
   "outputs": [],
   "source": [
    "import matplotlib.pyplot as plt\n",
    "import numpy as np\n",
    "import pandas as pd\n",
    "from scipy import stats\n",
    "import seaborn as sns\n",
    "%matplotlib inline"
   ]
  },
  {
   "cell_type": "code",
   "execution_count": 13,
   "metadata": {
    "collapsed": false
   },
   "outputs": [
    {
     "data": {
      "text/html": [
       "<div>\n",
       "<table border=\"1\" class=\"dataframe\">\n",
       "  <thead>\n",
       "    <tr style=\"text-align: right;\">\n",
       "      <th></th>\n",
       "      <th>country</th>\n",
       "      <th>id_number</th>\n",
       "      <th>year</th>\n",
       "      <th>weekly_tv_time</th>\n",
       "      <th>people_trust_0_10</th>\n",
       "      <th>people_fair_0_10</th>\n",
       "      <th>people_help_0_10</th>\n",
       "      <th>happy_0_10</th>\n",
       "      <th>social_meeting_frequency_1_7</th>\n",
       "      <th>social_activities_vs_peers_1_5</th>\n",
       "      <th>gender</th>\n",
       "      <th>age</th>\n",
       "      <th>has_partner</th>\n",
       "    </tr>\n",
       "  </thead>\n",
       "  <tbody>\n",
       "    <tr>\n",
       "      <th>0</th>\n",
       "      <td>CH</td>\n",
       "      <td>5.0</td>\n",
       "      <td>6</td>\n",
       "      <td>3.0</td>\n",
       "      <td>3.0</td>\n",
       "      <td>10.0</td>\n",
       "      <td>5.0</td>\n",
       "      <td>8.0</td>\n",
       "      <td>5.0</td>\n",
       "      <td>4.0</td>\n",
       "      <td>2.0</td>\n",
       "      <td>60.0</td>\n",
       "      <td>1.0</td>\n",
       "    </tr>\n",
       "    <tr>\n",
       "      <th>1</th>\n",
       "      <td>CH</td>\n",
       "      <td>25.0</td>\n",
       "      <td>6</td>\n",
       "      <td>6.0</td>\n",
       "      <td>5.0</td>\n",
       "      <td>7.0</td>\n",
       "      <td>5.0</td>\n",
       "      <td>9.0</td>\n",
       "      <td>3.0</td>\n",
       "      <td>2.0</td>\n",
       "      <td>2.0</td>\n",
       "      <td>59.0</td>\n",
       "      <td>1.0</td>\n",
       "    </tr>\n",
       "    <tr>\n",
       "      <th>2</th>\n",
       "      <td>CH</td>\n",
       "      <td>26.0</td>\n",
       "      <td>6</td>\n",
       "      <td>1.0</td>\n",
       "      <td>8.0</td>\n",
       "      <td>8.0</td>\n",
       "      <td>8.0</td>\n",
       "      <td>7.0</td>\n",
       "      <td>6.0</td>\n",
       "      <td>3.0</td>\n",
       "      <td>1.0</td>\n",
       "      <td>24.0</td>\n",
       "      <td>2.0</td>\n",
       "    </tr>\n",
       "    <tr>\n",
       "      <th>3</th>\n",
       "      <td>CH</td>\n",
       "      <td>28.0</td>\n",
       "      <td>6</td>\n",
       "      <td>4.0</td>\n",
       "      <td>6.0</td>\n",
       "      <td>6.0</td>\n",
       "      <td>7.0</td>\n",
       "      <td>10.0</td>\n",
       "      <td>6.0</td>\n",
       "      <td>2.0</td>\n",
       "      <td>2.0</td>\n",
       "      <td>64.0</td>\n",
       "      <td>1.0</td>\n",
       "    </tr>\n",
       "    <tr>\n",
       "      <th>4</th>\n",
       "      <td>CH</td>\n",
       "      <td>29.0</td>\n",
       "      <td>6</td>\n",
       "      <td>5.0</td>\n",
       "      <td>6.0</td>\n",
       "      <td>7.0</td>\n",
       "      <td>5.0</td>\n",
       "      <td>8.0</td>\n",
       "      <td>7.0</td>\n",
       "      <td>2.0</td>\n",
       "      <td>2.0</td>\n",
       "      <td>55.0</td>\n",
       "      <td>1.0</td>\n",
       "    </tr>\n",
       "  </tbody>\n",
       "</table>\n",
       "</div>"
      ],
      "text/plain": [
       "  country  id_number  year  weekly_tv_time  people_trust_0_10  \\\n",
       "0      CH        5.0     6             3.0                3.0   \n",
       "1      CH       25.0     6             6.0                5.0   \n",
       "2      CH       26.0     6             1.0                8.0   \n",
       "3      CH       28.0     6             4.0                6.0   \n",
       "4      CH       29.0     6             5.0                6.0   \n",
       "\n",
       "   people_fair_0_10  people_help_0_10  happy_0_10  \\\n",
       "0              10.0               5.0         8.0   \n",
       "1               7.0               5.0         9.0   \n",
       "2               8.0               8.0         7.0   \n",
       "3               6.0               7.0        10.0   \n",
       "4               7.0               5.0         8.0   \n",
       "\n",
       "   social_meeting_frequency_1_7  social_activities_vs_peers_1_5  gender   age  \\\n",
       "0                           5.0                             4.0     2.0  60.0   \n",
       "1                           3.0                             2.0     2.0  59.0   \n",
       "2                           6.0                             3.0     1.0  24.0   \n",
       "3                           6.0                             2.0     2.0  64.0   \n",
       "4                           7.0                             2.0     2.0  55.0   \n",
       "\n",
       "   has_partner  \n",
       "0          1.0  \n",
       "1          1.0  \n",
       "2          2.0  \n",
       "3          1.0  \n",
       "4          1.0  "
      ]
     },
     "execution_count": 13,
     "metadata": {},
     "output_type": "execute_result"
    }
   ],
   "source": [
    "# column descriptions: https://thinkful-ed.github.io/data-201-resources/ESS_practice_data/ESS_codebook.html\n",
    "df = pd.read_csv('https://raw.githubusercontent.com/Thinkful-Ed/data-201-resources/master/ESS_practice_data/ESSdata_Thinkful.csv')\n",
    "df = df.rename(columns=\n",
    "               {'cntry': 'country',\n",
    "                'idno': 'id_number',\n",
    "                'year': 'year', # 6 = 2012, 7 = 2014\n",
    "                'tvtot': 'weekly_tv_time', # 0 = No time at all, 7 = More than 3 hours\n",
    "                'ppltrst': 'people_trust_0_10', # 0 = You can't be too careful, 10 = Most people can be trusted\n",
    "                'pplfair': 'people_fair_0_10',\n",
    "                'pplhlp': 'people_help_0_10',\n",
    "                'happy': 'happy_0_10',\n",
    "                'sclmeet': 'social_meeting_frequency_1_7', # 1 = Never, 7 = Every day\n",
    "                'sclact': 'social_activities_vs_peers_1_5', # 1 = Much less than most, 5 = Much more than most\n",
    "                'gndr': 'gender', # 1 = male, 2 = female\n",
    "                'agea': 'age', \n",
    "                'partner': 'has_partner', # 1 = lives with partner, 2 = does not\n",
    "               })\n",
    "df.head(5)"
   ]
  },
  {
   "cell_type": "code",
   "execution_count": 59,
   "metadata": {
    "collapsed": false
   },
   "outputs": [
    {
     "name": "stdout",
     "output_type": "stream",
     "text": [
      "year\n",
      "6    5.563098\n",
      "7    5.556720\n",
      "Name: people_trust_0_10, dtype: float64\n",
      "year  country\n",
      "6     CH         5.677878\n",
      "      CZ         4.362519\n",
      "      DE         5.214286\n",
      "      ES         5.114592\n",
      "      NO         6.649315\n",
      "      SE         6.058499\n",
      "7     CH         5.751617\n",
      "      CZ         4.424658\n",
      "      DE         5.357143\n",
      "      ES         4.895128\n",
      "      NO         6.598630\n",
      "      SE         6.257709\n",
      "Name: people_trust_0_10, dtype: float64\n"
     ]
    }
   ],
   "source": [
    "# 1. Did people become less trusting from 2012 to 2014? Compute results for each country in the sample.\n",
    "\n",
    "print(df.groupby(['year'])['people_trust_0_10'].mean())\n",
    "print(df.groupby(['year', 'country'])['people_trust_0_10'].mean())"
   ]
  },
  {
   "cell_type": "code",
   "execution_count": 60,
   "metadata": {
    "collapsed": false
   },
   "outputs": [
    {
     "name": "stdout",
     "output_type": "stream",
     "text": [
      "year\n",
      "6    7.723573\n",
      "7    7.665734\n",
      "Name: happy_0_10, dtype: float64\n",
      "year  country\n",
      "6     CH         8.088312\n",
      "      CZ         6.770898\n",
      "      DE         7.428571\n",
      "      ES         7.548680\n",
      "      NO         8.251719\n",
      "      SE         7.907387\n",
      "7     CH         8.116429\n",
      "      CZ         6.914110\n",
      "      DE         7.857143\n",
      "      ES         7.419967\n",
      "      NO         7.915185\n",
      "      SE         7.946961\n",
      "Name: happy_0_10, dtype: float64\n"
     ]
    }
   ],
   "source": [
    "# 2. Did people become happier from 2012 to 2014? Compute results for each country in the sample.\n",
    "print(df.groupby(['year'])['happy_0_10'].mean())\n",
    "print(df.groupby(['year', 'country'])['happy_0_10'].mean())"
   ]
  },
  {
   "cell_type": "code",
   "execution_count": 66,
   "metadata": {
    "collapsed": false
   },
   "outputs": [
    {
     "data": {
      "text/plain": [
       "gender\n",
       "1.0    3.901906\n",
       "2.0    3.944393\n",
       "Name: weekly_tv_time, dtype: float64"
      ]
     },
     "execution_count": 66,
     "metadata": {},
     "output_type": "execute_result"
    }
   ],
   "source": [
    "# 3. Who reported watching more TV in 2012, men or women?\n",
    "# 1 = male, 2 = female\n",
    "df[df['year'] == 6].groupby(['gender'])['weekly_tv_time'].mean()"
   ]
  },
  {
   "cell_type": "code",
   "execution_count": 68,
   "metadata": {
    "collapsed": false
   },
   "outputs": [
    {
     "data": {
      "text/plain": [
       "has_partner\n",
       "1.0    6.080736\n",
       "2.0    5.856965\n",
       "Name: people_fair_0_10, dtype: float64"
      ]
     },
     "execution_count": 68,
     "metadata": {},
     "output_type": "execute_result"
    }
   ],
   "source": [
    "# 4. Who was more likely to believe people were fair in 2012, people living with a partner or people living alone?\n",
    "# 1 = lives with partner, 2 = does not\n",
    "df[df['year'] == 6].groupby(['has_partner'])['people_fair_0_10'].mean()"
   ]
  },
  {
   "cell_type": "code",
   "execution_count": 71,
   "metadata": {
    "collapsed": false
   },
   "outputs": [
    {
     "name": "stdout",
     "output_type": "stream",
     "text": [
      "country\n",
      "CH    5.160622\n",
      "CZ    4.445802\n",
      "DE    4.428571\n",
      "ES    5.260116\n",
      "NO    5.302326\n",
      "SE    5.426211\n",
      "Name: social_meeting_frequency_1_7, dtype: float64\n",
      "max:  5.42621145374\n",
      "min:  4.42857142857\n"
     ]
    }
   ],
   "source": [
    "# 5. Pick three or four of the countries in the sample and compare how often people met socially in 2014.\n",
    "# Are there differences, and if so, which countries stand out?\n",
    "mean_gathering_by_country = df[df['year'] == 7].groupby(['country'])['social_meeting_frequency_1_7'].mean()\n",
    "print(mean_gathering_by_country)\n",
    "print(\"max: \", mean_gathering_by_country.max())\n",
    "print(\"min: \", mean_gathering_by_country.min())\n",
    "\n",
    "# DE is really low, SE is really high"
   ]
  },
  {
   "cell_type": "code",
   "execution_count": 82,
   "metadata": {
    "collapsed": false
   },
   "outputs": [
    {
     "data": {
      "text/plain": [
       "country  age_buckets \n",
       "CH       Kids            2.83\n",
       "         Young adults    2.79\n",
       "         Adults          2.78\n",
       "         Elder           2.63\n",
       "CZ       Kids            2.94\n",
       "         Young adults    2.67\n",
       "         Adults          2.70\n",
       "         Elder           2.50\n",
       "DE       Young adults    3.00\n",
       "         Adults          2.75\n",
       "         Elder           2.00\n",
       "ES       Kids            2.62\n",
       "         Young adults    2.73\n",
       "         Adults          2.61\n",
       "         Elder           2.04\n",
       "         Very old        3.00\n",
       "NO       Kids            2.95\n",
       "         Young adults    2.81\n",
       "         Adults          2.85\n",
       "         Elder           2.90\n",
       "SE       Kids            2.88\n",
       "         Young adults    2.89\n",
       "         Adults          2.89\n",
       "         Elder           2.78\n",
       "         Very old        2.00\n",
       "Name: social_activities_vs_peers_1_5, dtype: float64"
      ]
     },
     "execution_count": 82,
     "metadata": {},
     "output_type": "execute_result"
    }
   ],
   "source": [
    "# 6. Pick three or four of the countries in the sample and compare how often people took part in social activities\n",
    "# relative to others their age, in 2014. Are there differences, and if so, which countries stand out?\n",
    "\n",
    "bins = [0, 25, 50, 75, 100, 125]\n",
    "labels = [\"Kids\", \"Young adults\", \"Adults\", \"Elder\", \"Very old\"]\n",
    "df['age_buckets'] = pd.cut(df['age'], bins, labels=labels)\n",
    "\n",
    "df[df['year'] == 7].groupby(['country', 'age_buckets'])['social_activities_vs_peers_1_5'].mean().round(2)"
   ]
  },
  {
   "cell_type": "code",
   "execution_count": null,
   "metadata": {
    "collapsed": false
   },
   "outputs": [],
   "source": []
  },
  {
   "cell_type": "code",
   "execution_count": null,
   "metadata": {
    "collapsed": true
   },
   "outputs": [],
   "source": []
  }
 ],
 "metadata": {
  "anaconda-cloud": {},
  "kernelspec": {
   "display_name": "Python 3",
   "language": "python",
   "name": "python3"
  },
  "language_info": {
   "codemirror_mode": {
    "name": "ipython",
    "version": 3
   },
   "file_extension": ".py",
   "mimetype": "text/x-python",
   "name": "python",
   "nbconvert_exporter": "python",
   "pygments_lexer": "ipython3",
   "version": "3.5.2"
  }
 },
 "nbformat": 4,
 "nbformat_minor": 1
}
