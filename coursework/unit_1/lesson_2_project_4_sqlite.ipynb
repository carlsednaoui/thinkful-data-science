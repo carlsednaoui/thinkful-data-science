{
 "cells": [
  {
   "cell_type": "code",
   "execution_count": 8,
   "metadata": {
    "collapsed": false
   },
   "outputs": [],
   "source": [
    "# SELECT * FROM table WHERE id IN (SELECT id FROM table ORDER BY RANDOM() LIMIT x)\n",
    "import numpy as np\n",
    "import pandas as pd\n",
    "import sqlite3\n",
    "import sqlalchemy"
   ]
  },
  {
   "cell_type": "code",
   "execution_count": 2,
   "metadata": {
    "collapsed": true
   },
   "outputs": [],
   "source": [
    "con = sqlite3.connect(\"./data/bikeshare.db\")"
   ]
  },
  {
   "cell_type": "code",
   "execution_count": 3,
   "metadata": {
    "collapsed": false
   },
   "outputs": [],
   "source": [
    "df = pd.read_sql_query('SELECT * FROM status WHERE station_id LIMIT 35000', con)"
   ]
  },
  {
   "cell_type": "code",
   "execution_count": 6,
   "metadata": {
    "collapsed": false
   },
   "outputs": [
    {
     "data": {
      "text/html": [
       "<div>\n",
       "<table border=\"1\" class=\"dataframe\">\n",
       "  <thead>\n",
       "    <tr style=\"text-align: right;\">\n",
       "      <th></th>\n",
       "      <th>station_id</th>\n",
       "      <th>bikes_available</th>\n",
       "      <th>docks_available</th>\n",
       "      <th>timestamp</th>\n",
       "    </tr>\n",
       "  </thead>\n",
       "  <tbody>\n",
       "    <tr>\n",
       "      <th>0</th>\n",
       "      <td>2</td>\n",
       "      <td>18</td>\n",
       "      <td>9</td>\n",
       "      <td>2015-09-01 00:00:00</td>\n",
       "    </tr>\n",
       "    <tr>\n",
       "      <th>1</th>\n",
       "      <td>2</td>\n",
       "      <td>18</td>\n",
       "      <td>9</td>\n",
       "      <td>2015-09-01 00:01:00</td>\n",
       "    </tr>\n",
       "    <tr>\n",
       "      <th>2</th>\n",
       "      <td>2</td>\n",
       "      <td>18</td>\n",
       "      <td>9</td>\n",
       "      <td>2015-09-01 00:02:00</td>\n",
       "    </tr>\n",
       "    <tr>\n",
       "      <th>3</th>\n",
       "      <td>2</td>\n",
       "      <td>18</td>\n",
       "      <td>9</td>\n",
       "      <td>2015-09-01 00:03:00</td>\n",
       "    </tr>\n",
       "    <tr>\n",
       "      <th>4</th>\n",
       "      <td>2</td>\n",
       "      <td>18</td>\n",
       "      <td>9</td>\n",
       "      <td>2015-09-01 00:04:00</td>\n",
       "    </tr>\n",
       "  </tbody>\n",
       "</table>\n",
       "</div>"
      ],
      "text/plain": [
       "   station_id  bikes_available  docks_available            timestamp\n",
       "0           2               18                9  2015-09-01 00:00:00\n",
       "1           2               18                9  2015-09-01 00:01:00\n",
       "2           2               18                9  2015-09-01 00:02:00\n",
       "3           2               18                9  2015-09-01 00:03:00\n",
       "4           2               18                9  2015-09-01 00:04:00"
      ]
     },
     "execution_count": 6,
     "metadata": {},
     "output_type": "execute_result"
    }
   ],
   "source": [
    "df.head()"
   ]
  },
  {
   "cell_type": "code",
   "execution_count": 16,
   "metadata": {
    "collapsed": false
   },
   "outputs": [],
   "source": [
    "# Connecting to MC database\n",
    "engine = sqlalchemy.create_engine('postgresql://carl:@localhost:5432/mailcharts_development')"
   ]
  },
  {
   "cell_type": "code",
   "execution_count": 17,
   "metadata": {
    "collapsed": false
   },
   "outputs": [],
   "source": [
    "df = pd.read_sql_query('SELECT * FROM companies', engine)"
   ]
  },
  {
   "cell_type": "code",
   "execution_count": 18,
   "metadata": {
    "collapsed": false
   },
   "outputs": [
    {
     "data": {
      "text/html": [
       "<div>\n",
       "<table border=\"1\" class=\"dataframe\">\n",
       "  <thead>\n",
       "    <tr style=\"text-align: right;\">\n",
       "      <th></th>\n",
       "      <th>id</th>\n",
       "      <th>name</th>\n",
       "      <th>created_at</th>\n",
       "      <th>updated_at</th>\n",
       "      <th>url</th>\n",
       "      <th>website_url</th>\n",
       "      <th>description</th>\n",
       "      <th>service</th>\n",
       "      <th>domain_name</th>\n",
       "      <th>logo_src</th>\n",
       "    </tr>\n",
       "  </thead>\n",
       "  <tbody>\n",
       "    <tr>\n",
       "      <th>0</th>\n",
       "      <td>677</td>\n",
       "      <td>Stickerobot</td>\n",
       "      <td>2014-05-24 17:53:26.644</td>\n",
       "      <td>2016-10-21 11:18:47.692</td>\n",
       "      <td>http://stickerobot.com/</td>\n",
       "      <td>None</td>\n",
       "      <td>Sticker Robot is a California based, artist ow...</td>\n",
       "      <td>linkedin</td>\n",
       "      <td>stickerobot.com</td>\n",
       "      <td>//cache.mailcharts.com/logos/companies/677-sti...</td>\n",
       "    </tr>\n",
       "    <tr>\n",
       "      <th>1</th>\n",
       "      <td>1847</td>\n",
       "      <td>Lorna Jane</td>\n",
       "      <td>2015-03-03 23:21:18.536</td>\n",
       "      <td>2016-10-21 11:19:25.939</td>\n",
       "      <td>None</td>\n",
       "      <td>http://www.lornajane.com.au/</td>\n",
       "      <td>Australian manufacturer of activewear and swim...</td>\n",
       "      <td>alexa</td>\n",
       "      <td>lornajane.com.au</td>\n",
       "      <td>//cache.mailcharts.com/logos/companies/1847-lo...</td>\n",
       "    </tr>\n",
       "    <tr>\n",
       "      <th>2</th>\n",
       "      <td>50</td>\n",
       "      <td>NFLshop</td>\n",
       "      <td>2014-04-23 11:57:51.675</td>\n",
       "      <td>2016-10-28 10:18:41.973</td>\n",
       "      <td>http://www.nflshop.com</td>\n",
       "      <td>None</td>\n",
       "      <td>The official site of the NFL. The biggest sele...</td>\n",
       "      <td>alexa</td>\n",
       "      <td>nflshop.com</td>\n",
       "      <td>//cache.mailcharts.com/logos/companies/50-nfls...</td>\n",
       "    </tr>\n",
       "    <tr>\n",
       "      <th>3</th>\n",
       "      <td>17</td>\n",
       "      <td>EB Games</td>\n",
       "      <td>2014-04-23 11:57:51.673</td>\n",
       "      <td>2016-10-21 11:18:25.202</td>\n",
       "      <td>https://ebgames.com.au</td>\n",
       "      <td>None</td>\n",
       "      <td>Telecommunications &amp; Information Service</td>\n",
       "      <td>crunchbase</td>\n",
       "      <td>ebgames.com.au</td>\n",
       "      <td>//cache.mailcharts.com/logos/companies/17-eb-g...</td>\n",
       "    </tr>\n",
       "    <tr>\n",
       "      <th>4</th>\n",
       "      <td>19</td>\n",
       "      <td>Grove Lane</td>\n",
       "      <td>2014-04-23 11:57:51.673</td>\n",
       "      <td>2016-10-21 11:18:25.272</td>\n",
       "      <td>http://www.grove-lane.com</td>\n",
       "      <td>None</td>\n",
       "      <td>None</td>\n",
       "      <td>alexa</td>\n",
       "      <td>grove-lane.com</td>\n",
       "      <td>//cache.mailcharts.com/logos/companies/19-grov...</td>\n",
       "    </tr>\n",
       "  </tbody>\n",
       "</table>\n",
       "</div>"
      ],
      "text/plain": [
       "     id         name              created_at              updated_at  \\\n",
       "0   677  Stickerobot 2014-05-24 17:53:26.644 2016-10-21 11:18:47.692   \n",
       "1  1847   Lorna Jane 2015-03-03 23:21:18.536 2016-10-21 11:19:25.939   \n",
       "2    50      NFLshop 2014-04-23 11:57:51.675 2016-10-28 10:18:41.973   \n",
       "3    17     EB Games 2014-04-23 11:57:51.673 2016-10-21 11:18:25.202   \n",
       "4    19   Grove Lane 2014-04-23 11:57:51.673 2016-10-21 11:18:25.272   \n",
       "\n",
       "                         url                   website_url  \\\n",
       "0    http://stickerobot.com/                          None   \n",
       "1                       None  http://www.lornajane.com.au/   \n",
       "2     http://www.nflshop.com                          None   \n",
       "3     https://ebgames.com.au                          None   \n",
       "4  http://www.grove-lane.com                          None   \n",
       "\n",
       "                                         description     service  \\\n",
       "0  Sticker Robot is a California based, artist ow...    linkedin   \n",
       "1  Australian manufacturer of activewear and swim...       alexa   \n",
       "2  The official site of the NFL. The biggest sele...       alexa   \n",
       "3           Telecommunications & Information Service  crunchbase   \n",
       "4                                               None       alexa   \n",
       "\n",
       "        domain_name                                           logo_src  \n",
       "0   stickerobot.com  //cache.mailcharts.com/logos/companies/677-sti...  \n",
       "1  lornajane.com.au  //cache.mailcharts.com/logos/companies/1847-lo...  \n",
       "2       nflshop.com  //cache.mailcharts.com/logos/companies/50-nfls...  \n",
       "3    ebgames.com.au  //cache.mailcharts.com/logos/companies/17-eb-g...  \n",
       "4    grove-lane.com  //cache.mailcharts.com/logos/companies/19-grov...  "
      ]
     },
     "execution_count": 18,
     "metadata": {},
     "output_type": "execute_result"
    }
   ],
   "source": [
    "df.head()"
   ]
  },
  {
   "cell_type": "code",
   "execution_count": null,
   "metadata": {
    "collapsed": true
   },
   "outputs": [],
   "source": []
  }
 ],
 "metadata": {
  "anaconda-cloud": {},
  "kernelspec": {
   "display_name": "Python [conda root]",
   "language": "python",
   "name": "conda-root-py"
  },
  "language_info": {
   "codemirror_mode": {
    "name": "ipython",
    "version": 3
   },
   "file_extension": ".py",
   "mimetype": "text/x-python",
   "name": "python",
   "nbconvert_exporter": "python",
   "pygments_lexer": "ipython3",
   "version": "3.5.2"
  }
 },
 "nbformat": 4,
 "nbformat_minor": 1
}
