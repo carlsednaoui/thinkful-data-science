{
 "cells": [
  {
   "cell_type": "code",
   "execution_count": 91,
   "metadata": {
    "collapsed": true
   },
   "outputs": [],
   "source": [
    "import pandas as pd\n",
    "import sklearn\n",
    "import numpy as np\n",
    "import matplotlib.pyplot as plt"
   ]
  },
  {
   "cell_type": "code",
   "execution_count": 94,
   "metadata": {
    "collapsed": false
   },
   "outputs": [
    {
     "name": "stdout",
     "output_type": "stream",
     "text": [
      "89.0% accurate (22 wrong out of 200)\n"
     ]
    }
   ],
   "source": [
    "# Load the raw data\n",
    "data_path = (\"https://raw.githubusercontent.com/Thinkful-Ed/data-201-resources/\"\n",
    "             \"master/sms_spam_collection/SMSSpamCollection\"\n",
    "            )\n",
    "sms_raw = pd.read_csv(data_path, delimiter= '\\t', header=None)\n",
    "sms_raw.columns = ['spam', 'message']\n",
    "sms_raw[\"spam\"] = sms_raw[\"spam\"] == \"spam\"\n",
    "\n",
    "# Grab the samples\n",
    "sample_positive = sms_raw[sms_raw[\"spam\"] == True].sample(100)\n",
    "sample_negative = sms_raw[sms_raw[\"spam\"] == False].sample(100)\n",
    "combined_sample = sample_positive.append(sample_negative)\n",
    "\n",
    "# Turn each word into a feature\n",
    "split_combined_sample = combined_sample[\"message\"].str.lower().str.replace(\"\\W+\", \" \").str.split()\n",
    "data = split_combined_sample.str.join(\"|\").str.get_dummies(sep=\"|\")\n",
    "target = combined_sample[\"spam\"]\n",
    "\n",
    "# Reduce the number of features\n",
    "from sklearn.feature_selection import SelectKBest, mutual_info_classif\n",
    "kbest = SelectKBest(mutual_info_classif, k=50)\n",
    "best_features = kbest.fit_transform(data, target)\n",
    "\n",
    "# Build the model\n",
    "from sklearn.naive_bayes import BernoulliNB\n",
    "bnb = BernoulliNB()\n",
    "bnb.fit(best_features, target)\n",
    "\n",
    "# Predict\n",
    "prediction = bnb.predict(best_features)\n",
    "data_size = best_features.shape[0]\n",
    "wrong_identification = (prediction != target).sum()\n",
    "print(\"{}% accurate ({} wrong out of {})\".format((1 - (wrong_identification / data_size))*100, wrong_identification, data_size))"
   ]
  },
  {
   "cell_type": "code",
   "execution_count": 108,
   "metadata": {
    "collapsed": false
   },
   "outputs": [],
   "source": [
    "# Load the data\n",
    "data_path = (\"https://raw.githubusercontent.com/Thinkful-Ed/data-201-resources/\"\n",
    "             \"master/sms_spam_collection/SMSSpamCollection\"\n",
    "            )\n",
    "sms_raw = pd.read_csv(data_path, delimiter= '\\t', header=None)\n",
    "sms_raw.columns = ['spam', 'message']\n",
    "sms_raw[\"spam\"] = sms_raw[\"spam\"] == \"spam\"\n",
    "\n",
    "# We will write our own k-fold functions next time\n",
    "positive = sms_raw[sms_raw[\"spam\"] == True].sample(n=250)\n",
    "negative = sms_raw[sms_raw[\"spam\"] == False].sample(n=250)\n",
    "holdout = 50\n",
    "\n",
    "\n",
    "# Take 100 from each and use those as our training dataset (keep track of the indexes we used to train the data)\n",
    "# Train your model on test dataset\n",
    "# Test the data on the remaining dataset\n"
   ]
  },
  {
   "cell_type": "code",
   "execution_count": null,
   "metadata": {
    "collapsed": false
   },
   "outputs": [],
   "source": []
  },
  {
   "cell_type": "code",
   "execution_count": null,
   "metadata": {
    "collapsed": true
   },
   "outputs": [],
   "source": []
  },
  {
   "cell_type": "code",
   "execution_count": null,
   "metadata": {
    "collapsed": true
   },
   "outputs": [],
   "source": []
  },
  {
   "cell_type": "code",
   "execution_count": null,
   "metadata": {
    "collapsed": true
   },
   "outputs": [],
   "source": []
  },
  {
   "cell_type": "code",
   "execution_count": null,
   "metadata": {
    "collapsed": false
   },
   "outputs": [],
   "source": [
    "# Test your model with different holdout groups.\n",
    "\n",
    "# Grab and process the raw data.\n",
    "# data_path = (\"https://raw.githubusercontent.com/Thinkful-Ed/data-201-resources/\"\n",
    "#              \"master/sms_spam_collection/SMSSpamCollection\"\n",
    "#             )\n",
    "# sms_raw = pd.read_csv(data_path, delimiter= '\\t', header=None)\n",
    "# # 5572 records. Let's holdout 10%\n",
    "# holdout = .1\n",
    "# sms_raw = sms_raw.head(round(sms_raw.shape[0] - (sms_raw.shape[0] * holdout)))\n",
    "# sms_raw.columns = ['spam', 'message']\n",
    "\n",
    "# # Enumerate our spammy keywords.\n",
    "# keywords = ['click', 'offer', 'winner', 'buy', 'free', 'cash', 'urgent']\n",
    "\n",
    "# for key in keywords:\n",
    "#     sms_raw[str(key)] = sms_raw.message.str.contains(\n",
    "#         ' ' + str(key) + ' ',\n",
    "#         case=False\n",
    "# )\n",
    "\n",
    "# sms_raw['allcaps'] = sms_raw.message.str.isupper()\n",
    "# sms_raw['spam'] = (sms_raw['spam'] == 'spam')\n",
    "# data = sms_raw[keywords + ['allcaps']]\n",
    "# target = sms_raw['spam']\n",
    "\n",
    "# from sklearn.naive_bayes import BernoulliNB\n",
    "# bnb = BernoulliNB()\n",
    "# y_pred = bnb.fit(data, target).predict(data)\n",
    "\n",
    "# round((sms_raw['spam'] == y_pred).sum()/sms_raw.shape[0], 3)"
   ]
  },
  {
   "cell_type": "code",
   "execution_count": null,
   "metadata": {
    "collapsed": false
   },
   "outputs": [],
   "source": [
    "# Question: What is this doing?\n",
    "# http://scikit-learn.org/stable/modules/cross_validation.html#cross-validation-iterators-with-stratification-based-on-class-labels\n",
    "# from sklearn.model_selection import StratifiedKFold\n",
    "# skf = StratifiedKFold(n_splits=3)\n",
    "\n",
    "# X = np.ones(len(sms_raw['spam']))\n",
    "# y = sms_raw['spam']\n",
    "\n",
    "# for train, test in skf.split(X, y):\n",
    "#     print(\"%s %s\" % (train, test))"
   ]
  },
  {
   "cell_type": "code",
   "execution_count": 2,
   "metadata": {
    "collapsed": false
   },
   "outputs": [],
   "source": [
    "# from sklearn.model_selection import train_test_split\n",
    "# train, test = train_test_split(sms_raw, test_size = 0.2)\n",
    "# print(len(train))\n",
    "# print(len(test))\n",
    "# print(sms_raw.shape)"
   ]
  },
  {
   "cell_type": "code",
   "execution_count": 3,
   "metadata": {
    "collapsed": false
   },
   "outputs": [],
   "source": [
    "# Implement your own cross validation with your spam model.\n",
    "# Question: How would we do folds? And why is that better than randomly selecting variables?\n",
    "# data_path = (\"https://raw.githubusercontent.com/Thinkful-Ed/data-201-resources/\"\n",
    "#              \"master/sms_spam_collection/SMSSpamCollection\"\n",
    "#             )\n",
    "# sms_raw = pd.read_csv(data_path, delimiter= '\\t', header=None)\n",
    "# sms_raw.columns = ['spam', 'message']\n",
    "\n",
    "# hold_out_percent = 0.2\n",
    "# sample_size = round(len(sms_raw) * hold_out_percent)\n",
    "# holdout = sms_raw.sample(sample_size)[[\"spam\", \"message\"]]\n",
    "# training_data = sms_raw[~sms_raw.isin(holdout)].dropna()[[\"spam\", \"message\"]]\n",
    "\n",
    "\n",
    "# # Enumerate our spammy keywords.\n",
    "# keywords = ['click', 'offer', 'winner', 'buy', 'free', 'cash', 'urgent']\n",
    "\n",
    "# for key in keywords:\n",
    "#     training_data[str(key)] = training_data.message.str.contains(\n",
    "#         ' ' + str(key) + ' ',\n",
    "#         case=False\n",
    "# )\n",
    "\n",
    "# training_data['allcaps'] = training_data.message.str.isupper()\n",
    "# training_data['spam'] = (sms_raw['spam'] == 'spam')\n",
    "# data = training_data[keywords + ['allcaps']]\n",
    "# target = training_data['spam']\n",
    "\n",
    "# from sklearn.naive_bayes import BernoulliNB\n",
    "# bnb = BernoulliNB()\n",
    "# y_pred = bnb.fit(data, target).predict(data)\n",
    "\n",
    "# round((training_data['spam'] == y_pred).sum() / training_data.shape[0], 3)\n"
   ]
  },
  {
   "cell_type": "code",
   "execution_count": 4,
   "metadata": {
    "collapsed": false
   },
   "outputs": [],
   "source": []
  },
  {
   "cell_type": "code",
   "execution_count": null,
   "metadata": {
    "collapsed": false
   },
   "outputs": [],
   "source": []
  },
  {
   "cell_type": "code",
   "execution_count": null,
   "metadata": {
    "collapsed": true
   },
   "outputs": [],
   "source": []
  }
 ],
 "metadata": {
  "anaconda-cloud": {},
  "kernelspec": {
   "display_name": "Python [conda root]",
   "language": "python",
   "name": "conda-root-py"
  },
  "language_info": {
   "codemirror_mode": {
    "name": "ipython",
    "version": 3
   },
   "file_extension": ".py",
   "mimetype": "text/x-python",
   "name": "python",
   "nbconvert_exporter": "python",
   "pygments_lexer": "ipython3",
   "version": "3.5.2"
  }
 },
 "nbformat": 4,
 "nbformat_minor": 1
}
