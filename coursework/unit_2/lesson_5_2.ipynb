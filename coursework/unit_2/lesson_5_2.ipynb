{
 "cells": [
  {
   "cell_type": "code",
   "execution_count": 22,
   "metadata": {
    "collapsed": true
   },
   "outputs": [],
   "source": [
    "import pandas as pd\n",
    "from sklearn import linear_model\n",
    "import numpy as np\n",
    "import matplotlib.pyplot as plt\n",
    "import seaborn as sns\n",
    "from scipy.stats import mstats\n",
    "from IPython.display import display\n",
    "%matplotlib inline\n",
    "\n",
    "import statsmodels.formula.api as smf"
   ]
  },
  {
   "cell_type": "code",
   "execution_count": 12,
   "metadata": {
    "collapsed": true
   },
   "outputs": [],
   "source": [
    "# load data\n",
    "df = pd.read_csv('./data/new-york.csv', thousands=\",\") # use \"thousands\" to handle the thousand comma separator\n",
    "\n",
    "data_revised = pd.DataFrame()\n",
    "data_revised[\"population\"] = df[\"Population\"]\n",
    "data_revised[\"crime\"] = df[\"Violent\\rcrime\"]\n",
    "data_revised[\"murder\"] = df[\"Murder and\\rnonnegligent\\rmanslaughter\"]\n",
    "data_revised[\"rape\"] = df[\"Rape\\r(legacy\\rdefinition)2\"]\n",
    "data_revised[\"robbery\"] = df[\"Robbery\"]\n",
    "data_revised[\"assault\"] = df[\"Aggravated\\rassault\"]\n",
    "data_revised[\"violent_crime\"] = df[\"Murder and\\rnonnegligent\\rmanslaughter\"] + df[\"Rape\\r(legacy\\rdefinition)2\"] + df[\"Robbery\"] + df[\"Aggravated\\rassault\"]\n",
    "data_revised[\"property_crime\"] = df[\"Property\\rcrime\"]\n",
    "\n",
    "data_revised = data_revised.dropna()"
   ]
  },
  {
   "cell_type": "code",
   "execution_count": 14,
   "metadata": {
    "collapsed": true
   },
   "outputs": [],
   "source": [
    "def remove_outliers(data):\n",
    "    return mstats.winsorize(data, limits=0.05)\n",
    "\n",
    "for d in data_revised.columns:\n",
    "    data_revised[d] = remove_outliers(data_revised[d])"
   ]
  },
  {
   "cell_type": "code",
   "execution_count": 26,
   "metadata": {
    "collapsed": false
   },
   "outputs": [
    {
     "name": "stdout",
     "output_type": "stream",
     "text": [
      "\n",
      "Coefficients:  [  1.38867375e-02  -5.60191494e+01   3.20047748e+01   7.00709090e+00]\n",
      "\n",
      "Intercept:  3.53792958184\n",
      "\n",
      "R-squared:  0.880797067018\n"
     ]
    }
   ],
   "source": [
    "# New model\n",
    "\n",
    "regr = linear_model.LinearRegression()\n",
    "Y = data_revised[\"property_crime\"]\n",
    "#X = data_revised[[\"population\", \"crime\", \"murder\", \"rape\", \"robbery\", \"assault\"]]\n",
    "#X = data_revised[[\"population\", \"crime\"]]\n",
    "X = data_revised[[\"population\", \"murder\", \"rape\", \"robbery\"]]\n",
    "regr.fit(X, Y)\n",
    "\n",
    "# Inspect the results\n",
    "print(\"\\nCoefficients: \", regr.coef_)\n",
    "print(\"\\nIntercept: \", regr.intercept_)\n",
    "print(\"\\nR-squared: \", regr.score(X, Y))"
   ]
  },
  {
   "cell_type": "code",
   "execution_count": 27,
   "metadata": {
    "collapsed": false
   },
   "outputs": [
    {
     "data": {
      "text/plain": [
       "(array([   2.,    3.,    5.,    7.,   26.,  122.,  155.,   16.,   10.,    2.]),\n",
       " array([-666.23572595, -553.39628577, -440.5568456 , -327.71740543,\n",
       "        -214.87796526, -102.03852509,   10.80091508,  123.64035526,\n",
       "         236.47979543,  349.3192356 ,  462.15867577]),\n",
       " <a list of 10 Patch objects>)"
      ]
     },
     "execution_count": 27,
     "metadata": {},
     "output_type": "execute_result"
    },
    {
     "data": {
      "image/png": "[encoded data removed]",
      "text/plain": [
       "<matplotlib.figure.Figure at 0x1135a7f98>"
      ]
     },
     "metadata": {},
     "output_type": "display_data"
    }
   ],
   "source": [
    "predicted = regr.predict(X).ravel()\n",
    "actual = data_revised[\"property_crime\"]\n",
    "residual = predicted - actual\n",
    "\n",
    "plt.hist(residual)"
   ]
  },
  {
   "cell_type": "code",
   "execution_count": 28,
   "metadata": {
    "collapsed": false
   },
   "outputs": [
    {
     "data": {
      "text/plain": [
       "<matplotlib.lines.Line2D at 0x1135e5550>"
      ]
     },
     "execution_count": 28,
     "metadata": {},
     "output_type": "execute_result"
    },
    {
     "data": {
      "image/png": "[encoded data removed]",
      "text/plain": [
       "<matplotlib.figure.Figure at 0x1135e55f8>"
      ]
     },
     "metadata": {},
     "output_type": "display_data"
    }
   ],
   "source": [
    "plt.scatter(predicted, residual)\n",
    "plt.axhline(y=0)"
   ]
  },
  {
   "cell_type": "code",
   "execution_count": 29,
   "metadata": {
    "collapsed": false
   },
   "outputs": [
    {
     "data": {
      "text/html": [
       "<div>\n",
       "<table border=\"1\" class=\"dataframe\">\n",
       "  <thead>\n",
       "    <tr style=\"text-align: right;\">\n",
       "      <th></th>\n",
       "      <th>population</th>\n",
       "      <th>murder</th>\n",
       "      <th>rape</th>\n",
       "      <th>robbery</th>\n",
       "    </tr>\n",
       "  </thead>\n",
       "  <tbody>\n",
       "    <tr>\n",
       "      <th>population</th>\n",
       "      <td>1.000000</td>\n",
       "      <td>0.624830</td>\n",
       "      <td>0.681057</td>\n",
       "      <td>0.801370</td>\n",
       "    </tr>\n",
       "    <tr>\n",
       "      <th>murder</th>\n",
       "      <td>0.624830</td>\n",
       "      <td>1.000000</td>\n",
       "      <td>0.648323</td>\n",
       "      <td>0.720477</td>\n",
       "    </tr>\n",
       "    <tr>\n",
       "      <th>rape</th>\n",
       "      <td>0.681057</td>\n",
       "      <td>0.648323</td>\n",
       "      <td>1.000000</td>\n",
       "      <td>0.803204</td>\n",
       "    </tr>\n",
       "    <tr>\n",
       "      <th>robbery</th>\n",
       "      <td>0.801370</td>\n",
       "      <td>0.720477</td>\n",
       "      <td>0.803204</td>\n",
       "      <td>1.000000</td>\n",
       "    </tr>\n",
       "  </tbody>\n",
       "</table>\n",
       "</div>"
      ],
      "text/plain": [
       "            population    murder      rape   robbery\n",
       "population    1.000000  0.624830  0.681057  0.801370\n",
       "murder        0.624830  1.000000  0.648323  0.720477\n",
       "rape          0.681057  0.648323  1.000000  0.803204\n",
       "robbery       0.801370  0.720477  0.803204  1.000000"
      ]
     },
     "execution_count": 29,
     "metadata": {},
     "output_type": "execute_result"
    }
   ],
   "source": [
    "X.corr()"
   ]
  },
  {
   "cell_type": "code",
   "execution_count": 31,
   "metadata": {
    "collapsed": true
   },
   "outputs": [],
   "source": [
    "linear_formula = \"property_crime ~ population+murder+rape+robbery\"\n",
    "lm = smf.ols(formula=linear_formula, data=data_revised).fit()"
   ]
  },
  {
   "cell_type": "code",
   "execution_count": 32,
   "metadata": {
    "collapsed": false
   },
   "outputs": [
    {
     "data": {
      "text/plain": [
       "Intercept      3.537930\n",
       "population     0.013887\n",
       "murder       -56.019149\n",
       "rape          32.004775\n",
       "robbery        7.007091\n",
       "dtype: float64"
      ]
     },
     "execution_count": 32,
     "metadata": {},
     "output_type": "execute_result"
    }
   ],
   "source": [
    "# From above\n",
    "# [  1.37718871e-02   5.79073068e-01  -5.58069810e+01   2.94264814e+01    5.77826356e+00   1.40004440e-01]\n",
    "lm.params"
   ]
  },
  {
   "cell_type": "code",
   "execution_count": 33,
   "metadata": {
    "collapsed": false
   },
   "outputs": [
    {
     "data": {
      "text/plain": [
       "Intercept     7.218113e-01\n",
       "population    7.452919e-51\n",
       "murder        5.956474e-03\n",
       "rape          3.063941e-13\n",
       "robbery       1.190004e-10\n",
       "dtype: float64"
      ]
     },
     "execution_count": 33,
     "metadata": {},
     "output_type": "execute_result"
    }
   ],
   "source": [
    "# Anything that is above 0.05 = doesn't tell us anything new\n",
    "# Crime doesn't tell us anything\n",
    "# Assault doesn't tell us anything\n",
    "lm.pvalues"
   ]
  },
  {
   "cell_type": "code",
   "execution_count": 34,
   "metadata": {
    "collapsed": false
   },
   "outputs": [
    {
     "data": {
      "text/html": [
       "<div>\n",
       "<table border=\"1\" class=\"dataframe\">\n",
       "  <thead>\n",
       "    <tr style=\"text-align: right;\">\n",
       "      <th></th>\n",
       "      <th>0</th>\n",
       "      <th>1</th>\n",
       "    </tr>\n",
       "  </thead>\n",
       "  <tbody>\n",
       "    <tr>\n",
       "      <th>Intercept</th>\n",
       "      <td>-15.990985</td>\n",
       "      <td>23.066844</td>\n",
       "    </tr>\n",
       "    <tr>\n",
       "      <th>population</th>\n",
       "      <td>0.012356</td>\n",
       "      <td>0.015417</td>\n",
       "    </tr>\n",
       "    <tr>\n",
       "      <th>murder</th>\n",
       "      <td>-95.833766</td>\n",
       "      <td>-16.204533</td>\n",
       "    </tr>\n",
       "    <tr>\n",
       "      <th>rape</th>\n",
       "      <td>23.710210</td>\n",
       "      <td>40.299340</td>\n",
       "    </tr>\n",
       "    <tr>\n",
       "      <th>robbery</th>\n",
       "      <td>4.933138</td>\n",
       "      <td>9.081044</td>\n",
       "    </tr>\n",
       "  </tbody>\n",
       "</table>\n",
       "</div>"
      ],
      "text/plain": [
       "                    0          1\n",
       "Intercept  -15.990985  23.066844\n",
       "population   0.012356   0.015417\n",
       "murder     -95.833766 -16.204533\n",
       "rape        23.710210  40.299340\n",
       "robbery      4.933138   9.081044"
      ]
     },
     "execution_count": 34,
     "metadata": {},
     "output_type": "execute_result"
    }
   ],
   "source": [
    "lm.conf_int()"
   ]
  },
  {
   "cell_type": "code",
   "execution_count": 74,
   "metadata": {
    "collapsed": true
   },
   "outputs": [],
   "source": [
    "df = pd.read_csv('./data/new-jersey.csv', thousands=\",\") # use \"thousands\" to handle the thousand comma separator\n",
    "\n",
    "data_sc = pd.DataFrame()\n",
    "data_sc[\"population\"] = df[\"Population\"]\n",
    "data_sc[\"crime\"] = df[\"Violent\\rcrime\"]\n",
    "data_sc[\"murder\"] = df[\"Murder and\\rnonnegligent\\rmanslaughter\"]\n",
    "data_sc[\"rape\"] = df[\"Rape\\r(legacy\\rdefinition)2\"]\n",
    "data_sc[\"robbery\"] = df[\"Robbery\"]\n",
    "data_sc[\"assault\"] = df[\"Aggravated\\rassault\"]\n",
    "data_sc[\"property_crime\"] = df[\"Property\\rcrime\"]\n",
    "\n",
    "\n",
    "data_sc = data_sc.dropna()"
   ]
  },
  {
   "cell_type": "code",
   "execution_count": 75,
   "metadata": {
    "collapsed": false
   },
   "outputs": [],
   "source": [
    "for d in data_sc.columns:\n",
    "    data_sc[d] = remove_outliers(data_sc[d])"
   ]
  },
  {
   "cell_type": "code",
   "execution_count": 76,
   "metadata": {
    "collapsed": false
   },
   "outputs": [],
   "source": [
    "linear_formula = \"property_crime ~ population+murder+rape+robbery\"\n",
    "lm = smf.ols(formula=linear_formula, data=data_sc).fit()"
   ]
  },
  {
   "cell_type": "code",
   "execution_count": 77,
   "metadata": {
    "collapsed": false
   },
   "outputs": [
    {
     "data": {
      "text/plain": [
       "Intercept     16.081687\n",
       "population     0.009595\n",
       "murder       -19.645005\n",
       "rape          11.434446\n",
       "robbery        9.744580\n",
       "dtype: float64"
      ]
     },
     "execution_count": 77,
     "metadata": {},
     "output_type": "execute_result"
    }
   ],
   "source": [
    "lm.params"
   ]
  },
  {
   "cell_type": "code",
   "execution_count": 78,
   "metadata": {
    "collapsed": false
   },
   "outputs": [
    {
     "data": {
      "text/plain": [
       "Intercept     3.488421e-02\n",
       "population    3.211694e-59\n",
       "murder        1.258030e-01\n",
       "rape          1.138625e-03\n",
       "robbery       1.775031e-49\n",
       "dtype: float64"
      ]
     },
     "execution_count": 78,
     "metadata": {},
     "output_type": "execute_result"
    }
   ],
   "source": [
    "lm.pvalues"
   ]
  },
  {
   "cell_type": "code",
   "execution_count": null,
   "metadata": {
    "collapsed": true
   },
   "outputs": [],
   "source": [
    "# take new york\n",
    "# holdout 20%\n",
    "# build the model above\n",
    "# get lm.conf_int()\n",
    "# run the model on the holdout\n",
    "# is it in the range?"
   ]
  }
 ],
 "metadata": {
  "kernelspec": {
   "display_name": "Python [conda root]",
   "language": "python",
   "name": "conda-root-py"
  },
  "language_info": {
   "codemirror_mode": {
    "name": "ipython",
    "version": 3
   },
   "file_extension": ".py",
   "mimetype": "text/x-python",
   "name": "python",
   "nbconvert_exporter": "python",
   "pygments_lexer": "ipython3",
   "version": "3.5.2"
  }
 },
 "nbformat": 4,
 "nbformat_minor": 2
}
