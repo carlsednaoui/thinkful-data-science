{
 "cells": [
  {
   "cell_type": "markdown",
   "metadata": {},
   "source": [
    "For each of the following situations, decide if you would model using a regression or classification model. Discuss your reasoning with your mentor next time you meet.\n",
    "\n",
    "1. The amount a person will spend on a given site in the next 24 months.\n",
    "=> Regression. It deals with money. They can spend $0.\n",
    "\n",
    "2. What color car someone is going to buy.\n",
    "=> Classification. We can consider each car color to be a category.\n",
    "\n",
    "3. How many children a family will have.\n",
    "=> Regression. Some families might decide to have 0 kids.\n",
    "\n",
    "4. If someone will sign up for a service.\n",
    "=> Classification. The two categories are: signs up, does NOT sign up\n",
    "\n",
    "5. The number of times someone will get sick in a year.\n",
    "=> Regression. Some people might not get sick.\n",
    "\n",
    "6. The probability someone will get sick in the next month.\n",
    "=> Regression. You want a specific number!\n",
    "\n",
    "7. Which medicine will work best for a given patient\n",
    "=> Classification"
   ]
  },
  {
   "cell_type": "code",
   "execution_count": null,
   "metadata": {
    "collapsed": true
   },
   "outputs": [],
   "source": []
  }
 ],
 "metadata": {
  "kernelspec": {
   "display_name": "Python [conda root]",
   "language": "python",
   "name": "conda-root-py"
  },
  "language_info": {
   "codemirror_mode": {
    "name": "ipython",
    "version": 3
   },
   "file_extension": ".py",
   "mimetype": "text/x-python",
   "name": "python",
   "nbconvert_exporter": "python",
   "pygments_lexer": "ipython3",
   "version": "3.5.2"
  }
 },
 "nbformat": 4,
 "nbformat_minor": 2
}
