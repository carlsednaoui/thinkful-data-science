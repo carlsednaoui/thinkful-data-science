{
 "cells": [
  {
   "cell_type": "code",
   "execution_count": 2,
   "metadata": {
    "collapsed": true
   },
   "outputs": [],
   "source": [
    "import numpy as np\n",
    "import pandas as pd\n",
    "from scipy import stats\n",
    "\n",
    "from matplotlib import pyplot as plt\n",
    "import seaborn as sns\n",
    "% matplotlib inline"
   ]
  },
  {
   "cell_type": "markdown",
   "metadata": {
    "collapsed": true
   },
   "source": [
    "# Plan of attack\n",
    "\n",
    "* Find an investment property based on 2015 data: Jan 1 - dec 31\n",
    "* \"Invest\" as of Jan 1 2016 and see if our investment held well\n",
    "\n",
    "### Process\n",
    "* Things to look at: start with price to rent as of dec 2015\n",
    "* For the top 50 (lowest ptr) Find which ones had their rent grow the most from Jan 1 - dec 31\n",
    "* Then compare growth of sales price\n",
    "* Do this for one bed and two beds"
   ]
  },
  {
   "cell_type": "code",
   "execution_count": 70,
   "metadata": {
    "collapsed": false
   },
   "outputs": [
    {
     "data": {
      "text/html": [
       "<div>\n",
       "<table border=\"1\" class=\"dataframe\">\n",
       "  <thead>\n",
       "    <tr style=\"text-align: right;\">\n",
       "      <th></th>\n",
       "      <th>RegionID</th>\n",
       "      <th>RegionName</th>\n",
       "      <th>City</th>\n",
       "      <th>State</th>\n",
       "      <th>Metro</th>\n",
       "      <th>CountyName</th>\n",
       "      <th>SizeRank</th>\n",
       "      <th>2010-10</th>\n",
       "      <th>2010-11</th>\n",
       "      <th>2010-12</th>\n",
       "      <th>...</th>\n",
       "      <th>2016-05</th>\n",
       "      <th>2016-06</th>\n",
       "      <th>2016-07</th>\n",
       "      <th>2016-08</th>\n",
       "      <th>2016-09</th>\n",
       "      <th>2016-10</th>\n",
       "      <th>2016-11</th>\n",
       "      <th>2016-12</th>\n",
       "      <th>2017-01</th>\n",
       "      <th>2017-02</th>\n",
       "    </tr>\n",
       "  </thead>\n",
       "  <tbody>\n",
       "    <tr>\n",
       "      <th>0</th>\n",
       "      <td>274772</td>\n",
       "      <td>Northeast Dallas</td>\n",
       "      <td>Dallas</td>\n",
       "      <td>TX</td>\n",
       "      <td>Dallas-Fort Worth</td>\n",
       "      <td>Dallas</td>\n",
       "      <td>1</td>\n",
       "      <td>10.0</td>\n",
       "      <td>9.91</td>\n",
       "      <td>9.73</td>\n",
       "      <td>...</td>\n",
       "      <td>11.72</td>\n",
       "      <td>11.77</td>\n",
       "      <td>12.14</td>\n",
       "      <td>12.17</td>\n",
       "      <td>12.21</td>\n",
       "      <td>12.34</td>\n",
       "      <td>12.54</td>\n",
       "      <td>12.61</td>\n",
       "      <td>12.57</td>\n",
       "      <td>12.64</td>\n",
       "    </tr>\n",
       "  </tbody>\n",
       "</table>\n",
       "<p>1 rows × 84 columns</p>\n",
       "</div>"
      ],
      "text/plain": [
       "   RegionID        RegionName    City State              Metro CountyName  \\\n",
       "0    274772  Northeast Dallas  Dallas    TX  Dallas-Fort Worth     Dallas   \n",
       "\n",
       "   SizeRank  2010-10  2010-11  2010-12   ...     2016-05  2016-06  2016-07  \\\n",
       "0         1     10.0     9.91     9.73   ...       11.72    11.77    12.14   \n",
       "\n",
       "   2016-08  2016-09  2016-10  2016-11  2016-12  2017-01  2017-02  \n",
       "0    12.17    12.21    12.34    12.54    12.61    12.57    12.64  \n",
       "\n",
       "[1 rows x 84 columns]"
      ]
     },
     "execution_count": 70,
     "metadata": {},
     "output_type": "execute_result"
    }
   ],
   "source": [
    "price_to_rent = pd.read_csv('./data/price-to-rent-ratio.csv')\n",
    "price_to_rent.head(1)"
   ]
  },
  {
   "cell_type": "code",
   "execution_count": 35,
   "metadata": {
    "collapsed": false
   },
   "outputs": [
    {
     "data": {
      "text/plain": [
       "(5683, 84)"
      ]
     },
     "execution_count": 35,
     "metadata": {},
     "output_type": "execute_result"
    }
   ],
   "source": [
    "price_to_rent.shape"
   ]
  },
  {
   "cell_type": "code",
   "execution_count": 75,
   "metadata": {
    "collapsed": false
   },
   "outputs": [
    {
     "data": {
      "text/html": [
       "<div>\n",
       "<table border=\"1\" class=\"dataframe\">\n",
       "  <thead>\n",
       "    <tr style=\"text-align: right;\">\n",
       "      <th></th>\n",
       "      <th>2015-01</th>\n",
       "      <th>2015-02</th>\n",
       "      <th>2015-03</th>\n",
       "      <th>2015-04</th>\n",
       "      <th>2015-05</th>\n",
       "      <th>2015-06</th>\n",
       "      <th>2015-07</th>\n",
       "      <th>2015-08</th>\n",
       "      <th>2015-09</th>\n",
       "      <th>2015-10</th>\n",
       "      <th>2015-11</th>\n",
       "      <th>2015-12</th>\n",
       "      <th>State</th>\n",
       "      <th>City</th>\n",
       "      <th>Region</th>\n",
       "    </tr>\n",
       "  </thead>\n",
       "  <tbody>\n",
       "    <tr>\n",
       "      <th>0</th>\n",
       "      <td>10.70</td>\n",
       "      <td>10.81</td>\n",
       "      <td>10.94</td>\n",
       "      <td>10.95</td>\n",
       "      <td>11.09</td>\n",
       "      <td>11.24</td>\n",
       "      <td>11.35</td>\n",
       "      <td>11.37</td>\n",
       "      <td>11.44</td>\n",
       "      <td>11.47</td>\n",
       "      <td>11.52</td>\n",
       "      <td>11.49</td>\n",
       "      <td>TX</td>\n",
       "      <td>Dallas</td>\n",
       "      <td>Northeast Dallas</td>\n",
       "    </tr>\n",
       "    <tr>\n",
       "      <th>1</th>\n",
       "      <td>11.94</td>\n",
       "      <td>12.01</td>\n",
       "      <td>12.09</td>\n",
       "      <td>12.14</td>\n",
       "      <td>12.18</td>\n",
       "      <td>12.18</td>\n",
       "      <td>12.21</td>\n",
       "      <td>12.32</td>\n",
       "      <td>12.52</td>\n",
       "      <td>12.68</td>\n",
       "      <td>12.83</td>\n",
       "      <td>12.85</td>\n",
       "      <td>NV</td>\n",
       "      <td>Las Vegas</td>\n",
       "      <td>Paradise</td>\n",
       "    </tr>\n",
       "    <tr>\n",
       "      <th>2</th>\n",
       "      <td>9.48</td>\n",
       "      <td>9.51</td>\n",
       "      <td>9.57</td>\n",
       "      <td>9.66</td>\n",
       "      <td>9.76</td>\n",
       "      <td>9.80</td>\n",
       "      <td>9.82</td>\n",
       "      <td>9.90</td>\n",
       "      <td>10.10</td>\n",
       "      <td>10.33</td>\n",
       "      <td>10.53</td>\n",
       "      <td>11.06</td>\n",
       "      <td>AZ</td>\n",
       "      <td>Phoenix</td>\n",
       "      <td>Maryvale</td>\n",
       "    </tr>\n",
       "  </tbody>\n",
       "</table>\n",
       "</div>"
      ],
      "text/plain": [
       "   2015-01  2015-02  2015-03  2015-04  2015-05  2015-06  2015-07  2015-08  \\\n",
       "0    10.70    10.81    10.94    10.95    11.09    11.24    11.35    11.37   \n",
       "1    11.94    12.01    12.09    12.14    12.18    12.18    12.21    12.32   \n",
       "2     9.48     9.51     9.57     9.66     9.76     9.80     9.82     9.90   \n",
       "\n",
       "   2015-09  2015-10  2015-11  2015-12 State       City            Region  \n",
       "0    11.44    11.47    11.52    11.49    TX     Dallas  Northeast Dallas  \n",
       "1    12.52    12.68    12.83    12.85    NV  Las Vegas          Paradise  \n",
       "2    10.10    10.33    10.53    11.06    AZ    Phoenix          Maryvale  "
      ]
     },
     "execution_count": 75,
     "metadata": {},
     "output_type": "execute_result"
    }
   ],
   "source": [
    "start_date = '2015-01'\n",
    "end_date = '2015-12'\n",
    "\n",
    "start_i = price_to_rent.columns.get_loc(start_date)\n",
    "end_i = price_to_rent.columns.get_loc(end_date) + 1\n",
    "\n",
    "ptr_for_date = price_to_rent.iloc[:,start_i:end_i]\n",
    "ptr_for_date[\"State\"] = price_to_rent.iloc[:,3]\n",
    "ptr_for_date[\"City\"] = price_to_rent.iloc[:,2]\n",
    "ptr_for_date[\"Region\"] = price_to_rent.iloc[:,1]\n",
    "\n",
    "ptr_for_date.head(3)"
   ]
  },
  {
   "cell_type": "code",
   "execution_count": null,
   "metadata": {
    "collapsed": false
   },
   "outputs": [],
   "source": []
  },
  {
   "cell_type": "code",
   "execution_count": null,
   "metadata": {
    "collapsed": false
   },
   "outputs": [],
   "source": []
  },
  {
   "cell_type": "code",
   "execution_count": null,
   "metadata": {
    "collapsed": true
   },
   "outputs": [],
   "source": []
  },
  {
   "cell_type": "code",
   "execution_count": null,
   "metadata": {
    "collapsed": true
   },
   "outputs": [],
   "source": []
  },
  {
   "cell_type": "code",
   "execution_count": null,
   "metadata": {
    "collapsed": false
   },
   "outputs": [],
   "source": []
  },
  {
   "cell_type": "code",
   "execution_count": null,
   "metadata": {
    "collapsed": false
   },
   "outputs": [],
   "source": []
  },
  {
   "cell_type": "code",
   "execution_count": null,
   "metadata": {
    "collapsed": true
   },
   "outputs": [],
   "source": []
  }
 ],
 "metadata": {
  "anaconda-cloud": {},
  "kernelspec": {
   "display_name": "Python [conda root]",
   "language": "python",
   "name": "conda-root-py"
  },
  "language_info": {
   "codemirror_mode": {
    "name": "ipython",
    "version": 3
   },
   "file_extension": ".py",
   "mimetype": "text/x-python",
   "name": "python",
   "nbconvert_exporter": "python",
   "pygments_lexer": "ipython3",
   "version": "3.5.2"
  }
 },
 "nbformat": 4,
 "nbformat_minor": 1
}
