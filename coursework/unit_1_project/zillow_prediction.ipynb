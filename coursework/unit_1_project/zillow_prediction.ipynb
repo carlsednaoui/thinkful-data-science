{
 "cells": [
  {
   "cell_type": "code",
   "execution_count": 1,
   "metadata": {
    "collapsed": true
   },
   "outputs": [],
   "source": [
    "import numpy as np\n",
    "import pandas as pd\n",
    "from scipy import stats\n",
    "\n",
    "from matplotlib import pyplot as plt\n",
    "import seaborn as sns\n",
    "% matplotlib inline"
   ]
  },
  {
   "cell_type": "markdown",
   "metadata": {
    "collapsed": true
   },
   "source": [
    "# Plan of attack\n",
    "\n",
    "* Find an investment property based on 2015 data: Jan 1 - dec 31\n",
    "* \"Invest\" as of Jan 1 2016 and see if our investment held well\n",
    "\n",
    "### Process\n",
    "* Things to look at: start with price to rent as of dec 2015\n",
    "* For the top 50 (lowest ptr) Find which ones had their rent grow the most from Jan 1 - dec 31\n",
    "* Then compare growth of sales price\n",
    "* Do this for one bed and two beds"
   ]
  },
  {
   "cell_type": "code",
   "execution_count": 2,
   "metadata": {
    "collapsed": false
   },
   "outputs": [
    {
     "data": {
      "text/html": [
       "<div>\n",
       "<table border=\"1\" class=\"dataframe\">\n",
       "  <thead>\n",
       "    <tr style=\"text-align: right;\">\n",
       "      <th></th>\n",
       "      <th>RegionID</th>\n",
       "      <th>RegionName</th>\n",
       "      <th>City</th>\n",
       "      <th>State</th>\n",
       "      <th>Metro</th>\n",
       "      <th>CountyName</th>\n",
       "      <th>SizeRank</th>\n",
       "      <th>2010-10</th>\n",
       "      <th>2010-11</th>\n",
       "      <th>2010-12</th>\n",
       "      <th>...</th>\n",
       "      <th>2016-05</th>\n",
       "      <th>2016-06</th>\n",
       "      <th>2016-07</th>\n",
       "      <th>2016-08</th>\n",
       "      <th>2016-09</th>\n",
       "      <th>2016-10</th>\n",
       "      <th>2016-11</th>\n",
       "      <th>2016-12</th>\n",
       "      <th>2017-01</th>\n",
       "      <th>2017-02</th>\n",
       "    </tr>\n",
       "  </thead>\n",
       "  <tbody>\n",
       "    <tr>\n",
       "      <th>0</th>\n",
       "      <td>274772</td>\n",
       "      <td>Northeast Dallas</td>\n",
       "      <td>Dallas</td>\n",
       "      <td>TX</td>\n",
       "      <td>Dallas-Fort Worth</td>\n",
       "      <td>Dallas</td>\n",
       "      <td>1</td>\n",
       "      <td>10.0</td>\n",
       "      <td>9.91</td>\n",
       "      <td>9.73</td>\n",
       "      <td>...</td>\n",
       "      <td>11.72</td>\n",
       "      <td>11.77</td>\n",
       "      <td>12.14</td>\n",
       "      <td>12.17</td>\n",
       "      <td>12.21</td>\n",
       "      <td>12.34</td>\n",
       "      <td>12.54</td>\n",
       "      <td>12.61</td>\n",
       "      <td>12.57</td>\n",
       "      <td>12.64</td>\n",
       "    </tr>\n",
       "  </tbody>\n",
       "</table>\n",
       "<p>1 rows × 84 columns</p>\n",
       "</div>"
      ],
      "text/plain": [
       "   RegionID        RegionName    City State              Metro CountyName  \\\n",
       "0    274772  Northeast Dallas  Dallas    TX  Dallas-Fort Worth     Dallas   \n",
       "\n",
       "   SizeRank  2010-10  2010-11  2010-12   ...     2016-05  2016-06  2016-07  \\\n",
       "0         1     10.0     9.91     9.73   ...       11.72    11.77    12.14   \n",
       "\n",
       "   2016-08  2016-09  2016-10  2016-11  2016-12  2017-01  2017-02  \n",
       "0    12.17    12.21    12.34    12.54    12.61    12.57    12.64  \n",
       "\n",
       "[1 rows x 84 columns]"
      ]
     },
     "execution_count": 2,
     "metadata": {},
     "output_type": "execute_result"
    }
   ],
   "source": [
    "# All data can be found here https://cl.ly/1p0w0327122j\n",
    "\n",
    "price_to_rent = pd.read_csv('./data/price-to-rent-ratio.csv')\n",
    "price_to_rent.head(1)"
   ]
  },
  {
   "cell_type": "code",
   "execution_count": 3,
   "metadata": {
    "collapsed": false
   },
   "outputs": [
    {
     "data": {
      "text/plain": [
       "(5683, 84)"
      ]
     },
     "execution_count": 3,
     "metadata": {},
     "output_type": "execute_result"
    }
   ],
   "source": [
    "price_to_rent.shape"
   ]
  },
  {
   "cell_type": "code",
   "execution_count": 4,
   "metadata": {
    "collapsed": false
   },
   "outputs": [
    {
     "data": {
      "text/html": [
       "<div>\n",
       "<table border=\"1\" class=\"dataframe\">\n",
       "  <thead>\n",
       "    <tr style=\"text-align: right;\">\n",
       "      <th></th>\n",
       "      <th>State</th>\n",
       "      <th>City</th>\n",
       "      <th>RegionName</th>\n",
       "      <th>2015-12</th>\n",
       "      <th>rank</th>\n",
       "    </tr>\n",
       "  </thead>\n",
       "  <tbody>\n",
       "    <tr>\n",
       "      <th>2621</th>\n",
       "      <td>NY</td>\n",
       "      <td>East Hampton</td>\n",
       "      <td>Springs</td>\n",
       "      <td>2.37</td>\n",
       "      <td>1</td>\n",
       "    </tr>\n",
       "  </tbody>\n",
       "</table>\n",
       "</div>"
      ],
      "text/plain": [
       "     State          City RegionName  2015-12  rank\n",
       "2621    NY  East Hampton    Springs     2.37     1"
      ]
     },
     "execution_count": 4,
     "metadata": {},
     "output_type": "execute_result"
    }
   ],
   "source": [
    "start_date = '2015-01'\n",
    "end_date = '2015-12'\n",
    "\n",
    "start_i = price_to_rent.columns.get_loc(start_date)\n",
    "end_i = price_to_rent.columns.get_loc(end_date)\n",
    "\n",
    "ptr_for_date = price_to_rent.iloc[:, [3,2,1,end_i]]\n",
    "sorted_ptr = ptr_for_date.sort_values(\"2015-12\")\n",
    "sorted_ptr[\"rank\"] = range(1, len(sorted_ptr) + 1)\n",
    "\n",
    "sorted_ptr.head(1)"
   ]
  },
  {
   "cell_type": "code",
   "execution_count": 5,
   "metadata": {
    "collapsed": false
   },
   "outputs": [
    {
     "data": {
      "text/html": [
       "<div>\n",
       "<table border=\"1\" class=\"dataframe\">\n",
       "  <thead>\n",
       "    <tr style=\"text-align: right;\">\n",
       "      <th></th>\n",
       "      <th>RegionName</th>\n",
       "      <th>City</th>\n",
       "      <th>State</th>\n",
       "      <th>Metro</th>\n",
       "      <th>CountyName</th>\n",
       "      <th>SizeRank</th>\n",
       "      <th>2010-02</th>\n",
       "      <th>2010-03</th>\n",
       "      <th>2010-04</th>\n",
       "      <th>2010-05</th>\n",
       "      <th>...</th>\n",
       "      <th>2016-05</th>\n",
       "      <th>2016-06</th>\n",
       "      <th>2016-07</th>\n",
       "      <th>2016-08</th>\n",
       "      <th>2016-09</th>\n",
       "      <th>2016-10</th>\n",
       "      <th>2016-11</th>\n",
       "      <th>2016-12</th>\n",
       "      <th>2017-01</th>\n",
       "      <th>2017-02</th>\n",
       "    </tr>\n",
       "  </thead>\n",
       "  <tbody>\n",
       "    <tr>\n",
       "      <th>0</th>\n",
       "      <td>Northeast Dallas</td>\n",
       "      <td>Dallas</td>\n",
       "      <td>TX</td>\n",
       "      <td>Dallas-Fort Worth</td>\n",
       "      <td>Dallas</td>\n",
       "      <td>1</td>\n",
       "      <td>NaN</td>\n",
       "      <td>NaN</td>\n",
       "      <td>NaN</td>\n",
       "      <td>NaN</td>\n",
       "      <td>...</td>\n",
       "      <td>769.5</td>\n",
       "      <td>806.5</td>\n",
       "      <td>829.0</td>\n",
       "      <td>820.0</td>\n",
       "      <td>835.0</td>\n",
       "      <td>850.0</td>\n",
       "      <td>820.0</td>\n",
       "      <td>899.5</td>\n",
       "      <td>855.0</td>\n",
       "      <td>895.0</td>\n",
       "    </tr>\n",
       "  </tbody>\n",
       "</table>\n",
       "<p>1 rows × 91 columns</p>\n",
       "</div>"
      ],
      "text/plain": [
       "         RegionName    City State              Metro CountyName  SizeRank  \\\n",
       "0  Northeast Dallas  Dallas    TX  Dallas-Fort Worth     Dallas         1   \n",
       "\n",
       "   2010-02  2010-03  2010-04  2010-05   ...     2016-05  2016-06  2016-07  \\\n",
       "0      NaN      NaN      NaN      NaN   ...       769.5    806.5    829.0   \n",
       "\n",
       "   2016-08  2016-09  2016-10  2016-11  2016-12  2017-01  2017-02  \n",
       "0    820.0    835.0    850.0    820.0    899.5    855.0    895.0  \n",
       "\n",
       "[1 rows x 91 columns]"
      ]
     },
     "execution_count": 5,
     "metadata": {},
     "output_type": "execute_result"
    }
   ],
   "source": [
    "# Find rent growth\n",
    "\n",
    "rental_1_room = pd.read_csv(\"./data/rental-1-room.csv\")\n",
    "rental_1_room.head(1)"
   ]
  },
  {
   "cell_type": "code",
   "execution_count": 6,
   "metadata": {
    "collapsed": false
   },
   "outputs": [
    {
     "data": {
      "text/html": [
       "<div>\n",
       "<table border=\"1\" class=\"dataframe\">\n",
       "  <thead>\n",
       "    <tr style=\"text-align: right;\">\n",
       "      <th></th>\n",
       "      <th>RegionName</th>\n",
       "      <th>City</th>\n",
       "      <th>State</th>\n",
       "      <th>Metro</th>\n",
       "      <th>CountyName</th>\n",
       "      <th>SizeRank</th>\n",
       "      <th>2010-02</th>\n",
       "      <th>2010-03</th>\n",
       "      <th>2010-04</th>\n",
       "      <th>2010-05</th>\n",
       "      <th>...</th>\n",
       "      <th>2016-06</th>\n",
       "      <th>2016-07</th>\n",
       "      <th>2016-08</th>\n",
       "      <th>2016-09</th>\n",
       "      <th>2016-10</th>\n",
       "      <th>2016-11</th>\n",
       "      <th>2016-12</th>\n",
       "      <th>2017-01</th>\n",
       "      <th>2017-02</th>\n",
       "      <th>2015_rent_growth</th>\n",
       "    </tr>\n",
       "  </thead>\n",
       "  <tbody>\n",
       "    <tr>\n",
       "      <th>234</th>\n",
       "      <td>Victoria Park</td>\n",
       "      <td>Fort Lauderdale</td>\n",
       "      <td>FL</td>\n",
       "      <td>Miami-Fort Lauderdale</td>\n",
       "      <td>Broward</td>\n",
       "      <td>235</td>\n",
       "      <td>NaN</td>\n",
       "      <td>NaN</td>\n",
       "      <td>NaN</td>\n",
       "      <td>NaN</td>\n",
       "      <td>...</td>\n",
       "      <td>1400.0</td>\n",
       "      <td>1275.0</td>\n",
       "      <td>1350.0</td>\n",
       "      <td>1400.0</td>\n",
       "      <td>1450.0</td>\n",
       "      <td>1300.0</td>\n",
       "      <td>1275.0</td>\n",
       "      <td>1250.0</td>\n",
       "      <td>1350.0</td>\n",
       "      <td>0.3125</td>\n",
       "    </tr>\n",
       "  </tbody>\n",
       "</table>\n",
       "<p>1 rows × 92 columns</p>\n",
       "</div>"
      ],
      "text/plain": [
       "        RegionName             City State                  Metro CountyName  \\\n",
       "234  Victoria Park  Fort Lauderdale    FL  Miami-Fort Lauderdale    Broward   \n",
       "\n",
       "     SizeRank  2010-02  2010-03  2010-04  2010-05        ...         2016-06  \\\n",
       "234       235      NaN      NaN      NaN      NaN        ...          1400.0   \n",
       "\n",
       "     2016-07  2016-08  2016-09  2016-10  2016-11  2016-12  2017-01  2017-02  \\\n",
       "234   1275.0   1350.0   1400.0   1450.0   1300.0   1275.0   1250.0   1350.0   \n",
       "\n",
       "     2015_rent_growth  \n",
       "234            0.3125  \n",
       "\n",
       "[1 rows x 92 columns]"
      ]
     },
     "execution_count": 6,
     "metadata": {},
     "output_type": "execute_result"
    }
   ],
   "source": [
    "rental_1_room[\"2015_rent_growth\"] = \\\n",
    "    (rental_1_room[end_date] - rental_1_room[start_date]) / rental_1_room[start_date]\n",
    "\n",
    "rental_1_sorted = rental_1_room.sort_values(\"2015_rent_growth\", ascending=False)\n",
    "rental_1_sorted.head(1)"
   ]
  },
  {
   "cell_type": "code",
   "execution_count": 7,
   "metadata": {
    "collapsed": false
   },
   "outputs": [
    {
     "data": {
      "text/html": [
       "<div>\n",
       "<table border=\"1\" class=\"dataframe\">\n",
       "  <thead>\n",
       "    <tr style=\"text-align: right;\">\n",
       "      <th></th>\n",
       "      <th>RegionID</th>\n",
       "      <th>RegionName</th>\n",
       "      <th>City</th>\n",
       "      <th>State</th>\n",
       "      <th>Metro</th>\n",
       "      <th>CountyName</th>\n",
       "      <th>SizeRank</th>\n",
       "      <th>1996-04</th>\n",
       "      <th>1996-05</th>\n",
       "      <th>1996-06</th>\n",
       "      <th>...</th>\n",
       "      <th>2016-05</th>\n",
       "      <th>2016-06</th>\n",
       "      <th>2016-07</th>\n",
       "      <th>2016-08</th>\n",
       "      <th>2016-09</th>\n",
       "      <th>2016-10</th>\n",
       "      <th>2016-11</th>\n",
       "      <th>2016-12</th>\n",
       "      <th>2017-01</th>\n",
       "      <th>2017-02</th>\n",
       "    </tr>\n",
       "  </thead>\n",
       "  <tbody>\n",
       "    <tr>\n",
       "      <th>0</th>\n",
       "      <td>270958</td>\n",
       "      <td>Upper West Side</td>\n",
       "      <td>New York</td>\n",
       "      <td>NY</td>\n",
       "      <td>New York</td>\n",
       "      <td>New York</td>\n",
       "      <td>1</td>\n",
       "      <td>NaN</td>\n",
       "      <td>NaN</td>\n",
       "      <td>NaN</td>\n",
       "      <td>...</td>\n",
       "      <td>862500.0</td>\n",
       "      <td>872800</td>\n",
       "      <td>884100</td>\n",
       "      <td>897000</td>\n",
       "      <td>909800</td>\n",
       "      <td>921100</td>\n",
       "      <td>929400</td>\n",
       "      <td>937500</td>\n",
       "      <td>951000</td>\n",
       "      <td>966800</td>\n",
       "    </tr>\n",
       "  </tbody>\n",
       "</table>\n",
       "<p>1 rows × 258 columns</p>\n",
       "</div>"
      ],
      "text/plain": [
       "   RegionID       RegionName      City State     Metro CountyName  SizeRank  \\\n",
       "0    270958  Upper West Side  New York    NY  New York   New York         1   \n",
       "\n",
       "   1996-04  1996-05  1996-06   ...      2016-05  2016-06  2016-07  2016-08  \\\n",
       "0      NaN      NaN      NaN   ...     862500.0   872800   884100   897000   \n",
       "\n",
       "   2016-09  2016-10  2016-11  2016-12  2017-01  2017-02  \n",
       "0   909800   921100   929400   937500   951000   966800  \n",
       "\n",
       "[1 rows x 258 columns]"
      ]
     },
     "execution_count": 7,
     "metadata": {},
     "output_type": "execute_result"
    }
   ],
   "source": [
    "purchase_1_room = pd.read_csv(\"./data/purchase-data/purchase/Neighborhood_Zhvi_1bedroom.csv\")\n",
    "purchase_1_room.head(1)"
   ]
  },
  {
   "cell_type": "code",
   "execution_count": 8,
   "metadata": {
    "collapsed": false
   },
   "outputs": [
    {
     "data": {
      "text/html": [
       "<div>\n",
       "<table border=\"1\" class=\"dataframe\">\n",
       "  <thead>\n",
       "    <tr style=\"text-align: right;\">\n",
       "      <th></th>\n",
       "      <th>RegionID</th>\n",
       "      <th>RegionName</th>\n",
       "      <th>City</th>\n",
       "      <th>State</th>\n",
       "      <th>Metro</th>\n",
       "      <th>CountyName</th>\n",
       "      <th>SizeRank</th>\n",
       "      <th>1996-04</th>\n",
       "      <th>1996-05</th>\n",
       "      <th>1996-06</th>\n",
       "      <th>...</th>\n",
       "      <th>2016-06</th>\n",
       "      <th>2016-07</th>\n",
       "      <th>2016-08</th>\n",
       "      <th>2016-09</th>\n",
       "      <th>2016-10</th>\n",
       "      <th>2016-11</th>\n",
       "      <th>2016-12</th>\n",
       "      <th>2017-01</th>\n",
       "      <th>2017-02</th>\n",
       "      <th>2015_purchase_growth</th>\n",
       "    </tr>\n",
       "  </thead>\n",
       "  <tbody>\n",
       "    <tr>\n",
       "      <th>518</th>\n",
       "      <td>268614</td>\n",
       "      <td>Barnum</td>\n",
       "      <td>Denver</td>\n",
       "      <td>CO</td>\n",
       "      <td>Denver</td>\n",
       "      <td>Denver</td>\n",
       "      <td>519</td>\n",
       "      <td>49900.0</td>\n",
       "      <td>50900.0</td>\n",
       "      <td>52000.0</td>\n",
       "      <td>...</td>\n",
       "      <td>185300</td>\n",
       "      <td>186200</td>\n",
       "      <td>186200</td>\n",
       "      <td>188600</td>\n",
       "      <td>192400</td>\n",
       "      <td>196200</td>\n",
       "      <td>201000</td>\n",
       "      <td>207500</td>\n",
       "      <td>212800</td>\n",
       "      <td>0.307862</td>\n",
       "    </tr>\n",
       "  </tbody>\n",
       "</table>\n",
       "<p>1 rows × 259 columns</p>\n",
       "</div>"
      ],
      "text/plain": [
       "     RegionID RegionName    City State   Metro CountyName  SizeRank  1996-04  \\\n",
       "518    268614     Barnum  Denver    CO  Denver     Denver       519  49900.0   \n",
       "\n",
       "     1996-05  1996-06          ...           2016-06  2016-07  2016-08  \\\n",
       "518  50900.0  52000.0          ...            185300   186200   186200   \n",
       "\n",
       "     2016-09  2016-10  2016-11  2016-12  2017-01  2017-02  \\\n",
       "518   188600   192400   196200   201000   207500   212800   \n",
       "\n",
       "     2015_purchase_growth  \n",
       "518              0.307862  \n",
       "\n",
       "[1 rows x 259 columns]"
      ]
     },
     "execution_count": 8,
     "metadata": {},
     "output_type": "execute_result"
    }
   ],
   "source": [
    "purchase_1_room[\"2015_purchase_growth\"] = \\\n",
    "    (purchase_1_room[end_date] - purchase_1_room[start_date]) / purchase_1_room[start_date]\n",
    "\n",
    "purchase_1_sorted = purchase_1_room.sort_values(\"2015_purchase_growth\", ascending=False)\n",
    "purchase_1_sorted.head(1)"
   ]
  },
  {
   "cell_type": "code",
   "execution_count": 9,
   "metadata": {
    "collapsed": false
   },
   "outputs": [
    {
     "data": {
      "text/html": [
       "<div>\n",
       "<table border=\"1\" class=\"dataframe\">\n",
       "  <thead>\n",
       "    <tr style=\"text-align: right;\">\n",
       "      <th></th>\n",
       "      <th>State</th>\n",
       "      <th>City</th>\n",
       "      <th>RegionName</th>\n",
       "      <th>rank</th>\n",
       "      <th>2015_rent_growth</th>\n",
       "      <th>2015_purchase_growth</th>\n",
       "    </tr>\n",
       "  </thead>\n",
       "  <tbody>\n",
       "    <tr>\n",
       "      <th>0</th>\n",
       "      <td>TX</td>\n",
       "      <td>Dallas</td>\n",
       "      <td>Northeast Dallas</td>\n",
       "      <td>2660</td>\n",
       "      <td>-0.099545</td>\n",
       "      <td>0.027918</td>\n",
       "    </tr>\n",
       "    <tr>\n",
       "      <th>1</th>\n",
       "      <td>NV</td>\n",
       "      <td>Las Vegas</td>\n",
       "      <td>Paradise</td>\n",
       "      <td>3257</td>\n",
       "      <td>0.213846</td>\n",
       "      <td>0.063941</td>\n",
       "    </tr>\n",
       "    <tr>\n",
       "      <th>2</th>\n",
       "      <td>AZ</td>\n",
       "      <td>Phoenix</td>\n",
       "      <td>Maryvale</td>\n",
       "      <td>2427</td>\n",
       "      <td>0.003241</td>\n",
       "      <td>0.119200</td>\n",
       "    </tr>\n",
       "  </tbody>\n",
       "</table>\n",
       "</div>"
      ],
      "text/plain": [
       "  State       City        RegionName  rank  2015_rent_growth  \\\n",
       "0    TX     Dallas  Northeast Dallas  2660         -0.099545   \n",
       "1    NV  Las Vegas          Paradise  3257          0.213846   \n",
       "2    AZ    Phoenix          Maryvale  2427          0.003241   \n",
       "\n",
       "   2015_purchase_growth  \n",
       "0              0.027918  \n",
       "1              0.063941  \n",
       "2              0.119200  "
      ]
     },
     "execution_count": 9,
     "metadata": {},
     "output_type": "execute_result"
    }
   ],
   "source": [
    "purchase_score = pd.concat([sorted_ptr[\"State\"], sorted_ptr[\"City\"], sorted_ptr[\"RegionName\"], sorted_ptr[\"rank\"], rental_1_sorted[\"2015_rent_growth\"], purchase_1_sorted[\"2015_purchase_growth\"]], axis=1)\n",
    "purchase_score = purchase_score.dropna()\n",
    "purchase_score.head(3)"
   ]
  },
  {
   "cell_type": "code",
   "execution_count": 10,
   "metadata": {
    "collapsed": false
   },
   "outputs": [
    {
     "data": {
      "text/html": [
       "<div>\n",
       "<table border=\"1\" class=\"dataframe\">\n",
       "  <thead>\n",
       "    <tr style=\"text-align: right;\">\n",
       "      <th></th>\n",
       "      <th>State</th>\n",
       "      <th>City</th>\n",
       "      <th>RegionName</th>\n",
       "      <th>rank</th>\n",
       "      <th>2015_rent_growth</th>\n",
       "      <th>2015_purchase_growth</th>\n",
       "      <th>score</th>\n",
       "    </tr>\n",
       "  </thead>\n",
       "  <tbody>\n",
       "    <tr>\n",
       "      <th>59</th>\n",
       "      <td>CA</td>\n",
       "      <td>Los Angeles</td>\n",
       "      <td>Sylmar</td>\n",
       "      <td>4164</td>\n",
       "      <td>0.304348</td>\n",
       "      <td>0.113708</td>\n",
       "      <td>0.114166</td>\n",
       "    </tr>\n",
       "    <tr>\n",
       "      <th>208</th>\n",
       "      <td>CA</td>\n",
       "      <td>Eastvale</td>\n",
       "      <td>Corona Valley</td>\n",
       "      <td>4684</td>\n",
       "      <td>0.250625</td>\n",
       "      <td>0.184127</td>\n",
       "      <td>0.112120</td>\n",
       "    </tr>\n",
       "    <tr>\n",
       "      <th>234</th>\n",
       "      <td>CO</td>\n",
       "      <td>Colorado Springs</td>\n",
       "      <td>Southwest Colorado Springs</td>\n",
       "      <td>4211</td>\n",
       "      <td>0.312500</td>\n",
       "      <td>0.082327</td>\n",
       "      <td>0.110334</td>\n",
       "    </tr>\n",
       "    <tr>\n",
       "      <th>196</th>\n",
       "      <td>CA</td>\n",
       "      <td>Los Angeles</td>\n",
       "      <td>Watts</td>\n",
       "      <td>2908</td>\n",
       "      <td>0.234168</td>\n",
       "      <td>0.154787</td>\n",
       "      <td>0.101380</td>\n",
       "    </tr>\n",
       "    <tr>\n",
       "      <th>58</th>\n",
       "      <td>CA</td>\n",
       "      <td>San Jose</td>\n",
       "      <td>Evergreen</td>\n",
       "      <td>5309</td>\n",
       "      <td>0.156250</td>\n",
       "      <td>0.218795</td>\n",
       "      <td>0.090728</td>\n",
       "    </tr>\n",
       "    <tr>\n",
       "      <th>248</th>\n",
       "      <td>CA</td>\n",
       "      <td>Fresno</td>\n",
       "      <td>West</td>\n",
       "      <td>3245</td>\n",
       "      <td>0.200000</td>\n",
       "      <td>0.135684</td>\n",
       "      <td>0.087291</td>\n",
       "    </tr>\n",
       "    <tr>\n",
       "      <th>73</th>\n",
       "      <td>NY</td>\n",
       "      <td>New York</td>\n",
       "      <td>Far Rockaway</td>\n",
       "      <td>4011</td>\n",
       "      <td>0.166922</td>\n",
       "      <td>0.168928</td>\n",
       "      <td>0.083987</td>\n",
       "    </tr>\n",
       "    <tr>\n",
       "      <th>185</th>\n",
       "      <td>CA</td>\n",
       "      <td>Los Angeles</td>\n",
       "      <td>Mar Vista</td>\n",
       "      <td>5472</td>\n",
       "      <td>0.105263</td>\n",
       "      <td>0.258837</td>\n",
       "      <td>0.083438</td>\n",
       "    </tr>\n",
       "    <tr>\n",
       "      <th>256</th>\n",
       "      <td>PA</td>\n",
       "      <td>Philadelphia</td>\n",
       "      <td>Bustleton</td>\n",
       "      <td>2777</td>\n",
       "      <td>0.226931</td>\n",
       "      <td>0.064570</td>\n",
       "      <td>0.081173</td>\n",
       "    </tr>\n",
       "    <tr>\n",
       "      <th>1</th>\n",
       "      <td>NV</td>\n",
       "      <td>Las Vegas</td>\n",
       "      <td>Paradise</td>\n",
       "      <td>3257</td>\n",
       "      <td>0.213846</td>\n",
       "      <td>0.063941</td>\n",
       "      <td>0.077096</td>\n",
       "    </tr>\n",
       "  </tbody>\n",
       "</table>\n",
       "</div>"
      ],
      "text/plain": [
       "    State              City                  RegionName  rank  \\\n",
       "59     CA       Los Angeles                      Sylmar  4164   \n",
       "208    CA          Eastvale               Corona Valley  4684   \n",
       "234    CO  Colorado Springs  Southwest Colorado Springs  4211   \n",
       "196    CA       Los Angeles                       Watts  2908   \n",
       "58     CA          San Jose                   Evergreen  5309   \n",
       "248    CA            Fresno                        West  3245   \n",
       "73     NY          New York                Far Rockaway  4011   \n",
       "185    CA       Los Angeles                   Mar Vista  5472   \n",
       "256    PA      Philadelphia                   Bustleton  2777   \n",
       "1      NV         Las Vegas                    Paradise  3257   \n",
       "\n",
       "     2015_rent_growth  2015_purchase_growth     score  \n",
       "59           0.304348              0.113708  0.114166  \n",
       "208          0.250625              0.184127  0.112120  \n",
       "234          0.312500              0.082327  0.110334  \n",
       "196          0.234168              0.154787  0.101380  \n",
       "58           0.156250              0.218795  0.090728  \n",
       "248          0.200000              0.135684  0.087291  \n",
       "73           0.166922              0.168928  0.083987  \n",
       "185          0.105263              0.258837  0.083438  \n",
       "256          0.226931              0.064570  0.081173  \n",
       "1            0.213846              0.063941  0.077096  "
      ]
     },
     "execution_count": 10,
     "metadata": {},
     "output_type": "execute_result"
    }
   ],
   "source": [
    "ptr = .5\n",
    "rent_growth = .3\n",
    "purchase_growth = .2\n",
    "\n",
    "purchase_score[\"score\"] = (1 / purchase_score[\"rank\"] * ptr) + \\\n",
    "   (purchase_score[\"2015_rent_growth\"] * rent_growth) + (purchase_score[\"2015_purchase_growth\"] * purchase_growth)\n",
    "purchase_score.sort_values(\"score\", ascending=False).head(10)\n",
    "\n",
    "\n",
    "# Data to consider for future iterations: population growth, population density, occupancy rate, avg building year (lots of new construction can add supply putting downward pressure on price)\n",
    "# Do prices rise after a construction glut, or do they stay leveled"
   ]
  },
  {
   "cell_type": "code",
   "execution_count": 16,
   "metadata": {
    "collapsed": false
   },
   "outputs": [],
   "source": [
    "rental_1_room = pd.read_csv(\"./data/rental-1-room.csv\")\n",
    "start_date = '2015-01'\n",
    "end_date = '2015-12'\n",
    "start_i = rental_1_room.columns.get_loc(start_date)\n",
    "end_i = rental_1_room.columns.get_loc(end_date) + 1\n",
    "\n",
    "rental_1_sorted_date = rental_1_room.iloc[:, [3,2,1,end_i]]\n",
    "\n",
    "rental_1_sorted_date = rental_1_room.iloc[:,start_i:end_i]\n",
    "rental_1_sorted_date[\"State\"] = rental_1_room.iloc[:,2]\n",
    "grouped_rental = rental_1_sorted_date.groupby(\"State\").mean()\n",
    "\n",
    "grouped_rental.rename(columns={\n",
    "        '2015-01': '01',\n",
    "        '2015-02': '02',\n",
    "        '2015-03': '03',\n",
    "        '2015-04': '04',\n",
    "        '2015-05': '05',\n",
    "        '2015-06': '06',\n",
    "        '2015-07': '07',\n",
    "        '2015-08': '08',\n",
    "        '2015-09': '09',\n",
    "        '2015-10': '10',\n",
    "        '2015-11': '11',\n",
    "        '2015-12': '12',\n",
    "    }, inplace=True)\n",
    "\n",
    "rental_transposed = grouped_rental.T\n"
   ]
  },
  {
   "cell_type": "code",
   "execution_count": 25,
   "metadata": {
    "collapsed": false
   },
   "outputs": [
    {
     "name": "stdout",
     "output_type": "stream",
     "text": [
      "['NC', 'MA', 'TN', 'OR', 'PA', 'HI', 'CO', 'AZ', 'WA', 'MD', 'IN', 'NJ', 'MN', 'NY', 'DC', 'VA', 'GA', 'IL', 'TX', 'FL', 'CT', 'NV', 'CA']\n"
     ]
    },
    {
     "data": {
      "image/png": "[encoded data removed]",
      "text/plain": [
       "<matplotlib.figure.Figure at 0x116f28048>"
      ]
     },
     "metadata": {},
     "output_type": "display_data"
    }
   ],
   "source": [
    "import seaborn as sns; sns.set(color_codes=True)\n",
    "\n",
    "rental_transposed['month'] = range(1,13)\n",
    "states = { s for s in rental_1_sorted_date['State'] } # the braces guarantee that you only get one of each value\n",
    "states = list(states) # you can't index a set, you can only index a list\n",
    "\n",
    "i = 0\n",
    "f, axes = plt.subplots(8, 3, sharey=True, figsize=(18, 16))\n",
    "\n",
    "for row in axes:\n",
    "    for col in row:\n",
    "        if i < len(states):\n",
    "            sns.regplot(x='month', y=states[i], data=rental_transposed, ax=col)\n",
    "            i+=1"
   ]
  },
  {
   "cell_type": "markdown",
   "metadata": {
    "collapsed": false
   },
   "source": [
    "## Questions\n",
    "\n",
    "- How should one deal with dropna()? Right now we're losing a lot of data. This is bc one of our data sets is small.\n",
    "- How can we do the seaborn graph? http://seaborn.pydata.org/generated/seaborn.regplot.html\n",
    "- How should we assess the results?\n",
    "\n",
    "\n",
    "goal = score\n",
    "  - ptr = 40%\n",
    "  - how much rent grew = 40%\n",
    "  - sales price growth = 20%\n",
    "\n",
    "this is reasonable but arbitrary\n",
    "\n",
    "- use seaborn for a regression plot (http://seaborn.pydata.org/generated/seaborn.regplot.html)\n",
    "  - plot the key metrics: rent growth, sales growth\n",
    "  - use that to inform the weight  \n",
    "  - focus on 2015. each month is a data point (x axis)\n",
    "  - you'll end up with 1 graph per state\n",
    "  ```int(re.sub(month_name, '-', ''))``` => turn month names into integers and make that the index (or just take the month ```int(.str.plit(\"-\"))```\n",
    "  \n",
    "- Create a scoring function where we can change the weights and re-calculate based on it"
   ]
  },
  {
   "cell_type": "code",
   "execution_count": null,
   "metadata": {
    "collapsed": false
   },
   "outputs": [],
   "source": [
    "# How 100% sure how to assess the results\n",
    "\n",
    "start_date = '2016-01'\n",
    "end_date = '2016-12'\n",
    "\n",
    "rental_1_room = pd.read_csv(\"./data/rental-1-room.csv\")\n",
    "rental_1_room[\"2016_rent_growth\"] = \\\n",
    "    (rental_1_room[end_date] - rental_1_room[start_date]) / rental_1_room[start_date]\n",
    "\n",
    "purchase_1_room = pd.read_csv(\"./data/purchase-data/purchase/Neighborhood_Zhvi_1bedroom.csv\")\n",
    "purchase_1_room[\"2016_purchase_growth\"] = \\\n",
    "    (purchase_1_room[end_date] - purchase_1_room[start_date]) / purchase_1_room[start_date]\n",
    "    \n",
    "purchase_score = pd.concat([rental_1_room[\"State\"], rental_1_room[\"City\"], rental_1_room[\"RegionName\"], rental_1_room[\"2016_rent_growth\"], purchase_1_room[\"2016_purchase_growth\"]], axis=1)\n",
    "purchase_score = purchase_score.dropna()\n",
    "\n",
    "rent_growth = .5\n",
    "sales_growth = .5\n",
    "\n",
    "purchase_score[\"score\"] = (purchase_score[\"2016_rent_growth\"] * rent_growth) + (purchase_score[\"2016_purchase_growth\"] * sales_growth)\n",
    "purchase_score.sort_values(\"score\", ascending=False).head(10)"
   ]
  },
  {
   "cell_type": "code",
   "execution_count": null,
   "metadata": {
    "collapsed": false
   },
   "outputs": [],
   "source": []
  },
  {
   "cell_type": "code",
   "execution_count": null,
   "metadata": {
    "collapsed": true
   },
   "outputs": [],
   "source": []
  }
 ],
 "metadata": {
  "anaconda-cloud": {},
  "kernelspec": {
   "display_name": "Python [conda root]",
   "language": "python",
   "name": "conda-root-py"
  },
  "language_info": {
   "codemirror_mode": {
    "name": "ipython",
    "version": 3
   },
   "file_extension": ".py",
   "mimetype": "text/x-python",
   "name": "python",
   "nbconvert_exporter": "python",
   "pygments_lexer": "ipython3",
   "version": "3.5.2"
  }
 },
 "nbformat": 4,
 "nbformat_minor": 1
}
