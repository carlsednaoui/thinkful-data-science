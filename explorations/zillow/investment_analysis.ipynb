{
 "cells": [
  {
   "cell_type": "code",
   "execution_count": 54,
   "metadata": {
    "collapsed": true
   },
   "outputs": [],
   "source": [
    "import pandas as pd\n",
    "import numpy as np\n",
    "import matplotlib.pyplot as plt\n",
    "from IPython.display import display"
   ]
  },
  {
   "cell_type": "code",
   "execution_count": 151,
   "metadata": {
    "collapsed": false
   },
   "outputs": [],
   "source": [
    "# Load our data\n",
    "ptr = pd.read_csv('./data/Zip_PriceToRentRatio_AllHomes.csv')\n",
    "zillow = pd.read_csv('./data/Zip_Zhvi_Summary_AllHomes.csv')\n",
    "three_bed_buy = pd.read_csv('./data/Zip_Zhvi_3bedroom.csv')\n",
    "three_bed_rent = pd.read_csv('./data/Zip_MedianRentalPrice_3Bedroom.csv')"
   ]
  },
  {
   "cell_type": "code",
   "execution_count": 61,
   "metadata": {
    "collapsed": false
   },
   "outputs": [
    {
     "name": "stdout",
     "output_type": "stream",
     "text": [
      "*****\n",
      "Price to rent\n"
     ]
    },
    {
     "data": {
      "text/html": [
       "<div>\n",
       "<table border=\"1\" class=\"dataframe\">\n",
       "  <thead>\n",
       "    <tr style=\"text-align: right;\">\n",
       "      <th></th>\n",
       "      <th>RegionID</th>\n",
       "      <th>RegionName</th>\n",
       "      <th>City</th>\n",
       "      <th>State</th>\n",
       "      <th>Metro</th>\n",
       "      <th>CountyName</th>\n",
       "      <th>SizeRank</th>\n",
       "      <th>2010-10</th>\n",
       "      <th>2010-11</th>\n",
       "      <th>2010-12</th>\n",
       "      <th>...</th>\n",
       "      <th>2016-09</th>\n",
       "      <th>2016-10</th>\n",
       "      <th>2016-11</th>\n",
       "      <th>2016-12</th>\n",
       "      <th>2017-01</th>\n",
       "      <th>2017-02</th>\n",
       "      <th>2017-03</th>\n",
       "      <th>2017-04</th>\n",
       "      <th>2017-05</th>\n",
       "      <th>2017-06</th>\n",
       "    </tr>\n",
       "  </thead>\n",
       "  <tbody>\n",
       "    <tr>\n",
       "      <th>1</th>\n",
       "      <td>84654</td>\n",
       "      <td>60657</td>\n",
       "      <td>Chicago</td>\n",
       "      <td>IL</td>\n",
       "      <td>Chicago</td>\n",
       "      <td>Cook</td>\n",
       "      <td>2</td>\n",
       "      <td>13.27</td>\n",
       "      <td>13.2</td>\n",
       "      <td>13.2</td>\n",
       "      <td>...</td>\n",
       "      <td>12.4</td>\n",
       "      <td>12.52</td>\n",
       "      <td>12.68</td>\n",
       "      <td>12.85</td>\n",
       "      <td>12.99</td>\n",
       "      <td>13.07</td>\n",
       "      <td>13.15</td>\n",
       "      <td>13.23</td>\n",
       "      <td>13.17</td>\n",
       "      <td>13.01</td>\n",
       "    </tr>\n",
       "  </tbody>\n",
       "</table>\n",
       "<p>1 rows × 88 columns</p>\n",
       "</div>"
      ],
      "text/plain": [
       "   RegionID  RegionName     City State    Metro CountyName  SizeRank  2010-10  \\\n",
       "1     84654       60657  Chicago    IL  Chicago       Cook         2    13.27   \n",
       "\n",
       "   2010-11  2010-12   ...     2016-09  2016-10  2016-11  2016-12  2017-01  \\\n",
       "1     13.2     13.2   ...        12.4    12.52    12.68    12.85    12.99   \n",
       "\n",
       "   2017-02  2017-03  2017-04  2017-05  2017-06  \n",
       "1    13.07    13.15    13.23    13.17    13.01  \n",
       "\n",
       "[1 rows x 88 columns]"
      ]
     },
     "metadata": {},
     "output_type": "display_data"
    },
    {
     "name": "stdout",
     "output_type": "stream",
     "text": [
      "*****\n",
      "Zillow\n"
     ]
    },
    {
     "data": {
      "text/html": [
       "<div>\n",
       "<table border=\"1\" class=\"dataframe\">\n",
       "  <thead>\n",
       "    <tr style=\"text-align: right;\">\n",
       "      <th></th>\n",
       "      <th>Date</th>\n",
       "      <th>RegionID</th>\n",
       "      <th>RegionName</th>\n",
       "      <th>State</th>\n",
       "      <th>Metro</th>\n",
       "      <th>County</th>\n",
       "      <th>City</th>\n",
       "      <th>SizeRank</th>\n",
       "      <th>Zhvi</th>\n",
       "      <th>MoM</th>\n",
       "      <th>QoQ</th>\n",
       "      <th>YoY</th>\n",
       "      <th>5Year</th>\n",
       "      <th>10Year</th>\n",
       "      <th>PeakMonth</th>\n",
       "      <th>PeakQuarter</th>\n",
       "      <th>PeakZHVI</th>\n",
       "      <th>PctFallFromPeak</th>\n",
       "      <th>LastTimeAtCurrZHVI</th>\n",
       "    </tr>\n",
       "  </thead>\n",
       "  <tbody>\n",
       "    <tr>\n",
       "      <th>1</th>\n",
       "      <td>2017-06-30</td>\n",
       "      <td>84654</td>\n",
       "      <td>60657</td>\n",
       "      <td>IL</td>\n",
       "      <td>Chicago</td>\n",
       "      <td>Cook</td>\n",
       "      <td>Chicago</td>\n",
       "      <td>1</td>\n",
       "      <td>329100</td>\n",
       "      <td>0.003966</td>\n",
       "      <td>0.016368</td>\n",
       "      <td>0.036535</td>\n",
       "      <td>0.045942</td>\n",
       "      <td>0.002339</td>\n",
       "      <td>2017-06</td>\n",
       "      <td>2017-Q2</td>\n",
       "      <td>329100</td>\n",
       "      <td>0.0</td>\n",
       "      <td>2017-06</td>\n",
       "    </tr>\n",
       "  </tbody>\n",
       "</table>\n",
       "</div>"
      ],
      "text/plain": [
       "         Date  RegionID  RegionName State    Metro County     City  SizeRank  \\\n",
       "1  2017-06-30     84654       60657    IL  Chicago   Cook  Chicago         1   \n",
       "\n",
       "     Zhvi       MoM       QoQ       YoY     5Year    10Year PeakMonth  \\\n",
       "1  329100  0.003966  0.016368  0.036535  0.045942  0.002339   2017-06   \n",
       "\n",
       "  PeakQuarter  PeakZHVI  PctFallFromPeak LastTimeAtCurrZHVI  \n",
       "1     2017-Q2    329100              0.0            2017-06  "
      ]
     },
     "metadata": {},
     "output_type": "display_data"
    },
    {
     "name": "stdout",
     "output_type": "stream",
     "text": [
      "*****\n",
      "3 bed buy\n"
     ]
    },
    {
     "data": {
      "text/html": [
       "<div>\n",
       "<table border=\"1\" class=\"dataframe\">\n",
       "  <thead>\n",
       "    <tr style=\"text-align: right;\">\n",
       "      <th></th>\n",
       "      <th>RegionID</th>\n",
       "      <th>RegionName</th>\n",
       "      <th>City</th>\n",
       "      <th>State</th>\n",
       "      <th>Metro</th>\n",
       "      <th>CountyName</th>\n",
       "      <th>SizeRank</th>\n",
       "      <th>1996-04</th>\n",
       "      <th>1996-05</th>\n",
       "      <th>1996-06</th>\n",
       "      <th>...</th>\n",
       "      <th>2016-09</th>\n",
       "      <th>2016-10</th>\n",
       "      <th>2016-11</th>\n",
       "      <th>2016-12</th>\n",
       "      <th>2017-01</th>\n",
       "      <th>2017-02</th>\n",
       "      <th>2017-03</th>\n",
       "      <th>2017-04</th>\n",
       "      <th>2017-05</th>\n",
       "      <th>2017-06</th>\n",
       "    </tr>\n",
       "  </thead>\n",
       "  <tbody>\n",
       "    <tr>\n",
       "      <th>1</th>\n",
       "      <td>84654</td>\n",
       "      <td>60657</td>\n",
       "      <td>Chicago</td>\n",
       "      <td>IL</td>\n",
       "      <td>Chicago</td>\n",
       "      <td>Cook</td>\n",
       "      <td>2</td>\n",
       "      <td>254500.0</td>\n",
       "      <td>255300.0</td>\n",
       "      <td>257700.0</td>\n",
       "      <td>...</td>\n",
       "      <td>553500</td>\n",
       "      <td>556000</td>\n",
       "      <td>557600</td>\n",
       "      <td>559400.0</td>\n",
       "      <td>562300</td>\n",
       "      <td>565200</td>\n",
       "      <td>565800</td>\n",
       "      <td>566700</td>\n",
       "      <td>568900</td>\n",
       "      <td>570600</td>\n",
       "    </tr>\n",
       "  </tbody>\n",
       "</table>\n",
       "<p>1 rows × 262 columns</p>\n",
       "</div>"
      ],
      "text/plain": [
       "   RegionID  RegionName     City State    Metro CountyName  SizeRank  \\\n",
       "1     84654       60657  Chicago    IL  Chicago       Cook         2   \n",
       "\n",
       "    1996-04   1996-05   1996-06   ...     2016-09  2016-10  2016-11   2016-12  \\\n",
       "1  254500.0  255300.0  257700.0   ...      553500   556000   557600  559400.0   \n",
       "\n",
       "   2017-01  2017-02  2017-03  2017-04  2017-05  2017-06  \n",
       "1   562300   565200   565800   566700   568900   570600  \n",
       "\n",
       "[1 rows x 262 columns]"
      ]
     },
     "metadata": {},
     "output_type": "display_data"
    },
    {
     "name": "stdout",
     "output_type": "stream",
     "text": [
      "*****\n",
      "3 bed rent\n"
     ]
    },
    {
     "data": {
      "text/html": [
       "<div>\n",
       "<table border=\"1\" class=\"dataframe\">\n",
       "  <thead>\n",
       "    <tr style=\"text-align: right;\">\n",
       "      <th></th>\n",
       "      <th>RegionName</th>\n",
       "      <th>City</th>\n",
       "      <th>State</th>\n",
       "      <th>Metro</th>\n",
       "      <th>CountyName</th>\n",
       "      <th>SizeRank</th>\n",
       "      <th>2010-03</th>\n",
       "      <th>2010-04</th>\n",
       "      <th>2010-05</th>\n",
       "      <th>2010-06</th>\n",
       "      <th>...</th>\n",
       "      <th>2016-09</th>\n",
       "      <th>2016-10</th>\n",
       "      <th>2016-11</th>\n",
       "      <th>2016-12</th>\n",
       "      <th>2017-01</th>\n",
       "      <th>2017-02</th>\n",
       "      <th>2017-03</th>\n",
       "      <th>2017-04</th>\n",
       "      <th>2017-05</th>\n",
       "      <th>2017-06</th>\n",
       "    </tr>\n",
       "  </thead>\n",
       "  <tbody>\n",
       "    <tr>\n",
       "      <th>1</th>\n",
       "      <td>60657</td>\n",
       "      <td>Chicago</td>\n",
       "      <td>IL</td>\n",
       "      <td>Chicago</td>\n",
       "      <td>Cook</td>\n",
       "      <td>2</td>\n",
       "      <td>NaN</td>\n",
       "      <td>NaN</td>\n",
       "      <td>NaN</td>\n",
       "      <td>NaN</td>\n",
       "      <td>...</td>\n",
       "      <td>2600.0</td>\n",
       "      <td>2550.0</td>\n",
       "      <td>2467.0</td>\n",
       "      <td>2595.0</td>\n",
       "      <td>2500.0</td>\n",
       "      <td>2580.0</td>\n",
       "      <td>2695.0</td>\n",
       "      <td>2645.0</td>\n",
       "      <td>2700.0</td>\n",
       "      <td>2700.0</td>\n",
       "    </tr>\n",
       "  </tbody>\n",
       "</table>\n",
       "<p>1 rows × 94 columns</p>\n",
       "</div>"
      ],
      "text/plain": [
       "   RegionName     City State    Metro CountyName  SizeRank  2010-03  2010-04  \\\n",
       "1       60657  Chicago    IL  Chicago       Cook         2      NaN      NaN   \n",
       "\n",
       "   2010-05  2010-06   ...     2016-09  2016-10  2016-11  2016-12  2017-01  \\\n",
       "1      NaN      NaN   ...      2600.0   2550.0   2467.0   2595.0   2500.0   \n",
       "\n",
       "   2017-02  2017-03  2017-04  2017-05  2017-06  \n",
       "1   2580.0   2695.0   2645.0   2700.0   2700.0  \n",
       "\n",
       "[1 rows x 94 columns]"
      ]
     },
     "metadata": {},
     "output_type": "display_data"
    }
   ],
   "source": [
    "REGION = 60657\n",
    "print(\"*****\\nPrice to rent\")\n",
    "display(ptr[ptr.RegionName == REGION])\n",
    "print(\"*****\\nZillow\")\n",
    "display(zillow[zillow.RegionName == REGION])\n",
    "print(\"*****\\n3 bed buy\")\n",
    "display(three_bed_buy[three_bed_buy.RegionName == REGION])\n",
    "print(\"*****\\n3 bed rent\")\n",
    "display(three_bed_rent[three_bed_rent.RegionName == REGION])"
   ]
  },
  {
   "cell_type": "code",
   "execution_count": 161,
   "metadata": {
    "collapsed": true
   },
   "outputs": [],
   "source": [
    "# Select the columns we want\n",
    "zillow_columns = pd.DataFrame({'RegionName': zillow['RegionName'], 'YOY': zillow['YoY'], '5Year': zillow['5Year'], '10Year': zillow['10Year']})\n",
    "three_bed_buy_columns = pd.DataFrame({'RegionName': three_bed_buy['RegionName'], 'three_bed_buy': three_bed_buy['2017-06']})\n",
    "three_bed_rent_columns = pd.DataFrame({'RegionName': three_bed_rent['RegionName'], 'three_bed_rent': three_bed_rent['2017-06']})"
   ]
  },
  {
   "cell_type": "code",
   "execution_count": 165,
   "metadata": {
    "collapsed": false
   },
   "outputs": [
    {
     "name": "stdout",
     "output_type": "stream",
     "text": [
      "(13200, 4)\n"
     ]
    },
    {
     "data": {
      "text/html": [
       "<div>\n",
       "<table border=\"1\" class=\"dataframe\">\n",
       "  <thead>\n",
       "    <tr style=\"text-align: right;\">\n",
       "      <th></th>\n",
       "      <th>City</th>\n",
       "      <th>PTR</th>\n",
       "      <th>RegionName</th>\n",
       "      <th>State</th>\n",
       "    </tr>\n",
       "  </thead>\n",
       "  <tbody>\n",
       "    <tr>\n",
       "      <th>0</th>\n",
       "      <td>New York</td>\n",
       "      <td>26.53</td>\n",
       "      <td>10025</td>\n",
       "      <td>NY</td>\n",
       "    </tr>\n",
       "    <tr>\n",
       "      <th>1</th>\n",
       "      <td>Chicago</td>\n",
       "      <td>13.01</td>\n",
       "      <td>60657</td>\n",
       "      <td>IL</td>\n",
       "    </tr>\n",
       "    <tr>\n",
       "      <th>2</th>\n",
       "      <td>Chicago</td>\n",
       "      <td>14.13</td>\n",
       "      <td>60614</td>\n",
       "      <td>IL</td>\n",
       "    </tr>\n",
       "    <tr>\n",
       "      <th>3</th>\n",
       "      <td>El Paso</td>\n",
       "      <td>9.53</td>\n",
       "      <td>79936</td>\n",
       "      <td>TX</td>\n",
       "    </tr>\n",
       "    <tr>\n",
       "      <th>4</th>\n",
       "      <td>Chicago</td>\n",
       "      <td>10.53</td>\n",
       "      <td>60640</td>\n",
       "      <td>IL</td>\n",
       "    </tr>\n",
       "  </tbody>\n",
       "</table>\n",
       "</div>"
      ],
      "text/plain": [
       "       City    PTR  RegionName State\n",
       "0  New York  26.53       10025    NY\n",
       "1   Chicago  13.01       60657    IL\n",
       "2   Chicago  14.13       60614    IL\n",
       "3   El Paso   9.53       79936    TX\n",
       "4   Chicago  10.53       60640    IL"
      ]
     },
     "execution_count": 165,
     "metadata": {},
     "output_type": "execute_result"
    }
   ],
   "source": [
    "# Start a new DF where we'll be saving our data\n",
    "data = pd.DataFrame({'RegionName': ptr['RegionName'], 'City': ptr['City'], 'State': ptr['State'], 'PTR': ptr['2017-06']})\n",
    "print(data.shape)\n",
    "data.head()"
   ]
  },
  {
   "cell_type": "code",
   "execution_count": 166,
   "metadata": {
    "collapsed": false
   },
   "outputs": [
    {
     "name": "stdout",
     "output_type": "stream",
     "text": [
      "(13640, 9)\n"
     ]
    },
    {
     "data": {
      "text/html": [
       "<div>\n",
       "<table border=\"1\" class=\"dataframe\">\n",
       "  <thead>\n",
       "    <tr style=\"text-align: right;\">\n",
       "      <th></th>\n",
       "      <th>City</th>\n",
       "      <th>PTR</th>\n",
       "      <th>RegionName</th>\n",
       "      <th>State</th>\n",
       "      <th>10Year</th>\n",
       "      <th>5Year</th>\n",
       "      <th>YOY</th>\n",
       "      <th>three_bed_buy</th>\n",
       "      <th>three_bed_rent</th>\n",
       "    </tr>\n",
       "  </thead>\n",
       "  <tbody>\n",
       "    <tr>\n",
       "      <th>0</th>\n",
       "      <td>New York</td>\n",
       "      <td>26.53</td>\n",
       "      <td>10025</td>\n",
       "      <td>NY</td>\n",
       "      <td>0.056270</td>\n",
       "      <td>0.097906</td>\n",
       "      <td>0.153775</td>\n",
       "      <td>2598800.0</td>\n",
       "      <td>4250.0</td>\n",
       "    </tr>\n",
       "    <tr>\n",
       "      <th>1</th>\n",
       "      <td>Chicago</td>\n",
       "      <td>13.01</td>\n",
       "      <td>60657</td>\n",
       "      <td>IL</td>\n",
       "      <td>0.002339</td>\n",
       "      <td>0.045942</td>\n",
       "      <td>0.036535</td>\n",
       "      <td>570600.0</td>\n",
       "      <td>2700.0</td>\n",
       "    </tr>\n",
       "    <tr>\n",
       "      <th>2</th>\n",
       "      <td>Chicago</td>\n",
       "      <td>14.13</td>\n",
       "      <td>60614</td>\n",
       "      <td>IL</td>\n",
       "      <td>0.005762</td>\n",
       "      <td>0.051851</td>\n",
       "      <td>0.035127</td>\n",
       "      <td>638200.0</td>\n",
       "      <td>2995.0</td>\n",
       "    </tr>\n",
       "    <tr>\n",
       "      <th>3</th>\n",
       "      <td>El Paso</td>\n",
       "      <td>9.53</td>\n",
       "      <td>79936</td>\n",
       "      <td>TX</td>\n",
       "      <td>-0.012443</td>\n",
       "      <td>0.000349</td>\n",
       "      <td>0.019556</td>\n",
       "      <td>110700.0</td>\n",
       "      <td>1000.0</td>\n",
       "    </tr>\n",
       "    <tr>\n",
       "      <th>4</th>\n",
       "      <td>Chicago</td>\n",
       "      <td>10.53</td>\n",
       "      <td>60640</td>\n",
       "      <td>IL</td>\n",
       "      <td>-0.013752</td>\n",
       "      <td>0.046476</td>\n",
       "      <td>0.046582</td>\n",
       "      <td>373800.0</td>\n",
       "      <td>2200.0</td>\n",
       "    </tr>\n",
       "  </tbody>\n",
       "</table>\n",
       "</div>"
      ],
      "text/plain": [
       "       City    PTR  RegionName State    10Year     5Year       YOY  \\\n",
       "0  New York  26.53       10025    NY  0.056270  0.097906  0.153775   \n",
       "1   Chicago  13.01       60657    IL  0.002339  0.045942  0.036535   \n",
       "2   Chicago  14.13       60614    IL  0.005762  0.051851  0.035127   \n",
       "3   El Paso   9.53       79936    TX -0.012443  0.000349  0.019556   \n",
       "4   Chicago  10.53       60640    IL -0.013752  0.046476  0.046582   \n",
       "\n",
       "   three_bed_buy  three_bed_rent  \n",
       "0      2598800.0          4250.0  \n",
       "1       570600.0          2700.0  \n",
       "2       638200.0          2995.0  \n",
       "3       110700.0          1000.0  \n",
       "4       373800.0          2200.0  "
      ]
     },
     "execution_count": 166,
     "metadata": {},
     "output_type": "execute_result"
    }
   ],
   "source": [
    "data = data.merge(zillow_columns, on='RegionName', how='outer')\n",
    "data = data.merge(three_bed_buy_columns, on='RegionName', how='outer')\n",
    "data = data.merge(three_bed_rent_columns, on='RegionName', how='outer')\n",
    "print(data.shape)\n",
    "data.head()"
   ]
  },
  {
   "cell_type": "code",
   "execution_count": 181,
   "metadata": {
    "collapsed": false
   },
   "outputs": [
    {
     "name": "stderr",
     "output_type": "stream",
     "text": [
      "/Users/carl/anaconda/lib/python3.5/site-packages/ipykernel/__main__.py:1: UserWarning: Boolean Series key will be reindexed to match DataFrame index.\n",
      "  if __name__ == '__main__':\n"
     ]
    },
    {
     "data": {
      "text/html": [
       "<div>\n",
       "<table border=\"1\" class=\"dataframe\">\n",
       "  <thead>\n",
       "    <tr style=\"text-align: right;\">\n",
       "      <th></th>\n",
       "      <th>City</th>\n",
       "      <th>PTR</th>\n",
       "      <th>RegionName</th>\n",
       "      <th>State</th>\n",
       "      <th>10Year</th>\n",
       "      <th>5Year</th>\n",
       "      <th>YOY</th>\n",
       "      <th>three_bed_buy</th>\n",
       "      <th>three_bed_rent</th>\n",
       "    </tr>\n",
       "  </thead>\n",
       "  <tbody>\n",
       "    <tr>\n",
       "      <th>8155</th>\n",
       "      <td>Oak Grove</td>\n",
       "      <td>9.3</td>\n",
       "      <td>42262</td>\n",
       "      <td>KY</td>\n",
       "      <td>0.003511</td>\n",
       "      <td>0.004583</td>\n",
       "      <td>0.025386</td>\n",
       "      <td>89300.0</td>\n",
       "      <td>800.0</td>\n",
       "    </tr>\n",
       "  </tbody>\n",
       "</table>\n",
       "</div>"
      ],
      "text/plain": [
       "           City  PTR  RegionName State    10Year     5Year       YOY  \\\n",
       "8155  Oak Grove  9.3       42262    KY  0.003511  0.004583  0.025386   \n",
       "\n",
       "      three_bed_buy  three_bed_rent  \n",
       "8155        89300.0           800.0  "
      ]
     },
     "execution_count": 181,
     "metadata": {},
     "output_type": "execute_result"
    }
   ],
   "source": [
    "data.dropna().sort_values('PTR')[data['State'] == 'KY']"
   ]
  },
  {
   "cell_type": "code",
   "execution_count": null,
   "metadata": {
    "collapsed": false
   },
   "outputs": [],
   "source": []
  },
  {
   "cell_type": "code",
   "execution_count": null,
   "metadata": {
    "collapsed": true
   },
   "outputs": [],
   "source": []
  }
 ],
 "metadata": {
  "kernelspec": {
   "display_name": "Python [conda root]",
   "language": "python",
   "name": "conda-root-py"
  },
  "language_info": {
   "codemirror_mode": {
    "name": "ipython",
    "version": 3
   },
   "file_extension": ".py",
   "mimetype": "text/x-python",
   "name": "python",
   "nbconvert_exporter": "python",
   "pygments_lexer": "ipython3",
   "version": "3.5.2"
  }
 },
 "nbformat": 4,
 "nbformat_minor": 2
}
